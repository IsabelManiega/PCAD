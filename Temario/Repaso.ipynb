{
 "cells": [
  {
   "cell_type": "markdown",
   "id": "5ab8286e-8ce1-4332-9add-765f4b827bde",
   "metadata": {},
   "source": [
    "# Tipos de almacenamiento de datos en Python\n",
    "\n",
    "- Listas--> []\n",
    "- tuplas --> ()\n",
    "- diccionarios --> {clave : valor}\n",
    "- conjuntos (set) --> {,}\n",
    "- dataframe --> tabla\n",
    "- matrices --> [[],[]]\n",
    "\n",
    "Formatos:\n",
    "- entero --> int\n",
    "- decimales --> float\n",
    "- objetos --> obj\n",
    "- cadena de texto --> str\n",
    "- boleanos --> True/ False"
   ]
  },
  {
   "cell_type": "markdown",
   "id": "45cb915d-af61-4522-8e26-7dd8a7a5f77f",
   "metadata": {},
   "source": [
    "## Listas"
   ]
  },
  {
   "cell_type": "code",
   "execution_count": 1,
   "id": "2947c364-cefc-49ea-96fa-3c18272c28f7",
   "metadata": {},
   "outputs": [
    {
     "data": {
      "text/plain": [
       "[1, 5, 6, 8, None, 6, None]"
      ]
     },
     "execution_count": 1,
     "metadata": {},
     "output_type": "execute_result"
    }
   ],
   "source": [
    "lista = [1, 5, 6, 8, None, 6, None]\n",
    "\n",
    "lista"
   ]
  },
  {
   "cell_type": "code",
   "execution_count": 2,
   "id": "c0860a36-57d4-42be-9827-9bab50b0011a",
   "metadata": {},
   "outputs": [
    {
     "data": {
      "text/plain": [
       "(1, 5, 6)"
      ]
     },
     "execution_count": 2,
     "metadata": {},
     "output_type": "execute_result"
    }
   ],
   "source": [
    "lista[0], lista[1], lista[2]"
   ]
  },
  {
   "cell_type": "code",
   "execution_count": 3,
   "id": "83f5ec0f-e7e4-4eb3-9fd0-71687ce12af9",
   "metadata": {},
   "outputs": [
    {
     "data": {
      "text/plain": [
       "(None, 6)"
      ]
     },
     "execution_count": 3,
     "metadata": {},
     "output_type": "execute_result"
    }
   ],
   "source": [
    "lista[-1], lista[-2]"
   ]
  },
  {
   "cell_type": "code",
   "execution_count": 4,
   "id": "b42b7902-543a-4e76-abf0-58895a32ac32",
   "metadata": {},
   "outputs": [
    {
     "data": {
      "text/plain": [
       "[1, 5, 6, 8, 3, 6, None]"
      ]
     },
     "execution_count": 4,
     "metadata": {},
     "output_type": "execute_result"
    }
   ],
   "source": [
    "lista[-3] = 3\n",
    "lista"
   ]
  },
  {
   "cell_type": "code",
   "execution_count": 5,
   "id": "19be0fef-2adc-4145-88fc-25c24390f9af",
   "metadata": {},
   "outputs": [
    {
     "data": {
      "text/plain": [
       "[1, 5, 6, 8, 3, 6, None, 10]"
      ]
     },
     "execution_count": 5,
     "metadata": {},
     "output_type": "execute_result"
    }
   ],
   "source": [
    "lista.append(10)\n",
    "lista"
   ]
  },
  {
   "cell_type": "markdown",
   "id": "9fbda0ec-bcc6-4131-9cde-ced3ae7e4eb6",
   "metadata": {},
   "source": [
    "## Tuplas"
   ]
  },
  {
   "cell_type": "code",
   "execution_count": 6,
   "id": "8ebd5bc4-4eee-4723-80be-f356732a4a06",
   "metadata": {},
   "outputs": [
    {
     "data": {
      "text/plain": [
       "(1, 5, 10, 60)"
      ]
     },
     "execution_count": 6,
     "metadata": {},
     "output_type": "execute_result"
    }
   ],
   "source": [
    "valor = (1, 5, 10, 60,)\n",
    "valor"
   ]
  },
  {
   "cell_type": "code",
   "execution_count": 7,
   "id": "cc4924f5-8c6f-496e-9784-1725a219b12c",
   "metadata": {},
   "outputs": [
    {
     "data": {
      "text/plain": [
       "tuple"
      ]
     },
     "execution_count": 7,
     "metadata": {},
     "output_type": "execute_result"
    }
   ],
   "source": [
    "type(valor)"
   ]
  },
  {
   "cell_type": "code",
   "execution_count": 8,
   "id": "5732ca3b-d620-403e-979f-d67f550baf40",
   "metadata": {},
   "outputs": [
    {
     "data": {
      "text/plain": [
       "5"
      ]
     },
     "execution_count": 8,
     "metadata": {},
     "output_type": "execute_result"
    }
   ],
   "source": [
    "valor[1]"
   ]
  },
  {
   "cell_type": "code",
   "execution_count": 9,
   "id": "2fd66583-9ef8-4e16-babc-89a889c7af8d",
   "metadata": {},
   "outputs": [
    {
     "ename": "TypeError",
     "evalue": "'tuple' object does not support item assignment",
     "output_type": "error",
     "traceback": [
      "\u001b[31m---------------------------------------------------------------------------\u001b[39m",
      "\u001b[31mTypeError\u001b[39m                                 Traceback (most recent call last)",
      "\u001b[36mCell\u001b[39m\u001b[36m \u001b[39m\u001b[32mIn[9]\u001b[39m\u001b[32m, line 1\u001b[39m\n\u001b[32m----> \u001b[39m\u001b[32m1\u001b[39m \u001b[43mvalor\u001b[49m\u001b[43m[\u001b[49m\u001b[32;43m1\u001b[39;49m\u001b[43m]\u001b[49m = \u001b[32m10\u001b[39m\n",
      "\u001b[31mTypeError\u001b[39m: 'tuple' object does not support item assignment"
     ]
    }
   ],
   "source": [
    "valor[1] = 10"
   ]
  },
  {
   "cell_type": "code",
   "execution_count": 10,
   "id": "258fa1f9-5f6d-4c3d-afd5-dc35ce544a88",
   "metadata": {},
   "outputs": [
    {
     "ename": "AttributeError",
     "evalue": "'tuple' object has no attribute 'append'",
     "output_type": "error",
     "traceback": [
      "\u001b[31m---------------------------------------------------------------------------\u001b[39m",
      "\u001b[31mAttributeError\u001b[39m                            Traceback (most recent call last)",
      "\u001b[36mCell\u001b[39m\u001b[36m \u001b[39m\u001b[32mIn[10]\u001b[39m\u001b[32m, line 1\u001b[39m\n\u001b[32m----> \u001b[39m\u001b[32m1\u001b[39m \u001b[43mvalor\u001b[49m\u001b[43m.\u001b[49m\u001b[43mappend\u001b[49m(\u001b[32m10\u001b[39m)\n",
      "\u001b[31mAttributeError\u001b[39m: 'tuple' object has no attribute 'append'"
     ]
    }
   ],
   "source": [
    "valor.append(10)"
   ]
  },
  {
   "cell_type": "code",
   "execution_count": 11,
   "id": "b72f49c8-feb4-45b9-8187-16ea70b70fbf",
   "metadata": {},
   "outputs": [
    {
     "data": {
      "text/plain": [
       "int"
      ]
     },
     "execution_count": 11,
     "metadata": {},
     "output_type": "execute_result"
    }
   ],
   "source": [
    "valor2 = (5)\n",
    "type(valor2)"
   ]
  },
  {
   "cell_type": "code",
   "execution_count": 12,
   "id": "e655b3b7-68b7-44ee-b9e1-f69ebdc2b094",
   "metadata": {},
   "outputs": [
    {
     "data": {
      "text/plain": [
       "tuple"
      ]
     },
     "execution_count": 12,
     "metadata": {},
     "output_type": "execute_result"
    }
   ],
   "source": [
    "valor2 = (5, )\n",
    "type(valor2)"
   ]
  },
  {
   "cell_type": "code",
   "execution_count": 13,
   "id": "7b4c4f16-717e-4931-ae16-e8b206cb7ad2",
   "metadata": {},
   "outputs": [
    {
     "data": {
      "text/plain": [
       "(1, 5, 10, 60, 5)"
      ]
     },
     "execution_count": 13,
     "metadata": {},
     "output_type": "execute_result"
    }
   ],
   "source": [
    "valor_final = valor + valor2\n",
    "valor_final"
   ]
  },
  {
   "cell_type": "markdown",
   "id": "dad26913-9bb0-48bb-8137-72504fe4d1c5",
   "metadata": {},
   "source": [
    "## Matriz"
   ]
  },
  {
   "cell_type": "code",
   "execution_count": 14,
   "id": "26c794cf-dc32-4e92-94c3-7f5ea862faab",
   "metadata": {},
   "outputs": [
    {
     "data": {
      "text/plain": [
       "array([ 1,  2, 50, 60])"
      ]
     },
     "execution_count": 14,
     "metadata": {},
     "output_type": "execute_result"
    }
   ],
   "source": [
    "import numpy as np\n",
    "\n",
    "matriz = np.array([1, 2, 50, 60])\n",
    "matriz"
   ]
  },
  {
   "cell_type": "code",
   "execution_count": 15,
   "id": "d3a0d365-1701-46e7-b75c-cbe2db99e64b",
   "metadata": {},
   "outputs": [
    {
     "data": {
      "text/plain": [
       "np.int64(50)"
      ]
     },
     "execution_count": 15,
     "metadata": {},
     "output_type": "execute_result"
    }
   ],
   "source": [
    "matriz[2]"
   ]
  },
  {
   "cell_type": "code",
   "execution_count": 16,
   "id": "23f2aeab-30d8-48ad-a8be-2768273272a2",
   "metadata": {},
   "outputs": [
    {
     "data": {
      "text/plain": [
       "array([ 1,  2, 50, 60, 20])"
      ]
     },
     "execution_count": 16,
     "metadata": {},
     "output_type": "execute_result"
    }
   ],
   "source": [
    "matriz = np.append(matriz, 20)\n",
    "matriz"
   ]
  },
  {
   "cell_type": "code",
   "execution_count": 17,
   "id": "5ce99c82-0bf3-4aae-b605-453a7c3143b8",
   "metadata": {},
   "outputs": [
    {
     "data": {
      "text/plain": [
       "array([  1,   2, 100,  60,  20])"
      ]
     },
     "execution_count": 17,
     "metadata": {},
     "output_type": "execute_result"
    }
   ],
   "source": [
    "matriz[2] = 100\n",
    "matriz"
   ]
  },
  {
   "cell_type": "code",
   "execution_count": 18,
   "id": "09e95ed1-3848-489e-b8f1-0946233cd203",
   "metadata": {},
   "outputs": [
    {
     "data": {
      "text/plain": [
       "array([[1, 2],\n",
       "       [3, 4]])"
      ]
     },
     "execution_count": 18,
     "metadata": {},
     "output_type": "execute_result"
    }
   ],
   "source": [
    "matriz = np.array([[1, 2], [3, 4]])\n",
    "matriz"
   ]
  },
  {
   "cell_type": "code",
   "execution_count": 19,
   "id": "449a7dfe-3837-4470-b27b-9ce15ff09c87",
   "metadata": {},
   "outputs": [
    {
     "data": {
      "text/plain": [
       "np.int64(2)"
      ]
     },
     "execution_count": 19,
     "metadata": {},
     "output_type": "execute_result"
    }
   ],
   "source": [
    "matriz[0][1]"
   ]
  },
  {
   "cell_type": "markdown",
   "id": "49092eac-eb26-40d2-9e36-c033b1fea400",
   "metadata": {},
   "source": [
    "## Diccionarios"
   ]
  },
  {
   "cell_type": "code",
   "execution_count": 20,
   "id": "bb349013-18a3-424b-9cd0-8e9703d935ac",
   "metadata": {},
   "outputs": [
    {
     "data": {
      "text/plain": [
       "{'1': 25, '2': 30}"
      ]
     },
     "execution_count": 20,
     "metadata": {},
     "output_type": "execute_result"
    }
   ],
   "source": [
    "# diccionario: clave-valor\n",
    "# {'clave': 'valor'}\n",
    "# {'clave1': 'valor1', 'clave2': 'valor2'}\n",
    "\n",
    "diccionario = {'1': 25, '2': 30}\n",
    "diccionario"
   ]
  },
  {
   "cell_type": "code",
   "execution_count": 21,
   "id": "527c21c0-13bc-407c-8bd5-6a5cbd68cef3",
   "metadata": {},
   "outputs": [
    {
     "data": {
      "text/plain": [
       "30"
      ]
     },
     "execution_count": 21,
     "metadata": {},
     "output_type": "execute_result"
    }
   ],
   "source": [
    "diccionario['2']"
   ]
  },
  {
   "cell_type": "code",
   "execution_count": 22,
   "id": "51510362-0a5e-4759-9305-65dc5e07a5fd",
   "metadata": {},
   "outputs": [
    {
     "data": {
      "text/plain": [
       "{'1': 25, '2': 30, '3': 400}"
      ]
     },
     "execution_count": 22,
     "metadata": {},
     "output_type": "execute_result"
    }
   ],
   "source": [
    "diccionario['3'] = 400\n",
    "diccionario"
   ]
  },
  {
   "cell_type": "code",
   "execution_count": 23,
   "id": "a655b834-97a8-4e63-897e-bfec494362a3",
   "metadata": {},
   "outputs": [
    {
     "data": {
      "text/plain": [
       "{'1': 500, '2': 30, '3': 400}"
      ]
     },
     "execution_count": 23,
     "metadata": {},
     "output_type": "execute_result"
    }
   ],
   "source": [
    "diccionario['1'] = 500\n",
    "diccionario"
   ]
  },
  {
   "cell_type": "code",
   "execution_count": 24,
   "id": "48e30f0e-3ad3-42f2-b8ed-dfc1006d9bc0",
   "metadata": {},
   "outputs": [
    {
     "data": {
      "text/plain": [
       "{'Estudiantes': [1, 5, 6, 8, 3, 6, None, 10]}"
      ]
     },
     "execution_count": 24,
     "metadata": {},
     "output_type": "execute_result"
    }
   ],
   "source": [
    "diccionario2 = dict(Estudiantes=lista)\n",
    "diccionario2"
   ]
  },
  {
   "cell_type": "markdown",
   "id": "eaa81268-9e54-4e8a-947d-7860c3cd7c58",
   "metadata": {},
   "source": [
    "## Dataframes"
   ]
  },
  {
   "cell_type": "code",
   "execution_count": 25,
   "id": "a09d3129-b5eb-4f50-a871-47f950212406",
   "metadata": {},
   "outputs": [
    {
     "data": {
      "text/html": [
       "<div>\n",
       "<style scoped>\n",
       "    .dataframe tbody tr th:only-of-type {\n",
       "        vertical-align: middle;\n",
       "    }\n",
       "\n",
       "    .dataframe tbody tr th {\n",
       "        vertical-align: top;\n",
       "    }\n",
       "\n",
       "    .dataframe thead th {\n",
       "        text-align: right;\n",
       "    }\n",
       "</style>\n",
       "<table border=\"1\" class=\"dataframe\">\n",
       "  <thead>\n",
       "    <tr style=\"text-align: right;\">\n",
       "      <th></th>\n",
       "      <th>Nombre</th>\n",
       "    </tr>\n",
       "  </thead>\n",
       "  <tbody>\n",
       "    <tr>\n",
       "      <th>0</th>\n",
       "      <td>1.0</td>\n",
       "    </tr>\n",
       "    <tr>\n",
       "      <th>1</th>\n",
       "      <td>5.0</td>\n",
       "    </tr>\n",
       "    <tr>\n",
       "      <th>2</th>\n",
       "      <td>6.0</td>\n",
       "    </tr>\n",
       "    <tr>\n",
       "      <th>3</th>\n",
       "      <td>8.0</td>\n",
       "    </tr>\n",
       "    <tr>\n",
       "      <th>4</th>\n",
       "      <td>3.0</td>\n",
       "    </tr>\n",
       "    <tr>\n",
       "      <th>5</th>\n",
       "      <td>6.0</td>\n",
       "    </tr>\n",
       "    <tr>\n",
       "      <th>6</th>\n",
       "      <td>NaN</td>\n",
       "    </tr>\n",
       "    <tr>\n",
       "      <th>7</th>\n",
       "      <td>10.0</td>\n",
       "    </tr>\n",
       "  </tbody>\n",
       "</table>\n",
       "</div>"
      ],
      "text/plain": [
       "   Nombre\n",
       "0     1.0\n",
       "1     5.0\n",
       "2     6.0\n",
       "3     8.0\n",
       "4     3.0\n",
       "5     6.0\n",
       "6     NaN\n",
       "7    10.0"
      ]
     },
     "execution_count": 25,
     "metadata": {},
     "output_type": "execute_result"
    }
   ],
   "source": [
    "import pandas as pd\n",
    "\n",
    "data = {'Nombre': lista}\n",
    "df = pd.DataFrame(data)\n",
    "df"
   ]
  },
  {
   "cell_type": "markdown",
   "id": "faccf45d-30b7-4f7e-bc9c-bce31d814a4f",
   "metadata": {},
   "source": [
    "## Formatos"
   ]
  },
  {
   "cell_type": "code",
   "execution_count": 26,
   "id": "e8f6ccc4-59de-47ae-9f33-cff2fba79aea",
   "metadata": {},
   "outputs": [
    {
     "name": "stdout",
     "output_type": "stream",
     "text": [
      "<class 'int'> : 10\n"
     ]
    }
   ],
   "source": [
    "# enteros:\n",
    "\n",
    "x = 10\n",
    "print(type(x),':', x)"
   ]
  },
  {
   "cell_type": "code",
   "execution_count": 27,
   "id": "48cfb7fa-b7fe-4291-86c1-d0dc599ae524",
   "metadata": {},
   "outputs": [
    {
     "name": "stdout",
     "output_type": "stream",
     "text": [
      "<class 'tuple'>\n",
      "<class 'float'> : 1.2\n",
      "0.5\n"
     ]
    }
   ],
   "source": [
    "# float siempre se escribe con punto (.)\n",
    "# sino sería una tupla:\n",
    "\n",
    "y = 1,2\n",
    "print(type(y))\n",
    "\n",
    "y = 1.2\n",
    "print(type(y), ':', y)\n",
    "\n",
    "# abreviamos mediante el .X, significa un cero delante:\n",
    "y = .5\n",
    "print(y)"
   ]
  },
  {
   "cell_type": "code",
   "execution_count": 28,
   "id": "002f4641-b9ba-4cb9-9c57-5249a2fa09cd",
   "metadata": {},
   "outputs": [
    {
     "name": "stdout",
     "output_type": "stream",
     "text": [
      "Hola Mundo\n",
      "Hola Mundo\n",
      "Hola 'Mundo'\n",
      "Hola 'Mundo'\n",
      "Hola Mundo\n"
     ]
    },
    {
     "data": {
      "text/plain": [
       "'l'"
      ]
     },
     "execution_count": 28,
     "metadata": {},
     "output_type": "execute_result"
    }
   ],
   "source": [
    "# string\n",
    "\n",
    "texto = 'Hola Mundo'\n",
    "print(texto)\n",
    "texto = \"Hola Mundo\"\n",
    "print(texto)\n",
    "\n",
    "# Alternar comillas dobles con simples o viceversa:\n",
    "texto = \"Hola 'Mundo'\"\n",
    "print(texto)\n",
    "\n",
    "# Se una el simbolo de escape para usar comillas simples fuera y dentro:\n",
    "texto = 'Hola \\'Mundo\\''\n",
    "print(texto)\n",
    "\n",
    "# concatenacion:\n",
    "texto = \"Hola\" + \" \" + \"Mundo\"\n",
    "print(texto)\n",
    "\n",
    "# Extraer los caracteres:\n",
    "texto[2]"
   ]
  },
  {
   "cell_type": "code",
   "execution_count": 29,
   "id": "1107a7f7-2651-4266-b7c8-387cb05f3ed5",
   "metadata": {},
   "outputs": [
    {
     "data": {
      "text/plain": [
       "'a-b-c-d'"
      ]
     },
     "execution_count": 29,
     "metadata": {},
     "output_type": "execute_result"
    }
   ],
   "source": [
    "x = 'abcd'\n",
    "x = '-'.join(x)\n",
    "x"
   ]
  },
  {
   "cell_type": "code",
   "execution_count": 30,
   "id": "e29ab585-d376-479e-9c34-da03e9972683",
   "metadata": {},
   "outputs": [
    {
     "name": "stdout",
     "output_type": "stream",
     "text": [
      "<class 'bool'> : True\n",
      "<class 'bool'> : False\n"
     ]
    }
   ],
   "source": [
    "# Boleanos\n",
    "\n",
    "x = True\n",
    "print(type(x), ':', x)\n",
    "y = False\n",
    "print(type(y), ':', y)"
   ]
  },
  {
   "cell_type": "markdown",
   "id": "5ab5956e-7648-47af-a244-ca1996d72551",
   "metadata": {},
   "source": [
    "## Gestión de archivos usando el método Open"
   ]
  },
  {
   "cell_type": "code",
   "execution_count": 31,
   "id": "173067b3-d0c6-431b-b275-4ba89541d544",
   "metadata": {},
   "outputs": [
    {
     "ename": "FileNotFoundError",
     "evalue": "[Errno 2] No such file or directory: 'contact.csv'",
     "output_type": "error",
     "traceback": [
      "\u001b[31m---------------------------------------------------------------------------\u001b[39m",
      "\u001b[31mFileNotFoundError\u001b[39m                         Traceback (most recent call last)",
      "\u001b[36mCell\u001b[39m\u001b[36m \u001b[39m\u001b[32mIn[31]\u001b[39m\u001b[32m, line 1\u001b[39m\n\u001b[32m----> \u001b[39m\u001b[32m1\u001b[39m file = \u001b[38;5;28;43mopen\u001b[39;49m\u001b[43m(\u001b[49m\u001b[33;43m'\u001b[39;49m\u001b[33;43mcontact.csv\u001b[39;49m\u001b[33;43m'\u001b[39;49m\u001b[43m,\u001b[49m\u001b[43m \u001b[49m\u001b[33;43m'\u001b[39;49m\u001b[33;43mr\u001b[39;49m\u001b[33;43m'\u001b[39;49m\u001b[43m,\u001b[49m\u001b[43m \u001b[49m\u001b[43mencoding\u001b[49m\u001b[43m=\u001b[49m\u001b[33;43m'\u001b[39;49m\u001b[33;43mutf-8\u001b[39;49m\u001b[33;43m'\u001b[39;49m\u001b[43m)\u001b[49m\n\u001b[32m      2\u001b[39m file.read()\n\u001b[32m      3\u001b[39m file.close()\n",
      "\u001b[36mFile \u001b[39m\u001b[32m~/Documentos/PCAD_Data Analyst/env/lib/python3.12/site-packages/IPython/core/interactiveshell.py:326\u001b[39m, in \u001b[36m_modified_open\u001b[39m\u001b[34m(file, *args, **kwargs)\u001b[39m\n\u001b[32m    319\u001b[39m \u001b[38;5;28;01mif\u001b[39;00m file \u001b[38;5;129;01min\u001b[39;00m {\u001b[32m0\u001b[39m, \u001b[32m1\u001b[39m, \u001b[32m2\u001b[39m}:\n\u001b[32m    320\u001b[39m     \u001b[38;5;28;01mraise\u001b[39;00m \u001b[38;5;167;01mValueError\u001b[39;00m(\n\u001b[32m    321\u001b[39m         \u001b[33mf\u001b[39m\u001b[33m\"\u001b[39m\u001b[33mIPython won\u001b[39m\u001b[33m'\u001b[39m\u001b[33mt let you open fd=\u001b[39m\u001b[38;5;132;01m{\u001b[39;00mfile\u001b[38;5;132;01m}\u001b[39;00m\u001b[33m by default \u001b[39m\u001b[33m\"\u001b[39m\n\u001b[32m    322\u001b[39m         \u001b[33m\"\u001b[39m\u001b[33mas it is likely to crash IPython. If you know what you are doing, \u001b[39m\u001b[33m\"\u001b[39m\n\u001b[32m    323\u001b[39m         \u001b[33m\"\u001b[39m\u001b[33myou can use builtins\u001b[39m\u001b[33m'\u001b[39m\u001b[33m open.\u001b[39m\u001b[33m\"\u001b[39m\n\u001b[32m    324\u001b[39m     )\n\u001b[32m--> \u001b[39m\u001b[32m326\u001b[39m \u001b[38;5;28;01mreturn\u001b[39;00m \u001b[43mio_open\u001b[49m\u001b[43m(\u001b[49m\u001b[43mfile\u001b[49m\u001b[43m,\u001b[49m\u001b[43m \u001b[49m\u001b[43m*\u001b[49m\u001b[43margs\u001b[49m\u001b[43m,\u001b[49m\u001b[43m \u001b[49m\u001b[43m*\u001b[49m\u001b[43m*\u001b[49m\u001b[43mkwargs\u001b[49m\u001b[43m)\u001b[49m\n",
      "\u001b[31mFileNotFoundError\u001b[39m: [Errno 2] No such file or directory: 'contact.csv'"
     ]
    }
   ],
   "source": [
    "file = open('contact.csv', 'r', encoding='utf-8')\n",
    "file.read()\n",
    "file.close()"
   ]
  },
  {
   "cell_type": "markdown",
   "id": "44c4cba1-6ba6-44ce-81c6-c534866eb2d6",
   "metadata": {},
   "source": [
    "'r' --> solo lectura, error\n",
    "\n",
    "'w' --> lees y sobreescribes, si no existe lo genera\n",
    "\n",
    "'a' --> lees y apendizas, si no existe lo genera"
   ]
  },
  {
   "cell_type": "code",
   "execution_count": 32,
   "id": "1eda9838-2c44-44a6-b49e-8412e3515427",
   "metadata": {},
   "outputs": [
    {
     "name": "stdout",
     "output_type": "stream",
     "text": [
      "<class 'str'>\n"
     ]
    }
   ],
   "source": [
    "import json\n",
    "\n",
    "electron = 1.602176620898E10\n",
    "elect = json.dumps(electron)\n",
    "print(type(elect))"
   ]
  },
  {
   "cell_type": "code",
   "execution_count": 33,
   "id": "0e4cb720-432b-487b-9898-7509b707eec8",
   "metadata": {},
   "outputs": [
    {
     "name": "stdout",
     "output_type": "stream",
     "text": [
      "<class 'str'>\n"
     ]
    }
   ],
   "source": [
    "import json\n",
    "\n",
    "comics = '\"The Meaning of Life\" by Monty Python\\'s Flying Circus'\n",
    "print(type(json.dumps(comics)))"
   ]
  },
  {
   "cell_type": "code",
   "execution_count": 34,
   "id": "4751f713-ad1d-47ba-8f6f-883820e9f325",
   "metadata": {},
   "outputs": [
    {
     "name": "stdout",
     "output_type": "stream",
     "text": [
      "[1, 2.34, true, \"False\", null, [\"a\", 0]]\n",
      "<class 'str'>\n"
     ]
    }
   ],
   "source": [
    "import json\n",
    "\n",
    "my_list = [1, 2.34, True, \"False\", None, ['a', 0]]\n",
    "print(json.dumps(my_list))\n",
    "print(type(json.dumps(my_list)))"
   ]
  },
  {
   "cell_type": "code",
   "execution_count": 35,
   "id": "1e9440bb-127f-4c12-8499-20dffde3c19e",
   "metadata": {},
   "outputs": [
    {
     "name": "stdout",
     "output_type": "stream",
     "text": [
      "<class 'float'>\n",
      "16021766189.98\n"
     ]
    }
   ],
   "source": [
    "import json\n",
    "\n",
    "jstr = '16021766189.98'\n",
    "electron = json.loads(jstr)\n",
    "print(type(electron))\n",
    "print(electron)"
   ]
  },
  {
   "cell_type": "code",
   "execution_count": 36,
   "id": "6c745ef6-ab96-4099-a8fb-08bf0c6b1ba2",
   "metadata": {},
   "outputs": [
    {
     "name": "stdout",
     "output_type": "stream",
     "text": [
      "<class 'str'>\n",
      "\"The Meaning of Life\" by Monty Python's Flying Circus\n"
     ]
    }
   ],
   "source": [
    "import json\n",
    "\n",
    "jstr = '\"\\\\\"The Meaning of Life\\\\\" by Monty Python\\'s Flying Circus\"'\n",
    "comics = json.loads(jstr)\n",
    "print(type(comics))\n",
    "print(comics)"
   ]
  },
  {
   "cell_type": "code",
   "execution_count": 37,
   "id": "eeb2ec35-aaac-485a-b11c-0a199941aec2",
   "metadata": {},
   "outputs": [
    {
     "name": "stdout",
     "output_type": "stream",
     "text": [
      "<class 'dict'>\n",
      "None\n"
     ]
    }
   ],
   "source": [
    "import json\n",
    "\n",
    "json_str = '{\"me\":\"Python\",\"pi\":3.141592653589, \"data\":[1,2,4,8],\"friend\":\"JSON\",\"set\": null}'\n",
    "my_dict = json.loads(json_str)\n",
    "print(type(my_dict))\n",
    "print(my_dict['set'])"
   ]
  },
  {
   "cell_type": "markdown",
   "id": "29c330c2-3d17-4ea3-b8b1-82e5602b3791",
   "metadata": {},
   "source": [
    "## Atributos de print:"
   ]
  },
  {
   "cell_type": "code",
   "execution_count": 38,
   "id": "3e98e13b-403b-4794-88aa-33f9fc5cd687",
   "metadata": {},
   "outputs": [
    {
     "name": "stdout",
     "output_type": "stream",
     "text": [
      "Hola Mundo*\n",
      "\n",
      "Hola*Mundo\n"
     ]
    }
   ],
   "source": [
    "texto1 = 'Hola'\n",
    "texto2 = 'Mundo'\n",
    "\n",
    "print(texto1, texto2, end='*')\n",
    "print('\\n')\n",
    "print(texto1, texto2, sep='*')"
   ]
  },
  {
   "cell_type": "markdown",
   "id": "3a9957b4-37af-46ca-ab39-ae2f8a6494f8",
   "metadata": {},
   "source": [
    "## Método range: generar valores"
   ]
  },
  {
   "cell_type": "code",
   "execution_count": 39,
   "id": "2da177ad-5f82-48cb-bc36-4cf3e94faab1",
   "metadata": {},
   "outputs": [
    {
     "data": {
      "text/plain": [
       "[0, 1, 2, 3, 4, 5, 6, 7, 8, 9]"
      ]
     },
     "execution_count": 39,
     "metadata": {},
     "output_type": "execute_result"
    }
   ],
   "source": [
    "# range(inicio, stop, step)\n",
    "# range(0, 9 + 1, 1):\n",
    "\n",
    "list(range(10))"
   ]
  },
  {
   "cell_type": "code",
   "execution_count": 40,
   "id": "5cd86077-1093-4449-9c44-08ac7e1811d4",
   "metadata": {},
   "outputs": [
    {
     "data": {
      "text/plain": [
       "[1, 3, 5, 7, 9]"
      ]
     },
     "execution_count": 40,
     "metadata": {},
     "output_type": "execute_result"
    }
   ],
   "source": [
    "# range(inicio, stop, step)\n",
    "# range(0, 9 + 1, 1):\n",
    "\n",
    "list(range(1, 10, 2))"
   ]
  },
  {
   "cell_type": "code",
   "execution_count": 41,
   "id": "891403b2-3c51-4936-ad09-3b19576927e3",
   "metadata": {},
   "outputs": [
    {
     "name": "stdout",
     "output_type": "stream",
     "text": [
      "0\n",
      "1\n",
      "2\n",
      "3\n",
      "4\n",
      "5\n",
      "6\n",
      "7\n",
      "8\n",
      "9\n"
     ]
    }
   ],
   "source": [
    "for valor in range(10):\n",
    "    print(valor)"
   ]
  },
  {
   "cell_type": "code",
   "execution_count": null,
   "id": "a81354fc-e75a-46af-9641-b5d4d82f39f5",
   "metadata": {},
   "outputs": [],
   "source": []
  },
  {
   "cell_type": "code",
   "execution_count": null,
   "id": "6ac9d4c4-5fe6-4817-b8a0-ceaa53e4f27e",
   "metadata": {},
   "outputs": [],
   "source": []
  }
 ],
 "metadata": {
  "kernelspec": {
   "display_name": "Python 3 (ipykernel)",
   "language": "python",
   "name": "python3"
  },
  "language_info": {
   "codemirror_mode": {
    "name": "ipython",
    "version": 3
   },
   "file_extension": ".py",
   "mimetype": "text/x-python",
   "name": "python",
   "nbconvert_exporter": "python",
   "pygments_lexer": "ipython3",
   "version": "3.12.3"
  }
 },
 "nbformat": 4,
 "nbformat_minor": 5
}
