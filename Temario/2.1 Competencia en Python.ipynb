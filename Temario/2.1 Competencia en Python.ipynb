{
 "cells": [
  {
   "attachments": {},
   "cell_type": "markdown",
   "id": "a7a93bd0",
   "metadata": {},
   "source": [
    "*Contenido creado por:*\n",
    "\n",
    "*Isabel Maniega*"
   ]
  },
  {
   "attachments": {},
   "cell_type": "markdown",
   "id": "9120b361",
   "metadata": {},
   "source": [
    "****"
   ]
  },
  {
   "cell_type": "code",
   "execution_count": 1,
   "id": "d923c5b9",
   "metadata": {},
   "outputs": [],
   "source": [
    "import warnings\n",
    "warnings.filterwarnings('ignore')"
   ]
  },
  {
   "attachments": {},
   "cell_type": "markdown",
   "id": "8691cc10",
   "metadata": {},
   "source": [
    "****"
   ]
  },
  {
   "cell_type": "markdown",
   "id": "162df1f2-e0ad-49c9-a673-997546513f81",
   "metadata": {},
   "source": [
    "# 2.1.1 Aplicar la sintaxis y las estructuras de control de Python para resolver problemas relacionados con datos.\n",
    "# 2.1.2 Analizar y crear funciones de Python.\n",
    "# 2.1.4 Organizar y manipular datos utilizando las estructuras de datos principales de Python."
   ]
  },
  {
   "attachments": {},
   "cell_type": "markdown",
   "id": "7c47a5ee",
   "metadata": {},
   "source": [
    "# The insert() method "
   ]
  },
  {
   "attachments": {},
   "cell_type": "markdown",
   "id": "1fec7225",
   "metadata": {},
   "source": [
    "## insert: ejemplo "
   ]
  },
  {
   "cell_type": "code",
   "execution_count": 2,
   "id": "f78822de",
   "metadata": {},
   "outputs": [
    {
     "name": "stdout",
     "output_type": "stream",
     "text": [
      "Listado: ['a', 'e', 'i', 'o', 'u']\n"
     ]
    }
   ],
   "source": [
    "# The insert() method \n",
    "# inserts an element to the list at the specified index\n",
    "\n",
    "# crea una lista de vocales\n",
    "vocal = ['a', 'e', 'i', 'u']\n",
    "\n",
    "# 'o' is inserted at index 3 (4th position)\n",
    "vocal.insert(3, 'o')\n",
    "\n",
    "\n",
    "print('Listado:', vocal)\n",
    "\n",
    "# Output: List: ['a', 'e', 'i', 'o', 'u']"
   ]
  },
  {
   "attachments": {},
   "cell_type": "markdown",
   "id": "6484bb12",
   "metadata": {},
   "source": [
    "## suma de elementos de una lista"
   ]
  },
  {
   "cell_type": "code",
   "execution_count": 3,
   "id": "3f89dd82",
   "metadata": {},
   "outputs": [
    {
     "data": {
      "text/plain": [
       "60"
      ]
     },
     "execution_count": 3,
     "metadata": {},
     "output_type": "execute_result"
    }
   ],
   "source": [
    "L = [10,20,30]\n",
    "sum(L)"
   ]
  },
  {
   "cell_type": "code",
   "execution_count": 4,
   "id": "2886a237",
   "metadata": {},
   "outputs": [],
   "source": [
    "# L.sum()\n",
    "\n",
    "# AttributeError: 'list' object has no attribute 'sum'"
   ]
  },
  {
   "attachments": {},
   "cell_type": "markdown",
   "id": "64a3990f",
   "metadata": {},
   "source": [
    "### OTRA FORMA DE SUMAR LOS ELEMENTOS DE UNA LISTA"
   ]
  },
  {
   "cell_type": "code",
   "execution_count": 5,
   "id": "4ac6b37d",
   "metadata": {},
   "outputs": [
    {
     "name": "stdout",
     "output_type": "stream",
     "text": [
      "la suma de los elementos de la lista es: 60\n"
     ]
    }
   ],
   "source": [
    "suma=0\n",
    "for numero in L:\n",
    "    suma = suma + numero\n",
    " #   10  <=   0   + 10\n",
    " #   30  <=  10   + 20 \n",
    " #   40  <=  30   + 30\n",
    "print('la suma de los elementos de la lista es:', suma)"
   ]
  },
  {
   "attachments": {},
   "cell_type": "markdown",
   "id": "2daf43f5",
   "metadata": {},
   "source": [
    "## borrar elementos de una lista en un index concreto"
   ]
  },
  {
   "cell_type": "code",
   "execution_count": 6,
   "id": "e5aa56d6",
   "metadata": {},
   "outputs": [
    {
     "data": {
      "text/plain": [
       "[10, 20, 30]"
      ]
     },
     "execution_count": 6,
     "metadata": {},
     "output_type": "execute_result"
    }
   ],
   "source": [
    "L"
   ]
  },
  {
   "cell_type": "code",
   "execution_count": 7,
   "id": "11240a32",
   "metadata": {},
   "outputs": [
    {
     "data": {
      "text/plain": [
       "[10, 30]"
      ]
     },
     "execution_count": 7,
     "metadata": {},
     "output_type": "execute_result"
    }
   ],
   "source": [
    "# SI QUIERO BORRAR EL ELEMENTO DE INDEX 1\n",
    "del L[1]\n",
    "\n",
    "L"
   ]
  },
  {
   "attachments": {},
   "cell_type": "markdown",
   "id": "8e7c519a",
   "metadata": {},
   "source": [
    "## insert + del + sum(lista) : pregunta del examen"
   ]
  },
  {
   "cell_type": "code",
   "execution_count": 8,
   "id": "861f255a",
   "metadata": {},
   "outputs": [
    {
     "name": "stdout",
     "output_type": "stream",
     "text": [
      "4\n"
     ]
    }
   ],
   "source": [
    "# cuál es el resultado del siguiente fragmento de código?\n",
    "# A) 4\n",
    "# B) 3\n",
    "# C) NINGUNA DE LAS ANTERIORES\n",
    "# D) EL código es erróneo\n",
    "\n",
    "x = [0, 1, 2]     \n",
    "x.insert(0, 1) \n",
    "del x[1]    \n",
    "print(sum(x))   "
   ]
  },
  {
   "cell_type": "code",
   "execution_count": 9,
   "id": "1b4deb06",
   "metadata": {},
   "outputs": [],
   "source": [
    "# resuelto paso a paso"
   ]
  },
  {
   "cell_type": "code",
   "execution_count": 10,
   "id": "6bba0c7f",
   "metadata": {},
   "outputs": [
    {
     "name": "stdout",
     "output_type": "stream",
     "text": [
      "x inicial: [0, 1, 2]\n",
      "x insertando en index 0 un \"1\": [1, 0, 1, 2]\n",
      "x borrando el elemento en index [1]: [1, 1, 2]\n",
      "la suma de todos los valores que componen x: (sum(x))\n",
      "4\n"
     ]
    }
   ],
   "source": [
    "x = [0, 1, 2]     # 0 1 2\n",
    "print('x inicial:', x)\n",
    "\n",
    "x.insert(0, 1)    # 1 0 1 2      (insertas en indice 0 un \"1\")      \n",
    "print('x insertando en index 0 un \"1\":', x)\n",
    "\n",
    "del x[1]          # 1   1 2  ======> 1 1 2\n",
    "print(\"x borrando el elemento en index [1]:\", x)\n",
    "\n",
    "print('la suma de todos los valores que componen x: (sum(x))')\n",
    "print(sum(x))     # 4            (1+1+2)"
   ]
  },
  {
   "attachments": {},
   "cell_type": "markdown",
   "id": "7bb13e08",
   "metadata": {},
   "source": [
    "****"
   ]
  },
  {
   "attachments": {},
   "cell_type": "markdown",
   "id": "71f64afe",
   "metadata": {},
   "source": [
    "## Funciones y argumentos: ejemplo 1"
   ]
  },
  {
   "cell_type": "code",
   "execution_count": 11,
   "id": "c7047849",
   "metadata": {},
   "outputs": [
    {
     "name": "stdout",
     "output_type": "stream",
     "text": [
      "3 2\n"
     ]
    }
   ],
   "source": [
    "# cuál es la salida del siguiente fragmento de código?\n",
    "# A) 3 3\n",
    "# B) 3 2\n",
    "# C) ninguna de las anteriores\n",
    "# D) el código es erróneo\n",
    "\n",
    "def test(x=1, y=2):\n",
    "    x = x + y         \n",
    "    y += 1             \n",
    "    print(x, y)       \n",
    "\n",
    "test(2, 1)"
   ]
  },
  {
   "cell_type": "code",
   "execution_count": 12,
   "id": "5811610d",
   "metadata": {},
   "outputs": [],
   "source": [
    "# y+=1  equivalente a: y = y + 1"
   ]
  },
  {
   "cell_type": "code",
   "execution_count": 13,
   "id": "e534f656",
   "metadata": {},
   "outputs": [
    {
     "name": "stdout",
     "output_type": "stream",
     "text": [
      "3 2\n"
     ]
    }
   ],
   "source": [
    "def test(x=1, y=2):\n",
    "    x = x + y       # ===> x =  2 + 1 = 3, x = 3, y = 1 \n",
    "    y += 1          # ===> y = y + 1 ==> y = 2 \n",
    "    print(x, y)       \n",
    "\n",
    "test(2, 1)"
   ]
  },
  {
   "attachments": {},
   "cell_type": "markdown",
   "id": "4edfc642",
   "metadata": {},
   "source": [
    "**el ejemplo explicado paso a paso**\n",
    "\n",
    "para comprobar que una vez modificamos los valores de los argumentos en la propia llamada\n",
    "\n",
    "éstos son modificados"
   ]
  },
  {
   "cell_type": "code",
   "execution_count": 14,
   "id": "8a96d2c8",
   "metadata": {},
   "outputs": [],
   "source": [
    "def test(x=1, y=2):\n",
    "    print('argumentos de la función: x=1, y=2')\n",
    "    print('valores en la llamada:    x=2, y=1')\n",
    "    print(\"valores reales en este instante:\")\n",
    "    print('x =',x, 'y =',y)\n",
    "    print(\"\\n\")\n",
    "    x = x + y         # x = x + y  -> 3 <= 2 + 1\n",
    "    y += 1            # y = y + 1  -> 2 <= 1 + 1 \n",
    "    print(x, y)       # 3, 2"
   ]
  },
  {
   "cell_type": "code",
   "execution_count": 15,
   "id": "71a0a973",
   "metadata": {},
   "outputs": [
    {
     "name": "stdout",
     "output_type": "stream",
     "text": [
      "argumentos de la función: x=1, y=2\n",
      "valores en la llamada:    x=2, y=1\n",
      "valores reales en este instante:\n",
      "x = 2 y = 1\n",
      "\n",
      "\n",
      "3 2\n"
     ]
    }
   ],
   "source": [
    "test(2, 1)"
   ]
  },
  {
   "cell_type": "code",
   "execution_count": 16,
   "id": "0ffdcaf3",
   "metadata": {},
   "outputs": [
    {
     "name": "stdout",
     "output_type": "stream",
     "text": [
      "argumentos de la función: x=1, y=2\n",
      "valores en la llamada:    x=2, y=1\n",
      "valores reales en este instante:\n",
      "x = 4 y = 3\n",
      "\n",
      "\n",
      "7 4\n"
     ]
    }
   ],
   "source": [
    "test(4, 3)"
   ]
  },
  {
   "attachments": {},
   "cell_type": "markdown",
   "id": "cbf94e93",
   "metadata": {},
   "source": [
    "## Funciones y argumentos: ejemplo 2"
   ]
  },
  {
   "cell_type": "code",
   "execution_count": 17,
   "id": "71559770",
   "metadata": {},
   "outputs": [],
   "source": [
    "# ejercicio parecido\n",
    "\n",
    "\n",
    "# en la llamada a la función al decir test(2,1)\n",
    "# sabe que se refiere a x=2, y=1 ?\n",
    "\n",
    "# RESPUESTA: SI\n",
    "# porque va hacia la llamada y se encuentra en ese orden\n",
    "\n",
    "# def test(x,y):\n",
    "# que en este caso se encuentra asi:\n",
    "# def test(x=1, y=2)"
   ]
  },
  {
   "cell_type": "code",
   "execution_count": 18,
   "id": "44ca2db2",
   "metadata": {},
   "outputs": [],
   "source": [
    "# en base a ello..\n",
    "\n",
    "# calcula el resultado del siguiente trozo de código\n",
    "\n",
    "# piensa si funciona el código y, si es que si, qué valor devuelve la llamada a la función?\n",
    "\n",
    "\n",
    "# cuál es la salida del siguiente fragmento de código?\n",
    "# A) 3 3\n",
    "# B) 3 2\n",
    "# C) ninguna de las anteriores\n",
    "# D) el código es erróneo"
   ]
  },
  {
   "cell_type": "code",
   "execution_count": 19,
   "id": "955995fb",
   "metadata": {},
   "outputs": [
    {
     "name": "stdout",
     "output_type": "stream",
     "text": [
      "3 3\n"
     ]
    }
   ],
   "source": [
    "def test(x=1, y=2):\n",
    "    x = x + y       # ===> x = 3 - y = 2\n",
    "    y += 1          # ===> x = 3 - y = 3\n",
    "    print(x, y)       \n",
    "\n",
    "test(y=2, x=1)"
   ]
  },
  {
   "cell_type": "code",
   "execution_count": 20,
   "id": "919342bf",
   "metadata": {},
   "outputs": [
    {
     "name": "stdout",
     "output_type": "stream",
     "text": [
      "7 4\n"
     ]
    }
   ],
   "source": [
    "test(y=3, x=4)\n",
    "\n",
    "# x = x + y  ===> x = 4 + 3 = 7 ==> x = 7 - y = 3\n",
    "# y = y + 1  =====================> x = 7 - y = 4\n",
    "# print(x,y) =====================> 7 4"
   ]
  },
  {
   "cell_type": "code",
   "execution_count": 21,
   "id": "fddd9d6b",
   "metadata": {},
   "outputs": [
    {
     "name": "stdout",
     "output_type": "stream",
     "text": [
      "7 5\n"
     ]
    }
   ],
   "source": [
    "test(3, 4)    # ==> x = 3, y = 4\n",
    "\n",
    "# x = x + y  ===> x = 3 + 4 = 7 ==> x = 7 - y = 4\n",
    "# y = y + 1  =====================> x = 7 - y = 5\n",
    "# print(x,y) =====================> 7 5"
   ]
  },
  {
   "attachments": {},
   "cell_type": "markdown",
   "id": "8f86211e",
   "metadata": {},
   "source": [
    "## Funciones y argumentos: ejemplo 3"
   ]
  },
  {
   "cell_type": "code",
   "execution_count": 22,
   "id": "21f9f2ef",
   "metadata": {},
   "outputs": [],
   "source": [
    "# otro ejemplo parecido, \n",
    "\n",
    "# pero en la llamada no indicamos qué valores tienen \"x\" e \"y\""
   ]
  },
  {
   "cell_type": "code",
   "execution_count": 23,
   "id": "03cb34bf",
   "metadata": {},
   "outputs": [
    {
     "name": "stdout",
     "output_type": "stream",
     "text": [
      "3 3\n"
     ]
    }
   ],
   "source": [
    "def test(x=1, y=2):\n",
    "    x = x + y         # x = 1 + 2 ======> x = 3       \n",
    "    y += 1            # y = y + 1 ======> y = 3\n",
    "    print(x, y)       # print(x,y) =====> 3 3    \n",
    "\n",
    "test()"
   ]
  },
  {
   "attachments": {},
   "cell_type": "markdown",
   "id": "468293b2",
   "metadata": {},
   "source": [
    "## Funciones y argumentos: ejemplo 4"
   ]
  },
  {
   "cell_type": "code",
   "execution_count": 24,
   "id": "5f3bfa8c",
   "metadata": {},
   "outputs": [],
   "source": [
    "# Ojo, que no es lo mismo que este otro ejemplo porque aquí NO SABE, \n",
    "# lo que valen 'x' e 'y'"
   ]
  },
  {
   "cell_type": "code",
   "execution_count": 25,
   "id": "f528f7ea",
   "metadata": {},
   "outputs": [
    {
     "data": {
      "text/plain": [
       "'\\ndef test(x, y):\\n    x = x + y         # x = 1 + 2 ======> x = 3       \\n    y += 1            # y = y + 1 ======> y = 3\\n    print(x, y)       # print(x,y) =====> 3 3    \\n\\ntest()'"
      ]
     },
     "execution_count": 25,
     "metadata": {},
     "output_type": "execute_result"
    }
   ],
   "source": [
    "\"\"\"\n",
    "def test(x, y):\n",
    "    x = x + y         # x = 1 + 2 ======> x = 3       \n",
    "    y += 1            # y = y + 1 ======> y = 3\n",
    "    print(x, y)       # print(x,y) =====> 3 3    \n",
    "\n",
    "test()\"\"\""
   ]
  },
  {
   "attachments": {},
   "cell_type": "markdown",
   "id": "0ad47e05",
   "metadata": {},
   "source": [
    "## Funciones y argumentos: ejemplo 5\n",
    "\n",
    "**omitiendo algún valor en la llamada**"
   ]
  },
  {
   "cell_type": "code",
   "execution_count": 26,
   "id": "b747c118",
   "metadata": {},
   "outputs": [
    {
     "name": "stdout",
     "output_type": "stream",
     "text": [
      "4 3\n"
     ]
    }
   ],
   "source": [
    "def test(x=1, y=2):\n",
    "    x = x + y         # x =       \n",
    "    y += 1            # y = y + 1 \n",
    "    print(x, y)       # \n",
    "\n",
    "test(2)"
   ]
  },
  {
   "attachments": {},
   "cell_type": "markdown",
   "id": "4e6475a3",
   "metadata": {},
   "source": [
    "## Funciones y argumentos: ejemplo 6"
   ]
  },
  {
   "cell_type": "code",
   "execution_count": 27,
   "id": "6fcbcc7b",
   "metadata": {},
   "outputs": [
    {
     "name": "stdout",
     "output_type": "stream",
     "text": [
      "5 5\n"
     ]
    }
   ],
   "source": [
    "def test(x=1, y=2):\n",
    "    x = x + y         # x = 1 + 4 ======>  x = 5 , y = 4\n",
    "    y += 1            # y = y + 1 ======>  x = 5 , y = 5\n",
    "    print(x, y)       # print(x,y) =====>  5 5 \n",
    "\n",
    "test(y=4)"
   ]
  },
  {
   "attachments": {},
   "cell_type": "markdown",
   "id": "58891f45",
   "metadata": {},
   "source": [
    "## Funciones y argumentos: ejemplo 7\n",
    "\n",
    "**mismo ejemplo sin decir y=4, simplemente 4**"
   ]
  },
  {
   "cell_type": "code",
   "execution_count": 28,
   "id": "96d495e8",
   "metadata": {},
   "outputs": [
    {
     "name": "stdout",
     "output_type": "stream",
     "text": [
      "6 3\n"
     ]
    }
   ],
   "source": [
    "def test(x=1, y=2):\n",
    "    x = x + y         # x = 4 + 2 ======> x = 6, y = 2\n",
    "    y += 1            # y = y + 1 ======> x = 6, y = 3\n",
    "    print(x, y)       # print(x,y) =====> 6 3\n",
    "\n",
    "test(4)"
   ]
  },
  {
   "attachments": {},
   "cell_type": "markdown",
   "id": "91ff0f0f",
   "metadata": {},
   "source": [
    "## Funciones y argumentos: ejemplo 8\n",
    "\n",
    "**otro ejemplo más donde vemos que una coma la admite en la llamada**\n",
    "\n",
    "**sin necesidad de establecer el valor de \"y\"**"
   ]
  },
  {
   "cell_type": "code",
   "execution_count": 29,
   "id": "359d24a9",
   "metadata": {},
   "outputs": [
    {
     "name": "stdout",
     "output_type": "stream",
     "text": [
      "6 3\n"
     ]
    }
   ],
   "source": [
    "def test(x=1, y=2):\n",
    "    x = x + y         # x = 4 + 2 ======> x = 6, y = 2\n",
    "    y += 1            # y = y + 1 ======> x = 6, y = 3\n",
    "    print(x, y)       # print(x,y) =====> 6 3\n",
    "\n",
    "test(4,)"
   ]
  },
  {
   "attachments": {},
   "cell_type": "markdown",
   "id": "06bbb255",
   "metadata": {},
   "source": [
    "## Funciones y argumentos: ejemplo 9\n",
    "\n",
    "**ejemplo donde vemos que no permite poner varias comas**"
   ]
  },
  {
   "cell_type": "code",
   "execution_count": 30,
   "id": "a86b164a",
   "metadata": {},
   "outputs": [
    {
     "ename": "SyntaxError",
     "evalue": "invalid syntax (1457273870.py, line 7)",
     "output_type": "error",
     "traceback": [
      "  \u001b[36mCell\u001b[39m\u001b[36m \u001b[39m\u001b[32mIn[30]\u001b[39m\u001b[32m, line 7\u001b[39m\n\u001b[31m    \u001b[39m\u001b[31mtest(4,,2)\u001b[39m\n           ^\n\u001b[31mSyntaxError\u001b[39m\u001b[31m:\u001b[39m invalid syntax\n"
     ]
    }
   ],
   "source": [
    "def test(x=1, y=2, z=2):\n",
    "    x = x + y         # x = 4 + 2 ======> x = 6, y = 2\n",
    "    y += 1            # y = y + 1 ======> x = 6, y = 3\n",
    "    z = z + 1\n",
    "    print(x, y, z)       # print(x,y) =====> 6 3\n",
    "\n",
    "test(4,,2)\n",
    "\n",
    "# SyntaxError: invalid syntax"
   ]
  },
  {
   "attachments": {},
   "cell_type": "markdown",
   "id": "27d159df",
   "metadata": {},
   "source": [
    "## Funciones y argumentos: ejemplo 10"
   ]
  },
  {
   "cell_type": "code",
   "execution_count": 31,
   "id": "b2b2008e",
   "metadata": {},
   "outputs": [
    {
     "ename": "SyntaxError",
     "evalue": "invalid syntax (69158050.py, line 6)",
     "output_type": "error",
     "traceback": [
      "  \u001b[36mCell\u001b[39m\u001b[36m \u001b[39m\u001b[32mIn[31]\u001b[39m\u001b[32m, line 6\u001b[39m\n\u001b[31m    \u001b[39m\u001b[31mtest(,4)\u001b[39m\n         ^\n\u001b[31mSyntaxError\u001b[39m\u001b[31m:\u001b[39m invalid syntax\n"
     ]
    }
   ],
   "source": [
    "\n",
    "def test(x=1, y=2):\n",
    "    x = x + y         #       \n",
    "    y += 1            # y = y + 1 ======> \n",
    "    print(x, y)       # print(x,y) =====>  \n",
    "\n",
    "test(,4)\n",
    "\n",
    "# SyntaxError: invalid syntax"
   ]
  },
  {
   "attachments": {},
   "cell_type": "markdown",
   "id": "4c88bcbc",
   "metadata": {},
   "source": [
    "****"
   ]
  },
  {
   "attachments": {},
   "cell_type": "markdown",
   "id": "aba084e8",
   "metadata": {},
   "source": [
    "# NO hacer copias de listas \n",
    "\n",
    "y lo que ello implica.."
   ]
  },
  {
   "attachments": {},
   "cell_type": "markdown",
   "id": "2c5791c7",
   "metadata": {},
   "source": [
    "## copias y asignación de listas: ejemplo 1\n",
    "\n",
    "**CUANDO QUIERO UNA COPIA DE UNA LISTA SE DEBE HACER ASI:**"
   ]
  },
  {
   "cell_type": "code",
   "execution_count": 32,
   "id": "dff6e88c",
   "metadata": {},
   "outputs": [
    {
     "data": {
      "text/plain": [
       "[1, 2, 3]"
      ]
     },
     "execution_count": 32,
     "metadata": {},
     "output_type": "execute_result"
    }
   ],
   "source": [
    "listado = [1,2,3]\n",
    "\n",
    "copia_listado = listado.copy()\n",
    "copia_listado"
   ]
  },
  {
   "cell_type": "code",
   "execution_count": 33,
   "id": "011c1575-6b34-4cb5-88c3-d8e7c7f86fa4",
   "metadata": {},
   "outputs": [
    {
     "data": {
      "text/plain": [
       "135675399371072"
      ]
     },
     "execution_count": 33,
     "metadata": {},
     "output_type": "execute_result"
    }
   ],
   "source": [
    "id(listado)"
   ]
  },
  {
   "cell_type": "code",
   "execution_count": 34,
   "id": "fd24a0a4-15da-48a7-94fa-ce0b3d709f83",
   "metadata": {},
   "outputs": [
    {
     "data": {
      "text/plain": [
       "135675399367040"
      ]
     },
     "execution_count": 34,
     "metadata": {},
     "output_type": "execute_result"
    }
   ],
   "source": [
    "id(copia_listado)"
   ]
  },
  {
   "cell_type": "code",
   "execution_count": 35,
   "id": "37b1e1e8",
   "metadata": {},
   "outputs": [
    {
     "data": {
      "text/plain": [
       "[1, 3]"
      ]
     },
     "execution_count": 35,
     "metadata": {},
     "output_type": "execute_result"
    }
   ],
   "source": [
    "del listado[1]\n",
    "listado"
   ]
  },
  {
   "cell_type": "code",
   "execution_count": 36,
   "id": "257150e9",
   "metadata": {},
   "outputs": [
    {
     "data": {
      "text/plain": [
       "[1, 2, 3]"
      ]
     },
     "execution_count": 36,
     "metadata": {},
     "output_type": "execute_result"
    }
   ],
   "source": [
    "copia_listado"
   ]
  },
  {
   "attachments": {},
   "cell_type": "markdown",
   "id": "8116bac9",
   "metadata": {},
   "source": [
    "**hemos visto que aunque hemos modificado la lista inicial \"listado\"**\n",
    "\n",
    "**HEMOS MANTENIDO LOS VALORES INICIALES EN \"COPIA_LISTADO\"**"
   ]
  },
  {
   "attachments": {},
   "cell_type": "markdown",
   "id": "3aad601d",
   "metadata": {},
   "source": [
    "## copias y asignación de listas: ejemplo 2 \n",
    "\n",
    "creo una lista (lista inicial)\n",
    "asigno otra lista y le asigno esa lista inicial\n",
    "modifico un elemento de la lista inicial\n",
    "\n",
    "COMPRUEBO que TAMBIÉN modifica la segunda lista (lista 2)"
   ]
  },
  {
   "cell_type": "code",
   "execution_count": 37,
   "id": "65e9ba78",
   "metadata": {},
   "outputs": [
    {
     "name": "stdout",
     "output_type": "stream",
     "text": [
      "135675399359424\n",
      "135675399359424\n",
      "list2: [4, 3]\n",
      "list1: [4, 3]\n"
     ]
    }
   ],
   "source": [
    "list1 = [1, 3]\n",
    "list2 = list1  # list2 = [1, 3]\n",
    "\n",
    "list1[0] = 4   # list1 = [4, 3]\n",
    "\n",
    "print(id(list1))\n",
    "print(id(list2))\n",
    "\n",
    "print('list2:', list2)  \n",
    "print('list1:', list1)"
   ]
  },
  {
   "attachments": {},
   "cell_type": "markdown",
   "id": "f7ffa005",
   "metadata": {},
   "source": [
    "## copias y asignación de listas: ejemplo 3\n",
    "\n",
    "**ahora modifico la lista 2 y compruebo..**"
   ]
  },
  {
   "cell_type": "code",
   "execution_count": 38,
   "id": "c26cbd31",
   "metadata": {},
   "outputs": [
    {
     "name": "stdout",
     "output_type": "stream",
     "text": [
      "list2: [4, 3]\n",
      "list1: [4, 3]\n"
     ]
    }
   ],
   "source": [
    "list1 = [1, 3]\n",
    "list2 = list1  # list2 = [1, 3]\n",
    "\n",
    "list2[0] = 4   # list2 = [4, 3]\n",
    "\n",
    "print('list2:', list2)  \n",
    "print('list1:', list1)"
   ]
  },
  {
   "attachments": {},
   "cell_type": "markdown",
   "id": "03c2925f",
   "metadata": {},
   "source": [
    "**VEMOS que en el momento que asignas una a otra,**\n",
    "\n",
    "**la otra también se modifica**"
   ]
  },
  {
   "cell_type": "code",
   "execution_count": 39,
   "id": "be034ca2",
   "metadata": {},
   "outputs": [
    {
     "data": {
      "text/plain": [
       "True"
      ]
     },
     "execution_count": 39,
     "metadata": {},
     "output_type": "execute_result"
    }
   ],
   "source": [
    "list1 == list2"
   ]
  },
  {
   "cell_type": "code",
   "execution_count": 40,
   "id": "88b58cb8-2474-4b10-98f3-172c72886502",
   "metadata": {},
   "outputs": [
    {
     "data": {
      "text/plain": [
       "True"
      ]
     },
     "execution_count": 40,
     "metadata": {},
     "output_type": "execute_result"
    }
   ],
   "source": [
    "list1 is list2"
   ]
  },
  {
   "cell_type": "code",
   "execution_count": 41,
   "id": "4ffc2f56",
   "metadata": {},
   "outputs": [
    {
     "name": "stdout",
     "output_type": "stream",
     "text": [
      "son ambas [4,3]\n"
     ]
    }
   ],
   "source": [
    "if list1 == list2:\n",
    "    print('son ambas [4,3]')"
   ]
  },
  {
   "attachments": {},
   "cell_type": "markdown",
   "id": "1fc589bf",
   "metadata": {},
   "source": [
    "**Aqui vemos que:**\n",
    "    \n",
    "**en el momento que no hago una copia y uso el operador = (operador de asignación)**\n",
    "\n",
    "**lo que nos encontramos es que cuando modificas una lista (la lista original)**\n",
    "\n",
    "**estamos también modificando la otra**"
   ]
  },
  {
   "attachments": {},
   "cell_type": "markdown",
   "id": "a1db4118",
   "metadata": {},
   "source": [
    "## copias y asignación de listas: ejemplo 4\n",
    "\n",
    "**asignación de valores (varios valores),** \n",
    "\n",
    "nota, recordar Numpy, porque era similar"
   ]
  },
  {
   "cell_type": "code",
   "execution_count": 42,
   "id": "6fdbbd30",
   "metadata": {},
   "outputs": [
    {
     "data": {
      "text/plain": [
       "[1, 2, 3]"
      ]
     },
     "execution_count": 42,
     "metadata": {},
     "output_type": "execute_result"
    }
   ],
   "source": [
    "numeros = [1, 2, 3]\n",
    "numeros"
   ]
  },
  {
   "cell_type": "code",
   "execution_count": 43,
   "id": "f562726a",
   "metadata": {},
   "outputs": [
    {
     "data": {
      "text/plain": [
       "[1, 2]"
      ]
     },
     "execution_count": 43,
     "metadata": {},
     "output_type": "execute_result"
    }
   ],
   "source": [
    "numeros[0:2] # 0 hasta 2 - 1 = 0 a 1"
   ]
  },
  {
   "cell_type": "code",
   "execution_count": 44,
   "id": "0af7a638",
   "metadata": {},
   "outputs": [
    {
     "data": {
      "text/plain": [
       "[1, 2]"
      ]
     },
     "execution_count": 44,
     "metadata": {},
     "output_type": "execute_result"
    }
   ],
   "source": [
    "numeros[:2] # 0 hasta 1"
   ]
  },
  {
   "cell_type": "code",
   "execution_count": 45,
   "id": "300b2f92",
   "metadata": {},
   "outputs": [
    {
     "data": {
      "text/plain": [
       "2"
      ]
     },
     "execution_count": 45,
     "metadata": {},
     "output_type": "execute_result"
    }
   ],
   "source": [
    "numeros[1]"
   ]
  },
  {
   "cell_type": "code",
   "execution_count": 46,
   "id": "47ab11cc",
   "metadata": {},
   "outputs": [
    {
     "data": {
      "text/plain": [
       "[2]"
      ]
     },
     "execution_count": 46,
     "metadata": {},
     "output_type": "execute_result"
    }
   ],
   "source": [
    "numeros[1:2] # 1 hasta 1"
   ]
  },
  {
   "cell_type": "code",
   "execution_count": 47,
   "id": "06c98e23",
   "metadata": {},
   "outputs": [
    {
     "data": {
      "text/plain": [
       "list"
      ]
     },
     "execution_count": 47,
     "metadata": {},
     "output_type": "execute_result"
    }
   ],
   "source": [
    "type(numeros[1:2])"
   ]
  },
  {
   "cell_type": "code",
   "execution_count": 48,
   "id": "10a6cd1d",
   "metadata": {},
   "outputs": [
    {
     "data": {
      "text/plain": [
       "int"
      ]
     },
     "execution_count": 48,
     "metadata": {},
     "output_type": "execute_result"
    }
   ],
   "source": [
    "type(numeros[1])"
   ]
  },
  {
   "cell_type": "code",
   "execution_count": 49,
   "id": "1900de9d",
   "metadata": {},
   "outputs": [
    {
     "data": {
      "text/plain": [
       "[1, 2, 3]"
      ]
     },
     "execution_count": 49,
     "metadata": {},
     "output_type": "execute_result"
    }
   ],
   "source": [
    "numbers = [1,2,3]\n",
    "numbers"
   ]
  },
  {
   "cell_type": "code",
   "execution_count": 50,
   "id": "c03c90dd",
   "metadata": {},
   "outputs": [
    {
     "data": {
      "text/plain": [
       "[1, 3]"
      ]
     },
     "execution_count": 50,
     "metadata": {},
     "output_type": "execute_result"
    }
   ],
   "source": [
    "del numbers[1:2] # 1 hasta 2 -1 --> de 1 al 1 --> eliminar el valor de posicion 1 --> 2\n",
    "numbers"
   ]
  },
  {
   "cell_type": "code",
   "execution_count": 51,
   "id": "f5aacf6e-0167-4dc8-aa48-c663e393ba20",
   "metadata": {},
   "outputs": [
    {
     "data": {
      "text/plain": [
       "[1, 2, 5, 6, 8, 10]"
      ]
     },
     "execution_count": 51,
     "metadata": {},
     "output_type": "execute_result"
    }
   ],
   "source": [
    "datos = [1, 2, 5, 6, 8, 10]\n",
    "datos"
   ]
  },
  {
   "cell_type": "code",
   "execution_count": 52,
   "id": "a96f5053-d2eb-4185-8252-f08e91737521",
   "metadata": {},
   "outputs": [
    {
     "data": {
      "text/plain": [
       "[1, 5, 8]"
      ]
     },
     "execution_count": 52,
     "metadata": {},
     "output_type": "execute_result"
    }
   ],
   "source": [
    "datos [::2] # recoger datos de dos en dos, saltar dos posiciones"
   ]
  },
  {
   "attachments": {},
   "cell_type": "markdown",
   "id": "18a6f942",
   "metadata": {},
   "source": [
    "## copias y asignación de listas: ejemplo 5\n",
    "\n",
    "**el ejercicio de examen**"
   ]
  },
  {
   "cell_type": "code",
   "execution_count": 53,
   "id": "0963d810",
   "metadata": {},
   "outputs": [
    {
     "name": "stdout",
     "output_type": "stream",
     "text": [
      "vals: [1, 3]\n",
      "nums: [1, 3]\n"
     ]
    }
   ],
   "source": [
    "nums = [1, 2, 3]\n",
    "vals = nums             # vals = [1, 2, 3]\n",
    "del vals[1:2]    \n",
    "# añado:\n",
    "print('vals:', vals)    # borro 2, [1,3]\n",
    "print('nums:', nums)    # = que vals\n",
    "\n",
    "# conclusión: \n",
    "# SI NO HACES UNA COPIA DE LA LISTA, \n",
    "# TE GUARDA LOS CAMBIOS"
   ]
  },
  {
   "attachments": {},
   "cell_type": "markdown",
   "id": "463739ab",
   "metadata": {},
   "source": [
    "## copias y asignación de listas: ejemplo 6\n",
    "\n",
    "lo mismo que ejemplo 5 pero modificando la otra lista"
   ]
  },
  {
   "cell_type": "code",
   "execution_count": 54,
   "id": "292375f6",
   "metadata": {},
   "outputs": [
    {
     "name": "stdout",
     "output_type": "stream",
     "text": [
      "vals: [1, 3]\n",
      "nums: [1, 3]\n"
     ]
    }
   ],
   "source": [
    "nums = [1, 2, 3]\n",
    "vals = nums             # vals = [1, 2, 3]\n",
    "del nums[1:2]    \n",
    "# añado:\n",
    "print('vals:', vals)    # borro 2, [1,3]\n",
    "print('nums:', nums)    # = que vals\n",
    "\n",
    "# conclusión: \n",
    "# SI NO HACES UNA COPIA DE LA LISTA, \n",
    "# TE GUARDA LOS CAMBIOS"
   ]
  },
  {
   "attachments": {},
   "cell_type": "markdown",
   "id": "522d4d4b",
   "metadata": {},
   "source": [
    "## copias y asignación de listas: ejemplo 7\n",
    "\n",
    "**otro ejercicio similar, pero con copias de listas**"
   ]
  },
  {
   "cell_type": "code",
   "execution_count": 55,
   "id": "7443c75d",
   "metadata": {},
   "outputs": [
    {
     "data": {
      "text/plain": [
       "[1, 2, 3]"
      ]
     },
     "execution_count": 55,
     "metadata": {},
     "output_type": "execute_result"
    }
   ],
   "source": [
    "listado = [1,2,3]\n",
    "\n",
    "copia_listado = listado.copy()\n",
    "copia_listado"
   ]
  },
  {
   "cell_type": "code",
   "execution_count": 56,
   "id": "88586148",
   "metadata": {},
   "outputs": [
    {
     "name": "stdout",
     "output_type": "stream",
     "text": [
      "listado: [1000, 2, 3]\n",
      "copia_listado: [1, 2, 3]\n"
     ]
    }
   ],
   "source": [
    "listado[0] = 1000\n",
    "print('listado:', listado)\n",
    "print('copia_listado:', copia_listado)\n",
    "\n",
    "# posibles soluciones\n",
    "\n",
    "# A)\n",
    "# listado = [1,2,3]\n",
    "# copia_listado = [1,2,3]\n",
    "\n",
    "# B)\n",
    "# listado = [1000,2,3]\n",
    "# copia_listado = [1,2,3]\n",
    "\n",
    "# C)\n",
    "# listado = [1000,2,3]\n",
    "# copia_listado = [1000,2,3]\n",
    "\n",
    "# D)\n",
    "# ninguna de las anteriores"
   ]
  },
  {
   "attachments": {},
   "cell_type": "markdown",
   "id": "7514c185",
   "metadata": {},
   "source": [
    "## copias y asignación de listas: ejemplo 8"
   ]
  },
  {
   "cell_type": "code",
   "execution_count": 57,
   "id": "38f91b62",
   "metadata": {},
   "outputs": [
    {
     "name": "stdout",
     "output_type": "stream",
     "text": [
      "lista1 antes de modificar el 10 de index 1 [4, 3]\n",
      "lista2 antes de modificar el 10 de index 1 [4, 3]\n",
      "list1: [4, 10]\n",
      "list2: [4, 10]\n"
     ]
    },
    {
     "data": {
      "text/plain": [
       "'\\nlist1 = [1, 3]\\nlist1 = [4, 3]\\nlist1 = [4, 10]\\n\\n\\nlist2 = [1, 3]\\nlist2 = [4, 3]\\nlist2 = [4, 10]\\n'"
      ]
     },
     "execution_count": 57,
     "metadata": {},
     "output_type": "execute_result"
    }
   ],
   "source": [
    "list1 = [1, 3] # [1, 3]\n",
    "list2 = list1  # [1, 3]\n",
    "list1[0] = 4   # [4, 3]\n",
    "print('lista1 antes de modificar el 10 de index 1', list1)\n",
    "print('lista2 antes de modificar el 10 de index 1', list2)\n",
    "list2[1] = 10  # [4, 10]\n",
    "\n",
    "print('list1:', list1)  \n",
    "print('list2:', list2)\n",
    "\n",
    "# A. [4,10] en ambas listas\n",
    "\n",
    "'''\n",
    "list1 = [1, 3]\n",
    "list1 = [4, 3]\n",
    "list1 = [4, 10]\n",
    "\n",
    "\n",
    "list2 = [1, 3]\n",
    "list2 = [4, 3]\n",
    "list2 = [4, 10]\n",
    "'''"
   ]
  },
  {
   "attachments": {},
   "cell_type": "markdown",
   "id": "d85b81a7",
   "metadata": {},
   "source": [
    "## copias y asignación de listas: ejemplo 9"
   ]
  },
  {
   "cell_type": "code",
   "execution_count": 58,
   "id": "c7076161",
   "metadata": {},
   "outputs": [
    {
     "name": "stdout",
     "output_type": "stream",
     "text": [
      "list1: [10]\n",
      "list2: [10]\n"
     ]
    }
   ],
   "source": [
    "list1 = [1, 3]\n",
    "list2 = list1  \n",
    "list1[0] = 4   \n",
    "list2[1] = 10  # [4, 10]\n",
    "del list1[0] # [10]\n",
    "\n",
    "print('list1:', list1)  \n",
    "print('list2:', list2)\n",
    "\n",
    "# A. \n",
    "#    lista 1 => [10]\n",
    "#    lista 2 => [10]"
   ]
  },
  {
   "attachments": {},
   "cell_type": "markdown",
   "id": "d1935d6d",
   "metadata": {},
   "source": [
    "## copias y asignación de listas: ejemplo 10"
   ]
  },
  {
   "cell_type": "code",
   "execution_count": 59,
   "id": "e281eadb",
   "metadata": {},
   "outputs": [
    {
     "name": "stdout",
     "output_type": "stream",
     "text": [
      "list1: []\n",
      "list2: []\n"
     ]
    }
   ],
   "source": [
    "list1 = [1, 3]\n",
    "list2 = list1  \n",
    "list1[0] = 4   \n",
    "list2[1] = 10  \n",
    "del list1[0] # [10]\n",
    "del list2[0] # []\n",
    "\n",
    "print('list1:', list1)  \n",
    "print('list2:', list2)\n",
    "\n",
    "# []"
   ]
  },
  {
   "attachments": {},
   "cell_type": "markdown",
   "id": "8c39f7f0",
   "metadata": {},
   "source": [
    "## copias y asignación de listas: ejemplo 11"
   ]
  },
  {
   "cell_type": "code",
   "execution_count": 60,
   "id": "80d7f05f",
   "metadata": {},
   "outputs": [
    {
     "data": {
      "text/plain": [
       "\"\\nlist1 = [1, 3]\\nlist2 = list1  \\nlist1[0] = 4   \\nlist2[1] = 10  \\ndel list1[0] # [10]\\ndel list2[1] \\n\\nprint('list1:', list1)  \\nprint('list2:', list2)\\n\""
      ]
     },
     "execution_count": 60,
     "metadata": {},
     "output_type": "execute_result"
    }
   ],
   "source": [
    "# cuál es la salida del siguiente código\n",
    "# A. lista vacía\n",
    "# B. 10\n",
    "# C. el código es erróneo\n",
    "# D. ninguna de las anteriores\n",
    "\n",
    "'''\n",
    "list1 = [1, 3]\n",
    "list2 = list1  \n",
    "list1[0] = 4   \n",
    "list2[1] = 10  \n",
    "del list1[0] # [10]\n",
    "del list2[1] \n",
    "\n",
    "print('list1:', list1)  \n",
    "print('list2:', list2)\n",
    "'''\n",
    "\n",
    "\n",
    "# ERROR QUE ME DEVUELVE:\n",
    "# IndexError: list assignment index out of range\n",
    "\n",
    "# EXPLICACIÓN\n",
    "# cuando tienes en la penúltima línea: [10]\n",
    "# tal y como vimos en el ejemplo 10. TENEMOS 1 ÚNICO ELEMENTO.\n",
    "# SI TIENES 1 ELEMENTO, ====> NO Puedes eliminar el de index 1, solo index 0\n",
    "# (como en el anterior ejemplo)\n",
    "\n",
    "# POR ESO DEVUELVE UN ERROR"
   ]
  },
  {
   "attachments": {},
   "cell_type": "markdown",
   "id": "9ce8839f",
   "metadata": {},
   "source": [
    "****"
   ]
  },
  {
   "attachments": {},
   "cell_type": "markdown",
   "id": "4730d3d5",
   "metadata": {},
   "source": [
    "# Funciones: variables globales y locales\n",
    "\n",
    "(el ejercicio de examen es el primero)\n",
    "\n",
    "**variables globales Vs variables locales en las funciones**"
   ]
  },
  {
   "attachments": {},
   "cell_type": "markdown",
   "id": "e382148b",
   "metadata": {},
   "source": [
    "## Variables globales y locales: ejemplo 1"
   ]
  },
  {
   "cell_type": "code",
   "execution_count": 61,
   "id": "fb53b44e",
   "metadata": {},
   "outputs": [
    {
     "name": "stdout",
     "output_type": "stream",
     "text": [
      "4\n",
      "1\n"
     ]
    }
   ],
   "source": [
    "num = 1\n",
    " \n",
    "def func(num):\n",
    "    num = num + 3   \n",
    "    print(num)      \n",
    "    \n",
    "func(1)              \n",
    " \n",
    "print(num)           "
   ]
  },
  {
   "attachments": {},
   "cell_type": "markdown",
   "id": "aa1f24d3",
   "metadata": {},
   "source": [
    "## Variables globales y locales: ejemplo 2"
   ]
  },
  {
   "cell_type": "code",
   "execution_count": 62,
   "id": "15cb4e5e",
   "metadata": {},
   "outputs": [
    {
     "name": "stdout",
     "output_type": "stream",
     "text": [
      "9\n",
      "1\n"
     ]
    }
   ],
   "source": [
    "num = 1\n",
    " \n",
    "def func(num):\n",
    "    num = num + 3   \n",
    "    print(num)      \n",
    "    \n",
    "func(6)              \n",
    " \n",
    "print(num)  "
   ]
  },
  {
   "attachments": {},
   "cell_type": "markdown",
   "id": "cf072386",
   "metadata": {},
   "source": [
    "## Variables globales y locales: ejemplo 3"
   ]
  },
  {
   "cell_type": "code",
   "execution_count": 63,
   "id": "4013bf47",
   "metadata": {},
   "outputs": [
    {
     "name": "stdout",
     "output_type": "stream",
     "text": [
      "4\n",
      "4\n"
     ]
    }
   ],
   "source": [
    "num = 1\n",
    " \n",
    "def func():\n",
    "    global num\n",
    "    num = num + 3   \n",
    "    print(num)      \n",
    "    \n",
    "func()              \n",
    "print(num)           "
   ]
  },
  {
   "attachments": {},
   "cell_type": "markdown",
   "id": "fb58ae4e",
   "metadata": {},
   "source": [
    "## Variables globales y locales: ejemplo 4"
   ]
  },
  {
   "cell_type": "code",
   "execution_count": 64,
   "id": "af8f6fa9",
   "metadata": {},
   "outputs": [
    {
     "name": "stdout",
     "output_type": "stream",
     "text": [
      "4\n",
      "20\n"
     ]
    }
   ],
   "source": [
    "num = 1\n",
    " \n",
    "def func():\n",
    "    global num\n",
    "    num = num + 3   \n",
    "    print(num)      \n",
    "    \n",
    "func()              \n",
    "num = 2\n",
    "num = 20\n",
    "print(num) "
   ]
  },
  {
   "attachments": {},
   "cell_type": "markdown",
   "id": "0f6ca2d3",
   "metadata": {},
   "source": [
    "## Variables globales y locales: ejemplo 5"
   ]
  },
  {
   "cell_type": "code",
   "execution_count": 65,
   "id": "c085af25",
   "metadata": {},
   "outputs": [
    {
     "data": {
      "text/plain": [
       "'\\nnum = 1\\n\\ndef func():\\n    num = num + 3   \\n    print(num)      \\n\\nfunc()              \\n\\nprint(num)  \\n'"
      ]
     },
     "execution_count": 65,
     "metadata": {},
     "output_type": "execute_result"
    }
   ],
   "source": [
    "'''\n",
    "num = 1\n",
    " \n",
    "def func():\n",
    "    num = num + 3   \n",
    "    print(num)      \n",
    "    \n",
    "func()              \n",
    " \n",
    "print(num)  \n",
    "'''         \n",
    "\n",
    "# UnboundLocalError: local variable 'num' referenced before assignment\n",
    "\n",
    "# 'num' ahora DESCONOCEMOS SU VALOR EN \"num = num + 3\"\n",
    "# PORQUE ACTÚA DE MANERA LOCAL"
   ]
  },
  {
   "attachments": {},
   "cell_type": "markdown",
   "id": "7e7700a1",
   "metadata": {},
   "source": [
    "## Variables globales y locales: ejemplo 6\n",
    "\n",
    "**el mismo ejemplo PERO AHORA SI LE DIGO UN POSIBLE VALOR PARA NUM**\n",
    "\n",
    "pudiera ser también de examen"
   ]
  },
  {
   "cell_type": "code",
   "execution_count": 66,
   "id": "743359e7",
   "metadata": {},
   "outputs": [
    {
     "name": "stdout",
     "output_type": "stream",
     "text": [
      "la llamada a la función: \n",
      "13\n",
      "\n",
      "\n",
      "el valor de num original...: 1\n"
     ]
    }
   ],
   "source": [
    "num = 1\n",
    " \n",
    "def func():\n",
    "    num = 10\n",
    "    num = num + 3    \n",
    "    print(num)       \n",
    "    \n",
    "print('la llamada a la función: ')\n",
    "func()                              \n",
    "print('\\n')\n",
    " \n",
    "print('el valor de num original...:', num)              "
   ]
  },
  {
   "attachments": {},
   "cell_type": "markdown",
   "id": "9aa0c8cc",
   "metadata": {},
   "source": [
    "## Variables globales y locales: ejemplo 7\n",
    "\n",
    "ojo, que, aunque la variable sea global ESTAMOS REASIGNANDO VALORES A LA VARIABLE"
   ]
  },
  {
   "cell_type": "code",
   "execution_count": 67,
   "id": "7a356f17",
   "metadata": {},
   "outputs": [
    {
     "name": "stdout",
     "output_type": "stream",
     "text": [
      "la llamada a la función: \n",
      "13\n",
      "\n",
      "\n",
      "el valor de num original...: 13\n"
     ]
    }
   ],
   "source": [
    "num = 1\n",
    " \n",
    "def func():\n",
    "    global num\n",
    "    num = 10\n",
    "    num = num + 3    \n",
    "    print(num)       \n",
    "    \n",
    "print('la llamada a la función: ')\n",
    "func()                              \n",
    "print('\\n')\n",
    " \n",
    "print('el valor de num original...:', num)  "
   ]
  },
  {
   "attachments": {},
   "cell_type": "markdown",
   "id": "8c62856f",
   "metadata": {},
   "source": [
    "## Variables globales y locales: ejemplo 8\n",
    "\n",
    "LA PALABRA GLOBAL DESPUÉS DE \"num = 10\""
   ]
  },
  {
   "cell_type": "code",
   "execution_count": 68,
   "id": "6628bc8f",
   "metadata": {},
   "outputs": [
    {
     "data": {
      "text/plain": [
       "\"\\nnum = 1\\n\\ndef func():\\n    num = 10\\n    global num\\n    num = num + 3    \\n    print(num)       \\n\\nprint('la llamada a la función: ')\\nfunc()                              \\nprint('\\n')\\n\\nprint('el valor de num original...:', num)  \\n\""
      ]
     },
     "execution_count": 68,
     "metadata": {},
     "output_type": "execute_result"
    }
   ],
   "source": [
    "\"\"\"\n",
    "num = 1\n",
    " \n",
    "def func():\n",
    "    num = 10\n",
    "    global num\n",
    "    num = num + 3    \n",
    "    print(num)       \n",
    "    \n",
    "print('la llamada a la función: ')\n",
    "func()                              \n",
    "print('\\n')\n",
    " \n",
    "print('el valor de num original...:', num)  \n",
    "\"\"\"\n",
    "\n",
    "# SyntaxError: name 'num' is assigned to before global declaration"
   ]
  },
  {
   "attachments": {},
   "cell_type": "markdown",
   "id": "cc2b3019",
   "metadata": {},
   "source": [
    "## Variables globales y locales: ejemplo 9\n",
    "\n",
    "ojo, que, aunque la variable sea global ESTAMOS REASIGNANDO VALORES A LA VARIABLE\n",
    "\n",
    "**AQUI, PARA VERLO DEFINITIVAMENTE, HEMOS REASIGNADO VARIAS VECES**"
   ]
  },
  {
   "cell_type": "code",
   "execution_count": 69,
   "id": "ba706754",
   "metadata": {},
   "outputs": [
    {
     "name": "stdout",
     "output_type": "stream",
     "text": [
      "la llamada a la función: \n",
      "33\n",
      "\n",
      "\n",
      "el valor de num original...: 33\n"
     ]
    }
   ],
   "source": [
    "num = 1\n",
    " \n",
    "def func():\n",
    "    global num\n",
    "    num = 10\n",
    "    num = 20\n",
    "    num = 30\n",
    "    num = num + 3    \n",
    "    print(num)       \n",
    "    \n",
    "print('la llamada a la función: ')\n",
    "func()                              \n",
    "print('\\n')\n",
    " \n",
    "print('el valor de num original...:', num)  "
   ]
  },
  {
   "attachments": {},
   "cell_type": "markdown",
   "id": "3157ae7b",
   "metadata": {},
   "source": [
    "## Variables globales y locales: ejemplo 10\n",
    "\n",
    "un ejemplo diferente (el cual si que funciona)\n",
    "\n",
    "es una posible corrección al código del examen"
   ]
  },
  {
   "cell_type": "code",
   "execution_count": 70,
   "id": "d454eb76",
   "metadata": {},
   "outputs": [
    {
     "name": "stdout",
     "output_type": "stream",
     "text": [
      "4\n",
      "4\n"
     ]
    }
   ],
   "source": [
    "num = 1\n",
    " \n",
    "def func():\n",
    "    global num\n",
    "    num = num + 3    \n",
    "    print(num)       \n",
    "    \n",
    "func()              \n",
    " \n",
    "print(num)           "
   ]
  },
  {
   "attachments": {},
   "cell_type": "markdown",
   "id": "f99d8342",
   "metadata": {},
   "source": [
    "****"
   ]
  },
  {
   "attachments": {},
   "cell_type": "markdown",
   "id": "87498ee1",
   "metadata": {},
   "source": [
    "# Ejemplo con try except \n",
    "\n",
    "(el primero es el de examen)"
   ]
  },
  {
   "cell_type": "code",
   "execution_count": 71,
   "id": "174633a9",
   "metadata": {},
   "outputs": [
    {
     "data": {
      "text/plain": [
       "'\\ntry:\\n    print(5/0)\\n    break\\nexcept:\\n    print(\"Sorry, something went wrong...\")\\nexcept (ValueError, ZeroDivisionError):\\n    print(\"Too bad...\")\\n'"
      ]
     },
     "execution_count": 71,
     "metadata": {},
     "output_type": "execute_result"
    }
   ],
   "source": [
    "\"\"\"\n",
    "try:\n",
    "    print(5/0)\n",
    "    break\n",
    "except:\n",
    "    print(\"Sorry, something went wrong...\")\n",
    "except (ValueError, ZeroDivisionError):\n",
    "    print(\"Too bad...\")\n",
    "\"\"\"\n",
    "    \n",
    "# SyntaxError: 'break' outside loop"
   ]
  },
  {
   "cell_type": "code",
   "execution_count": 72,
   "id": "f9b883c0",
   "metadata": {},
   "outputs": [],
   "source": [
    "# ejemplo 2 de este tipo (este si funciona)\n",
    "\n",
    "# se ha intentado que ejecute la parte de ZeroDivisionError"
   ]
  },
  {
   "cell_type": "code",
   "execution_count": 73,
   "id": "c9a270dd",
   "metadata": {},
   "outputs": [
    {
     "name": "stdout",
     "output_type": "stream",
     "text": [
      "Too bad...\n"
     ]
    }
   ],
   "source": [
    "try:\n",
    "    print(5/0)\n",
    "except (ValueError, ZeroDivisionError):\n",
    "    print(\"Too bad...\")\n",
    "except:\n",
    "    print(\"Sorry, something went wrong...\")"
   ]
  },
  {
   "cell_type": "code",
   "execution_count": 74,
   "id": "9fdae045",
   "metadata": {},
   "outputs": [
    {
     "name": "stdout",
     "output_type": "stream",
     "text": [
      "Sorry, something went wrong...\n"
     ]
    }
   ],
   "source": [
    "try:\n",
    "    print(5/0)\n",
    "except (ValueError):\n",
    "    print(\"Too bad...\")\n",
    "except:\n",
    "    print(\"Sorry, something went wrong...\")"
   ]
  },
  {
   "cell_type": "code",
   "execution_count": 75,
   "id": "3665e1e6",
   "metadata": {},
   "outputs": [
    {
     "name": "stdout",
     "output_type": "stream",
     "text": [
      "Sorry, something went wrong...\n"
     ]
    }
   ],
   "source": [
    "try:\n",
    "    print(5/0)\n",
    "except ValueError:\n",
    "    print(\"Too bad...\")\n",
    "except:\n",
    "    print(\"Sorry, something went wrong...\")"
   ]
  },
  {
   "attachments": {},
   "cell_type": "markdown",
   "id": "203f62fa",
   "metadata": {},
   "source": [
    "**UNA POSIBILIDAD**"
   ]
  },
  {
   "cell_type": "code",
   "execution_count": 76,
   "id": "622c8be9",
   "metadata": {},
   "outputs": [
    {
     "name": "stdout",
     "output_type": "stream",
     "text": [
      "<class 'ZeroDivisionError'>\n",
      "division by zero\n"
     ]
    }
   ],
   "source": [
    "try:\n",
    "    print(5/0)\n",
    "except Exception as e:\n",
    "    print(type(e))\n",
    "    print(str(e))"
   ]
  },
  {
   "cell_type": "code",
   "execution_count": 77,
   "id": "92f97aa2",
   "metadata": {},
   "outputs": [
    {
     "ename": "SyntaxError",
     "evalue": "default 'except:' must be last (389378294.py, line 3)",
     "output_type": "error",
     "traceback": [
      "  \u001b[36mCell\u001b[39m\u001b[36m \u001b[39m\u001b[32mIn[77]\u001b[39m\u001b[32m, line 3\u001b[39m\n\u001b[31m    \u001b[39m\u001b[31mexcept:\u001b[39m\n    ^\n\u001b[31mSyntaxError\u001b[39m\u001b[31m:\u001b[39m default 'except:' must be last\n"
     ]
    }
   ],
   "source": [
    "try:\n",
    "    print(5/0)\n",
    "except:\n",
    "    print(\"Sorry, something went wrong...\")\n",
    "except (ValueError, ZeroDivisionError):\n",
    "    print(\"Too bad...\")\n",
    "    \n",
    "# SyntaxError: 'break' outside loop"
   ]
  },
  {
   "attachments": {},
   "cell_type": "markdown",
   "id": "1574aec9",
   "metadata": {},
   "source": [
    "****"
   ]
  },
  {
   "attachments": {},
   "cell_type": "markdown",
   "id": "2c8c34dc",
   "metadata": {},
   "source": [
    "# Ejemplo con while\n",
    "\n",
    "**EJERCICIO MUY PROTOTIPO EN PCEP**"
   ]
  },
  {
   "attachments": {},
   "cell_type": "markdown",
   "id": "e085e4a5",
   "metadata": {},
   "source": [
    "## While: ejemplo 1"
   ]
  },
  {
   "cell_type": "code",
   "execution_count": 78,
   "id": "8db5566e",
   "metadata": {},
   "outputs": [
    {
     "name": "stdout",
     "output_type": "stream",
     "text": [
      "antes 0\n",
      "despues 2\n",
      "*\n",
      "antes 2\n",
      "despues 4\n",
      "*\n"
     ]
    }
   ],
   "source": [
    "i = 0\n",
    "while i <= 3:    # ------------------>  0-1-2-3 (posibilidades)\n",
    "    print(\"antes\", i)\n",
    "    i += 2       # i = i + 2  ------->  0-2     (4 ya no valdría)\n",
    "    print(\"despues\", i)\n",
    "    print('*')   # ejecuta 2 veces -->  **"
   ]
  },
  {
   "attachments": {},
   "cell_type": "markdown",
   "id": "39637edd",
   "metadata": {},
   "source": [
    "## while: ejemplo 2: \n",
    "\n",
    "EL MISMO CÓDIGO PERO: print('*') YA NO SE ENCUENTRA INDENTADO.\n",
    "\n",
    "ESTÁ **FUERA** DEL WHILE (DESPUÉS DEL WHILE)"
   ]
  },
  {
   "cell_type": "code",
   "execution_count": 79,
   "id": "a7584bd4",
   "metadata": {},
   "outputs": [
    {
     "name": "stdout",
     "output_type": "stream",
     "text": [
      "YA HA SUMADO 2\n",
      "estamos DENTRO del WHILE\n",
      "en el siguiente valor de i: 2\n",
      "\n",
      "\n",
      "YA HA SUMADO 2\n",
      "estamos DENTRO del WHILE\n",
      "en el siguiente valor de i: 4\n",
      "\n",
      "\n",
      "\n",
      "\n",
      "Termina el bucle while\n",
      "\n",
      "\n",
      "AHORA IMPRIMOS UN SOLO ASTERISCO\n",
      "*\n"
     ]
    }
   ],
   "source": [
    "i = 0\n",
    "while i <= 3:    # ------------------>  0-1-2-3 (posibilidades)\n",
    "    i += 2       # i = i + 2  ------->  0-2     (4 ya no valdría)\n",
    "    print('YA HA SUMADO 2')\n",
    "    print('estamos DENTRO del WHILE')\n",
    "    print('en el siguiente valor de i:', i)\n",
    "    print('\\n')\n",
    "    \n",
    "print('\\n')\n",
    "print('Termina el bucle while')\n",
    "print('\\n')\n",
    "\n",
    "print('AHORA IMPRIMOS UN SOLO ASTERISCO')\n",
    "print('*')  "
   ]
  },
  {
   "attachments": {},
   "cell_type": "markdown",
   "id": "26c79eb7",
   "metadata": {},
   "source": [
    "## while: ejemplo 3\n",
    "\n",
    "suma 1 en vez de 2"
   ]
  },
  {
   "cell_type": "code",
   "execution_count": 80,
   "id": "ebd88a1e",
   "metadata": {},
   "outputs": [
    {
     "name": "stdout",
     "output_type": "stream",
     "text": [
      "*\n",
      "*\n",
      "*\n",
      "*\n"
     ]
    }
   ],
   "source": [
    "i = 0\n",
    "while i <= 3:    # ------------------>  0-1-2-3 (posibilidades)\n",
    "    i += 1       # i = i + 1  ------->    1-2-3-4\n",
    "    print('*')   # ejecuta 2 veces -->    * * * *\n",
    "    \n",
    "    \n",
    "# i = 0 ==> i = 0 + 1 ==> i = 1\n",
    "\n",
    "# ...\n",
    "\n",
    "# 3<=3   ===> si  \n",
    "# 4 <= 3 + 1\n",
    "\n",
    "# 4<=3  ===> NO"
   ]
  },
  {
   "attachments": {},
   "cell_type": "markdown",
   "id": "b86da345",
   "metadata": {},
   "source": [
    "****"
   ]
  },
  {
   "attachments": {},
   "cell_type": "markdown",
   "id": "6f6e5670",
   "metadata": {},
   "source": [
    "# Ejercicio prototipo: cuál es el resultado de.."
   ]
  },
  {
   "attachments": {},
   "cell_type": "markdown",
   "id": "1bbbccd1",
   "metadata": {},
   "source": [
    "## repaso: diferencia entre * y esto: **"
   ]
  },
  {
   "cell_type": "code",
   "execution_count": 81,
   "id": "a72a2c57",
   "metadata": {},
   "outputs": [
    {
     "data": {
      "text/plain": [
       "6"
      ]
     },
     "execution_count": 81,
     "metadata": {},
     "output_type": "execute_result"
    }
   ],
   "source": [
    "2*3   # multiplicación"
   ]
  },
  {
   "cell_type": "code",
   "execution_count": 82,
   "id": "dbe25aff",
   "metadata": {},
   "outputs": [
    {
     "data": {
      "text/plain": [
       "8"
      ]
     },
     "execution_count": 82,
     "metadata": {},
     "output_type": "execute_result"
    }
   ],
   "source": [
    "2**3   # 2 elevado a 3 (2*2*2)"
   ]
  },
  {
   "attachments": {},
   "cell_type": "markdown",
   "id": "2b20f4d9",
   "metadata": {},
   "source": [
    "## ejercico de examen:\n",
    "\n",
    "se puede encontrar en PCEP y en PCAP"
   ]
  },
  {
   "cell_type": "code",
   "execution_count": 83,
   "id": "3ad2f31f",
   "metadata": {},
   "outputs": [
    {
     "data": {
      "text/plain": [
       "512"
      ]
     },
     "execution_count": 83,
     "metadata": {},
     "output_type": "execute_result"
    }
   ],
   "source": [
    "2**3**2 \n",
    "# izquierda a derecha: 2**3 = 8 --> 8**2 = 64     ===> No correcto\n",
    "# derecha a izquierda: 3**2 = 9 --> 2**9 = 512    ===> SI es correcto"
   ]
  },
  {
   "cell_type": "code",
   "execution_count": 84,
   "id": "c6ee44d1",
   "metadata": {},
   "outputs": [],
   "source": [
    "# 2**(3**2) ==> 2**9"
   ]
  },
  {
   "cell_type": "code",
   "execution_count": 85,
   "id": "368c416c",
   "metadata": {},
   "outputs": [
    {
     "data": {
      "text/plain": [
       "2"
      ]
     },
     "execution_count": 85,
     "metadata": {},
     "output_type": "execute_result"
    }
   ],
   "source": [
    "2**1\n",
    "\n",
    "# 2==>4==>8==>16==>32==>64==>128==>256==>512"
   ]
  },
  {
   "cell_type": "code",
   "execution_count": 86,
   "id": "f506fb80",
   "metadata": {},
   "outputs": [
    {
     "data": {
      "text/plain": [
       "512"
      ]
     },
     "execution_count": 86,
     "metadata": {},
     "output_type": "execute_result"
    }
   ],
   "source": [
    "2**9"
   ]
  },
  {
   "attachments": {},
   "cell_type": "markdown",
   "id": "8f07c94b",
   "metadata": {},
   "source": [
    "****"
   ]
  },
  {
   "attachments": {},
   "cell_type": "markdown",
   "id": "1cfda706",
   "metadata": {},
   "source": [
    "# Ejercicio con funciones y bucle while"
   ]
  },
  {
   "attachments": {},
   "cell_type": "markdown",
   "id": "1401854b",
   "metadata": {},
   "source": [
    "## funciones y while: ejemplo 1"
   ]
  },
  {
   "cell_type": "code",
   "execution_count": 87,
   "id": "482c10d9",
   "metadata": {},
   "outputs": [
    {
     "data": {
      "text/plain": [
       "\"\\ndef func(text, num):\\n    while num > 0:\\n        print(text)\\n    num = num - 1\\n\\nfunc('Hello', 3)\\n\""
      ]
     },
     "execution_count": 87,
     "metadata": {},
     "output_type": "execute_result"
    }
   ],
   "source": [
    "\"\"\"\n",
    "def func(text, num):\n",
    "    while num > 0:\n",
    "        print(text)\n",
    "    num = num - 1\n",
    "\n",
    "func('Hello', 3)\n",
    "\"\"\"\n",
    "\n",
    "\n",
    "# bucle infinito"
   ]
  },
  {
   "attachments": {},
   "cell_type": "markdown",
   "id": "a28a9539",
   "metadata": {},
   "source": [
    "## funciones y while: ejemplo 2"
   ]
  },
  {
   "cell_type": "code",
   "execution_count": 88,
   "id": "f3cbdb36",
   "metadata": {},
   "outputs": [
    {
     "name": "stdout",
     "output_type": "stream",
     "text": [
      "Hello\n",
      "Hello\n",
      "Hello\n"
     ]
    }
   ],
   "source": [
    "# Aqui si sería 3 Hello la solución\n",
    "\n",
    "def func(text, num):\n",
    "    while num > 0:\n",
    "        print(text)\n",
    "        num = num - 1\n",
    "    \n",
    "func('Hello', 3)"
   ]
  },
  {
   "attachments": {},
   "cell_type": "markdown",
   "id": "7011344e",
   "metadata": {},
   "source": [
    "****"
   ]
  },
  {
   "attachments": {},
   "cell_type": "markdown",
   "id": "ae94a16d",
   "metadata": {},
   "source": [
    "# Ejercicio con and, or, not y condicionales"
   ]
  },
  {
   "attachments": {},
   "cell_type": "markdown",
   "id": "4e260067",
   "metadata": {},
   "source": [
    "## Algunos links con info"
   ]
  },
  {
   "attachments": {},
   "cell_type": "markdown",
   "id": "54b52c1c",
   "metadata": {},
   "source": [
    "https://realpython.com/lessons/operator-precedence/#:~:text=For%20Boolean%20operations%2C%20all%20and,the%20or%20operations%20are%20performed.\n",
    "    \n",
    "https://stackoverflow.com/questions/12494568/boolean-operators-precedence\n",
    "        \n",
    "https://www.programiz.com/python-programming/precedence-associativity\n",
    "            \n",
    "https://www.scaler.com/topics/operator-precedence-in-python/\n",
    "                \n",
    "https://stackoverflow.com/questions/16679272/priority-of-the-logical-operators-order-of-operations-for-not-and-or-in-pyth\n",
    "\n",
    "https://blog.finxter.com/how-does-and-precedence-work-in-a-python-boolean-expression/"
   ]
  },
  {
   "attachments": {},
   "cell_type": "markdown",
   "id": "4799bff0",
   "metadata": {},
   "source": [
    "## Ejercicios iniciales"
   ]
  },
  {
   "cell_type": "code",
   "execution_count": 89,
   "id": "afdfa11e",
   "metadata": {},
   "outputs": [
    {
     "data": {
      "text/plain": [
       "True"
      ]
     },
     "execution_count": 89,
     "metadata": {},
     "output_type": "execute_result"
    }
   ],
   "source": [
    "x = True\n",
    "x"
   ]
  },
  {
   "cell_type": "code",
   "execution_count": 90,
   "id": "edbc1a7a",
   "metadata": {},
   "outputs": [
    {
     "data": {
      "text/plain": [
       "False"
      ]
     },
     "execution_count": 90,
     "metadata": {},
     "output_type": "execute_result"
    }
   ],
   "source": [
    "not x"
   ]
  },
  {
   "cell_type": "code",
   "execution_count": 91,
   "id": "1873429e",
   "metadata": {},
   "outputs": [
    {
     "data": {
      "text/plain": [
       "False"
      ]
     },
     "execution_count": 91,
     "metadata": {},
     "output_type": "execute_result"
    }
   ],
   "source": [
    "True and False"
   ]
  },
  {
   "cell_type": "code",
   "execution_count": 92,
   "id": "de5127d9",
   "metadata": {},
   "outputs": [
    {
     "data": {
      "text/plain": [
       "True"
      ]
     },
     "execution_count": 92,
     "metadata": {},
     "output_type": "execute_result"
    }
   ],
   "source": [
    "True and True"
   ]
  },
  {
   "cell_type": "code",
   "execution_count": 93,
   "id": "3379c99c",
   "metadata": {},
   "outputs": [
    {
     "data": {
      "text/plain": [
       "True"
      ]
     },
     "execution_count": 93,
     "metadata": {},
     "output_type": "execute_result"
    }
   ],
   "source": [
    "True or True"
   ]
  },
  {
   "cell_type": "code",
   "execution_count": 94,
   "id": "4d0b1ca6",
   "metadata": {},
   "outputs": [
    {
     "data": {
      "text/plain": [
       "True"
      ]
     },
     "execution_count": 94,
     "metadata": {},
     "output_type": "execute_result"
    }
   ],
   "source": [
    "True or False"
   ]
  },
  {
   "cell_type": "code",
   "execution_count": 95,
   "id": "da518838",
   "metadata": {},
   "outputs": [
    {
     "data": {
      "text/plain": [
       "False"
      ]
     },
     "execution_count": 95,
     "metadata": {},
     "output_type": "execute_result"
    }
   ],
   "source": [
    "False or False"
   ]
  },
  {
   "cell_type": "code",
   "execution_count": 96,
   "id": "b15b81b4",
   "metadata": {},
   "outputs": [
    {
     "data": {
      "text/plain": [
       "True"
      ]
     },
     "execution_count": 96,
     "metadata": {},
     "output_type": "execute_result"
    }
   ],
   "source": [
    "True or False or False"
   ]
  },
  {
   "cell_type": "code",
   "execution_count": 97,
   "id": "8c3944b5",
   "metadata": {},
   "outputs": [],
   "source": [
    "# ejercicios con varios and y or"
   ]
  },
  {
   "attachments": {},
   "cell_type": "markdown",
   "id": "8a828379",
   "metadata": {},
   "source": [
    "condición1 and condición2 or condición3 and condición4\n",
    "\n",
    "(condición1 and condición2) or (condición3 and condición4)\n",
    "\n",
    "resultado12                 or       resultado34"
   ]
  },
  {
   "cell_type": "code",
   "execution_count": 98,
   "id": "3b8c48c0",
   "metadata": {},
   "outputs": [
    {
     "data": {
      "text/plain": [
       "True"
      ]
     },
     "execution_count": 98,
     "metadata": {},
     "output_type": "execute_result"
    }
   ],
   "source": [
    "True and False or True and True   # F or T  ===> T"
   ]
  },
  {
   "cell_type": "code",
   "execution_count": 99,
   "id": "f5d2b613",
   "metadata": {},
   "outputs": [
    {
     "data": {
      "text/plain": [
       "True"
      ]
     },
     "execution_count": 99,
     "metadata": {},
     "output_type": "execute_result"
    }
   ],
   "source": [
    "False and False or True and True  # F or T ===> T"
   ]
  },
  {
   "cell_type": "code",
   "execution_count": 100,
   "id": "fdba7f4d",
   "metadata": {},
   "outputs": [
    {
     "data": {
      "text/plain": [
       "False"
      ]
     },
     "execution_count": 100,
     "metadata": {},
     "output_type": "execute_result"
    }
   ],
   "source": [
    "True and False or False and True  # F or F ===> F"
   ]
  },
  {
   "attachments": {},
   "cell_type": "markdown",
   "id": "67458d50",
   "metadata": {},
   "source": [
    "## Ejercicio 1: ejercicio de examen"
   ]
  },
  {
   "cell_type": "code",
   "execution_count": 101,
   "id": "3ee703ba",
   "metadata": {},
   "outputs": [
    {
     "name": "stdout",
     "output_type": "stream",
     "text": [
      "3\n"
     ]
    }
   ],
   "source": [
    "x = True\n",
    "y = False\n",
    "z = False\n",
    " \n",
    "if not x or y:    # False or False        =====> FALSE\n",
    "    print(1)\n",
    "elif not x or not y and z: # False or (True and False)   ====>  FALSE\n",
    "    print(2)\n",
    "elif not x or y or not y and x: # False or False or (True and True)  ====> TRUE\n",
    "    print(3) # esto imprime\n",
    "else:\n",
    "    print(4)"
   ]
  },
  {
   "attachments": {},
   "cell_type": "markdown",
   "id": "917e75c0",
   "metadata": {},
   "source": [
    "## Ejercicio 2"
   ]
  },
  {
   "cell_type": "code",
   "execution_count": 102,
   "id": "47ae4e63",
   "metadata": {},
   "outputs": [
    {
     "name": "stdout",
     "output_type": "stream",
     "text": [
      "2\n"
     ]
    }
   ],
   "source": [
    "x = True\n",
    "y = False\n",
    "z = False\n",
    " \n",
    "if not x or y:    # False or False  ===> FALSE\n",
    "    print(1)\n",
    "elif x and not y or z: # (True and True) or False  ====> TRUE\n",
    "    print(2) # esto imprime\n",
    "elif not x or y or not y and x: # False or False or (True and True)  ===> TRUE\n",
    "    print(3)\n",
    "else:\n",
    "    print(4)"
   ]
  },
  {
   "attachments": {},
   "cell_type": "markdown",
   "id": "f213e6b2",
   "metadata": {},
   "source": [
    "## Ejercicio 3"
   ]
  },
  {
   "cell_type": "code",
   "execution_count": 103,
   "id": "be4c8795",
   "metadata": {},
   "outputs": [
    {
     "name": "stdout",
     "output_type": "stream",
     "text": [
      "2\n"
     ]
    }
   ],
   "source": [
    "x = True\n",
    "y = False\n",
    "z = False\n",
    " \n",
    "if not x or y:    # False or False\n",
    "    print(1)\n",
    "elif x and y or not z: # (True and False) or True\n",
    "    print(2) # esto imprime\n",
    "elif not x or y or not y and x: # False or False or (True and True)\n",
    "    print(3)\n",
    "else:\n",
    "    print(4)"
   ]
  },
  {
   "attachments": {},
   "cell_type": "markdown",
   "id": "110eee5e",
   "metadata": {},
   "source": [
    "## Ejercicio 4"
   ]
  },
  {
   "cell_type": "code",
   "execution_count": 104,
   "id": "d795260b",
   "metadata": {},
   "outputs": [
    {
     "name": "stdout",
     "output_type": "stream",
     "text": [
      "3\n"
     ]
    }
   ],
   "source": [
    "x = True\n",
    "y = False\n",
    "z = False\n",
    " \n",
    "if not x or y:    # False or False      ===> FALSE\n",
    "    print(1)\n",
    "elif x and y or z: # (True and False) or False    ====> FALSE\n",
    "    print(2)\n",
    "elif x and not y or not y and x: # (True and True) or (True and True)\n",
    "    print(3) # esto imprime\n",
    "else:\n",
    "    print(4)"
   ]
  },
  {
   "attachments": {},
   "cell_type": "markdown",
   "id": "31ccb24a",
   "metadata": {},
   "source": [
    "## Ejercicio 5"
   ]
  },
  {
   "cell_type": "code",
   "execution_count": 105,
   "id": "c9c5b89b",
   "metadata": {},
   "outputs": [
    {
     "name": "stdout",
     "output_type": "stream",
     "text": [
      "4\n"
     ]
    }
   ],
   "source": [
    "x = True\n",
    "y = False\n",
    "z = False\n",
    " \n",
    "if not x or y:    # False or False      ===> FALSE\n",
    "    print(1)\n",
    "elif x and y or z: # (True and False) or False    ====> FALSE\n",
    "    print(2)\n",
    "elif x and y or y and x: # (True and False) or (False and True)\n",
    "    print(3)\n",
    "else:\n",
    "    print(4) # esto imprime"
   ]
  },
  {
   "attachments": {},
   "cell_type": "markdown",
   "id": "3c7c5f0f",
   "metadata": {},
   "source": [
    "# Operaciones básicas"
   ]
  },
  {
   "attachments": {},
   "cell_type": "markdown",
   "id": "fc2cd06a",
   "metadata": {},
   "source": [
    "## repaso inicial de la división"
   ]
  },
  {
   "cell_type": "code",
   "execution_count": 106,
   "id": "2b8553bd",
   "metadata": {},
   "outputs": [
    {
     "data": {
      "text/plain": [
       "1.5"
      ]
     },
     "execution_count": 106,
     "metadata": {},
     "output_type": "execute_result"
    }
   ],
   "source": [
    "3/2  # división con decimales (EL RESULTADO SIEMPRE ES DECIMAL)"
   ]
  },
  {
   "cell_type": "code",
   "execution_count": 107,
   "id": "19af8de7",
   "metadata": {},
   "outputs": [
    {
     "data": {
      "text/plain": [
       "1"
      ]
     },
     "execution_count": 107,
     "metadata": {},
     "output_type": "execute_result"
    }
   ],
   "source": [
    "3 // 2  # cociente entero ( EL RESULTADO SIEMPRE ES ENTERO)"
   ]
  },
  {
   "cell_type": "code",
   "execution_count": 108,
   "id": "d7dcc1e7",
   "metadata": {},
   "outputs": [
    {
     "data": {
      "text/plain": [
       "1"
      ]
     },
     "execution_count": 108,
     "metadata": {},
     "output_type": "execute_result"
    }
   ],
   "source": [
    "3 % 2   # resto de la división"
   ]
  },
  {
   "cell_type": "code",
   "execution_count": 109,
   "id": "03a20b44",
   "metadata": {},
   "outputs": [
    {
     "data": {
      "text/plain": [
       "3.3333333333333335"
      ]
     },
     "execution_count": 109,
     "metadata": {},
     "output_type": "execute_result"
    }
   ],
   "source": [
    "10/3"
   ]
  },
  {
   "cell_type": "code",
   "execution_count": 110,
   "id": "38c1b6ce",
   "metadata": {},
   "outputs": [
    {
     "data": {
      "text/plain": [
       "3"
      ]
     },
     "execution_count": 110,
     "metadata": {},
     "output_type": "execute_result"
    }
   ],
   "source": [
    "10//3"
   ]
  },
  {
   "cell_type": "code",
   "execution_count": 111,
   "id": "5f11c1ab",
   "metadata": {},
   "outputs": [
    {
     "data": {
      "text/plain": [
       "1"
      ]
     },
     "execution_count": 111,
     "metadata": {},
     "output_type": "execute_result"
    }
   ],
   "source": [
    "10%3"
   ]
  },
  {
   "cell_type": "code",
   "execution_count": 112,
   "id": "aa4e7b3c",
   "metadata": {},
   "outputs": [
    {
     "data": {
      "text/plain": [
       "5.0"
      ]
     },
     "execution_count": 112,
     "metadata": {},
     "output_type": "execute_result"
    }
   ],
   "source": [
    "10/2   # ojo, el resultado es decimal, porque SIEMPRE es decimal"
   ]
  },
  {
   "cell_type": "code",
   "execution_count": 113,
   "id": "a35a9d55",
   "metadata": {},
   "outputs": [
    {
     "data": {
      "text/plain": [
       "16"
      ]
     },
     "execution_count": 113,
     "metadata": {},
     "output_type": "execute_result"
    }
   ],
   "source": [
    "4**2  # 4 ELEVADO AL CUADRADO"
   ]
  },
  {
   "cell_type": "code",
   "execution_count": 114,
   "id": "7dba2f1d",
   "metadata": {},
   "outputs": [
    {
     "data": {
      "text/plain": [
       "16.81"
      ]
     },
     "execution_count": 114,
     "metadata": {},
     "output_type": "execute_result"
    }
   ],
   "source": [
    "4.1 ** 2"
   ]
  },
  {
   "attachments": {},
   "cell_type": "markdown",
   "id": "87df3007",
   "metadata": {},
   "source": [
    "## ejercicio de examen resuelto paso a paso"
   ]
  },
  {
   "cell_type": "code",
   "execution_count": 115,
   "id": "1b1f67ab",
   "metadata": {},
   "outputs": [
    {
     "name": "stdout",
     "output_type": "stream",
     "text": [
      "17.5\n"
     ]
    }
   ],
   "source": [
    "x = 1 / 2 + 3 // 3 + 4 ** 2\n",
    "\n",
    "#    0.5  +   1     +  16     # 17.5\n",
    "print(x)"
   ]
  },
  {
   "attachments": {},
   "cell_type": "markdown",
   "id": "f3a14095",
   "metadata": {},
   "source": [
    "## ejemplo similar y de examen también (prototipo)"
   ]
  },
  {
   "cell_type": "code",
   "execution_count": 116,
   "id": "ea2a42e7",
   "metadata": {},
   "outputs": [
    {
     "name": "stdout",
     "output_type": "stream",
     "text": [
      "18.0\n"
     ]
    }
   ],
   "source": [
    "y = 2 / 2 + 3 // 3 + 4 ** 2\n",
    "print(y)\n",
    "\n",
    "# en el anterior fragmento de código el resultado es..\n",
    "# A. 18\n",
    "# B. 18.0\n",
    "# C. 17\n",
    "# D. ninguna de las anteriores"
   ]
  },
  {
   "cell_type": "code",
   "execution_count": 117,
   "id": "157b90ac",
   "metadata": {},
   "outputs": [
    {
     "data": {
      "text/plain": [
       "18.0"
      ]
     },
     "execution_count": 117,
     "metadata": {},
     "output_type": "execute_result"
    }
   ],
   "source": [
    "# el ejercicio paso a paso\n",
    "y = 2 / 2 + 3 // 3 + 4 ** 2\n",
    "y\n",
    "#  y = (2 / 2) + (3 // 3) + (4 ** 2)\n",
    "#  y =   1.0   +    1     +    16\n",
    "#  y =   18.0\n",
    "\n",
    "# CUANDO 1 DE ELLOS ES DECIMAL, EN UNA OPERACIÓN (+ EN ESTE CASO)\n",
    "# CONVIERTE EN DECIMAL A TODO EL RESULTADO"
   ]
  },
  {
   "attachments": {},
   "cell_type": "markdown",
   "id": "92266975",
   "metadata": {},
   "source": [
    "## OTROS EJEMPLOS.."
   ]
  },
  {
   "cell_type": "code",
   "execution_count": 118,
   "id": "2fa8280e",
   "metadata": {},
   "outputs": [
    {
     "data": {
      "text/plain": [
       "(0.5, 1.5, 1, 16, 0)"
      ]
     },
     "execution_count": 118,
     "metadata": {},
     "output_type": "execute_result"
    }
   ],
   "source": [
    "1/2, 3/2, 3//3, 4**2, 1//2"
   ]
  },
  {
   "cell_type": "code",
   "execution_count": 119,
   "id": "05c39024",
   "metadata": {},
   "outputs": [
    {
     "name": "stdout",
     "output_type": "stream",
     "text": [
      "división: 1.6666666666666667 , cociente:  1 , resto: 2\n"
     ]
    }
   ],
   "source": [
    "print('división:', 5/3, ', cociente: ', 5//3, ', resto:', 5%3)"
   ]
  },
  {
   "cell_type": "code",
   "execution_count": 120,
   "id": "8c40e34c",
   "metadata": {},
   "outputs": [
    {
     "data": {
      "text/plain": [
       "17.5"
      ]
     },
     "execution_count": 120,
     "metadata": {},
     "output_type": "execute_result"
    }
   ],
   "source": [
    "# paso a paso\n",
    "\n",
    "x = 1 / 2 + 3 // 3 + 4 ** 2\n",
    "x\n",
    "# x = (1 / 2) + (3 // 3) + (4 ** 2)\n",
    "# x =  0.5   +    1     +    16    = 17.5"
   ]
  },
  {
   "attachments": {},
   "cell_type": "markdown",
   "id": "bdcf8588",
   "metadata": {},
   "source": [
    "****"
   ]
  },
  {
   "attachments": {},
   "cell_type": "markdown",
   "id": "c490487a",
   "metadata": {},
   "source": [
    "# Asignación múltiple de variables"
   ]
  },
  {
   "cell_type": "code",
   "execution_count": 121,
   "id": "db8209ba",
   "metadata": {},
   "outputs": [],
   "source": [
    "## ejemplo inicial"
   ]
  },
  {
   "cell_type": "code",
   "execution_count": 122,
   "id": "640d924f",
   "metadata": {},
   "outputs": [
    {
     "name": "stdout",
     "output_type": "stream",
     "text": [
      "10\n",
      "20\n"
     ]
    }
   ],
   "source": [
    "x = 10\n",
    "y = 20\n",
    "print(x)\n",
    "print(y)"
   ]
  },
  {
   "cell_type": "code",
   "execution_count": 123,
   "id": "1c602f60",
   "metadata": {},
   "outputs": [
    {
     "name": "stdout",
     "output_type": "stream",
     "text": [
      "15\n",
      "25\n"
     ]
    }
   ],
   "source": [
    "x,y = 15,25\n",
    "print(x)\n",
    "print(y)"
   ]
  },
  {
   "cell_type": "code",
   "execution_count": 124,
   "id": "59b69970",
   "metadata": {},
   "outputs": [
    {
     "name": "stdout",
     "output_type": "stream",
     "text": [
      "0\n",
      "15\n",
      "25\n",
      "-4\n",
      "100\n"
     ]
    }
   ],
   "source": [
    "x, y, z, t, w  = 0, 15, 25, -4, 100\n",
    "print(x)\n",
    "print(y)\n",
    "print(z)\n",
    "print(t)\n",
    "print(w)"
   ]
  },
  {
   "attachments": {},
   "cell_type": "markdown",
   "id": "809a88e2",
   "metadata": {},
   "source": [
    "## ejercicio de examen"
   ]
  },
  {
   "cell_type": "code",
   "execution_count": 125,
   "id": "f6566b39",
   "metadata": {},
   "outputs": [
    {
     "data": {
      "text/plain": [
       "(10, -20)"
      ]
     },
     "execution_count": 125,
     "metadata": {},
     "output_type": "execute_result"
    }
   ],
   "source": [
    "t,u = 10,-20\n",
    "t,u"
   ]
  },
  {
   "cell_type": "code",
   "execution_count": 126,
   "id": "c1b55cea",
   "metadata": {},
   "outputs": [
    {
     "name": "stdout",
     "output_type": "stream",
     "text": [
      "1 1 2\n"
     ]
    }
   ],
   "source": [
    "# cuál es el resultado? \n",
    "# A) 1 1 1\n",
    "# B) 1 1 2\n",
    "# C) Ninguna de las anteriores\n",
    "# D) El código es erróneo\n",
    "\n",
    "x = 1\n",
    "y = 2\n",
    "\n",
    "x, y, z = x, x, y \n",
    "# x,y,z = 1, 1, 2\n",
    "# esto lo que realmente quiere decir es que..\n",
    "# x = 1 ====================================================> x = 1\n",
    "# y = 1\n",
    "# z = 2\n",
    "# es decir se lo hemos asignado en una sola línea\n",
    "\n",
    "z, y, z = x, y, z   \n",
    "# z,y,z = 1, 1, 2\n",
    "# de igual manera que justo arriba, esto significa que..\n",
    "# z = 1\n",
    "# y = 1 ====================================================> y = 1\n",
    "# z = 2 ====================================================> z = 2\n",
    "\n",
    "print(x, y, z)     # 1 1 2 "
   ]
  },
  {
   "attachments": {},
   "cell_type": "markdown",
   "id": "5efa7e40",
   "metadata": {},
   "source": [
    "****"
   ]
  },
  {
   "attachments": {},
   "cell_type": "markdown",
   "id": "86facd56",
   "metadata": {},
   "source": [
    "# argumentos en diferentes posiciones"
   ]
  },
  {
   "cell_type": "code",
   "execution_count": 127,
   "id": "28e7f5ed",
   "metadata": {},
   "outputs": [
    {
     "name": "stdout",
     "output_type": "stream",
     "text": [
      "9\n"
     ]
    }
   ],
   "source": [
    "def fun(x, y, z):                 \n",
    "    # x = 0, y = 3, z = 1\n",
    "    return x + 2 * y + 3 * z  \n",
    "       #   0 + (2 * 3) + (3 * 1)\n",
    "       #   0 +  6      +    3\n",
    "       # 9\n",
    "    \n",
    "print(fun(0, z=1, y=3))   # ==> 9\n",
    "\n",
    "# duda? es 9 o no funciona ==> La conclusión es que sí que funciona\n",
    "\n",
    "# CONCEPTO:\n",
    "# PODEMOS (AUNQUE NO DEBEMOS) modificar el orden de las variables en la llamada\n",
    "# con respecto a la definición de la propia función\n",
    "# (para ello, habría que indicar qué variable tiene qué valor)"
   ]
  },
  {
   "cell_type": "code",
   "execution_count": 128,
   "id": "85f49b3f",
   "metadata": {},
   "outputs": [
    {
     "name": "stdout",
     "output_type": "stream",
     "text": [
      "DENTRO DE LA FUNCIÓN: x, y, z, son:  0 3 1\n",
      "9\n"
     ]
    }
   ],
   "source": [
    "def fun(x, y, z):\n",
    "    print('DENTRO DE LA FUNCIÓN: x, y, z, son: ', x,y,z)  # 0,3,1\n",
    "    # aunque esté en diferentes posiciones lo coge igualmente\n",
    "    return x + 2 * y + 3 * z   # 0 + 2*3 + 3*1 = 0+6+3 = 9\n",
    "\n",
    "    \n",
    "print(fun(0, z=1, y=3))"
   ]
  },
  {
   "attachments": {},
   "cell_type": "markdown",
   "id": "ff5a777e",
   "metadata": {},
   "source": [
    "# print y los separadores"
   ]
  },
  {
   "cell_type": "code",
   "execution_count": 129,
   "id": "a619d218",
   "metadata": {},
   "outputs": [
    {
     "name": "stdout",
     "output_type": "stream",
     "text": [
      "1 1 1\n"
     ]
    }
   ],
   "source": [
    "z = y = x = 1\n",
    "print(x, y, z)"
   ]
  },
  {
   "attachments": {},
   "cell_type": "markdown",
   "id": "3006c03b",
   "metadata": {},
   "source": [
    "## ejemplo 1"
   ]
  },
  {
   "cell_type": "code",
   "execution_count": 130,
   "id": "8128151d",
   "metadata": {},
   "outputs": [
    {
     "name": "stdout",
     "output_type": "stream",
     "text": [
      "111\n"
     ]
    }
   ],
   "source": [
    "# ¿ cuál es el resultado del siguiente fragmento de código?\n",
    "# A) 1 1 1\n",
    "# B) 111\n",
    "# C) ninguna de las anteriores\n",
    "# D) el código es erróneo\n",
    "\n",
    "z = y = x = 1\n",
    "print(x, y, z, sep='')"
   ]
  },
  {
   "attachments": {},
   "cell_type": "markdown",
   "id": "77269ef0",
   "metadata": {},
   "source": [
    "## ejemplo 2"
   ]
  },
  {
   "cell_type": "code",
   "execution_count": 131,
   "id": "4f3755e7",
   "metadata": {},
   "outputs": [
    {
     "name": "stdout",
     "output_type": "stream",
     "text": [
      "1 1 1\n"
     ]
    }
   ],
   "source": [
    "z = y = x = 1\n",
    "print(x, y, z, sep=' ')"
   ]
  },
  {
   "attachments": {},
   "cell_type": "markdown",
   "id": "1c2f317e",
   "metadata": {},
   "source": [
    "## ejemplo 3"
   ]
  },
  {
   "cell_type": "code",
   "execution_count": 132,
   "id": "4370bbd7",
   "metadata": {},
   "outputs": [
    {
     "name": "stdout",
     "output_type": "stream",
     "text": [
      "x: 1\n",
      "y: 1\n",
      "z: 1\n",
      "\n",
      "\n",
      "1*1*1\n"
     ]
    }
   ],
   "source": [
    "# cuál es la salida aqui?\n",
    "# A) 1*1*1\n",
    "# B) *1*1*1*\n",
    "# C) ninguna de las anteriores\n",
    "# D) el código es erróneo\n",
    "\n",
    "z = y = x = 1\n",
    "print('x:', x)\n",
    "print('y:', y)\n",
    "print('z:', z)\n",
    "print(\"\\n\")\n",
    "print(x, y, z, sep='*')"
   ]
  },
  {
   "attachments": {},
   "cell_type": "markdown",
   "id": "99aa34da",
   "metadata": {},
   "source": [
    "****"
   ]
  },
  {
   "attachments": {},
   "cell_type": "markdown",
   "id": "08053e8c",
   "metadata": {},
   "source": [
    "# pop en una lista"
   ]
  },
  {
   "cell_type": "code",
   "execution_count": 133,
   "id": "7eae2bfa",
   "metadata": {},
   "outputs": [
    {
     "name": "stdout",
     "output_type": "stream",
     "text": [
      "[3, 4, 20, 5, 25, 1, 3]\n"
     ]
    }
   ],
   "source": [
    "nums = [3, 4, 5, 20, 5, 25, 1, 3]\n",
    "nums.pop(2)                        # borra el elemento en una posición concreta\n",
    "print(nums)\n",
    "\n",
    "# [3, 4, 5, 20, 5, 25, 1, 3]\n",
    "# [3, 4,  , 20, 5, 25, 1, 3]"
   ]
  },
  {
   "attachments": {},
   "cell_type": "markdown",
   "id": "a45d0508",
   "metadata": {},
   "source": [
    "****"
   ]
  },
  {
   "attachments": {},
   "cell_type": "markdown",
   "id": "ea5bb633",
   "metadata": {},
   "source": [
    "# División en Python"
   ]
  },
  {
   "cell_type": "code",
   "execution_count": 134,
   "id": "256ec1f4",
   "metadata": {},
   "outputs": [
    {
     "name": "stdout",
     "output_type": "stream",
     "text": [
      "división: 1.6666666666666667\n",
      "cociente: 1\n",
      "resto: 2\n"
     ]
    }
   ],
   "source": [
    "x = 5\n",
    "y = 3\n",
    "\n",
    "print('división:', x / y)   # 5/3     = 1.66\n",
    "print('cociente:', x // y)  # 3 * (1) = 3\n",
    "print('resto:',    x % y)   # 3 + (2) = 5"
   ]
  },
  {
   "cell_type": "code",
   "execution_count": 135,
   "id": "a3ef06f6",
   "metadata": {},
   "outputs": [
    {
     "data": {
      "text/plain": [
       "(float, int, int)"
      ]
     },
     "execution_count": 135,
     "metadata": {},
     "output_type": "execute_result"
    }
   ],
   "source": [
    "type(x / y), type(x // y), type(x % y)"
   ]
  },
  {
   "cell_type": "code",
   "execution_count": 136,
   "id": "c93b6960",
   "metadata": {},
   "outputs": [
    {
     "data": {
      "text/plain": [
       "(float, 3.0)"
      ]
     },
     "execution_count": 136,
     "metadata": {},
     "output_type": "execute_result"
    }
   ],
   "source": [
    "type(6 / 2), 6 / 2"
   ]
  },
  {
   "attachments": {},
   "cell_type": "markdown",
   "id": "7bc9c4ae",
   "metadata": {},
   "source": [
    "****"
   ]
  },
  {
   "attachments": {},
   "cell_type": "markdown",
   "id": "47e67c58",
   "metadata": {},
   "source": [
    "# Ejemplo con diccionarios"
   ]
  },
  {
   "attachments": {},
   "cell_type": "markdown",
   "id": "b3dc6cf8",
   "metadata": {},
   "source": [
    "## diciconarios: repaso previo"
   ]
  },
  {
   "cell_type": "code",
   "execution_count": 137,
   "id": "4dea5732",
   "metadata": {},
   "outputs": [
    {
     "data": {
      "text/plain": [
       "0"
      ]
     },
     "execution_count": 137,
     "metadata": {},
     "output_type": "execute_result"
    }
   ],
   "source": [
    "L = []\n",
    "len(L)"
   ]
  },
  {
   "cell_type": "code",
   "execution_count": 138,
   "id": "acecd08f",
   "metadata": {},
   "outputs": [
    {
     "name": "stdout",
     "output_type": "stream",
     "text": [
      "dct: {}\n",
      "len(dct): 0\n"
     ]
    }
   ],
   "source": [
    "dct = {}\n",
    "print('dct:', dct)\n",
    "print('len(dct):', len(dct))"
   ]
  },
  {
   "cell_type": "code",
   "execution_count": 139,
   "id": "d23e4165",
   "metadata": {},
   "outputs": [
    {
     "data": {
      "text/plain": [
       "{'clave1': [10, 20, 30], 'clave2': [15, 25, 35]}"
      ]
     },
     "execution_count": 139,
     "metadata": {},
     "output_type": "execute_result"
    }
   ],
   "source": [
    "# {'key1': value1, 'key2': value2}\n",
    "\n",
    "diccionario1 = {'clave1': [10,20,30], 'clave2': [15,25,35]}\n",
    "diccionario1"
   ]
  },
  {
   "cell_type": "code",
   "execution_count": 140,
   "id": "eed800bc",
   "metadata": {},
   "outputs": [
    {
     "data": {
      "text/html": [
       "<div>\n",
       "<style scoped>\n",
       "    .dataframe tbody tr th:only-of-type {\n",
       "        vertical-align: middle;\n",
       "    }\n",
       "\n",
       "    .dataframe tbody tr th {\n",
       "        vertical-align: top;\n",
       "    }\n",
       "\n",
       "    .dataframe thead th {\n",
       "        text-align: right;\n",
       "    }\n",
       "</style>\n",
       "<table border=\"1\" class=\"dataframe\">\n",
       "  <thead>\n",
       "    <tr style=\"text-align: right;\">\n",
       "      <th></th>\n",
       "      <th>clave1</th>\n",
       "      <th>clave2</th>\n",
       "    </tr>\n",
       "  </thead>\n",
       "  <tbody>\n",
       "    <tr>\n",
       "      <th>0</th>\n",
       "      <td>10</td>\n",
       "      <td>15</td>\n",
       "    </tr>\n",
       "    <tr>\n",
       "      <th>1</th>\n",
       "      <td>20</td>\n",
       "      <td>25</td>\n",
       "    </tr>\n",
       "    <tr>\n",
       "      <th>2</th>\n",
       "      <td>30</td>\n",
       "      <td>35</td>\n",
       "    </tr>\n",
       "  </tbody>\n",
       "</table>\n",
       "</div>"
      ],
      "text/plain": [
       "   clave1  clave2\n",
       "0      10      15\n",
       "1      20      25\n",
       "2      30      35"
      ]
     },
     "execution_count": 140,
     "metadata": {},
     "output_type": "execute_result"
    }
   ],
   "source": [
    "import pandas as pd\n",
    "\n",
    "df = pd.DataFrame({'clave1': (10,20,30), 'clave2': (15,25,35)})\n",
    "df"
   ]
  },
  {
   "cell_type": "code",
   "execution_count": 141,
   "id": "f1948750",
   "metadata": {},
   "outputs": [
    {
     "data": {
      "text/plain": [
       "0    10\n",
       "1    20\n",
       "2    30\n",
       "Name: clave1, dtype: int64"
      ]
     },
     "execution_count": 141,
     "metadata": {},
     "output_type": "execute_result"
    }
   ],
   "source": [
    "df['clave1']"
   ]
  },
  {
   "cell_type": "code",
   "execution_count": 142,
   "id": "d34df1c0",
   "metadata": {},
   "outputs": [
    {
     "data": {
      "text/html": [
       "<div>\n",
       "<style scoped>\n",
       "    .dataframe tbody tr th:only-of-type {\n",
       "        vertical-align: middle;\n",
       "    }\n",
       "\n",
       "    .dataframe tbody tr th {\n",
       "        vertical-align: top;\n",
       "    }\n",
       "\n",
       "    .dataframe thead th {\n",
       "        text-align: right;\n",
       "    }\n",
       "</style>\n",
       "<table border=\"1\" class=\"dataframe\">\n",
       "  <thead>\n",
       "    <tr style=\"text-align: right;\">\n",
       "      <th></th>\n",
       "      <th>clave1</th>\n",
       "      <th>clave2</th>\n",
       "      <th>clave3</th>\n",
       "    </tr>\n",
       "  </thead>\n",
       "  <tbody>\n",
       "    <tr>\n",
       "      <th>0</th>\n",
       "      <td>10</td>\n",
       "      <td>15</td>\n",
       "      <td>12</td>\n",
       "    </tr>\n",
       "    <tr>\n",
       "      <th>1</th>\n",
       "      <td>20</td>\n",
       "      <td>25</td>\n",
       "      <td>22</td>\n",
       "    </tr>\n",
       "    <tr>\n",
       "      <th>2</th>\n",
       "      <td>30</td>\n",
       "      <td>35</td>\n",
       "      <td>32</td>\n",
       "    </tr>\n",
       "  </tbody>\n",
       "</table>\n",
       "</div>"
      ],
      "text/plain": [
       "   clave1  clave2  clave3\n",
       "0      10      15      12\n",
       "1      20      25      22\n",
       "2      30      35      32"
      ]
     },
     "execution_count": 142,
     "metadata": {},
     "output_type": "execute_result"
    }
   ],
   "source": [
    "df['clave3'] = [12,22,32]\n",
    "df"
   ]
  },
  {
   "cell_type": "code",
   "execution_count": 143,
   "id": "c67ad331",
   "metadata": {},
   "outputs": [
    {
     "data": {
      "text/plain": [
       "{'clave1': [10, 20, 30], 'clave2': [15, 25, 35]}"
      ]
     },
     "execution_count": 143,
     "metadata": {},
     "output_type": "execute_result"
    }
   ],
   "source": [
    "# vuelvo a imprimir para verlo\n",
    "diccionario1"
   ]
  },
  {
   "cell_type": "code",
   "execution_count": 144,
   "id": "e2df1d80",
   "metadata": {},
   "outputs": [
    {
     "data": {
      "text/plain": [
       "[10, 20, 30]"
      ]
     },
     "execution_count": 144,
     "metadata": {},
     "output_type": "execute_result"
    }
   ],
   "source": [
    "diccionario1['clave1']"
   ]
  },
  {
   "cell_type": "code",
   "execution_count": 145,
   "id": "0d4e27d8",
   "metadata": {},
   "outputs": [
    {
     "data": {
      "text/plain": [
       "[15, 25, 35]"
      ]
     },
     "execution_count": 145,
     "metadata": {},
     "output_type": "execute_result"
    }
   ],
   "source": [
    "diccionario1['clave2']"
   ]
  },
  {
   "cell_type": "code",
   "execution_count": 146,
   "id": "5d3020c1",
   "metadata": {},
   "outputs": [
    {
     "data": {
      "text/plain": [
       "10"
      ]
     },
     "execution_count": 146,
     "metadata": {},
     "output_type": "execute_result"
    }
   ],
   "source": [
    "diccionario1['clave1'][0]"
   ]
  },
  {
   "cell_type": "code",
   "execution_count": 147,
   "id": "2705e31e",
   "metadata": {},
   "outputs": [
    {
     "data": {
      "text/plain": [
       "{'clave1': [1000, 20, 30], 'clave2': [15, 25, 35]}"
      ]
     },
     "execution_count": 147,
     "metadata": {},
     "output_type": "execute_result"
    }
   ],
   "source": [
    "diccionario1['clave1'][0] = 1000\n",
    "diccionario1"
   ]
  },
  {
   "cell_type": "code",
   "execution_count": 148,
   "id": "c4dfe876",
   "metadata": {},
   "outputs": [],
   "source": [
    "# otro pequeño ejercicio con explicaciones, previo a los ejemplos"
   ]
  },
  {
   "cell_type": "code",
   "execution_count": 149,
   "id": "c5263ce5",
   "metadata": {},
   "outputs": [
    {
     "data": {
      "text/plain": [
       "{'key1': (1, 2), 'key2': (2, 1)}"
      ]
     },
     "execution_count": 149,
     "metadata": {},
     "output_type": "execute_result"
    }
   ],
   "source": [
    "dct = {}\n",
    "dct['key1'] = (1, 2)\n",
    "dct['key2'] = (2, 1)\n",
    "dct"
   ]
  },
  {
   "attachments": {},
   "cell_type": "markdown",
   "id": "7e9de824",
   "metadata": {},
   "source": [
    "## diccionarios: ejemplo 1"
   ]
  },
  {
   "cell_type": "code",
   "execution_count": 150,
   "id": "7e9642c4",
   "metadata": {},
   "outputs": [
    {
     "name": "stdout",
     "output_type": "stream",
     "text": [
      "el diccionario venía vacío\n",
      "el diccionario ahora tiene elementos, y son: {'clave1': (1, 2), 'clave2': (2, 1)}\n",
      "ahora imprimo: primero valor 1 y valor 2\n",
      "y dentro de cada uno SEÑALO index 0 de esa tupla e index 1\n",
      "dct y clave1 nos dan el valor 1: (1, 2)\n",
      "index 0:  1\n",
      "index 1:  2\n",
      "dct y clave 2 nos dan el valor 2: (2, 1)\n",
      "index 0:  2\n",
      "index 1:  1\n",
      "dict_keys(['clave1', 'clave2'])\n"
     ]
    }
   ],
   "source": [
    "dct = {}\n",
    "print('el diccionario venía vacío')\n",
    "dct['clave1'] = (1, 2)\n",
    "dct['clave2'] = (2, 1)\n",
    "\n",
    "print('el diccionario ahora tiene elementos, y son:', dct)\n",
    "# {'1': (1,2), \n",
    "#  '2': (2,1)}\n",
    "\n",
    "print('ahora imprimo: primero valor 1 y valor 2')\n",
    "print('y dentro de cada uno SEÑALO index 0 de esa tupla e index 1')\n",
    "print('dct y clave1 nos dan el valor 1:', dct['clave1'])\n",
    "print('index 0: ', dct['clave1'][0])\n",
    "print('index 1: ', dct['clave1'][1])\n",
    "\n",
    "print('dct y clave 2 nos dan el valor 2:', dct['clave2'])\n",
    "print('index 0: ', dct['clave2'][0])\n",
    "print('index 1: ', dct['clave2'][1])\n",
    "\n",
    "\n",
    "print(dct.keys())"
   ]
  },
  {
   "attachments": {},
   "cell_type": "markdown",
   "id": "64ac0dfe",
   "metadata": {},
   "source": [
    "## diccionarios: ejemplo 2 (el ejercicio del examen)"
   ]
  },
  {
   "cell_type": "code",
   "execution_count": 151,
   "id": "fa241ade",
   "metadata": {},
   "outputs": [
    {
     "name": "stdout",
     "output_type": "stream",
     "text": [
      "{'1': (1, 2), '2': (2, 1)}\n",
      "dict_keys(['1', '2'])\n",
      "21"
     ]
    }
   ],
   "source": [
    "dct = {}\n",
    "dct['1'] = (1, 2)\n",
    "dct['2'] = (2, 1)\n",
    "print(dct)\n",
    "\n",
    "# {'1': (1,2), \n",
    "#  '2': (2,1)}\n",
    "\n",
    "print(dct.keys())\n",
    "\n",
    "for x in dct.keys():\n",
    "    print(dct[x][1], end='')\n",
    "    # dct[\"1\"][1] --> 2\n",
    "    # dct['2'][1] --> 1\n",
    "    # 21"
   ]
  },
  {
   "attachments": {},
   "cell_type": "markdown",
   "id": "5ddc5b44",
   "metadata": {},
   "source": [
    "## diccionarios: ejemplo 3"
   ]
  },
  {
   "cell_type": "code",
   "execution_count": 152,
   "id": "9ae0d72f",
   "metadata": {},
   "outputs": [
    {
     "name": "stdout",
     "output_type": "stream",
     "text": [
      "2\n",
      "1\n"
     ]
    }
   ],
   "source": [
    "# otro ejemplo, donde podemos ver que primero imprime el 2, después el 1\n",
    "\n",
    "dct = {}\n",
    "dct['1'] = (1, 2)\n",
    "dct['2'] = (2, 1)\n",
    "\n",
    "# {'1': (1,2), \n",
    "#  '2': (2,1)}\n",
    "\n",
    "for x in dct.keys():\n",
    "    print(dct[x][1])"
   ]
  },
  {
   "attachments": {},
   "cell_type": "markdown",
   "id": "b45dd59c",
   "metadata": {},
   "source": [
    "****"
   ]
  },
  {
   "attachments": {},
   "cell_type": "markdown",
   "id": "a5e464f7",
   "metadata": {},
   "source": [
    "# string a lista"
   ]
  },
  {
   "cell_type": "code",
   "execution_count": 153,
   "id": "9275fda8",
   "metadata": {},
   "outputs": [
    {
     "name": "stdout",
     "output_type": "stream",
     "text": [
      "['h', 'e', 'l', 'l', 'o']\n"
     ]
    }
   ],
   "source": [
    "print(list('hello'))"
   ]
  },
  {
   "attachments": {},
   "cell_type": "markdown",
   "id": "7cd27a1b",
   "metadata": {},
   "source": [
    "****"
   ]
  },
  {
   "attachments": {},
   "cell_type": "markdown",
   "id": "863f3828",
   "metadata": {},
   "source": [
    "# Ejemplo con funciones"
   ]
  },
  {
   "cell_type": "code",
   "execution_count": 154,
   "id": "b65e72a2",
   "metadata": {},
   "outputs": [
    {
     "name": "stdout",
     "output_type": "stream",
     "text": [
      "p1 y p2 iniciales: 3 [1, 2, 3]\n",
      "p1 y p2 finales: 1 [42, 2, 3]\n",
      "\n",
      "\n",
      "x e y después de la función: 3 [42, 2, 3]\n",
      "ahora x e y[0]: 3 42\n"
     ]
    }
   ],
   "source": [
    "def func(p1, p2):\n",
    "    print('p1 y p2 iniciales:', p1, p2)\n",
    "    p1 = 1\n",
    "    p2[0] = 42\n",
    "    print('p1 y p2 finales:', p1, p2) \n",
    "\n",
    "# --------------------------------------------\n",
    "x = 3\n",
    "y = [1, 2, 3]\n",
    " \n",
    "func(x, y)       # func(3, [1,2,3])     \n",
    "# ---------------------------------------------\n",
    "\n",
    "print(\"\\n\")\n",
    "\n",
    "print('x e y después de la función:', x, y) \n",
    "\n",
    "print('ahora x e y[0]:', x, y[0])   \n",
    "\n",
    "\n",
    "# ----\n",
    "# las listas se pueden modificar."
   ]
  },
  {
   "attachments": {},
   "cell_type": "markdown",
   "id": "ea880855",
   "metadata": {},
   "source": [
    "****"
   ]
  },
  {
   "attachments": {},
   "cell_type": "markdown",
   "id": "6cb15625",
   "metadata": {},
   "source": [
    "# float de un string"
   ]
  },
  {
   "cell_type": "code",
   "execution_count": 155,
   "id": "4a94b7b2",
   "metadata": {},
   "outputs": [
    {
     "name": "stdout",
     "output_type": "stream",
     "text": [
      "1.3\n"
     ]
    }
   ],
   "source": [
    "print(float('1.3'))"
   ]
  },
  {
   "attachments": {},
   "cell_type": "markdown",
   "id": "cd799b16",
   "metadata": {},
   "source": [
    "****"
   ]
  },
  {
   "attachments": {},
   "cell_type": "markdown",
   "id": "f099bda9",
   "metadata": {},
   "source": [
    "# try except algunos ejemplos"
   ]
  },
  {
   "attachments": {},
   "cell_type": "markdown",
   "id": "b70ad104",
   "metadata": {},
   "source": [
    "## excepciones: ejemplo 1"
   ]
  },
  {
   "cell_type": "code",
   "execution_count": 156,
   "id": "ceadda9f",
   "metadata": {},
   "outputs": [
    {
     "name": "stdin",
     "output_type": "stream",
     "text": [
      "Enter the first value:  kangaroo\n",
      "Enter the second value:  0\n"
     ]
    },
    {
     "name": "stdout",
     "output_type": "stream",
     "text": [
      "a: 8\n",
      "b: 2\n",
      "4.0\n"
     ]
    }
   ],
   "source": [
    "try:\n",
    "    first_prompt = input(\"Enter the first value: \")     # kangaroo\n",
    "    a = len(first_prompt)                               # len(kangaroo) = 8\n",
    "    second_prompt = input(\"Enter the second value: \")   # 0\n",
    "    b = len(second_prompt) * 2                          # 2*len(0) = 2*1 = 2\n",
    "    print('a:', a)\n",
    "    print('b:', b)\n",
    "    print(a/b)                                          # 8/2 = 4\n",
    "except ZeroDivisionError:\n",
    "    print(\"Do not divide by zero!\")\n",
    "except ValueError:\n",
    "    print(\"Wrong value.\")\n",
    "except:\n",
    "    print(\"Error.Error.Error.\")"
   ]
  },
  {
   "attachments": {},
   "cell_type": "markdown",
   "id": "a155ff27",
   "metadata": {},
   "source": [
    "## excepciones: ejemplo 2"
   ]
  },
  {
   "cell_type": "code",
   "execution_count": 157,
   "id": "0916aff4",
   "metadata": {},
   "outputs": [
    {
     "name": "stdin",
     "output_type": "stream",
     "text": [
      "Enter the first value:  kangaroo\n",
      "Enter the second value:  0\n"
     ]
    },
    {
     "name": "stdout",
     "output_type": "stream",
     "text": [
      "Error.Error.Error.\n"
     ]
    }
   ],
   "source": [
    "try:\n",
    "    first_prompt = input(\"Enter the first value: \")     # kangaroo\n",
    "    a = first_prompt\n",
    "    second_prompt = input(\"Enter the second value: \")   # 0\n",
    "    b = second_prompt\n",
    "    print(a/b)\n",
    "except ZeroDivisionError:\n",
    "    print(\"Do not divide by zero!\")\n",
    "except ValueError:\n",
    "    print(\"Wrong value.\")\n",
    "except:\n",
    "    print(\"Error.Error.Error.\")\n"
   ]
  },
  {
   "attachments": {},
   "cell_type": "markdown",
   "id": "da0cc779",
   "metadata": {},
   "source": [
    "## excepciones: ejemplo 3"
   ]
  },
  {
   "cell_type": "code",
   "execution_count": 158,
   "id": "6b506167",
   "metadata": {},
   "outputs": [
    {
     "name": "stdin",
     "output_type": "stream",
     "text": [
      "Enter the first value:  10\n",
      "Enter the second value:  0\n"
     ]
    },
    {
     "name": "stdout",
     "output_type": "stream",
     "text": [
      "a: 10\n",
      "b: 0\n",
      "Error.Error.Error.\n"
     ]
    }
   ],
   "source": [
    "try:\n",
    "    first_prompt = input(\"Enter the first value: \")     # 10\n",
    "    a = first_prompt\n",
    "    second_prompt = input(\"Enter the second value: \")   # 0\n",
    "    b = second_prompt\n",
    "    print('a:', a)\n",
    "    print('b:', b)\n",
    "    print(a/b)\n",
    "except ZeroDivisionError:\n",
    "    print(\"Do not divide by zero!\")\n",
    "except ValueError:\n",
    "    print(\"Wrong value.\")\n",
    "except:\n",
    "    print(\"Error.Error.Error.\")"
   ]
  },
  {
   "attachments": {},
   "cell_type": "markdown",
   "id": "d86ccad0",
   "metadata": {},
   "source": [
    "****"
   ]
  },
  {
   "attachments": {},
   "cell_type": "markdown",
   "id": "c10e5d32",
   "metadata": {},
   "source": [
    "# Suma de strings vs Suma de números"
   ]
  },
  {
   "cell_type": "code",
   "execution_count": 160,
   "id": "ecaab932",
   "metadata": {},
   "outputs": [
    {
     "name": "stdin",
     "output_type": "stream",
     "text": [
      " 2\n",
      " 4\n"
     ]
    },
    {
     "name": "stdout",
     "output_type": "stream",
     "text": [
      "6\n"
     ]
    }
   ],
   "source": [
    "# enteros\n",
    "\n",
    "x = int(input())  # 2\n",
    "y = int(input())  # 4\n",
    "print(x + y)"
   ]
  },
  {
   "cell_type": "code",
   "execution_count": 161,
   "id": "1a4f2361",
   "metadata": {},
   "outputs": [
    {
     "name": "stdin",
     "output_type": "stream",
     "text": [
      " 2\n",
      " 4\n"
     ]
    },
    {
     "name": "stdout",
     "output_type": "stream",
     "text": [
      "2.0\n",
      "4.0\n",
      "6.0\n"
     ]
    }
   ],
   "source": [
    "# DECIMALES\n",
    "\n",
    "x = float(input())  # 2\n",
    "y = float(input())  # 4\n",
    "print(x)\n",
    "print(y)\n",
    "print(x + y)"
   ]
  },
  {
   "cell_type": "code",
   "execution_count": 1,
   "id": "36d533f6",
   "metadata": {},
   "outputs": [
    {
     "name": "stdin",
     "output_type": "stream",
     "text": [
      " 2\n",
      " 4\n"
     ]
    },
    {
     "name": "stdout",
     "output_type": "stream",
     "text": [
      "2\n",
      "<class 'str'>\n",
      "4\n",
      "<class 'str'>\n",
      "\n",
      "\n",
      "24\n"
     ]
    }
   ],
   "source": [
    "# strings\n",
    "\n",
    "# EL EJERCICIO DE EXAMEN\n",
    "\n",
    "x = input()    # 2\n",
    "y = input()    # 4\n",
    "print(x)\n",
    "print(type(x))\n",
    "print(y)\n",
    "print(type(y))\n",
    "print('\\n')\n",
    "print(x + y)\n",
    "\n",
    "# '2' + '4' ===> '24'"
   ]
  },
  {
   "cell_type": "code",
   "execution_count": null,
   "id": "c7b941de",
   "metadata": {},
   "outputs": [],
   "source": [
    "# recordamos suma de strings con \"hola\" \"mundo\""
   ]
  },
  {
   "cell_type": "code",
   "execution_count": 2,
   "id": "00cb88a9",
   "metadata": {},
   "outputs": [
    {
     "name": "stdin",
     "output_type": "stream",
     "text": [
      " hola\n",
      " mundo\n"
     ]
    },
    {
     "name": "stdout",
     "output_type": "stream",
     "text": [
      "hola\n",
      "<class 'str'>\n",
      "mundo\n",
      "<class 'str'>\n",
      "\n",
      "\n",
      "holamundo\n"
     ]
    }
   ],
   "source": [
    "# strings\n",
    "\n",
    "# EL EJERCICIO DE EXAMEN\n",
    "\n",
    "x = input()    # hola\n",
    "y = input()    # mundo\n",
    "print(x)\n",
    "print(type(x))\n",
    "print(y)\n",
    "print(type(y))\n",
    "print('\\n')\n",
    "print(x + y)"
   ]
  },
  {
   "attachments": {},
   "cell_type": "markdown",
   "id": "96e49c2f",
   "metadata": {},
   "source": [
    "****"
   ]
  },
  {
   "cell_type": "markdown",
   "id": "eb3f08ea-718a-4f45-a0b0-f31cbde2dacd",
   "metadata": {},
   "source": [
    "# Desplazar los Bits"
   ]
  },
  {
   "cell_type": "markdown",
   "id": "2f848cee-5f1a-4da7-8e5c-f1dcd29ec860",
   "metadata": {},
   "source": [
    "Desplazar un valor un bit a la **izquierda** corresponde a multiplicarlo por dos, respectivamente desplazar un bit a la **derecha** es como dividir entre dos.\n",
    "\n",
    "Los operadores de cambio en Python son un par de dígrafos '<<' y '>>', sugiriendo claramente en que dirección actuará el cambio.\n",
    "\n",
    "value << bits\n",
    "value >> bits\n",
    "\n",
    "Ejemplo:\n",
    "\n",
    "17 >> 1 ---> 17//2 (17 dividido entre 2 a la potencia de 1) --> es 8 (desplazarse hacia la derecha en un bit equivale a la división entera de dos)\n",
    "\n",
    "17 << 2 --> 17 * 4 (17 dividido entre 2 a la potencia de 2) --> es 68 (desplazarse hacia la izquierda en dos bits equivale a la multiplicación entera por cuatro)"
   ]
  },
  {
   "cell_type": "code",
   "execution_count": 3,
   "id": "daa07a5e-d5dc-410d-af4b-42205b13ed28",
   "metadata": {},
   "outputs": [
    {
     "data": {
      "text/plain": [
       "8"
      ]
     },
     "execution_count": 3,
     "metadata": {},
     "output_type": "execute_result"
    }
   ],
   "source": [
    "17 >> 1\n",
    "# a = 17 --> n = 1 --> 17 / 2¹ = 8"
   ]
  },
  {
   "cell_type": "code",
   "execution_count": 4,
   "id": "440c0e13-0f6d-4aec-98c0-b774044f2680",
   "metadata": {},
   "outputs": [
    {
     "data": {
      "text/plain": [
       "68"
      ]
     },
     "execution_count": 4,
     "metadata": {},
     "output_type": "execute_result"
    }
   ],
   "source": [
    "17 << 2\n",
    "# a = 17 --> n = 2 --> 17 * 2² = 68"
   ]
  },
  {
   "attachments": {},
   "cell_type": "markdown",
   "id": "10960af8",
   "metadata": {},
   "source": [
    "## Bitwise right shift"
   ]
  },
  {
   "cell_type": "code",
   "execution_count": 5,
   "id": "a8a0ad8e",
   "metadata": {},
   "outputs": [],
   "source": [
    "# The bitwise right shift operator (>>) is analogous to the left one, \n",
    "# but instead of moving bits to the left, \n",
    "# it pushes them to the right by the specified number of places. "
   ]
  },
  {
   "cell_type": "code",
   "execution_count": 6,
   "id": "d7228221",
   "metadata": {},
   "outputs": [
    {
     "data": {
      "text/plain": [
       "5"
      ]
     },
     "execution_count": 6,
     "metadata": {},
     "output_type": "execute_result"
    }
   ],
   "source": [
    "a = 10   \n",
    "#   0000 1010 (binario)\n",
    "a >> 1\n",
    "#   0000 0101 (binario) ====> 5 decimal\n",
    "\n",
    "# 10 / 2¹ = 10/2 = 5"
   ]
  },
  {
   "attachments": {},
   "cell_type": "markdown",
   "id": "c9ef35d4",
   "metadata": {},
   "source": [
    "## Bitwise left shift"
   ]
  },
  {
   "cell_type": "code",
   "execution_count": 7,
   "id": "f5a20f19",
   "metadata": {},
   "outputs": [
    {
     "name": "stdout",
     "output_type": "stream",
     "text": [
      "a: 5\n",
      "b: 10\n",
      "c: 20\n",
      "c: 40\n"
     ]
    }
   ],
   "source": [
    "a = 5\n",
    "print('a:', a)\n",
    "#  0000 0101  (binario)\n",
    "b = a << 1 # a * 2^n --> 5 * 2¹=10\n",
    "print('b:', b)\n",
    "#  0000 1010  (binario)  ===> 10\n",
    "c = a << 2 # 5 * 2² = 20\n",
    "print('c:', c)\n",
    "#  0001 0100  (binario)  ===> 20\n",
    "\n",
    "d = a << 3 # 5 * 2³ = 40\n",
    "print('c:', d)"
   ]
  },
  {
   "attachments": {},
   "cell_type": "markdown",
   "id": "9280bafc",
   "metadata": {},
   "source": [
    "****"
   ]
  },
  {
   "attachments": {},
   "cell_type": "markdown",
   "id": "1d64ae7f",
   "metadata": {},
   "source": [
    "# string y count"
   ]
  },
  {
   "cell_type": "code",
   "execution_count": 8,
   "id": "157098a8",
   "metadata": {},
   "outputs": [],
   "source": [
    "# string.count(value, start, end)"
   ]
  },
  {
   "cell_type": "code",
   "execution_count": 9,
   "id": "1bfe1733",
   "metadata": {},
   "outputs": [
    {
     "name": "stdout",
     "output_type": "stream",
     "text": [
      "2\n"
     ]
    }
   ],
   "source": [
    "# https://www.w3schools.com/python/ref_string_count.asp\n",
    "\n",
    "txt = \"I love apples, apple are my favorite fruit\"\n",
    "\n",
    "x = txt.count(\"apple\")\n",
    "\n",
    "print(x)"
   ]
  },
  {
   "cell_type": "code",
   "execution_count": 10,
   "id": "535b5661",
   "metadata": {},
   "outputs": [
    {
     "data": {
      "text/plain": [
       "28"
      ]
     },
     "execution_count": 10,
     "metadata": {},
     "output_type": "execute_result"
    }
   ],
   "source": [
    "string = \"Python is awesome, isn't it?\"\n",
    "substring = \"i\"\n",
    "\n",
    "len(string)"
   ]
  },
  {
   "cell_type": "code",
   "execution_count": 11,
   "id": "2d2921d1",
   "metadata": {},
   "outputs": [],
   "source": [
    "# string = \"Python is awesome, isn't it?\"\n",
    "#             6  + 2     7       5    2   + los espacios + la coma + el ? del final"
   ]
  },
  {
   "cell_type": "code",
   "execution_count": 12,
   "id": "d387b10a",
   "metadata": {},
   "outputs": [
    {
     "name": "stdout",
     "output_type": "stream",
     "text": [
      "The count is: 0\n"
     ]
    }
   ],
   "source": [
    "# count after first 'i' and before the last 'i'\n",
    "count = string.count(substring, 0, 5)\n",
    "\n",
    "# print count\n",
    "print(\"The count is:\", count)"
   ]
  },
  {
   "cell_type": "code",
   "execution_count": 13,
   "id": "49a62d7f",
   "metadata": {},
   "outputs": [
    {
     "name": "stdout",
     "output_type": "stream",
     "text": [
      "The count is: 1\n"
     ]
    }
   ],
   "source": [
    "# count after first 'i' and before the last 'i'\n",
    "count = string.count(substring, 0, 8)\n",
    "\n",
    "# print count\n",
    "print(\"The count is:\", count)"
   ]
  },
  {
   "cell_type": "code",
   "execution_count": 14,
   "id": "e214c614",
   "metadata": {},
   "outputs": [
    {
     "name": "stdout",
     "output_type": "stream",
     "text": [
      "The count is: 0\n"
     ]
    }
   ],
   "source": [
    "# count after first 'i' and before the last 'i'\n",
    "count = string.count(substring, 0, 7)\n",
    "\n",
    "# print count\n",
    "print(\"The count is:\", count)"
   ]
  },
  {
   "cell_type": "code",
   "execution_count": 15,
   "id": "0ecb83d6",
   "metadata": {},
   "outputs": [
    {
     "name": "stdout",
     "output_type": "stream",
     "text": [
      "The count is: 1\n"
     ]
    }
   ],
   "source": [
    "# count after first 'i' and before the last 'i'\n",
    "count = string.count(substring, 8, 25)\n",
    "\n",
    "# print count\n",
    "print(\"The count is:\", count)"
   ]
  },
  {
   "cell_type": "code",
   "execution_count": 16,
   "id": "0827d20d",
   "metadata": {},
   "outputs": [
    {
     "name": "stdout",
     "output_type": "stream",
     "text": [
      "The count is: 2\n"
     ]
    }
   ],
   "source": [
    "# count after first 'i' and before the last 'i'\n",
    "count = string.count(substring, 8, 28)\n",
    "\n",
    "# print count\n",
    "print(\"The count is:\", count)"
   ]
  },
  {
   "cell_type": "code",
   "execution_count": 17,
   "id": "fa5cb711",
   "metadata": {},
   "outputs": [
    {
     "name": "stdout",
     "output_type": "stream",
     "text": [
      "The count is: 1\n"
     ]
    }
   ],
   "source": [
    "# count after first 'i' and before the last 'i'\n",
    "count = string.count(substring, 0, 10)\n",
    "\n",
    "# print count\n",
    "print(\"The count is:\", count)"
   ]
  },
  {
   "cell_type": "code",
   "execution_count": 18,
   "id": "58e6d88f",
   "metadata": {},
   "outputs": [],
   "source": [
    "# otro ejemplo"
   ]
  },
  {
   "cell_type": "code",
   "execution_count": 19,
   "id": "c4a0f221",
   "metadata": {},
   "outputs": [
    {
     "name": "stdout",
     "output_type": "stream",
     "text": [
      "2\n"
     ]
    }
   ],
   "source": [
    "data = 'abbabadaadbbaccabc'\n",
    "print(data.count('ab', 1))"
   ]
  },
  {
   "cell_type": "code",
   "execution_count": 20,
   "id": "7783e8d5",
   "metadata": {},
   "outputs": [
    {
     "name": "stdout",
     "output_type": "stream",
     "text": [
      "2\n"
     ]
    }
   ],
   "source": [
    "data = 'abbabadaadbbaccabc'\n",
    "print(data.count('ab', 1, len(data)))"
   ]
  },
  {
   "cell_type": "code",
   "execution_count": 21,
   "id": "c79094b0",
   "metadata": {},
   "outputs": [
    {
     "name": "stdout",
     "output_type": "stream",
     "text": [
      "0\n"
     ]
    }
   ],
   "source": [
    "data = 'abbabadaadbbaccabc'\n",
    "print(data.count('ab', 0, 1))"
   ]
  },
  {
   "attachments": {},
   "cell_type": "markdown",
   "id": "3b701cbf",
   "metadata": {},
   "source": [
    "****"
   ]
  },
  {
   "attachments": {},
   "cell_type": "markdown",
   "id": "6d0cb416",
   "metadata": {},
   "source": [
    "# Un ejemplo con Try Except"
   ]
  },
  {
   "cell_type": "code",
   "execution_count": 22,
   "id": "6d384d76-c148-43bf-b316-af0211d453a4",
   "metadata": {},
   "outputs": [
    {
     "name": "stdin",
     "output_type": "stream",
     "text": [
      "Enter a value:  2\n"
     ]
    },
    {
     "name": "stdout",
     "output_type": "stream",
     "text": [
      "<class 'str'>\n",
      "Very very bad input...\n"
     ]
    }
   ],
   "source": [
    "try:\n",
    "    value = input(\"Enter a value: \")\n",
    "    print(type(value))\n",
    "    print(value/value)\n",
    "except ValueError:\n",
    "    print(\"Bad input...\")\n",
    "except ZeroDivisionError:\n",
    "    print(\"Very bad input...\")\n",
    "except TypeError:\n",
    "    print(\"Very very bad input...\")\n",
    "except:\n",
    "    print(\"Booo!\")\n",
    "    \n",
    "# TypeError.."
   ]
  },
  {
   "attachments": {},
   "cell_type": "markdown",
   "id": "6dc66e13",
   "metadata": {},
   "source": [
    "****"
   ]
  },
  {
   "attachments": {},
   "cell_type": "markdown",
   "id": "ee3927c1",
   "metadata": {},
   "source": [
    "# Función con diccionario"
   ]
  },
  {
   "attachments": {},
   "cell_type": "markdown",
   "id": "d76cac2e",
   "metadata": {},
   "source": [
    "## funciones y diccionarios: ejemplo 1"
   ]
  },
  {
   "cell_type": "code",
   "execution_count": 23,
   "id": "a303cbcc",
   "metadata": {},
   "outputs": [
    {
     "name": "stdout",
     "output_type": "stream",
     "text": [
      "None\n"
     ]
    }
   ],
   "source": [
    "data = {}\n",
    " \n",
    "def func(d, key, value):\n",
    "    d[key] = value\n",
    "\n",
    "print(func(data, '1', 'Peter'))\n",
    "\n",
    "# la función no tiene retorno"
   ]
  },
  {
   "attachments": {},
   "cell_type": "markdown",
   "id": "161cd5b3",
   "metadata": {},
   "source": [
    "## funciones y diccionarios: ejemplo 2"
   ]
  },
  {
   "cell_type": "code",
   "execution_count": 24,
   "id": "d1bfad30",
   "metadata": {},
   "outputs": [
    {
     "name": "stdout",
     "output_type": "stream",
     "text": [
      "{'1': 'Peter'}\n"
     ]
    }
   ],
   "source": [
    "data = {}\n",
    " \n",
    "def func(d, key, value):\n",
    "    d[key] = value\n",
    "    return d\n",
    "\n",
    "print(func(data, '1', 'Peter'))"
   ]
  },
  {
   "attachments": {},
   "cell_type": "markdown",
   "id": "872fcac4",
   "metadata": {},
   "source": [
    "****"
   ]
  },
  {
   "attachments": {},
   "cell_type": "markdown",
   "id": "5a159dc5",
   "metadata": {},
   "source": [
    "# len(\"\\\\\")"
   ]
  },
  {
   "cell_type": "code",
   "execution_count": 25,
   "id": "5c679c49",
   "metadata": {},
   "outputs": [
    {
     "ename": "SyntaxError",
     "evalue": "unterminated string literal (detected at line 1) (4154789746.py, line 1)",
     "output_type": "error",
     "traceback": [
      "  \u001b[36mCell\u001b[39m\u001b[36m \u001b[39m\u001b[32mIn[25]\u001b[39m\u001b[32m, line 1\u001b[39m\n\u001b[31m    \u001b[39m\u001b[31mx = '\\'\u001b[39m\n        ^\n\u001b[31mSyntaxError\u001b[39m\u001b[31m:\u001b[39m unterminated string literal (detected at line 1)\n"
     ]
    }
   ],
   "source": [
    "\n",
    "x = '\\'\n",
    "print(len(x))\n",
    "\n",
    "# SyntaxError: EOL while scanning string literal"
   ]
  },
  {
   "cell_type": "code",
   "execution_count": 26,
   "id": "ca91a9a3",
   "metadata": {},
   "outputs": [
    {
     "name": "stdout",
     "output_type": "stream",
     "text": [
      "1\n"
     ]
    }
   ],
   "source": [
    "x = '\\\\'\n",
    "print(len(x))"
   ]
  },
  {
   "cell_type": "code",
   "execution_count": 27,
   "id": "ce9f8313",
   "metadata": {},
   "outputs": [
    {
     "name": "stdout",
     "output_type": "stream",
     "text": [
      "2\n"
     ]
    }
   ],
   "source": [
    "x = '\\\\\\\\'\n",
    "print(len(x))"
   ]
  },
  {
   "cell_type": "code",
   "execution_count": 28,
   "id": "1f29b858",
   "metadata": {},
   "outputs": [
    {
     "ename": "SyntaxError",
     "evalue": "unterminated string literal (detected at line 1) (252663340.py, line 1)",
     "output_type": "error",
     "traceback": [
      "  \u001b[36mCell\u001b[39m\u001b[36m \u001b[39m\u001b[32mIn[28]\u001b[39m\u001b[32m, line 1\u001b[39m\n\u001b[31m    \u001b[39m\u001b[31mx = '\\\\\\'\u001b[39m\n        ^\n\u001b[31mSyntaxError\u001b[39m\u001b[31m:\u001b[39m unterminated string literal (detected at line 1)\n"
     ]
    }
   ],
   "source": [
    "x = '\\\\\\'\n",
    "print(len(x))\n",
    "\n",
    "# SyntaxError: EOL while scanning string literal"
   ]
  },
  {
   "attachments": {},
   "cell_type": "markdown",
   "id": "9d373003",
   "metadata": {},
   "source": [
    "****"
   ]
  },
  {
   "attachments": {},
   "cell_type": "markdown",
   "id": "23232d32",
   "metadata": {},
   "source": [
    "# len(salto de linea)"
   ]
  },
  {
   "cell_type": "code",
   "execution_count": 29,
   "id": "a6a4ee1d",
   "metadata": {},
   "outputs": [],
   "source": [
    "# comentario"
   ]
  },
  {
   "cell_type": "code",
   "execution_count": 30,
   "id": "ad67018e",
   "metadata": {},
   "outputs": [],
   "source": [
    "# comentario de linea 1\n",
    "# comentario de linea 2"
   ]
  },
  {
   "cell_type": "code",
   "execution_count": 31,
   "id": "96197208",
   "metadata": {},
   "outputs": [
    {
     "data": {
      "text/plain": [
       "'\\ncomentario de linea 1\\ncomentario de linea 2\\ncomentario de linea 3\\n'"
      ]
     },
     "execution_count": 31,
     "metadata": {},
     "output_type": "execute_result"
    }
   ],
   "source": [
    "\"\"\"\n",
    "comentario de linea 1\n",
    "comentario de linea 2\n",
    "comentario de linea 3\n",
    "\"\"\""
   ]
  },
  {
   "cell_type": "code",
   "execution_count": 32,
   "id": "fc9f0baf",
   "metadata": {},
   "outputs": [
    {
     "name": "stdout",
     "output_type": "stream",
     "text": [
      "0\n"
     ]
    }
   ],
   "source": [
    "x = \"\"\"\"\"\"\n",
    "print(len(x))"
   ]
  },
  {
   "cell_type": "code",
   "execution_count": 33,
   "id": "cc4d5c28",
   "metadata": {},
   "outputs": [
    {
     "name": "stdout",
     "output_type": "stream",
     "text": [
      "1\n"
     ]
    }
   ],
   "source": [
    "x = \"\"\"\n",
    "\"\"\"\n",
    "print(len(x))"
   ]
  },
  {
   "cell_type": "code",
   "execution_count": 34,
   "id": "7ca0b72a",
   "metadata": {},
   "outputs": [
    {
     "name": "stdout",
     "output_type": "stream",
     "text": [
      "2\n"
     ]
    }
   ],
   "source": [
    "x = \"\"\"\n",
    "\n",
    "\"\"\"\n",
    "print(len(x))"
   ]
  },
  {
   "cell_type": "code",
   "execution_count": 35,
   "id": "cf55385f",
   "metadata": {},
   "outputs": [
    {
     "name": "stdout",
     "output_type": "stream",
     "text": [
      "3\n"
     ]
    }
   ],
   "source": [
    "# hay un espacio en blanco en la línea donde comienza x, antes del salto de línea\n",
    "x = \"\"\" \n",
    "\n",
    "\"\"\"\n",
    "print(len(x))"
   ]
  },
  {
   "cell_type": "code",
   "execution_count": 36,
   "id": "a52cc008",
   "metadata": {},
   "outputs": [
    {
     "name": "stdout",
     "output_type": "stream",
     "text": [
      "5\n"
     ]
    }
   ],
   "source": [
    "x = \"\"\"Hola\n",
    "\"\"\"\n",
    "print(len(x))"
   ]
  },
  {
   "cell_type": "code",
   "execution_count": 37,
   "id": "533aa46e",
   "metadata": {},
   "outputs": [
    {
     "name": "stdout",
     "output_type": "stream",
     "text": [
      "11\n"
     ]
    }
   ],
   "source": [
    "x = \"\"\"Hola mundo\n",
    "\"\"\"\n",
    "print(len(x))\n",
    "\n",
    "# 4 por \"hola\"\n",
    "# 1 por el espacio en blanco\n",
    "# 5 por \"mundo\"\n",
    "# 1 por el salto de línea"
   ]
  },
  {
   "attachments": {},
   "cell_type": "markdown",
   "id": "585959ff",
   "metadata": {},
   "source": [
    "****"
   ]
  },
  {
   "attachments": {},
   "cell_type": "markdown",
   "id": "f93a5abd",
   "metadata": {},
   "source": [
    "# Ejercicio prototipo de Funciones"
   ]
  },
  {
   "attachments": {},
   "cell_type": "markdown",
   "id": "fe54b996",
   "metadata": {},
   "source": [
    "## ejemplo 1 de funciones "
   ]
  },
  {
   "cell_type": "code",
   "execution_count": 38,
   "id": "f3c2914d",
   "metadata": {},
   "outputs": [
    {
     "name": "stdout",
     "output_type": "stream",
     "text": [
      "0\n"
     ]
    }
   ],
   "source": [
    "def func(x, y):\n",
    "    if x == y:\n",
    "        return x\n",
    "    else:\n",
    "        return func(x, y-1)\n",
    " \n",
    " \n",
    "print(func(0, 3))  \n",
    "\n",
    "# func(0, 3)  => return func(x, y-1) ==> return func(0, 2)\n",
    "# func(0, 2)  => return func(0, 1)\n",
    "# func(0, 1)  => return func(0, 0)\n",
    "# func(0, 0)  => return x => 0"
   ]
  },
  {
   "attachments": {},
   "cell_type": "markdown",
   "id": "42c089cd",
   "metadata": {},
   "source": [
    "## ejemplo 2 de funciones: ejemplo 1 modificado"
   ]
  },
  {
   "cell_type": "code",
   "execution_count": 39,
   "id": "0251613b",
   "metadata": {},
   "outputs": [
    {
     "name": "stdout",
     "output_type": "stream",
     "text": [
      "Hemos llegado a x=y=0\n"
     ]
    }
   ],
   "source": [
    "def func(x, y):\n",
    "    if x == y:\n",
    "        return 'Hemos llegado a x=y=0'\n",
    "    else:\n",
    "        return func(x, y-1)\n",
    " \n",
    " \n",
    "print(func(0, 3))  \n",
    "\n",
    "# func(0, 3)  => return func(x, y-1)\n",
    "# func(0, 2)  => return func(0, 1)\n",
    "# func(0, 1)  => return func(0, 0)\n",
    "# func(0, 0)  => return 'Hemos llegado a x=y=0'"
   ]
  },
  {
   "attachments": {},
   "cell_type": "markdown",
   "id": "4cd36c5e",
   "metadata": {},
   "source": [
    "## ejemplo 3 de funciones: otra ligera modificación del ejercicio 1 (paso a paso)"
   ]
  },
  {
   "cell_type": "code",
   "execution_count": 40,
   "id": "971b3274",
   "metadata": {},
   "outputs": [
    {
     "name": "stdout",
     "output_type": "stream",
     "text": [
      "x es: 0 .. y es: 3 ..por lo de (y-1)\n",
      "x es: 0 .. y es: 2 ..por lo de (y-1)\n",
      "x es: 0 .. y es: 1 ..por lo de (y-1)\n",
      "0\n"
     ]
    }
   ],
   "source": [
    "def func(x, y):\n",
    "    if x == y:\n",
    "        return x\n",
    "    else:\n",
    "        print('x es:', x,'.. y es:', y, '..por lo de (y-1)')\n",
    "        return func(x, y-1)\n",
    " \n",
    " \n",
    "print(func(0, 3))  \n",
    "\n",
    "# func(0, 3)  => return func(x, y-1)\n",
    "# func(0, 2)  => return func(0, 1)\n",
    "# func(0, 1)  => return func(0, 0)\n",
    "# func(0, 0)  => return 'Hemos llegado a x=y=0'"
   ]
  },
  {
   "attachments": {},
   "cell_type": "markdown",
   "id": "7a674fc7",
   "metadata": {},
   "source": [
    "## ejemplo 4 de funciones \n",
    "\n",
    "**otro ejemplo en el cual, no llega a ningún sitio**"
   ]
  },
  {
   "cell_type": "code",
   "execution_count": 41,
   "id": "27911e85",
   "metadata": {},
   "outputs": [
    {
     "ename": "RecursionError",
     "evalue": "maximum recursion depth exceeded",
     "output_type": "error",
     "traceback": [
      "\u001b[31m---------------------------------------------------------------------------\u001b[39m",
      "\u001b[31mRecursionError\u001b[39m                            Traceback (most recent call last)",
      "\u001b[36mCell\u001b[39m\u001b[36m \u001b[39m\u001b[32mIn[41]\u001b[39m\u001b[32m, line 8\u001b[39m\n\u001b[32m      4\u001b[39m     \u001b[38;5;28;01melse\u001b[39;00m:\n\u001b[32m      5\u001b[39m         \u001b[38;5;28;01mreturn\u001b[39;00m func(x, y-\u001b[32m1\u001b[39m)\n\u001b[32m----> \u001b[39m\u001b[32m8\u001b[39m \u001b[38;5;28mprint\u001b[39m(\u001b[43mfunc\u001b[49m\u001b[43m(\u001b[49m\u001b[32;43m0\u001b[39;49m\u001b[43m,\u001b[49m\u001b[43m \u001b[49m\u001b[43m-\u001b[49m\u001b[32;43m3\u001b[39;49m\u001b[43m)\u001b[49m)\n\u001b[32m     10\u001b[39m \u001b[38;5;66;03m# RecursionError: maximum recursion depth exceeded in comparison\u001b[39;00m\n",
      "\u001b[36mCell\u001b[39m\u001b[36m \u001b[39m\u001b[32mIn[41]\u001b[39m\u001b[32m, line 5\u001b[39m, in \u001b[36mfunc\u001b[39m\u001b[34m(x, y)\u001b[39m\n\u001b[32m      3\u001b[39m     \u001b[38;5;28;01mreturn\u001b[39;00m x\n\u001b[32m      4\u001b[39m \u001b[38;5;28;01melse\u001b[39;00m:\n\u001b[32m----> \u001b[39m\u001b[32m5\u001b[39m     \u001b[38;5;28;01mreturn\u001b[39;00m \u001b[43mfunc\u001b[49m\u001b[43m(\u001b[49m\u001b[43mx\u001b[49m\u001b[43m,\u001b[49m\u001b[43m \u001b[49m\u001b[43my\u001b[49m\u001b[43m-\u001b[49m\u001b[32;43m1\u001b[39;49m\u001b[43m)\u001b[49m\n",
      "\u001b[36mCell\u001b[39m\u001b[36m \u001b[39m\u001b[32mIn[41]\u001b[39m\u001b[32m, line 5\u001b[39m, in \u001b[36mfunc\u001b[39m\u001b[34m(x, y)\u001b[39m\n\u001b[32m      3\u001b[39m     \u001b[38;5;28;01mreturn\u001b[39;00m x\n\u001b[32m      4\u001b[39m \u001b[38;5;28;01melse\u001b[39;00m:\n\u001b[32m----> \u001b[39m\u001b[32m5\u001b[39m     \u001b[38;5;28;01mreturn\u001b[39;00m \u001b[43mfunc\u001b[49m\u001b[43m(\u001b[49m\u001b[43mx\u001b[49m\u001b[43m,\u001b[49m\u001b[43m \u001b[49m\u001b[43my\u001b[49m\u001b[43m-\u001b[49m\u001b[32;43m1\u001b[39;49m\u001b[43m)\u001b[49m\n",
      "    \u001b[31m[... skipping similar frames: func at line 5 (2974 times)]\u001b[39m\n",
      "\u001b[36mCell\u001b[39m\u001b[36m \u001b[39m\u001b[32mIn[41]\u001b[39m\u001b[32m, line 5\u001b[39m, in \u001b[36mfunc\u001b[39m\u001b[34m(x, y)\u001b[39m\n\u001b[32m      3\u001b[39m     \u001b[38;5;28;01mreturn\u001b[39;00m x\n\u001b[32m      4\u001b[39m \u001b[38;5;28;01melse\u001b[39;00m:\n\u001b[32m----> \u001b[39m\u001b[32m5\u001b[39m     \u001b[38;5;28;01mreturn\u001b[39;00m \u001b[43mfunc\u001b[49m\u001b[43m(\u001b[49m\u001b[43mx\u001b[49m\u001b[43m,\u001b[49m\u001b[43m \u001b[49m\u001b[43my\u001b[49m\u001b[43m-\u001b[49m\u001b[32;43m1\u001b[39;49m\u001b[43m)\u001b[49m\n",
      "\u001b[31mRecursionError\u001b[39m: maximum recursion depth exceeded"
     ]
    }
   ],
   "source": [
    "def func(x, y):\n",
    "    if x == y:\n",
    "        return x\n",
    "    else:\n",
    "        return func(x, y-1)\n",
    " \n",
    " \n",
    "print(func(0, -3))\n",
    "\n",
    "# RecursionError: maximum recursion depth exceeded in comparison"
   ]
  },
  {
   "attachments": {},
   "cell_type": "markdown",
   "id": "7e80c626",
   "metadata": {},
   "source": [
    "****"
   ]
  },
  {
   "attachments": {},
   "cell_type": "markdown",
   "id": "32378559",
   "metadata": {},
   "source": [
    "# pycache"
   ]
  },
  {
   "cell_type": "code",
   "execution_count": null,
   "id": "86cf930b",
   "metadata": {},
   "outputs": [],
   "source": [
    "# https://towardsdatascience.com/pycache-python-991424aabad8"
   ]
  },
  {
   "attachments": {},
   "cell_type": "markdown",
   "id": "a0617326",
   "metadata": {},
   "source": [
    "****"
   ]
  },
  {
   "attachments": {},
   "cell_type": "markdown",
   "id": "57da77cb",
   "metadata": {},
   "source": [
    "# LIFO / FIFO"
   ]
  },
  {
   "cell_type": "code",
   "execution_count": null,
   "id": "2d017557",
   "metadata": {},
   "outputs": [],
   "source": [
    "# Last In First Out (LIFO)\n",
    "# First In First Out (FIFO)"
   ]
  },
  {
   "attachments": {},
   "cell_type": "markdown",
   "id": "96021f83",
   "metadata": {},
   "source": [
    "****"
   ]
  },
  {
   "attachments": {},
   "cell_type": "markdown",
   "id": "aff3f1a0",
   "metadata": {},
   "source": [
    "# ASCII / UNICODE"
   ]
  },
  {
   "cell_type": "code",
   "execution_count": 48,
   "id": "86366398",
   "metadata": {},
   "outputs": [],
   "source": [
    "# https://elcodigoascii.com.ar/\n",
    "\n",
    "# https://dinahosting.com/blog/que-es-utf-8/"
   ]
  },
  {
   "attachments": {},
   "cell_type": "markdown",
   "id": "602f6db1",
   "metadata": {},
   "source": [
    "<img src='caracteres_ASCII.png'>"
   ]
  },
  {
   "cell_type": "code",
   "execution_count": 42,
   "id": "d016fd52",
   "metadata": {},
   "outputs": [
    {
     "data": {
      "text/plain": [
       "48"
      ]
     },
     "execution_count": 42,
     "metadata": {},
     "output_type": "execute_result"
    }
   ],
   "source": [
    "ord('0')"
   ]
  },
  {
   "cell_type": "code",
   "execution_count": 43,
   "id": "b4cf51bf",
   "metadata": {},
   "outputs": [
    {
     "data": {
      "text/plain": [
       "'0'"
      ]
     },
     "execution_count": 43,
     "metadata": {},
     "output_type": "execute_result"
    }
   ],
   "source": [
    "chr(48)"
   ]
  },
  {
   "cell_type": "code",
   "execution_count": 44,
   "id": "db631bd2",
   "metadata": {},
   "outputs": [
    {
     "data": {
      "text/plain": [
       "int"
      ]
     },
     "execution_count": 44,
     "metadata": {},
     "output_type": "execute_result"
    }
   ],
   "source": [
    "type(ord('0'))  # 48"
   ]
  },
  {
   "cell_type": "code",
   "execution_count": 45,
   "id": "cc3a85de",
   "metadata": {},
   "outputs": [
    {
     "data": {
      "text/plain": [
       "str"
      ]
     },
     "execution_count": 45,
     "metadata": {},
     "output_type": "execute_result"
    }
   ],
   "source": [
    "type(chr(48)) # '0'"
   ]
  },
  {
   "cell_type": "code",
   "execution_count": 46,
   "id": "94bdcf07",
   "metadata": {},
   "outputs": [
    {
     "data": {
      "text/plain": [
       "(57, '9')"
      ]
     },
     "execution_count": 46,
     "metadata": {},
     "output_type": "execute_result"
    }
   ],
   "source": [
    "ord('9'), chr(57)"
   ]
  },
  {
   "cell_type": "code",
   "execution_count": 47,
   "id": "6748c96d",
   "metadata": {},
   "outputs": [
    {
     "data": {
      "text/plain": [
       "66"
      ]
     },
     "execution_count": 47,
     "metadata": {},
     "output_type": "execute_result"
    }
   ],
   "source": [
    "# tiene sentido la siguiente línea de código?\n",
    "\n",
    "# chr(B)   ==> no tiene sentido, le faltan las comillas simples\n",
    "# chr('B') ==> no tiene sentido porque queremos el número\n",
    "\n",
    "ord('B')"
   ]
  },
  {
   "cell_type": "code",
   "execution_count": 49,
   "id": "9e03bea7",
   "metadata": {},
   "outputs": [
    {
     "data": {
      "text/plain": [
       "'f'"
      ]
     },
     "execution_count": 49,
     "metadata": {},
     "output_type": "execute_result"
    }
   ],
   "source": [
    "# dime el código necesario para imprimir la 'f'\n",
    "\n",
    "# chr('102')   ==> no tiene sentido, porque 102 es número, no string\n",
    "\n",
    "chr(102)"
   ]
  },
  {
   "cell_type": "code",
   "execution_count": 50,
   "id": "f0b10ff4",
   "metadata": {},
   "outputs": [],
   "source": [
    "# escriba las lineas de código necesarias para conseguir\n",
    "# los números de 'a' y de 'A'"
   ]
  },
  {
   "cell_type": "code",
   "execution_count": 51,
   "id": "ada6d6d1",
   "metadata": {},
   "outputs": [
    {
     "data": {
      "text/plain": [
       "97"
      ]
     },
     "execution_count": 51,
     "metadata": {},
     "output_type": "execute_result"
    }
   ],
   "source": [
    "# 'a'\n",
    "\n",
    "ord('a')"
   ]
  },
  {
   "cell_type": "code",
   "execution_count": 52,
   "id": "9c76146a",
   "metadata": {},
   "outputs": [
    {
     "data": {
      "text/plain": [
       "65"
      ]
     },
     "execution_count": 52,
     "metadata": {},
     "output_type": "execute_result"
    }
   ],
   "source": [
    "# 'A'\n",
    "\n",
    "ord('A')"
   ]
  },
  {
   "cell_type": "code",
   "execution_count": 53,
   "id": "efc97bb5",
   "metadata": {},
   "outputs": [
    {
     "data": {
      "text/plain": [
       "32"
      ]
     },
     "execution_count": 53,
     "metadata": {},
     "output_type": "execute_result"
    }
   ],
   "source": [
    "ord('a') - ord('A')   \n",
    "# 97     -   65\n",
    "#      32"
   ]
  },
  {
   "cell_type": "code",
   "execution_count": 54,
   "id": "be472b1a",
   "metadata": {},
   "outputs": [
    {
     "data": {
      "text/plain": [
       "2"
      ]
     },
     "execution_count": 54,
     "metadata": {},
     "output_type": "execute_result"
    }
   ],
   "source": [
    "ord('c') - ord('a')\n",
    "# 99     -   97\n",
    "#        2"
   ]
  },
  {
   "cell_type": "code",
   "execution_count": 55,
   "id": "f15b5503",
   "metadata": {},
   "outputs": [
    {
     "data": {
      "text/plain": [
       "' '"
      ]
     },
     "execution_count": 55,
     "metadata": {},
     "output_type": "execute_result"
    }
   ],
   "source": [
    "chr(32)"
   ]
  },
  {
   "cell_type": "code",
   "execution_count": 56,
   "id": "1d57de9a",
   "metadata": {},
   "outputs": [
    {
     "data": {
      "text/plain": [
       "\"'\""
      ]
     },
     "execution_count": 56,
     "metadata": {},
     "output_type": "execute_result"
    }
   ],
   "source": [
    "chr(39)"
   ]
  },
  {
   "cell_type": "code",
   "execution_count": 57,
   "id": "70a2ccd8",
   "metadata": {},
   "outputs": [
    {
     "data": {
      "text/plain": [
       "39"
      ]
     },
     "execution_count": 57,
     "metadata": {},
     "output_type": "execute_result"
    }
   ],
   "source": [
    "ord(\"'\")"
   ]
  },
  {
   "cell_type": "code",
   "execution_count": 58,
   "id": "0b8e0fb0",
   "metadata": {},
   "outputs": [],
   "source": [
    "# ejemplo"
   ]
  },
  {
   "cell_type": "code",
   "execution_count": 59,
   "id": "d04b3b5c",
   "metadata": {},
   "outputs": [
    {
     "data": {
      "text/plain": [
       "98"
      ]
     },
     "execution_count": 59,
     "metadata": {},
     "output_type": "execute_result"
    }
   ],
   "source": [
    "ord('b')"
   ]
  },
  {
   "cell_type": "code",
   "execution_count": 60,
   "id": "2cff00af",
   "metadata": {},
   "outputs": [
    {
     "name": "stdout",
     "output_type": "stream",
     "text": [
      "s\n"
     ]
    }
   ],
   "source": [
    "print(chr(ord('p') + 3))  # s\n",
    "\n",
    "# en la 'p' el ord es el 112\n",
    "#     chr(  112    + 3)\n",
    "#     chr(    115)\n",
    "# en el 115 se encuentra la 's'\n",
    "#         s"
   ]
  },
  {
   "cell_type": "code",
   "execution_count": 61,
   "id": "6d7ff2e8",
   "metadata": {},
   "outputs": [
    {
     "data": {
      "text/plain": [
       "'s'"
      ]
     },
     "execution_count": 61,
     "metadata": {},
     "output_type": "execute_result"
    }
   ],
   "source": [
    "chr(ord('p') + 3)    "
   ]
  },
  {
   "cell_type": "code",
   "execution_count": 62,
   "id": "617219ab",
   "metadata": {},
   "outputs": [],
   "source": [
    "# OTRO EJEMPLO (EJERCICIO PROTOTIPO)"
   ]
  },
  {
   "cell_type": "code",
   "execution_count": 63,
   "id": "c7278934",
   "metadata": {},
   "outputs": [
    {
     "data": {
      "text/plain": [
       "True"
      ]
     },
     "execution_count": 63,
     "metadata": {},
     "output_type": "execute_result"
    }
   ],
   "source": [
    "'mike' > 'Mike'"
   ]
  },
  {
   "cell_type": "code",
   "execution_count": 64,
   "id": "57a7b96a",
   "metadata": {},
   "outputs": [],
   "source": [
    "# The expression:\n",
    "\n",
    "# 'mike' > 'Mike'\n",
    "\n",
    "# is\n",
    "\n",
    "# A. erroneous\n",
    "# B. False\n",
    "# C. True"
   ]
  },
  {
   "cell_type": "code",
   "execution_count": 65,
   "id": "e6e24fce",
   "metadata": {},
   "outputs": [
    {
     "data": {
      "text/plain": [
       "(109, 77, True)"
      ]
     },
     "execution_count": 65,
     "metadata": {},
     "output_type": "execute_result"
    }
   ],
   "source": [
    "ord('m'), ord('M'), ord('m') > ord('M')"
   ]
  },
  {
   "cell_type": "code",
   "execution_count": 66,
   "id": "9a623552",
   "metadata": {},
   "outputs": [
    {
     "data": {
      "text/plain": [
       "True"
      ]
     },
     "execution_count": 66,
     "metadata": {},
     "output_type": "execute_result"
    }
   ],
   "source": [
    "'mike' > 'Mike'"
   ]
  },
  {
   "cell_type": "code",
   "execution_count": 67,
   "id": "5f63997b",
   "metadata": {},
   "outputs": [],
   "source": [
    "# Solución\n",
    "# C"
   ]
  },
  {
   "attachments": {},
   "cell_type": "markdown",
   "id": "0087b4f1",
   "metadata": {},
   "source": [
    "****"
   ]
  },
  {
   "attachments": {},
   "cell_type": "markdown",
   "id": "125ba718",
   "metadata": {},
   "source": [
    "# operadores booleanos"
   ]
  },
  {
   "cell_type": "code",
   "execution_count": 68,
   "id": "c78f99f2",
   "metadata": {},
   "outputs": [],
   "source": [
    "## not"
   ]
  },
  {
   "cell_type": "code",
   "execution_count": 69,
   "id": "3f507eb5",
   "metadata": {},
   "outputs": [
    {
     "data": {
      "text/plain": [
       "True"
      ]
     },
     "execution_count": 69,
     "metadata": {},
     "output_type": "execute_result"
    }
   ],
   "source": [
    "x = True\n",
    "x"
   ]
  },
  {
   "cell_type": "code",
   "execution_count": 70,
   "id": "db4141cc",
   "metadata": {},
   "outputs": [
    {
     "data": {
      "text/plain": [
       "False"
      ]
     },
     "execution_count": 70,
     "metadata": {},
     "output_type": "execute_result"
    }
   ],
   "source": [
    "not x"
   ]
  },
  {
   "cell_type": "code",
   "execution_count": 71,
   "id": "6f808139",
   "metadata": {},
   "outputs": [],
   "source": [
    "# qué pasa si sumo True con números?"
   ]
  },
  {
   "cell_type": "code",
   "execution_count": 72,
   "id": "1104c2d8",
   "metadata": {},
   "outputs": [
    {
     "data": {
      "text/plain": [
       "3"
      ]
     },
     "execution_count": 72,
     "metadata": {},
     "output_type": "execute_result"
    }
   ],
   "source": [
    "True + 2  # True es 1"
   ]
  },
  {
   "cell_type": "code",
   "execution_count": 73,
   "id": "1658c36d",
   "metadata": {},
   "outputs": [
    {
     "data": {
      "text/plain": [
       "2"
      ]
     },
     "execution_count": 73,
     "metadata": {},
     "output_type": "execute_result"
    }
   ],
   "source": [
    "False + 2  # False es 0"
   ]
  },
  {
   "cell_type": "code",
   "execution_count": 74,
   "id": "0fc3d79e",
   "metadata": {},
   "outputs": [
    {
     "data": {
      "text/plain": [
       "4.5"
      ]
     },
     "execution_count": 74,
     "metadata": {},
     "output_type": "execute_result"
    }
   ],
   "source": [
    "True + 3.5"
   ]
  },
  {
   "cell_type": "code",
   "execution_count": 75,
   "id": "777b7140",
   "metadata": {},
   "outputs": [
    {
     "data": {
      "text/plain": [
       "3.5"
      ]
     },
     "execution_count": 75,
     "metadata": {},
     "output_type": "execute_result"
    }
   ],
   "source": [
    "False + 3.5"
   ]
  },
  {
   "attachments": {},
   "cell_type": "markdown",
   "id": "75045c1f",
   "metadata": {},
   "source": [
    "# and"
   ]
  },
  {
   "cell_type": "code",
   "execution_count": 76,
   "id": "6f7cdb51",
   "metadata": {},
   "outputs": [
    {
     "name": "stdout",
     "output_type": "stream",
     "text": [
      "and: 0 0 0 1\n"
     ]
    }
   ],
   "source": [
    "print('and:', 0&0, 0&1, 1&0, 1&1)"
   ]
  },
  {
   "attachments": {},
   "cell_type": "markdown",
   "id": "d36d5927",
   "metadata": {},
   "source": [
    "# or"
   ]
  },
  {
   "cell_type": "code",
   "execution_count": 77,
   "id": "e3d30d97",
   "metadata": {},
   "outputs": [
    {
     "name": "stdout",
     "output_type": "stream",
     "text": [
      "or: 0 1 1 1\n"
     ]
    }
   ],
   "source": [
    "print('or:', 0|0, 0|1, 1|0, 1|1)"
   ]
  },
  {
   "attachments": {},
   "cell_type": "markdown",
   "id": "6581c849",
   "metadata": {},
   "source": [
    "# XOR (PUERTA LÓGICA)"
   ]
  },
  {
   "cell_type": "code",
   "execution_count": 78,
   "id": "32e3481c",
   "metadata": {},
   "outputs": [
    {
     "name": "stdout",
     "output_type": "stream",
     "text": [
      "XOR: 0 1 1 0\n"
     ]
    }
   ],
   "source": [
    "print('XOR:', 0^0, 0^1, 1^0, 1^1)   \n",
    "\n",
    "# 2^3 (NO ES 2 AL CUBO)\n",
    "# 2**3"
   ]
  },
  {
   "cell_type": "code",
   "execution_count": 79,
   "id": "5314c2fd",
   "metadata": {},
   "outputs": [
    {
     "data": {
      "text/plain": [
       "1"
      ]
     },
     "execution_count": 79,
     "metadata": {},
     "output_type": "execute_result"
    }
   ],
   "source": [
    "2^3   # NO ES 2 AL CUBO!!!"
   ]
  },
  {
   "attachments": {},
   "cell_type": "markdown",
   "id": "474306d7",
   "metadata": {},
   "source": [
    "## ejercicio de examen"
   ]
  },
  {
   "cell_type": "code",
   "execution_count": 80,
   "id": "fbd6bb47",
   "metadata": {},
   "outputs": [
    {
     "name": "stdout",
     "output_type": "stream",
     "text": [
      "1 1\n"
     ]
    }
   ],
   "source": [
    "x = 0\n",
    "y = 1\n",
    "x = x ^ y    # x = 0 ^ 1 => x = 1\n",
    "y = x ^ y    # y = 1 ^ 1 => y = 0\n",
    "y = x ^ y    # y = 1 ^ 0 => y = 1\n",
    "print(x, y)  # x = 1   y = 1"
   ]
  },
  {
   "attachments": {},
   "cell_type": "markdown",
   "id": "72af62aa",
   "metadata": {},
   "source": [
    "# and, or, xor"
   ]
  },
  {
   "cell_type": "code",
   "execution_count": 81,
   "id": "747f7605",
   "metadata": {},
   "outputs": [
    {
     "name": "stdout",
     "output_type": "stream",
     "text": [
      "2\n"
     ]
    }
   ],
   "source": [
    "a = 1                       # => a = 1   \n",
    "b = 0                       # => b = 0\n",
    "c = a & b          # 1 AND 0  => c = 0   # &  # and\n",
    "d = a | b          # 1 OR  0  => d = 1\n",
    "e = a ^ b          # 1 XOR 0  => e = 1\n",
    "\n",
    "print(c + d + e)       # 0 + 1 + 1 = 2"
   ]
  },
  {
   "cell_type": "code",
   "execution_count": 82,
   "id": "538683fa",
   "metadata": {},
   "outputs": [],
   "source": [
    "# explicación de algunas cosas, repaso"
   ]
  },
  {
   "cell_type": "code",
   "execution_count": 83,
   "id": "17c10fae",
   "metadata": {},
   "outputs": [
    {
     "data": {
      "text/plain": [
       "False"
      ]
     },
     "execution_count": 83,
     "metadata": {},
     "output_type": "execute_result"
    }
   ],
   "source": [
    "# and, & => y\n",
    "# or, | = ó\n",
    "a = True\n",
    "b = not a\n",
    "b"
   ]
  },
  {
   "attachments": {},
   "cell_type": "markdown",
   "id": "e48ba5e5",
   "metadata": {},
   "source": [
    "****"
   ]
  },
  {
   "attachments": {},
   "cell_type": "markdown",
   "id": "df5b5aff",
   "metadata": {},
   "source": [
    "# True en las sumas"
   ]
  },
  {
   "cell_type": "code",
   "execution_count": 84,
   "id": "f77837f0",
   "metadata": {},
   "outputs": [
    {
     "name": "stdout",
     "output_type": "stream",
     "text": [
      "a: 19\n",
      "b: 10.0\n",
      "TRUE\n"
     ]
    }
   ],
   "source": [
    "w = 7\n",
    "x = 3\n",
    "y = 4\n",
    "z = True           # 1 en las sumas\n",
    "a = w + x * y      # 7 + 3 * 4 => a = 19\n",
    "b = w + x / z      # 7 + 3 / 1 => b = 10.0\n",
    "\n",
    "# b = 7 + 3 / True ====> b = 7 + (3/1) ==> b = 10\n",
    "\n",
    "\n",
    "print('a:', a)\n",
    "print('b:', b)\n",
    "\n",
    "if a > b:\n",
    "    print('TRUE')\n",
    "else:\n",
    "    print('FALSE')"
   ]
  },
  {
   "attachments": {},
   "cell_type": "markdown",
   "id": "5255558f",
   "metadata": {},
   "source": [
    "****"
   ]
  },
  {
   "attachments": {},
   "cell_type": "markdown",
   "id": "bf72aa19",
   "metadata": {},
   "source": [
    "# STRINGS"
   ]
  },
  {
   "cell_type": "code",
   "execution_count": 85,
   "id": "a0091a55",
   "metadata": {},
   "outputs": [
    {
     "data": {
      "text/plain": [
       "'ab'"
      ]
     },
     "execution_count": 85,
     "metadata": {},
     "output_type": "execute_result"
    }
   ],
   "source": [
    "# EJEMPLO 1\n",
    "\n",
    "'a'+'b'"
   ]
  },
  {
   "cell_type": "code",
   "execution_count": 86,
   "id": "577b0b1e",
   "metadata": {},
   "outputs": [
    {
     "data": {
      "text/plain": [
       "'14'"
      ]
     },
     "execution_count": 86,
     "metadata": {},
     "output_type": "execute_result"
    }
   ],
   "source": [
    "# EJEMPLO 2\n",
    "\n",
    "'1'+'4'"
   ]
  },
  {
   "cell_type": "code",
   "execution_count": 87,
   "id": "0c9d2759",
   "metadata": {},
   "outputs": [
    {
     "data": {
      "text/plain": [
       "'14'"
      ]
     },
     "execution_count": 87,
     "metadata": {},
     "output_type": "execute_result"
    }
   ],
   "source": [
    "# EJEMPLO 3\n",
    "\n",
    "str(1) + str(4)   #  str(14)"
   ]
  },
  {
   "cell_type": "code",
   "execution_count": 88,
   "id": "940275ad",
   "metadata": {},
   "outputs": [],
   "source": [
    "## Suma de String + un número: EJEMPLO 4\n",
    "\n",
    "# '1' + 4\n",
    "\n",
    "# TypeError: can only concatenate str (not \"int\") to str"
   ]
  },
  {
   "cell_type": "code",
   "execution_count": 89,
   "id": "0fc38e53",
   "metadata": {},
   "outputs": [
    {
     "data": {
      "text/plain": [
       "'aaaa'"
      ]
     },
     "execution_count": 89,
     "metadata": {},
     "output_type": "execute_result"
    }
   ],
   "source": [
    "## Multiplicación de Strings: EJEMPLO 5\n",
    "\n",
    "4 * 'a'"
   ]
  },
  {
   "attachments": {},
   "cell_type": "markdown",
   "id": "84d32038",
   "metadata": {},
   "source": [
    "****"
   ]
  },
  {
   "attachments": {},
   "cell_type": "markdown",
   "id": "cb5f1121",
   "metadata": {},
   "source": [
    "# VARIABLE GLOBAL y variable local"
   ]
  },
  {
   "cell_type": "code",
   "execution_count": 90,
   "id": "be1212c3",
   "metadata": {},
   "outputs": [
    {
     "name": "stdout",
     "output_type": "stream",
     "text": [
      "1\n"
     ]
    }
   ],
   "source": [
    "v = 1 \n",
    " \n",
    "def fun():\n",
    "    global v   \n",
    "    v = 2      \n",
    "    return v\n",
    " \n",
    "print(v) "
   ]
  },
  {
   "cell_type": "code",
   "execution_count": 91,
   "id": "4af84eef",
   "metadata": {},
   "outputs": [
    {
     "name": "stdout",
     "output_type": "stream",
     "text": [
      "antes de llamar a la función v vale: 1 (print del test)\n",
      "\n",
      "\n",
      "aqui llamo a la función: 2 (antes solo definida)\n",
      "v después de llamar a la función vale: 2 (v es global)\n"
     ]
    }
   ],
   "source": [
    "# explicación 1\n",
    "\n",
    "v = 1 \n",
    " \n",
    "def fun():\n",
    "    global v   \n",
    "    v = 2     \n",
    "    return v\n",
    " \n",
    "print('antes de llamar a la función v vale:', v, '(print del test)')\n",
    "print(\"\\n\")\n",
    "print('aqui llamo a la función:' ,fun(), '(antes solo definida)')\n",
    "print('v después de llamar a la función vale:', v, '(v es global)') "
   ]
  },
  {
   "cell_type": "code",
   "execution_count": 92,
   "id": "75c9452c",
   "metadata": {},
   "outputs": [
    {
     "name": "stdout",
     "output_type": "stream",
     "text": [
      "antes de llamar a la función v vale: 1 (print del test)\n",
      "\n",
      "\n",
      "aqui llamo a la función: 2 (antes solo definida)\n",
      "v después de llamar a la función vale: 1 (v es local)\n"
     ]
    }
   ],
   "source": [
    "# explicación 2\n",
    "\n",
    "v = 1 \n",
    " \n",
    "def fun():  \n",
    "    v = 2     \n",
    "    return v\n",
    " \n",
    "print('antes de llamar a la función v vale:', v, '(print del test)')\n",
    "print(\"\\n\")\n",
    "print('aqui llamo a la función:' ,fun(), '(antes solo definida)')\n",
    "print('v después de llamar a la función vale:', v, '(v es local)')"
   ]
  },
  {
   "attachments": {},
   "cell_type": "markdown",
   "id": "239ed85c",
   "metadata": {},
   "source": [
    "****"
   ]
  },
  {
   "attachments": {},
   "cell_type": "markdown",
   "id": "65bb2b9a",
   "metadata": {},
   "source": [
    "# LENGUAJES INTERPRETADOS"
   ]
  },
  {
   "cell_type": "code",
   "execution_count": null,
   "id": "e6667133",
   "metadata": {},
   "outputs": [],
   "source": [
    "# https://www.freecodecamp.org/espanol/news/lenguajes-compilados-vs-interpretados/\n",
    "\n",
    "# https://aulab.es/noticia/18/diferencia-entre-lenguajes-de-programacion-compilados-e-interpretados"
   ]
  },
  {
   "attachments": {},
   "cell_type": "markdown",
   "id": "2df9b972",
   "metadata": {},
   "source": [
    "****"
   ]
  },
  {
   "attachments": {},
   "cell_type": "markdown",
   "id": "17f89fbd",
   "metadata": {},
   "source": [
    "# ejemplo if elif elif .. else"
   ]
  },
  {
   "cell_type": "code",
   "execution_count": null,
   "id": "6eb866bd",
   "metadata": {},
   "outputs": [],
   "source": [
    "# conversor de notas\n",
    "\n",
    "# 1: 90 through 100 -> A\n",
    "# 2: 80 through  89 -> B\n",
    "# 3: 70 through  79 -> C\n",
    "# 4: 65 through  69 -> D\n",
    "# 5:  0 through  64 -> F"
   ]
  },
  {
   "attachments": {},
   "cell_type": "markdown",
   "id": "56d3f21e",
   "metadata": {},
   "source": [
    "**forma 1**"
   ]
  },
  {
   "cell_type": "code",
   "execution_count": 93,
   "id": "e8d89fd5",
   "metadata": {},
   "outputs": [
    {
     "name": "stdin",
     "output_type": "stream",
     "text": [
      "Enter a numeric grade: 80\n"
     ]
    },
    {
     "name": "stdout",
     "output_type": "stream",
     "text": [
      "Your letter grade is: B\n"
     ]
    }
   ],
   "source": [
    "# Letter Grade Converter\n",
    "grade = int(input('Enter a numeric grade:'))\n",
    "if grade >= 90:    \n",
    "    letter_grade = 'A'\n",
    "elif grade >= 80:  \n",
    "    letter_grade = 'B'\n",
    "elif grade >= 70:  \n",
    "    letter_grade = 'C'\n",
    "elif grade >= 65:  \n",
    "    letter_grade = 'D'\n",
    "else:\n",
    "    letter_grade = 'F'\n",
    "print('Your letter grade is:', letter_grade)"
   ]
  },
  {
   "attachments": {},
   "cell_type": "markdown",
   "id": "67e0b81b",
   "metadata": {},
   "source": [
    "**forma 2: en pocas líneas**"
   ]
  },
  {
   "cell_type": "code",
   "execution_count": 94,
   "id": "5f977fd4",
   "metadata": {},
   "outputs": [
    {
     "name": "stdin",
     "output_type": "stream",
     "text": [
      "Enter a numeric grade: 80\n"
     ]
    },
    {
     "name": "stdout",
     "output_type": "stream",
     "text": [
      "Your letter grade is: B\n"
     ]
    }
   ],
   "source": [
    "# Letter Grade Converter\n",
    "grade = int(input('Enter a numeric grade:'))\n",
    "if grade >= 90:    letter_grade = 'A'\n",
    "elif grade >= 80:  letter_grade = 'B'\n",
    "elif grade >= 70:  letter_grade = 'C'\n",
    "elif grade >= 65:  letter_grade = 'D'\n",
    "else:              letter_grade = 'F'\n",
    "print('Your letter grade is:', letter_grade)"
   ]
  },
  {
   "attachments": {},
   "cell_type": "markdown",
   "id": "26588137",
   "metadata": {},
   "source": [
    "****"
   ]
  },
  {
   "attachments": {},
   "cell_type": "markdown",
   "id": "70169477",
   "metadata": {},
   "source": [
    "# ejemplo con continue"
   ]
  },
  {
   "cell_type": "code",
   "execution_count": null,
   "id": "9e18094a",
   "metadata": {},
   "outputs": [],
   "source": [
    "# Which one of the lines should you put in the snippet below to match the expected output?\n",
    "\n",
    "\n",
    "# Expected output:\n",
    "\n",
    "# 1245\n",
    "\n",
    "\n",
    "# Code:\n",
    "\n",
    "# c = 0\n",
    "# while c < 5:\n",
    "#     c = c + 1\n",
    "#     if c == 3:\n",
    "#         # enter code here\n",
    "#     print(c, end=\"\")\n",
    "\n",
    "# A. exit\n",
    "# B. continue\n",
    "# C. print()\n",
    "# D. break"
   ]
  },
  {
   "cell_type": "code",
   "execution_count": 95,
   "id": "3b98fbae",
   "metadata": {},
   "outputs": [
    {
     "name": "stdout",
     "output_type": "stream",
     "text": [
      "1245"
     ]
    }
   ],
   "source": [
    "c = 0\n",
    "while c < 5:\n",
    "    c = c + 1\n",
    "    if c == 3:\n",
    "        continue\n",
    "    print(c, end=\"\")"
   ]
  },
  {
   "attachments": {},
   "cell_type": "markdown",
   "id": "31f3b277",
   "metadata": {},
   "source": [
    "****"
   ]
  },
  {
   "attachments": {},
   "cell_type": "markdown",
   "id": "eb5f966d",
   "metadata": {},
   "source": [
    "# Bucles en una linea"
   ]
  },
  {
   "cell_type": "code",
   "execution_count": 96,
   "id": "d3acfc20",
   "metadata": {},
   "outputs": [
    {
     "name": "stdout",
     "output_type": "stream",
     "text": [
      "True\n"
     ]
    }
   ],
   "source": [
    "x =15 \n",
    "\n",
    "if x > 10:\n",
    "    print(True)\n",
    "else:\n",
    "    print(False)"
   ]
  },
  {
   "cell_type": "code",
   "execution_count": 97,
   "id": "acbd3218",
   "metadata": {},
   "outputs": [
    {
     "name": "stdout",
     "output_type": "stream",
     "text": [
      "True\n"
     ]
    }
   ],
   "source": [
    "x = 15\n",
    "mayor_10 = True if x > 10 else False\n",
    "\n",
    "print(mayor_10)"
   ]
  },
  {
   "attachments": {},
   "cell_type": "markdown",
   "id": "d7b3e082",
   "metadata": {},
   "source": [
    "****"
   ]
  },
  {
   "attachments": {},
   "cell_type": "markdown",
   "id": "d6d65376",
   "metadata": {},
   "source": [
    "# Caso del if elif\n",
    "\n",
    "**solo ejecuta la primera sentencia correcta que encuentra**"
   ]
  },
  {
   "cell_type": "code",
   "execution_count": 98,
   "id": "07803b44",
   "metadata": {},
   "outputs": [],
   "source": [
    "def funcion_if(x):\n",
    "    if x > 9:    print('numero:', x, ', evaluamos: x > 9')\n",
    "    elif x > 7:  print('numero:', x, ', evaluamos: x > 7')\n",
    "    elif x > 5:  print('numero:', x, ', evaluamos: x > 5')\n",
    "    else:        print('numero:', x, ', evaluamos: else')"
   ]
  },
  {
   "cell_type": "code",
   "execution_count": 99,
   "id": "0b7367b4",
   "metadata": {},
   "outputs": [
    {
     "name": "stdout",
     "output_type": "stream",
     "text": [
      "numero: 10 , evaluamos: x > 9\n"
     ]
    }
   ],
   "source": [
    "funcion_if(10)"
   ]
  },
  {
   "cell_type": "code",
   "execution_count": 100,
   "id": "5e07e987",
   "metadata": {},
   "outputs": [
    {
     "name": "stdout",
     "output_type": "stream",
     "text": [
      "numero: 8 , evaluamos: x > 7\n"
     ]
    }
   ],
   "source": [
    "funcion_if(8)"
   ]
  },
  {
   "cell_type": "code",
   "execution_count": 101,
   "id": "6619cf66",
   "metadata": {},
   "outputs": [
    {
     "name": "stdout",
     "output_type": "stream",
     "text": [
      "numero: 6 , evaluamos: x > 5\n"
     ]
    }
   ],
   "source": [
    "funcion_if(6)"
   ]
  },
  {
   "cell_type": "code",
   "execution_count": 102,
   "id": "987ca38a",
   "metadata": {},
   "outputs": [
    {
     "name": "stdout",
     "output_type": "stream",
     "text": [
      "numero: 4 , evaluamos: else\n"
     ]
    }
   ],
   "source": [
    "funcion_if(4)"
   ]
  },
  {
   "attachments": {},
   "cell_type": "markdown",
   "id": "720d1dc8",
   "metadata": {},
   "source": [
    "****"
   ]
  },
  {
   "cell_type": "markdown",
   "id": "3072eb9f-cde3-4a0b-9739-37a162cfd70a",
   "metadata": {},
   "source": [
    "# While...Else, For...Else"
   ]
  },
  {
   "cell_type": "markdown",
   "id": "74e04902-3e22-4807-9e8c-de915ebb0bd4",
   "metadata": {},
   "source": [
    "Podemos encontrarnos que después de un bucle **for** aparece asociado un **else**, también ocurre en el caso de **while**, en ambos casos lo que haya en el else se ejecuta siempre al final **for** o **while**. Veamos algunos ejemplos:"
   ]
  },
  {
   "cell_type": "markdown",
   "id": "9f49bc24-c46a-44a8-b73d-34491f3db299",
   "metadata": {},
   "source": [
    "## Ejemplo 1: for...else"
   ]
  },
  {
   "cell_type": "code",
   "execution_count": 103,
   "id": "8533021f-e6fd-47eb-b152-a3c406dbcf4f",
   "metadata": {},
   "outputs": [
    {
     "name": "stdout",
     "output_type": "stream",
     "text": [
      "4\n"
     ]
    }
   ],
   "source": [
    "# ¿ Cuál será el valor de x?\n",
    "\n",
    "x  = 0\n",
    "\n",
    "for j in range(2): # posibilidades de 0, 1\n",
    "    for i in range(2): # posibilidades de 0, 1\n",
    "        if i == j:\n",
    "            x += 1\n",
    "    else:\n",
    "        x += 1\n",
    "\n",
    "    # Primera vuelta se compara el 0  de j con las opciones de i que son 0, 1\n",
    "    # j=0, i=0 --> i == j -- x = 0 + 1 --> x = 1\n",
    "    # j=0, i=1 --> i != j --> x = 1\n",
    "    # Acaba la primera vuelta y entra en el else: x = 1 + 1 --> x = 2\n",
    "\n",
    "    # Segunda vuelta compara el 1 de j con las opciones de i que son 0, 1\n",
    "    # j=1, i=0 --> i != j --> x = 2\n",
    "    # j=1, i=1 --> i == j --> x = 2 + 1 --> x = 3\n",
    "    # Acaba la Segunda vuelta y entra en el else: x = 3 + 1 --> x = 4\n",
    "\n",
    "    # resultado: 4\n",
    "print(x)\n",
    "\n",
    "# A. 2\n",
    "# B. 1\n",
    "# C. 4\n",
    "# D. 5\n",
    "\n",
    "# Solución: C"
   ]
  },
  {
   "cell_type": "markdown",
   "id": "68266e62-24ec-4be8-8b30-eea59a545ad6",
   "metadata": {},
   "source": [
    "## Ejemplo 2: for...else"
   ]
  },
  {
   "cell_type": "code",
   "execution_count": 104,
   "id": "fa329ced-6460-48ca-9bc9-4141c07c2645",
   "metadata": {},
   "outputs": [
    {
     "name": "stdout",
     "output_type": "stream",
     "text": [
      "3\n"
     ]
    }
   ],
   "source": [
    "# ¿Cuál será el valor de x en el siguiente código?\n",
    "\n",
    "x = 0\n",
    "\n",
    "for i in range(4): # 0, 1, 2, 3\n",
    "    if 2 * i < 4:\n",
    "        x += 1\n",
    "    # i = 0 --> 2 * 0 < 4 --> x = 0 + 1 --> x = 1\n",
    "    # i = 1 --> 2 * 1 < 4 --> x = 1 + 1 --> x = 2\n",
    "    # i = 2 --> 2 * 2 < 4 --> No se cumple se para!!\n",
    "else:\n",
    "    x += 1\n",
    "    # x = 2 --> x = 2 + 1 --> x = 3\n",
    "\n",
    "# Resultado: 3\n",
    "print(x)\n",
    "\n",
    "# A. 2\n",
    "# B. 3\n",
    "# C. Error en el código\n",
    "# D. 5\n",
    "\n",
    "# Solución: B"
   ]
  },
  {
   "cell_type": "markdown",
   "id": "80074bae-7295-40ce-a062-10cface2d370",
   "metadata": {},
   "source": [
    "## Ejemplo 3: While...else"
   ]
  },
  {
   "cell_type": "markdown",
   "id": "d050063a-cc5a-4ad6-b91c-856f3bd26357",
   "metadata": {},
   "source": [
    "¿Cuántos '#' mostrá el siguiente código?\n",
    "```\n",
    "x = 0\n",
    "while x < 30: # 0 < 30 \n",
    "    x *= 2 # x = 0 * 2 = 0 --> Siempre será 0!!!!\n",
    "    if x > 10:\n",
    "        continue\n",
    "    print(\"#\") # Imprime #\n",
    "else:\n",
    "    print(\"#\")\n",
    "```\n",
    "A. 2\n",
    "\n",
    "B. Bucle infinito\n",
    "\n",
    "C. 4\n",
    "\n",
    "D. Error de código\n",
    "\n",
    "Solución: B"
   ]
  },
  {
   "cell_type": "markdown",
   "id": "7f01ff9c-207e-4785-8115-279ceca0e8e7",
   "metadata": {},
   "source": [
    "## Ejemplo 4: while...else"
   ]
  },
  {
   "cell_type": "code",
   "execution_count": 105,
   "id": "7266eeac-130a-4147-afd8-559938529213",
   "metadata": {},
   "outputs": [
    {
     "name": "stdout",
     "output_type": "stream",
     "text": [
      "#\n"
     ]
    }
   ],
   "source": [
    "# ¿Cuántos '#' mostrá el siguiente código?\n",
    "\n",
    "x = 0\n",
    "\n",
    "while x != 0: # 0 != 0 --> no se cumple NO ENTRA!!!!\n",
    "    x -= 1\n",
    "    print(\"#\", end='')\n",
    "else:\n",
    "    print(\"#\") # Sólo imprime 1!!!\n",
    "\n",
    "# A. 1\n",
    "# B. Bucle infinito\n",
    "# C. 4\n",
    "# D. Error de código\n",
    "\n",
    "# Solución: A"
   ]
  },
  {
   "cell_type": "markdown",
   "id": "5660b65f-4423-4d45-a4f8-0b0b984fcb37",
   "metadata": {},
   "source": [
    "## Ejemplo 5: while...con break ...else"
   ]
  },
  {
   "cell_type": "code",
   "execution_count": 106,
   "id": "fac2611d-dacd-4550-873f-8bc327d8bafc",
   "metadata": {},
   "outputs": [
    {
     "name": "stdout",
     "output_type": "stream",
     "text": [
      "*\n"
     ]
    }
   ],
   "source": [
    "i = 4\n",
    "\n",
    "while i > 0:\n",
    "    i -= 2      # i = i - 2\n",
    "    print('*')  # *\n",
    "    if i == 2:  # cumple la condición\n",
    "        break   # se sale\n",
    "else:\n",
    "    print('*')"
   ]
  },
  {
   "cell_type": "markdown",
   "id": "e46f3fdf-7438-4ff6-b895-f05e5c04b7fd",
   "metadata": {},
   "source": [
    "En este caso el bucle while se para y el else no se ejecutaría!!!"
   ]
  },
  {
   "attachments": {},
   "cell_type": "markdown",
   "id": "45f34e2d-ee7f-430f-9075-cb0306db8698",
   "metadata": {},
   "source": [
    "****"
   ]
  },
  {
   "cell_type": "markdown",
   "id": "3f1ac5b0-11a0-43ae-a5a5-2c7abbf681f1",
   "metadata": {},
   "source": [
    "# Lambda"
   ]
  },
  {
   "cell_type": "code",
   "execution_count": 107,
   "id": "0f4f37c1-291f-4d85-94e3-72ae844be8cf",
   "metadata": {},
   "outputs": [
    {
     "data": {
      "text/plain": [
       "12"
      ]
     },
     "execution_count": 107,
     "metadata": {},
     "output_type": "execute_result"
    }
   ],
   "source": [
    "def funcion_1(x, y):\n",
    "    return x * y\n",
    "\n",
    "funcion_1(4, 3)"
   ]
  },
  {
   "cell_type": "code",
   "execution_count": 108,
   "id": "a1e9e91a-f318-4481-b1f5-dc233e63a717",
   "metadata": {},
   "outputs": [
    {
     "data": {
      "text/plain": [
       "12"
      ]
     },
     "execution_count": 108,
     "metadata": {},
     "output_type": "execute_result"
    }
   ],
   "source": [
    "(lambda x, y: x * y)(4, 3)"
   ]
  },
  {
   "cell_type": "code",
   "execution_count": 109,
   "id": "b0f18fc3-6d88-44ba-a0eb-4081ed6d3ec4",
   "metadata": {},
   "outputs": [
    {
     "data": {
      "text/plain": [
       "12"
      ]
     },
     "execution_count": 109,
     "metadata": {},
     "output_type": "execute_result"
    }
   ],
   "source": [
    "funcion_lambda = lambda x, y: x * y\n",
    "\n",
    "funcion_lambda(4,3)"
   ]
  },
  {
   "attachments": {},
   "cell_type": "markdown",
   "id": "4c631cce-c4fb-4762-8121-36816713d956",
   "metadata": {},
   "source": [
    "****"
   ]
  },
  {
   "cell_type": "markdown",
   "id": "ebe0c103-255c-4cff-ab90-3c80f9b99755",
   "metadata": {},
   "source": [
    "# List comprehension"
   ]
  },
  {
   "cell_type": "code",
   "execution_count": 110,
   "id": "e0719e02-3b6a-4f84-9c3c-1daa1b27d7e2",
   "metadata": {},
   "outputs": [
    {
     "data": {
      "text/plain": [
       "[10, 41, 45, 75, 87, 5]"
      ]
     },
     "execution_count": 110,
     "metadata": {},
     "output_type": "execute_result"
    }
   ],
   "source": [
    "listado = []\n",
    "lista_inicial = [10, 41, 45, 75, 87, 5]\n",
    "\n",
    "for i in lista_inicial:\n",
    "    listado.append(i)\n",
    "listado"
   ]
  },
  {
   "cell_type": "code",
   "execution_count": 111,
   "id": "7ad20d14-0212-453a-82bf-9655473a54b5",
   "metadata": {},
   "outputs": [
    {
     "data": {
      "text/plain": [
       "[10, 41, 45, 75, 87, 5]"
      ]
     },
     "execution_count": 111,
     "metadata": {},
     "output_type": "execute_result"
    }
   ],
   "source": [
    "lista_inicial = [10, 41, 45, 75, 87, 5]\n",
    "\n",
    "[i for i in lista_inicial]"
   ]
  },
  {
   "cell_type": "code",
   "execution_count": 112,
   "id": "21abad8f-0001-4c55-b8c3-36eb196a56ff",
   "metadata": {},
   "outputs": [
    {
     "data": {
      "text/plain": [
       "[-1, -1, 45, 75, 87, -1]"
      ]
     },
     "execution_count": 112,
     "metadata": {},
     "output_type": "execute_result"
    }
   ],
   "source": [
    "listado = []\n",
    "lista_inicial = [10, 41, 45, 75, 87, 5]\n",
    "\n",
    "for i in lista_inicial:\n",
    "    if i >= 45:\n",
    "        listado.append(i)\n",
    "    else: \n",
    "        listado.append(-1)\n",
    "listado"
   ]
  },
  {
   "cell_type": "code",
   "execution_count": 113,
   "id": "55255ab5-57b7-44e3-a205-99030a98a733",
   "metadata": {},
   "outputs": [
    {
     "data": {
      "text/plain": [
       "[-1, -1, 45, 75, 87, -1]"
      ]
     },
     "execution_count": 113,
     "metadata": {},
     "output_type": "execute_result"
    }
   ],
   "source": [
    "lista_inicial = [10, 41, 45, 75, 87, 5]\n",
    "\n",
    "listado = [i if i >= 45 else -1 for i in lista_inicial]\n",
    "listado"
   ]
  },
  {
   "attachments": {},
   "cell_type": "markdown",
   "id": "cebd70f5-57ef-426b-8610-ad70a67e46ca",
   "metadata": {},
   "source": [
    "****"
   ]
  },
  {
   "cell_type": "markdown",
   "id": "1f30a743-8e0f-42fc-9c09-0bb265d6d6d7",
   "metadata": {},
   "source": [
    "# Diccionarios"
   ]
  },
  {
   "cell_type": "code",
   "execution_count": 114,
   "id": "29d9a66b-9adc-4e0a-a402-306ad4b33a4f",
   "metadata": {},
   "outputs": [
    {
     "data": {
      "text/plain": [
       "{'clave1': 4, 'clave2': 8, 'clave3': 10}"
      ]
     },
     "execution_count": 114,
     "metadata": {},
     "output_type": "execute_result"
    }
   ],
   "source": [
    "diccionario = {\"clave1\": 4, \"clave2\": 8, \"clave3\": 10}\n",
    "diccionario"
   ]
  },
  {
   "cell_type": "code",
   "execution_count": 115,
   "id": "ebb33a84-d827-4cac-a86d-dc9a6001fdb1",
   "metadata": {},
   "outputs": [
    {
     "data": {
      "text/plain": [
       "dict_keys(['clave1', 'clave2', 'clave3'])"
      ]
     },
     "execution_count": 115,
     "metadata": {},
     "output_type": "execute_result"
    }
   ],
   "source": [
    "diccionario.keys()"
   ]
  },
  {
   "cell_type": "code",
   "execution_count": 116,
   "id": "026116fe-c764-4c65-9510-f2598908018a",
   "metadata": {},
   "outputs": [
    {
     "data": {
      "text/plain": [
       "dict_keys"
      ]
     },
     "execution_count": 116,
     "metadata": {},
     "output_type": "execute_result"
    }
   ],
   "source": [
    "type(diccionario.keys())"
   ]
  },
  {
   "cell_type": "code",
   "execution_count": 117,
   "id": "72297c35-2f86-49a0-9536-a0ec1434a7b4",
   "metadata": {},
   "outputs": [
    {
     "name": "stdout",
     "output_type": "stream",
     "text": [
      "clave1 clave2 clave3 "
     ]
    }
   ],
   "source": [
    "for key in diccionario.keys():\n",
    "    print(key, end=' ')"
   ]
  },
  {
   "cell_type": "code",
   "execution_count": 118,
   "id": "a0054afc-2424-4b43-b289-5b1d174b72f8",
   "metadata": {},
   "outputs": [
    {
     "data": {
      "text/plain": [
       "dict_values([4, 8, 10])"
      ]
     },
     "execution_count": 118,
     "metadata": {},
     "output_type": "execute_result"
    }
   ],
   "source": [
    "diccionario.values()"
   ]
  },
  {
   "cell_type": "code",
   "execution_count": 119,
   "id": "95c215d9-c738-45bf-86ac-7ec2e1141f71",
   "metadata": {},
   "outputs": [
    {
     "data": {
      "text/plain": [
       "dict_values"
      ]
     },
     "execution_count": 119,
     "metadata": {},
     "output_type": "execute_result"
    }
   ],
   "source": [
    "type(diccionario.values())"
   ]
  },
  {
   "cell_type": "code",
   "execution_count": 120,
   "id": "7a0235bc-f76d-48b7-ac83-cd29d31ebc95",
   "metadata": {},
   "outputs": [
    {
     "name": "stdout",
     "output_type": "stream",
     "text": [
      "4 8 10 "
     ]
    }
   ],
   "source": [
    "for value in diccionario.values():\n",
    "    print(value, end= ' ')"
   ]
  },
  {
   "cell_type": "code",
   "execution_count": 121,
   "id": "42200b28-7385-4902-a348-f1a05048451f",
   "metadata": {},
   "outputs": [
    {
     "data": {
      "text/plain": [
       "dict_items([('clave1', 4), ('clave2', 8), ('clave3', 10)])"
      ]
     },
     "execution_count": 121,
     "metadata": {},
     "output_type": "execute_result"
    }
   ],
   "source": [
    "diccionario.items()"
   ]
  },
  {
   "cell_type": "code",
   "execution_count": 122,
   "id": "32acee93-5af8-4083-b558-d55688ae2c01",
   "metadata": {},
   "outputs": [
    {
     "data": {
      "text/plain": [
       "dict_items"
      ]
     },
     "execution_count": 122,
     "metadata": {},
     "output_type": "execute_result"
    }
   ],
   "source": [
    "type(diccionario.items())"
   ]
  },
  {
   "cell_type": "code",
   "execution_count": 123,
   "id": "b3e91248-f3db-4d8d-a8cd-776a6908b2cf",
   "metadata": {},
   "outputs": [
    {
     "name": "stdout",
     "output_type": "stream",
     "text": [
      "clave1 4 clave2 8 clave3 10 "
     ]
    }
   ],
   "source": [
    "for key, value in diccionario.items():\n",
    "    print(key, value, end=' ')"
   ]
  },
  {
   "cell_type": "code",
   "execution_count": 124,
   "id": "7725e78d-9fd1-4d08-93bb-6e467a8873bd",
   "metadata": {},
   "outputs": [
    {
     "name": "stdout",
     "output_type": "stream",
     "text": [
      "4\n",
      "8\n",
      "10\n"
     ]
    }
   ],
   "source": [
    "for i in diccionario:\n",
    "    print(diccionario[i])"
   ]
  },
  {
   "cell_type": "code",
   "execution_count": 125,
   "id": "c85abe4c-608d-4111-a611-1f0a5fcb2d9d",
   "metadata": {},
   "outputs": [
    {
     "data": {
      "text/plain": [
       "{'clave1': 4, 'clave2': 8, 'clave3': 10}"
      ]
     },
     "execution_count": 125,
     "metadata": {},
     "output_type": "execute_result"
    }
   ],
   "source": [
    "claves = [\"clave1\", \"clave2\", \"clave3\"]\n",
    "valores = [4, 8, 10]\n",
    "\n",
    "diccionario2 = dict(zip(claves, valores))\n",
    "diccionario2"
   ]
  },
  {
   "cell_type": "code",
   "execution_count": 126,
   "id": "c2d5ba4a-3878-47f3-b766-f87474aa08c1",
   "metadata": {},
   "outputs": [
    {
     "data": {
      "text/plain": [
       "[('clave1', 4), ('clave2', 8), ('clave3', 10)]"
      ]
     },
     "execution_count": 126,
     "metadata": {},
     "output_type": "execute_result"
    }
   ],
   "source": [
    "claves = [\"clave1\", \"clave2\", \"clave3\"]\n",
    "valores = [4, 8, 10]\n",
    "\n",
    "listado = list(zip(claves, valores))\n",
    "listado"
   ]
  },
  {
   "attachments": {},
   "cell_type": "markdown",
   "id": "6934e2db-5479-4ef8-ac73-06c38df7538a",
   "metadata": {},
   "source": [
    "****"
   ]
  },
  {
   "cell_type": "markdown",
   "id": "e70919d4-c4a7-4f85-87e9-ad7c42a02420",
   "metadata": {},
   "source": [
    "# Prints"
   ]
  },
  {
   "cell_type": "code",
   "execution_count": 127,
   "id": "404732e3-a18a-4945-8785-0db3600e0403",
   "metadata": {},
   "outputs": [
    {
     "data": {
      "text/plain": [
       "1"
      ]
     },
     "execution_count": 127,
     "metadata": {},
     "output_type": "execute_result"
    }
   ],
   "source": [
    "# Jupyter no necesitamos añadir el print:\n",
    "\n",
    "x = 1\n",
    "x"
   ]
  },
  {
   "cell_type": "code",
   "execution_count": 128,
   "id": "e1247d09-f576-4f11-a0c3-c50f8a8493a8",
   "metadata": {},
   "outputs": [
    {
     "name": "stdout",
     "output_type": "stream",
     "text": [
      "1\n",
      "2\n"
     ]
    }
   ],
   "source": [
    "# Jupyter en el caso de tener más de una variable usaremos la función print:\n",
    "\n",
    "x = 1\n",
    "y = 2\n",
    "print(x)\n",
    "print(y)"
   ]
  },
  {
   "cell_type": "code",
   "execution_count": 129,
   "id": "e276f9c0-90dc-4f26-b4fb-50db4683afd1",
   "metadata": {},
   "outputs": [
    {
     "name": "stdout",
     "output_type": "stream",
     "text": [
      "1\n"
     ]
    }
   ],
   "source": [
    "# VSC si necesitamos usar print:\n",
    "\n",
    "x = 1\n",
    "print(x)"
   ]
  },
  {
   "cell_type": "code",
   "execution_count": 130,
   "id": "14f2d6c2-fc90-4378-8933-6489faf6f320",
   "metadata": {},
   "outputs": [
    {
     "name": "stdout",
     "output_type": "stream",
     "text": [
      "La suma de 1 más 2 es 3\n"
     ]
    }
   ],
   "source": [
    "z = x + y\n",
    "print(\"La suma de \" + str(x) + \" más \" + str(y) + \" es \" + str(z))"
   ]
  },
  {
   "cell_type": "code",
   "execution_count": 131,
   "id": "cc0991f6-02d7-4e43-bc92-00e12933004c",
   "metadata": {},
   "outputs": [
    {
     "name": "stdout",
     "output_type": "stream",
     "text": [
      "La suma de 1 más 2 es 3\n"
     ]
    }
   ],
   "source": [
    "print(f\"La suma de {x} más {y} es {z}\")"
   ]
  },
  {
   "cell_type": "code",
   "execution_count": 132,
   "id": "668977e1-8917-4a55-9dd7-c80dafdd8a37",
   "metadata": {},
   "outputs": [
    {
     "name": "stdout",
     "output_type": "stream",
     "text": [
      "La suma de 1 más 2 es 3\n"
     ]
    }
   ],
   "source": [
    "print(\"La suma de %s más %s es %s\" %(x, y, z))"
   ]
  },
  {
   "cell_type": "code",
   "execution_count": 133,
   "id": "039fff13-6217-41dd-b694-52c8bd48b772",
   "metadata": {},
   "outputs": [
    {
     "name": "stdout",
     "output_type": "stream",
     "text": [
      "La suma de 1 más 2 es 3\n"
     ]
    }
   ],
   "source": [
    "print(\"La suma de {} más {} es {}\".format(x, y, z))"
   ]
  },
  {
   "cell_type": "code",
   "execution_count": 134,
   "id": "2f10827d-ac1b-4647-92fd-791969fe57ff",
   "metadata": {},
   "outputs": [
    {
     "name": "stdout",
     "output_type": "stream",
     "text": [
      "La suma de  1  más  2  es  3\n"
     ]
    }
   ],
   "source": [
    "print(\"La suma de \", x, \" más \", y, \" es \" , z)"
   ]
  },
  {
   "attachments": {},
   "cell_type": "markdown",
   "id": "90a26d2c-fa37-4b0f-b8bb-5c3b9200b237",
   "metadata": {},
   "source": [
    "****"
   ]
  },
  {
   "cell_type": "markdown",
   "id": "cc4a8cc6-221d-4d72-a799-57f096cef5f4",
   "metadata": {},
   "source": [
    "# Set"
   ]
  },
  {
   "cell_type": "code",
   "execution_count": 135,
   "id": "4d7e1a36-7372-448a-b7d8-99c731928403",
   "metadata": {},
   "outputs": [
    {
     "data": {
      "text/plain": [
       "[1, 5, 7, 98, 74, 65, 14, 1, 4, 5, 98, 74]"
      ]
     },
     "execution_count": 135,
     "metadata": {},
     "output_type": "execute_result"
    }
   ],
   "source": [
    "numeros = [\n",
    "            1, 5, 7, \n",
    "            98, 74, 65, \n",
    "            14, 1, 4, \n",
    "            5, 98, 74\n",
    "]\n",
    "numeros"
   ]
  },
  {
   "cell_type": "code",
   "execution_count": 136,
   "id": "55a9de66-add5-4a7d-9fde-3c6eba72f550",
   "metadata": {},
   "outputs": [
    {
     "data": {
      "text/plain": [
       "{1, 4, 5, 7, 14, 65, 74, 98}"
      ]
     },
     "execution_count": 136,
     "metadata": {},
     "output_type": "execute_result"
    }
   ],
   "source": [
    "numeros = set(numeros)\n",
    "numeros"
   ]
  },
  {
   "cell_type": "code",
   "execution_count": 137,
   "id": "8480046b-79a5-4c66-94b7-1a1fcf00a45e",
   "metadata": {},
   "outputs": [
    {
     "ename": "AttributeError",
     "evalue": "'set' object has no attribute 'append'",
     "output_type": "error",
     "traceback": [
      "\u001b[31m---------------------------------------------------------------------------\u001b[39m",
      "\u001b[31mAttributeError\u001b[39m                            Traceback (most recent call last)",
      "\u001b[36mCell\u001b[39m\u001b[36m \u001b[39m\u001b[32mIn[137]\u001b[39m\u001b[32m, line 1\u001b[39m\n\u001b[32m----> \u001b[39m\u001b[32m1\u001b[39m \u001b[43mnumeros\u001b[49m\u001b[43m.\u001b[49m\u001b[43mappend\u001b[49m(\u001b[32m6\u001b[39m)\n",
      "\u001b[31mAttributeError\u001b[39m: 'set' object has no attribute 'append'"
     ]
    }
   ],
   "source": [
    "numeros.append(6)"
   ]
  },
  {
   "cell_type": "code",
   "execution_count": 138,
   "id": "9f7d45db-0319-47b3-8211-d6912d917993",
   "metadata": {},
   "outputs": [
    {
     "ename": "TypeError",
     "evalue": "'set' object does not support item assignment",
     "output_type": "error",
     "traceback": [
      "\u001b[31m---------------------------------------------------------------------------\u001b[39m",
      "\u001b[31mTypeError\u001b[39m                                 Traceback (most recent call last)",
      "\u001b[36mCell\u001b[39m\u001b[36m \u001b[39m\u001b[32mIn[138]\u001b[39m\u001b[32m, line 1\u001b[39m\n\u001b[32m----> \u001b[39m\u001b[32m1\u001b[39m \u001b[43mnumeros\u001b[49m\u001b[43m[\u001b[49m\u001b[32;43m0\u001b[39;49m\u001b[43m]\u001b[49m = \u001b[32m6\u001b[39m\n\u001b[32m      2\u001b[39m numeros\n",
      "\u001b[31mTypeError\u001b[39m: 'set' object does not support item assignment"
     ]
    }
   ],
   "source": [
    "numeros[0] = 6\n",
    "numeros"
   ]
  },
  {
   "cell_type": "code",
   "execution_count": 139,
   "id": "1d271943-81a8-41b9-926a-a20c16e17082",
   "metadata": {},
   "outputs": [
    {
     "data": {
      "text/plain": [
       "[1, 98, 65, 4, 5, 7, 74, 14]"
      ]
     },
     "execution_count": 139,
     "metadata": {},
     "output_type": "execute_result"
    }
   ],
   "source": [
    "numeros = list(numeros)\n",
    "numeros"
   ]
  },
  {
   "cell_type": "code",
   "execution_count": 140,
   "id": "4c63291d-afbc-45b1-a8d9-ef3f56a2164e",
   "metadata": {},
   "outputs": [
    {
     "data": {
      "text/plain": [
       "[1, 4, 5, 7, 14, 65, 74, 98]"
      ]
     },
     "execution_count": 140,
     "metadata": {},
     "output_type": "execute_result"
    }
   ],
   "source": [
    "numeros = [\n",
    "            1, 5, 7, \n",
    "            98, 74, 65, \n",
    "            14, 1, 4, \n",
    "            5, 98, 74\n",
    "]\n",
    "\n",
    "numeros = list(set(numeros))\n",
    "numeros.sort()\n",
    "numeros"
   ]
  },
  {
   "attachments": {},
   "cell_type": "markdown",
   "id": "b6696ea5-332d-46d9-aef7-3c34e16cbcc0",
   "metadata": {},
   "source": [
    "****"
   ]
  },
  {
   "cell_type": "markdown",
   "id": "d77a5517-5e0b-4707-bd71-a4d7cf74d59e",
   "metadata": {},
   "source": [
    "# 2.1.3 Evaluar y navegar por el ecosistema de ciencia de datos de Python.\n",
    "\n",
    "La toma de decisiones comerciales en tiempo real se refiere al uso de datos y análisis para tomar decisiones y tomar medidas instantáneamente a medida que ocurren los eventos. Esto difiere de la inteligencia comercial tradicional que se basa en datos históricos e informes periódicos. El análisis en tiempo real permite a las empresas responder al comportamiento del cliente, los cambios del mercado y los problemas operativos a medida que ocurren. Esta agilidad es clave para actividades como la detección de fraudes, recomendaciones personalizadas, optimizaciones de la cadena de suministro y más.\n",
    "\n",
    "Python es especialmente adecuado para el análisis en tiempo real debido a su flexibilidad, escalabilidad y capacidades de creación de scripts. Las bibliotecas de análisis de datos de Python como Pandas, NumPy y Matplotlib proporcionan la base para crear paneles de control, alertas y sistemas de soporte de decisiones en tiempo real.\n",
    "\n",
    "**Las ventajas de Python sobre Excel en la toma de decisiones**\n",
    "\n",
    "Si bien Excel se usa comúnmente para el análisis de datos, tiene limitaciones en escenarios en tiempo real:\n",
    "\n",
    "- Falta de escalabilidad: Excel solo puede manejar hasta 1 millón de filas, lo que limita los volúmenes de datos para el análisis. Python no tiene tales restricciones.\n",
    "- Difícil de automatizar: Excel requiere una actualización manual para los informes actualizados. El análisis de Python se puede automatizar con scripts para actualizar los paneles.\n",
    "- Sin personalización: Excel fuerza flujos de trabajo predefinidos. Python permite un análisis personalizado mediante bibliotecas como Pandas y NumPy.\n",
    "- Dificultades de integración: Excel no se integra fácilmente con flujos de datos en tiempo real. Los scripts de Python pueden conectarse a API, bases de datos y servicios en la nube.\n",
    "\n",
    "Con Python, los análisis se pueden escalar, automatizar, personalizar e integrar con fuentes de datos en tiempo real: capacidades necesarias para la toma de decisiones en tiempo real.\n",
    "\n",
    "**Ejemplos de análisis de datos de Python en contextos comerciales**\n",
    "\n",
    "A continuación, se muestran algunos ejemplos del uso de Python para decisiones comerciales en tiempo real:\n",
    "\n",
    "- Venta minorista: analice los datos de transacciones de comercio electrónico para optimizar dinámicamente los precios, las promociones y las recomendaciones para impulsar las conversiones y los ingresos.\n",
    "- Transporte: realice un seguimiento de las ubicaciones GPS de los conductores y pasajeros para combinar de manera eficiente la oferta y la demanda, asignar rutas a los vehículos y ajustar los precios.\n",
    "- Finanzas: analice continuamente los datos comerciales, las noticias y las redes sociales para identificar oportunidades de inversión y riesgos que requieran acciones inmediatas.\n",
    "- Marketing: combina el análisis de clientes con los datos de rendimiento de las campañas en tiempo real para optimizar el gasto en todos los canales y mejorar el ROI.\n",
    "\n",
    "Python permite crear sistemas de toma de decisiones inteligentes y siempre activos. Permite a las empresas utilizar datos en tiempo real para operaciones críticas.\n",
    "\n",
    "**¿Cómo se puede utilizar Python en los negocios?**\n",
    "\n",
    "Python es un lenguaje de programación versátil que puede aportar valor real en muchas funciones empresariales. Estas son algunas de las formas clave en las que las empresas modernas utilizan Python:\n",
    "\n",
    "- Análisis y visualización de datos: con bibliotecas como Pandas, NumPy, Matplotlib y Seaborn, Python es un lenguaje excelente para explorar, limpiar, analizar y visualizar todo tipo de datos empresariales. Esto permite obtener mejores conocimientos y tomar mejores decisiones.\n",
    "- Aprendizaje automático: la biblioteca scikit-learn de Python ofrece potentes capacidades de aprendizaje automático. Las empresas aplican Python ML a tareas como modelado predictivo, segmentación de clientes, sistemas de recomendación y más. - - Desarrollo web: los marcos web de Python como Django y Flask facilitan la creación de aplicaciones y sitios web. Las empresas lo utilizan para herramientas internas, portales de clientes, sitios de marketing, comercio electrónico y más.\n",
    "- Automatización - Python puede automatizar todo tipo de procesos comerciales a través de scripts. Esto mejora la eficiencia y reduce el error humano. Algunos ejemplos comunes incluyen los procesos ETL, la generación de informes y más.\n",
    "\n",
    "En resumen, Python ofrece simplicidad pero gran potencia para las tareas de datos. También se integra bien en muchos sistemas comerciales. Estas cualidades hacen de Python un lenguaje accesible para impulsar la productividad en todos los departamentos. La integración de Python permite un mejor uso de los datos para una mejor toma de decisiones.\n",
    "\n",
    "**¿Cómo usar Python en el análisis empresarial?**\n",
    "\n",
    "Python es un lenguaje de programación increíblemente versátil que puede ser muy eficaz para el análisis empresarial y la toma de decisiones basada en datos. A continuación, se muestran algunas formas clave en las que se puede aplicar Python:\n",
    "\n",
    "*Recopilación y preparación de datos*\n",
    "\n",
    "Python ofrece formas sencillas de importar datos de varias fuentes, como Excel, archivos CSV, bases de datos y API web. La biblioteca Pandas simplifica la limpieza y preparación de datos: puede gestionar valores faltantes, dar formato a tipos de datos, fusionar conjuntos de datos y más.\n",
    "\n",
    "*Análisis exploratorio de datos*\n",
    "\n",
    "Realice investigaciones iniciales de los datos visualizando relaciones y distribuciones para descubrir información. Las bibliotecas Matplotlib y Seaborn de Python tienen funciones de trazado para crear histogramas, mapas de calor, diagramas de dispersión y más.\n",
    "\n",
    "*Análisis estadístico*\n",
    "\n",
    "Realice análisis cuantitativos con Pandas, NumPy y SciPy. Calcule métricas, ejecute pruebas estadísticas, analice la varianza y cree modelos predictivos. Python le brinda el poder de analizar números de manera eficiente.\n",
    "\n",
    "*Aprendizaje automático*\n",
    "\n",
    "Entrene algoritmos de aprendizaje automático como regresión, bosque aleatorio, SVM y redes neuronales con Scikit-Learn de Python. Estos pueden impulsar análisis predictivos y productos de datos que evolucionan a través del aprendizaje continuo.\n",
    "\n",
    "*Paneles de control e informes*\n",
    "\n",
    "Comparta análisis de datos con las partes interesadas a través de paneles de control dinámicos con Panel y HoloViews. O exporte marcos de datos y visualizaciones finalizados a Excel.\n",
    "\n",
    "En resumen, Python brinda el conjunto de herramientas analíticas para transformar datos sin procesar en información empresarial procesable. Con los fundamentos de Python más bibliotecas como Pandas, Matplotlib y Scikit-Learn, los analistas pueden importar, preparar, analizar e informar sobre datos para impulsar decisiones estratégicas."
   ]
  },
  {
   "attachments": {},
   "cell_type": "markdown",
   "id": "8f967bef-11e3-4465-a6e3-22c211b6ca34",
   "metadata": {},
   "source": [
    "****"
   ]
  },
  {
   "cell_type": "markdown",
   "id": "e3901548-6cb8-48e3-98bc-f1f350fdbe35",
   "metadata": {},
   "source": [
    "# 2.1.5 – Explicar e implementar las mejores prácticas de programación de scripts de Python"
   ]
  },
  {
   "cell_type": "markdown",
   "id": "f7003b45-5794-4548-96c2-19fb791ba793",
   "metadata": {},
   "source": [
    "1. [Introducción a PEP 8](#Introducción-a-PEP-8)\n",
    "2. [PEP 257 – Convenciones de cadenas de documentos](#PEP-257-–-Convenciones-de-cadenas-de-documentos)\n",
    "\n",
    "Aprenderas sobre:\n",
    "\n",
    "- PEP 20 (El zen de Python)\n",
    "\n",
    "- PEP 8 (Guía de estilo para código Python)\n",
    "\n",
    "- PEP 257 (Convenciones de cadenas de documentos)\n",
    "\n",
    "- Cómo evitar errores comunes al escribir código;\n",
    "\n",
    "- Cómo escribir código elegante y efectivo.\n",
    "\n",
    "**¿Qué es PEP?**\n",
    "\n",
    "PEP se refiere al documento en línea, que describe los estándares del lenguaje y proporciona información sobre muchos cambios y procesos relacionados con Python.\n",
    "\n",
    "**En la jungla de los PEP**\n",
    "\n",
    "Hay muchos PEP, cientos de ellos. Vea PEP 0: Índice de propuestas de mejora de Python (PEP) para descubrir por sí mismo que no son palabras ociosas.\n",
    "\n",
    "Sería notable, pero desafortunadamente un gran desafío, cubrirlos todos en este curso. Por esta razón, hemos elegido cuatro de ellos que merecen un análisis más detallado y deben considerarse lecturas obligatorias. Estos son:\n",
    "\n",
    "- PEP 1 – Propósito y pautas de los PEP, que proporciona información sobre el propósito de los PEP, sus tipos y presenta pautas generales;\n",
    "- PEP 8 – Guía de estilo para código Python, que proporciona convenciones y presenta las mejores prácticas para la codificación Python;\n",
    "- PEP 20 – El zen de Python, que presenta una lista de principios para el diseño de Python;\n",
    "- PEP 257 – Convenciones de cadenas de documentación, que proporciona pautas para las convenciones y la semántica asociadas con las cadenas de documentación de Python.\n",
    "\n",
    "Te animamos a que te sumerjas en los PEP por tu cuenta. Estamos seguros de que te resultará cada vez más curioso a medida que tu experiencia y conocimiento de programación aumenten.\n",
    "\n",
    "## Introducción a PEP 8\n",
    "\n",
    "Como se mencionó anteriormente, PEP 8 es un documento que proporciona convenciones de codificación (guía de estilo de código) para el código Python.\n",
    "\n",
    "PEP 8 se considera uno de los PEP más importantes y una lectura obligada para todo programador profesional de Python, ya que ayuda a que el código sea más consistente, más legible y más eficiente.\n",
    "\n",
    "Aunque algunos proyectos de programación pueden adoptar sus propias pautas de estilo (en cuyo caso, dichas pautas específicas del proyecto pueden preferirse a las convenciones proporcionadas por PEP 8, especialmente en caso de conflictos o problemas de compatibilidad con versiones anteriores), las mejores prácticas de PEP 8 siguen siendo una lectura muy recomendable, ya que te ayudan a comprender mejor la filosofía detrás de Python y a convertirte en un programador más consciente y competente.\n",
    "\n",
    "PEP 8 sigue evolucionando, ya que se están identificando e incluyendo nuevas convenciones adicionales y, al mismo tiempo, se están identificando algunas convenciones antiguas como obsoletas y se desaconseja su seguimiento.\n",
    "\n",
    "**El duende de las mentes pequeñas**\n",
    "\n",
    "\"Una coherencia tonta es el duende de las mentes pequeñas\". Esta es una cita del ensayo de Ralph Waldo Emerson \"Autosuficiencia\", donde Emerson insta a los lectores a ser coherentes en sus creencias y prácticas. En nuestro caso, significa que no debemos olvidarnos de una observación simple pero importante: **nuestro código será leído mucho más a menudo de lo que será escrito.**\n",
    "\n",
    "Por un lado, la coherencia es un factor crucial que determina la legibilidad del código. Por otro lado, la incoherencia con PEP 8 puede ser a veces una mejor opción. Si las guías de estilo no son aplicables a su proyecto, puede ser mejor ignorarlas y decidir por sí mismo qué es lo mejor. Como dice PEP 8:\n",
    "\n",
    "*Una guía de estilo se trata de coherencia. La coherencia con esta guía de estilo es importante. La coherencia dentro de un proyecto es más importante. La coherencia dentro de un módulo o función es lo más importante. [...] Sin embargo, sepa cuándo ser incoherente [...]. En caso de duda, utilice su mejor criterio.*\n",
    "\n",
    "¿Cuándo debería ignorar algunas pautas específicas de PEP 8 (o al menos considerar hacerlo)?\n",
    "\n",
    "- Si seguirlas significará romper la compatibilidad con versiones anteriores.\n",
    "- Si seguirlas tendrá un efecto negativo en la legibilidad del código.\n",
    "- Si seguirlas causará incoherencia con el resto del código. (Sin embargo, esta puede ser una buena oportunidad para reescribir el código y hacerlo compatible con PEP 8).\n",
    "- Si no hay una buena razón para hacer que el código sea compatible con PEP 8, o el código es anterior a PEP 8.\n",
    "\n",
    "PEP 8 tiene como objetivo mejorar la legibilidad del código y \"hacerlo consistente en todo el espectro del código Python\". Por lo tanto, es una buena idea mantener su código Python compatible con PEP 8, pero nunca debe adherirse ciegamente a estas recomendaciones. Siempre debe utilizar su mejor criterio.\n",
    "\n",
    "**Comprobadores de compatibilidad con PEP 8**\n",
    "\n",
    "Existen muchas herramientas útiles que pueden ayudarlo a validar el estilo de su código y verificarlo con las convenciones de estilo de PEP 8. Estas herramientas se pueden instalar y ejecutar localmente, o se puede acceder a ellas en línea. Queremos mostrarle solo dos de ellas, pero lo alentamos a que explore más por su cuenta:\n",
    "\n",
    "- pycodestyle (antes llamado pep8, pero se cambió el nombre para evitar confusiones) - Comprobador de guía de estilo de Python; Le permite verificar su código Python para verificar su conformidad con las convenciones de estilo en PEP 8. Puede instalar la herramienta con el siguiente comando en la terminal:\n",
    "```\n",
    "$ pip install pycodestyle\n",
    "```\n",
    "\n",
    "Puede ejecutarla en un archivo o archivos para obtener información sobre la no conformidad (e indicar errores en el código fuente y su frecuencia).\n",
    "\n",
    "Más información: https://github.com/PyCQA/pycodestyle\n",
    "Documentación: https://pycodestyle.pycqa.org/en/latest/\n",
    "\n",
    "- También puede instalar **autopep8** para formatear automáticamente su código Python para que cumpla con las pautas de PEP 8. Para poder usarlo, necesita la instalación de pycodestyle en su máquina para indicar las partes del código que requieren correcciones de formato.\n",
    "\n",
    "Más información: https://pypi.org/project/autopep8/\n",
    "\n",
    "- **PEP 8 online** es un verificador de PEP 8 online creado por Valentin Bryukhanov que te permite pegar tu código o subir un archivo y validarlo con las pautas de estilo de PEP 8. La herramienta online está creada con Flask, Twitter Bootstrap y el módulo PEP8 (el mismo módulo que acabamos de describir).\n",
    "\n",
    "Más información: http://pep8online.com/about\n",
    "\n",
    "**Recomendaciones para el diseño del código**\n",
    "\n",
    "PEP 8 está pensado para mejorar tu experiencia de codificación y hacer tu vida mucho más sencilla. Como se dijo antes, la forma en que escribes tu código tiene un gran impacto en su legibilidad. Sin embargo, no debes olvidar que también puede determinar su legalidad sintáctica.\n",
    "\n",
    "En esta sección, nos centraremos en las recomendaciones de estilo relacionadas con aspectos como:\n",
    "\n",
    "- sangría, uso de tabulaciones y espacios;\n",
    "- longitud de línea, saltos de línea y líneas en blanco;\n",
    "- codificación de archivos fuente e importaciones de módulos.\n",
    "\n",
    "**Sangría**\n",
    "El nivel de sangría, entendido como el espacio en blanco inicial (es decir, espacios y tabulaciones) al comienzo de cada línea lógica, se utiliza para agrupar declaraciones.\n",
    "\n",
    "Al escribir código en Python, debe recordar seguir estas dos reglas simples:\n",
    "\n",
    "- Use cuatro espacios por nivel de sangría, y;\n",
    "- Use espacios en lugar de tabulaciones.\n",
    "\n",
    "Sin embargo, puede usar tabulaciones cuando desee mantener la coherencia con el código que ya ha sido sangrado con tabulaciones (si no es posible o eficiente hacerlo compatible con PEP 8).\n",
    "\n",
    "Nota: Mezclar tabulaciones y espacios para la sangría no está permitido en Python 3. Esto generará una excepción TabError: “TabError: uso inconsistente de tabulaciones y espacios en la sangría”.\n",
    "\n",
    "Ejemplos:\n",
    "\n",
    "❌ Incorrect\n",
    "```\n",
    "# Bad:\n",
    "\n",
    "def my_fun_one(x, y):\n",
    "    return x * y\n",
    "\n",
    "def my_fun_two(a, b):\n",
    "  return a + b\n",
    "```\n",
    "\n",
    "✅ Correct\n",
    "```\n",
    "# Good:\n",
    "\n",
    "def my_function(x, y):\n",
    "    return x * y\n",
    "```\n",
    "\n",
    "**Líneas de continuación**\n",
    "\n",
    "Las líneas de continuación (es decir, líneas lógicas de código que desea dividir porque son demasiado largas o porque desea mejorar la legibilidad) están permitidas si se utilizan paréntesis, corchetes o llaves:\n",
    "\n",
    "❌ Incorrect\n",
    "```\n",
    "# Bad:\n",
    "\n",
    "my_list_one = [1, 2, 3,\n",
    "    4, 5, 6\n",
    "]\n",
    "\n",
    "a = my_function_name(a, b, c,\n",
    "    d, e, f)\n",
    "```\n",
    "✅ Correct\n",
    "```\n",
    "# Good:\n",
    "\n",
    "my_list_one = [\n",
    "    1, 2, 3,\n",
    "    4, 5, 6,\n",
    "    ]\n",
    "\n",
    "a = my_function_name(a, b, c,\n",
    "                       d, e, f)\n",
    "```\n",
    "✅ Correct\n",
    "```\n",
    "# Good:\n",
    "\n",
    "my_list_two = [\n",
    "    1, 2, 3,\n",
    "    4, 5, 6,\n",
    "]\n",
    "\n",
    "\n",
    "def my_fun(\n",
    "        a, b, c,\n",
    "        d, e, f):\n",
    "    return (a + b + c) * (d + e + f)\n",
    "```\n",
    "\n",
    "Puede leer más sobre la sangría en el contexto de las líneas de continuación en https://www.python.org/dev/peps/pep-0008/#indentation.\n",
    "\n",
    "**Longitud máxima de línea y saltos de línea**\n",
    "\n",
    "Si es posible, debe limitar todas las líneas a un máximo de 79 caracteres, ya que esto le ayudará a evitar que se abarquen varias líneas de código. Si el abaratamiento de línea es inevitable, utilice la continuación de línea implícita de Python de la página anterior.\n",
    "\n",
    "En el caso de cadenas de documentación y comentarios, la longitud de línea no debe superar los 72 caracteres.\n",
    "```\n",
    "print(\"Hello, world!\")\n",
    "```\n",
    "21 characters in one line ✅\n",
    "\n",
    "```\n",
    "print(\"Python is a very simple language, and has a very straightforward syntax.\")\n",
    "```\n",
    "81 characters in one line ❌\n",
    "\n",
    "Por conveniencia, si un equipo (o equipos) que trabajan en un proyecto determinado lo acuerdan, según PEP 8, es posible aumentar la longitud de línea a 99 caracteres (esto no se relaciona con cadenas de documentación/comentarios, cuya longitud de línea debe seguir limitada a 72 caracteres).\n",
    "\n",
    "Aun así, la biblioteca estándar de Python es conservadora en este asunto y requiere que no se utilicen más de 79 caracteres por línea (72 para comentarios/cadenas de documentación).\n",
    "\n",
    "**Saltos de línea y operadores**\n",
    "\n",
    "Aunque en Python se permite dividir líneas de código antes o después de operadores binarios (siempre que lo haga de manera consistente y que esta convención se haya utilizado en su código antes), se recomienda que siga las sugerencias de estilo de Donald Knuth y realice el corte antes de los operadores binarios, ya que esto da como resultado un código más legible y agradable a la vista.\n",
    "\n",
    "Ejemplo:\n",
    "\n",
    "✅\n",
    "```\n",
    "# Recommended\n",
    "\n",
    "total_fruits = (apples\n",
    "                + pears\n",
    "                + grapes\n",
    "                - (black currants - red currants)\n",
    "                - bananas\n",
    "                + oranges)\n",
    "```\n",
    "\n",
    "**Líneas en blanco**\n",
    "\n",
    "Las líneas en blanco, llamadas espacios verticales, mejoran la legibilidad de su código.\n",
    "\n",
    "Permiten que la persona que lee su código vea la división del código en secciones, lo ayudan a comprender mejor la relación entre las secciones y a captar la lógica de los bloques de código dados con mayor facilidad.\n",
    "\n",
    "De la misma manera, usar demasiadas líneas en blanco en su código hará que parezca escaso y más difícil de seguir, por lo que siempre debe tener cuidado de no usarlas en exceso.\n",
    "\n",
    "PEP 8 recomienda que use:\n",
    "\n",
    "– **dos líneas en blanco** para rodear las definiciones de funciones y clases de nivel superior:\n",
    "✅\n",
    "```\n",
    "class ClassOne:\n",
    "    pass\n",
    "\n",
    "\n",
    "Class ClassTwo:\n",
    "    pass\n",
    "\n",
    "\n",
    "def my_top_level_function():\n",
    "    return None\n",
    "```\n",
    "\n",
    "– **una sola línea en blanco** para rodear las definiciones de métodos dentro de una clase:\n",
    "✅\n",
    "```\n",
    "class MyClass:\n",
    "    def method_one(self):\n",
    "        return None\n",
    "\n",
    "    def method_two(self):\n",
    "        return None\n",
    "```\n",
    "\n",
    "– **Líneas en blanco** en las funciones para indicar secciones lógicas (con moderación). Por ejemplo:\n",
    "✅\n",
    "```\n",
    "def calculate_average():\n",
    "    how_many_numbers = int(input(\"How many numbers? \"))\n",
    "    \n",
    "    if how_many_numbers > 0:\n",
    "        sum_numbers = 0\n",
    "        for i in range(0, how_many_numbers):\n",
    "            number = float(input(\"Enter a number: \"))\n",
    "            sum_numbers += number\n",
    "\n",
    "        average = 0\n",
    "        average = sum_numbers / how_many_numbers\n",
    "\n",
    "        return average\n",
    "    else:\n",
    "        return \"Nothing happens.\"\n",
    "```\n",
    "\n",
    "**Codificaciones predeterminadas**\n",
    "\n",
    "Se recomienda utilizar las codificaciones predeterminadas de Python (Python 3: UTF-8, Python 2: ASCII). No se recomiendan las codificaciones que no sean las predeterminadas y solo deben utilizarse con fines de prueba o en situaciones en las que los comentarios o las cadenas de documentación utilicen un nombre (por ejemplo, el nombre de un autor) que contenga un carácter que no sea ASCII.\n",
    "\n",
    "PEP 8 establece que “todos los identificadores en la biblioteca estándar de Python DEBEN usar identificadores que solo sean ASCII y DEBEN usar palabras en inglés siempre que sea posible”.\n",
    "\n",
    "Nota: consulte PEP 3131 (Compatibilidad con identificadores que no sean ASCII) para obtener más información sobre la lógica, así como las ventajas y desventajas de usar identificadores que no sean ASCII.\n",
    "\n",
    "**Importaciones**\n",
    "\n",
    "Siempre debe colocar las importaciones al comienzo de su secuencia de comandos, entre los comentarios/cadenas de documentación del módulo y las constantes y variables globales del módulo, respetando el siguiente orden:\n",
    "\n",
    "1. Importaciones de la biblioteca estándar;\n",
    "2. Importaciones de terceros relacionadas;\n",
    "3. Importaciones específicas de la biblioteca/aplicación local.\n",
    "Asegúrese de insertar una línea en blanco para separar cada uno de los grupos de importaciones anteriores.\n",
    "\n",
    "PEP 8 recomienda que sus importaciones estén en líneas separadas, en lugar de apretujadas en una sola línea:\n",
    "\n",
    "❌\n",
    "```\n",
    "# Bad:\n",
    "\n",
    "import sys, os\n",
    "```\n",
    "✅\n",
    "```\n",
    "# Good:\n",
    "\n",
    "import os\n",
    "import sys\n",
    "```\n",
    "\n",
    "Aún así, es correcto realizar una importación de una línea usando la sintaxis ```from … import … ```:\n",
    "\n",
    "✅\n",
    "```\n",
    "from subprocess import Popen, PIPE\n",
    "```\n",
    "\n",
    "Si es posible, utilice importaciones absolutas (es decir, importaciones que utilicen rutas absolutas separadas por puntos). Por ejemplo:\n",
    "\n",
    "✅\n",
    "```\n",
    "import animals.mammals.dogs.puppies\n",
    "```\n",
    "\n",
    "En Python, se prefieren estas importaciones, especialmente cuando la aplicación no es demasiado grande ni extremadamente compleja.\n",
    "\n",
    "No debería (y en realidad no puede) utilizar importaciones relativas implícitas, ya que ya no están presentes en Python 3. También debería evitar utilizar importaciones con comodines, por ejemplo:\n",
    "\n",
    "❌\n",
    "```\n",
    "from animals import *\n",
    "```\n",
    "\n",
    "ya que inhiben la legibilidad del código y pueden interferir con algunos de los nombres que ya están presentes en el espacio de nombres.\n",
    "\n",
    "**Recomendaciones para comillas de cadena, espacios en blanco y comas finales**\n",
    "\n",
    "En esta sección, nos centraremos en las recomendaciones de estilo relacionadas con aspectos como:\n",
    "\n",
    "- comillas de cadena;\n",
    "- espacios en blanco en expresiones y declaraciones, y el uso de comas finales.\n",
    "\n",
    "**Comillas de cadena**\n",
    "\n",
    "Python nos permite usar cadenas entre comillas simples (p. ej., ```'una cadena'```) y entre comillas dobles (p. ej., ```\"una cadena\"```). Son lo mismo, y no hay ninguna recomendación especial en PEP que le indique qué estilo debe adoptar al escribir su código. Nuevamente, la regla más importante es: sea coherente con su elección.\n",
    "\n",
    "Sin embargo, para mejorar la legibilidad, PEP 8 recomienda que intente evitar el uso de barras invertidas (caracteres de escape) en cadenas. Esto significa que:\n",
    "\n",
    "- si su cadena contiene caracteres entre comillas simples, se recomienda que utilice cadenas entre comillas dobles;\n",
    "\n",
    "- si su cadena contiene caracteres entre comillas dobles, se recomienda que utilice cadenas entre comillas simples.\n",
    "\n",
    "En el caso de cadenas entre comillas triples, PEP 8 recomienda que siempre utilice caracteres entre comillas dobles para mantener la coherencia con la convención de cadenas de documentación detallada en PEP 257 (pronto le informaremos más sobre esto).\n",
    "\n",
    "**Espacio en blanco en expresiones y declaraciones**\n",
    "\n",
    "PEP 8 contiene una sección larga que muestra ejemplos de usos correctos e incorrectos de espacios en blanco en el código. En general, debe evitar usar demasiados espacios en blanco, ya que dificultan el seguimiento de su código.\n",
    "\n",
    "Por lo tanto, por ejemplo, no utilice demasiados espacios en blanco inmediatamente dentro de paréntesis/corchetes/llaves, o inmediatamente antes de una coma/punto y coma/dos puntos:\n",
    "\n",
    "❌\n",
    "```\n",
    "# Bad:\n",
    "\n",
    "my_list = ( dog[ 2 ] , 5 , { \"year\": 1980 } , \"string\" )\n",
    "if 5 in my_list : print( \"Hello!\" ) ; print( \"Goodbye!\" )\n",
    "```\n",
    "\n",
    "✅\n",
    "```\n",
    "# Good:\n",
    "\n",
    "my_list = (dog[2], 5, {\"year\": 1980}, \"string\")\n",
    "if 5 in my_list: print(\"Hello!\"); print(\"Goodbye!\")\n",
    "```\n",
    "\n",
    "**Espacio en blanco en expresiones y declaraciones (cont.)**\n",
    "\n",
    "En el caso de una porción, los dos puntos deben tener la misma cantidad de espacio en ambos lados (debe actuar como un operador binario) a menos que se omita un parámetro de porción, en cuyo caso también se debe omitir el espacio.\n",
    "\n",
    "Ejemplos:\n",
    "\n",
    "❌\n",
    "```\n",
    "# Bad:\n",
    "\n",
    "bread[0 : 3], roll[1: 3 :5], bun[3: 5:], donut[ 1: :5 ]\n",
    "```\n",
    "\n",
    "✅\n",
    "```\n",
    "# Good:\n",
    "\n",
    "bread[0:3], roll[1:3:5], bun[3:5:], donut[1::5]\n",
    "```\n",
    "\n",
    "**Comas finales**\n",
    "\n",
    "Nuevamente, no use demasiados espacios en blanco:\n",
    "\n",
    "- después de una coma final seguida de un paréntesis de cierre, o\n",
    "- inmediatamente antes de un paréntesis de apertura que marca el comienzo de la lista de argumentos de una invocación de función, o\n",
    "- inmediatamente antes de un paréntesis de apertura que marca el comienzo de la indexación/segmentación.\n",
    "\n",
    "Ejemplos:\n",
    "\n",
    "❌\n",
    "```\n",
    "# Bad:\n",
    "\n",
    "my_tuple = (0, 1, 2, )\n",
    "my_function (5)\n",
    "my_dictionary ['key'] = my_list [index]\n",
    "```\n",
    "\n",
    "✅\n",
    "```\n",
    "# Good:\n",
    "\n",
    "my_tuple = (0, 1, 2,)\n",
    "my_function(5)\n",
    "my_dictionary['key'] = my_list[index]\n",
    "```\n",
    "\n",
    "**Espacio en blanco en expresiones y declaraciones (cont.)**\n",
    "\n",
    "No utilice más de un espacio antes y después de los operadores, por ejemplo:\n",
    "\n",
    "❌\n",
    "```\n",
    "# Bad:\n",
    "\n",
    "a         = 1\n",
    "b         = a        + 2\n",
    "my_string = 'string' * 2\n",
    "```\n",
    "\n",
    "✅\n",
    "```\n",
    "# Good:\n",
    "\n",
    "a = 1\n",
    "b = a + 2\n",
    "my_string = 'string' * 2\n",
    "```\n",
    "\n",
    "Rodee los operadores binarios con un solo espacio en ambos lados. Sin embargo, si en su código hay operadores que tienen diferentes prioridades, puede considerar agregar espacios solo alrededor de los operadores de menor prioridad, por ejemplo:\n",
    "\n",
    "❌\n",
    "```\n",
    "# Bad:\n",
    "\n",
    "x=x+3\n",
    "x -=1\n",
    "\n",
    "x = x * 2 - 1\n",
    "x = (x - 1) * (x + 2)\n",
    "```\n",
    "\n",
    "✅\n",
    "```\n",
    "# Good:\n",
    "\n",
    "x = x + 3\n",
    "x -= 1\n",
    "\n",
    "x = x*2 - 1  # Use your own judgement.\n",
    "x = (x-1) * (x+2)  # Use your own judgement.\n",
    "```\n",
    "\n",
    "No rodee el operador = con espacios si se usa para indicar un argumento de palabra clave/valor predeterminado, por ejemplo:\n",
    "\n",
    "❌\n",
    "```\n",
    "# Bad:\n",
    "\n",
    "def my_function(x, y = 2):\n",
    "    return x * y\n",
    "```\n",
    "\n",
    "✅\n",
    "```\n",
    "# Good:\n",
    "\n",
    "def my_function(x, y=2):\n",
    "    return x * y\n",
    "```\n",
    "\n",
    "\n",
    "**Recomendaciones para el uso de comentarios**\n",
    "\n",
    "Los comentarios tienen como objetivo mejorar la legibilidad del código sin afectar el resultado del programa. Los buenos programadores documentan su código y explican los fragmentos de código más complejos, de modo que la persona que lea el código comprenda correctamente lo que sucede en el programa. Debe utilizar los comentarios con prudencia y, siempre que sea posible, escribir código que se comente por sí mismo (por ejemplo, dé nombres propios a las variables, funciones y elementos del código).\n",
    "\n",
    "Hay algunas reglas que debe seguir al dejar comentarios en el código:\n",
    "\n",
    "- Escriba comentarios que no contradigan el código ni confundan al lector. Son mucho peores que no incluir ningún comentario.\n",
    "- Actualice sus comentarios cuando se actualice su programa.\n",
    "- Escriba los comentarios como oraciones completas (escriba con mayúscula la primera palabra si no es un identificador y finalice la oración con un punto). Por ejemplo:\n",
    "\n",
    "```\n",
    "# Program that calculates body mass index (BMI).\n",
    "\n",
    "height = float(input(\"Your height (in meters): \"))\n",
    "weight = float(input(\"Your weight (in kilograms): \"))\n",
    "bmi = round(weight / (height*height), 2)\n",
    "\n",
    "print(\"Your BMI: {}\".format(bmi))\n",
    "```\n",
    "\n",
    "- Al escribir comentarios en bloque con comentarios de varias oraciones, use dos espacios después de cada punto que finalice una oración, excepto después de la oración final.\n",
    "- Escriba los comentarios en inglés (a menos que esté 100% seguro de que el código nunca será leído por personas que no hablen su idioma).\n",
    "- Los comentarios no deben constar de más de 72 caracteres por línea (pero eso ya lo sabe).\n",
    "\n",
    "**Comentarios en bloque**\n",
    "\n",
    "Los comentarios en bloque suelen ser más largos y debe usarlos para explicar secciones de código en lugar de líneas específicas. Le permiten dejar información para el lector en varias líneas (y varias oraciones). Generalmente, los comentarios en bloque:\n",
    "\n",
    "- deben hacer referencia al código que los sigue;\n",
    "- deben tener la misma sangría que el código que describen.\n",
    "\n",
    "Al escribir comentarios en bloque, comience cada línea con ```#``` seguido de un solo espacio y separe los párrafos con una línea que contenga solo el símbolo ```#```. Por ejemplo:\n",
    "\n",
    "```\n",
    "def calculate_product():\n",
    "    # Calculate the average of three numbers obtained from the user. Then \n",
    "    # multiply the result by 4.17, and assign it to the product variable.\n",
    "    #\n",
    "    # Return the value passed to the product variable and use it\n",
    "    # for the subsequent x to y calculations to speed up the process.\n",
    "    sum_numbers = 0\n",
    "    \n",
    "    for number in range(0, 3):\n",
    "        number = float(input(\"Enter a number: \"))\n",
    "        sum_numbers += number\n",
    "    \n",
    "    average = (sum_numbers / 3) * 4.17\n",
    "    product = average\n",
    "    return product\n",
    "\n",
    "x = product * 1.73\n",
    "y = x ** 2\n",
    "x_to_y = (x*y) / 1.05\n",
    "```\n",
    "\n",
    "**Comentarios en línea**\n",
    "\n",
    "Los comentarios en línea son comentarios que se escriben en la misma línea que tus declaraciones. Deben referirse a una sola línea de código o una sola declaración o brindar una explicación más detallada de la misma. No debes abusar de ellos.\n",
    "\n",
    "En general, los comentarios en línea deben estar:\n",
    "\n",
    "- separados por dos (o más) espacios de la declaración a la que se refieren;\n",
    "- utilizados con moderación.\n",
    "\n",
    "Pueden ayudarte a recordar rápidamente lo que hace una línea de código en particular o ser útiles cuando los lea alguien que no esté familiarizado con tu código. Por ejemplo:\n",
    "\n",
    "✅\n",
    "```\n",
    "counter = 0     # Initialize the counter.\n",
    "```\n",
    "\n",
    "Sin embargo, no utilices comentarios en línea (ni ningún otro tipo de comentario) para explicar cosas obvias o innecesarias. Por ejemplo:\n",
    "\n",
    "❌\n",
    "```\n",
    "a += 1     # Increment a.\n",
    "```\n",
    "\n",
    "Intente siempre hacer que su código se comente por sí mismo en lugar de agregar comentarios, incluso si parecen sensatos o necesarios, por ejemplo:\n",
    "\n",
    "❌\n",
    "```\n",
    "# Bad:\n",
    "\n",
    "a = 'Adam'  # User's first name.\n",
    "```\n",
    "\n",
    "✅\n",
    "```\n",
    "# Good:\n",
    "\n",
    "user_first_name = 'Adam'\n",
    "```\n",
    "\n",
    "**Cadenas de documentación**\n",
    "\n",
    "Las cadenas de documentación, o docstrings como se las suele llamar, te permiten proporcionar descripciones y explicaciones para todos los módulos, archivos, funciones, clases y métodos públicos que utilizas en tu código. Deberías utilizarlas en este contexto.\n",
    "\n",
    "Trataremos las docstrings cuando hablemos de PEP 257 más adelante en el curso. Por el momento, solo debes recordar que son un tipo de comentario que comienza y termina con tres comillas dobles: \"\"\".\n",
    "\n",
    "Ejemplos:\n",
    "\n",
    "```\n",
    "# A multi-line docstring:\n",
    "\n",
    "def fun(x, y):\n",
    "    \"\"\"Convert x and y to strings,\n",
    "    and return a list of strings.\n",
    "    \"\"\"\n",
    "    ...\n",
    "```\n",
    "\n",
    "```\n",
    "# A single-line docstring:\n",
    "\n",
    "def fun(x):\n",
    "    \"\"\"Return the square root of x.\"\"\"\n",
    "    ...\n",
    "```\n",
    "\n",
    "**Convenciones de nomenclatura: Introducción**\n",
    "\n",
    "Al programar, a menudo hay que nombrar identificadores y otras entidades en el código. Dar nombres adecuados y evitar los inapropiados sin duda aumentará la legibilidad del código y le ahorrará a usted (y a otros programadores que lean su código) mucho tiempo y esfuerzo.\n",
    "\n",
    "Seguramente ya sigue algunas convenciones para dar nombres a variables, funciones y clases en su código; algunas de ellas pueden provenir de su experiencia previa en programación en otros lenguajes, otras pueden ser una elección puramente práctica, mientras que otras pueden estar determinadas por los requisitos del proyecto o las prácticas adoptadas por su empresa o equipo.\n",
    "\n",
    "Lamentablemente, las convenciones de nomenclatura de Python no son completamente consistentes en toda la biblioteca de Python. Sin embargo, se recomienda que los nuevos módulos y paquetes se escriban de conformidad con las recomendaciones de nomenclatura de PEP 8 (a menos que una biblioteca existente siga un estilo diferente, en cuyo caso la coherencia interna es la solución preferida).\n",
    "\n",
    "**Estilos de nombres**\n",
    "\n",
    "Existen muchos estilos de nombres diferentes que se utilizan en programación, por ejemplo:\n",
    "\n",
    "- ```a``` – una sola letra minúscula\n",
    "- ```A``` – una sola letra mayúscula\n",
    "\n",
    "En general, debes evitar usar nombres de una sola letra como l (la letra minúscula el), I (la letra mayúscula eye) y O (la letra mayúscula oh), porque pueden confundirse fácilmente con los números 1 y 0, y hacer que tu código sea mucho menos legible.\n",
    "\n",
    "- ```mysamplename``` – minúsculas\n",
    "- ```my_sample_name``` – minúsculas con guiones bajos (snake_case)\n",
    "- ```MYSAMPLENAME``` – mayúsculas\n",
    "- ```MY_SAMPLE_NAME``` – mayúsculas con guiones bajos (SNAKE_CASE)\n",
    "- ```MySampleName``` – CamelCase (también conocido como palabras en mayúscula, StudlyCaps o CapWords)\n",
    "Una nota breve: cuando uses acrónimos, debes poner en mayúsculas todas las letras que forman el acrónimo, p. ej., ```HTTPServerError```\n",
    "- ```mySampleName``` – mayúsculas y minúsculas, que en realidad difiere de CamelCase solo por tener un carácter inicial en minúscula\n",
    "- ```My_Sample_Name``` – palabras en mayúsculas con guiones bajos (considerado feo por PEP 8)\n",
    "- ```_my_sample_name``` – un nombre que comienza con un solo guión bajo inicial indica un \"uso interno\" débil, por ejemplo, la instrucción de ```SAMPLE import *``` no importará objetos cuyos nombres comiencen con un guión bajo. - ```my_sample_name_``` -– se utiliza un único guión bajo final por convención para evitar conflictos con palabras clave de Python, p. ej., ```class_```\n",
    "- ```__my_sample_name``` – un nombre que comienza con un guión bajo inicial doble se utiliza para atributos de clase donde invoca la alteración de nombres, p. ej., dentro de ```class MySampleClass```, ```__room``` se convertirá en ```_MySampleClass__room```\n",
    "- ```__my_sample_name__``` – un nombre que comienza y termina con un guión bajo doble se utiliza para objetos y atributos \"mágicos\" que residen en espacios de nombres controlados por el usuario, p. ej., ```__init__```, ```__import__``` o ```__file__```. No debe crear dichos nombres, sino usarlos solo como se documenta.\n",
    "\n",
    "**Convenciones de nomenclatura: recomendaciones**\n",
    "\n",
    "PEP 8 establece una convención de nomenclatura específica con respecto a un identificador específico.\n",
    "\n",
    "Al asignar un nombre a una variable, debe utilizar una letra minúscula o una palabra o palabras, y separar las palabras con guiones bajos, p. ej., ```x```, ```var```, ```mi_variable```. La misma convención se aplica a las variables globales.\n",
    "\n",
    "Las funciones siguen las mismas reglas que las variables, es decir, al asignar un nombre a una función, debe utilizar una letra minúscula o una palabra o palabras separadas por guiones bajos, p. ej., ```fun```, ```mi_función```.\n",
    "\n",
    "Al asignar un nombre a una clase, debe adoptar el estilo CamelCase, p. ej., ```MiClaseDeMuestra```, o si solo hay una palabra, comience con una letra mayúscula, p. ej., ```Muestra```.\n",
    "\n",
    "Al dar un nombre a un método, debe utilizar una o más palabras en minúscula separadas por guiones bajos, p. ej., método, ```mi_metodo_de_clase```. Siempre debe utilizar self como primer argumento para los métodos de instancia y cls como primer argumento para los métodos de clase.\n",
    "\n",
    "Al dar un nombre a una constante, debe utilizar letras mayúsculas y separar las palabras con guiones bajos, p. ej., ```TOTAL```, ```MI_CONSTANTE```.\n",
    "\n",
    "Al dar un nombre a un módulo, debe utilizar una o más palabras en minúscula, preferiblemente cortas, y separarlas con guiones bajos, p. ej., ```samples.py```, mis_muestras..\n",
    "\n",
    "Al dar un nombre a un paquete, debe utilizar una o más palabras en minúscula, preferiblemente cortas. No debe separar las palabras, p. ej., ```paquete```, ```mipaquete```.\n",
    "\n",
    "Los nombres de las variables de tipo deben seguir la convención CamelCase y ser cortos, p. ej., ```AnyStr``` o ```Num```.\n",
    "\n",
    "Al asignar un nombre a una excepción, debe seguir la misma convención que con las clases (tenga en cuenta que las excepciones deben ser en realidad clases), es decir, utilice el estilo CamelCase.\n",
    "\n",
    "Nota: puede utilizar un estilo diferente, p. ej., mayúsculas y minúsculas mixtas (```mySample```) para funciones y variables, pero solo si esto ayuda a mantener la compatibilidad con versiones anteriores y si ese es el estilo predominante.\n",
    "\n",
    "Para obtener información más detallada sobre las convenciones de nombres de PEP 8, vaya a la página oficial de PEP 8: https://www.python.org/dev/peps/pep-0008/#prescriptive-naming-conventions.\n",
    "\n",
    "**Recomendaciones de programación**\n",
    "\n",
    "A menudo, existen múltiples formas de escribir código que realizarán la misma acción en Python; sin embargo, PEP 8, nuevamente, impone ciertas convenciones y brinda consejos sobre cómo debe seguir las mejores prácticas de programación para evitar la ambigüedad, mantener la coherencia con su código anterior y las bibliotecas de Python, y lograr un mejor rendimiento/eficiencia del código.\n",
    "\n",
    "A continuación, se incluyen:\n",
    "\n",
    "– Realice comparaciones con el objeto ```None``` con el uso de ```is``` o ```is not```, no con los operadores de (des)igualdad (```==``` y ```!=```), por ejemplo:\n",
    "\n",
    "❌\n",
    "```\n",
    "# Bad:\n",
    "\n",
    "if x == None:\n",
    "    print(\"A\")\n",
    "```\n",
    "\n",
    "✅\n",
    "```\n",
    "# Good:\n",
    "\n",
    "if x is None:\n",
    "    print(\"A\")\n",
    "```\n",
    "\n",
    "– no utilices los operadores de (des)igualdad al comparar valores booleanos con Verdadero o Falso. Nuevamente, utiliza ```es``` o ```no es``` en su lugar:\n",
    "\n",
    "❌\n",
    "```\n",
    "# Bad:\n",
    "\n",
    "my_boolean_value = 2 > 1\n",
    "if my_boolean_value == True:\n",
    "    print(\"A\")\n",
    "else:\n",
    "    print(\"B\")\n",
    "```\n",
    "\n",
    "✅\n",
    "```\n",
    "# Good:\n",
    "\n",
    "my_boolean_value = 2 > 1\n",
    "if my_boolean_value is True:\n",
    "    print(\"A\")\n",
    "else:\n",
    "    print(\"B\")\n",
    "```\n",
    "\n",
    "\n",
    "✅✅ \n",
    "```\n",
    "# Better:\n",
    "\n",
    "my_boolean_value = 2 > 1\n",
    "if my_boolean_value:\n",
    "    print(\"A\")\n",
    "else:\n",
    "    print(\"B\")\n",
    "```\n",
    "\n",
    "– para facilitar la lectura, utilice el operador ```is not``` en lugar de ```not … is```:\n",
    "\n",
    "❌\n",
    "```\n",
    "# Bad:\n",
    "\n",
    "if not x is None:\n",
    "    print(\"It exists\")\n",
    "```\n",
    "\n",
    "✅\n",
    "```\n",
    "# Good:\n",
    "\n",
    "if x is not None:\n",
    "    print(\"It exists\")\n",
    "```\n",
    "\n",
    "Nota: evite usar ```if x```: para expresar ```if x is not None:``` cuando desee verificar si a una variable o argumento determinado establecido en None de manera predeterminada se le ha asignado un valor diferente.\n",
    "\n",
    "– cuando desee \"capturar\" una excepción, haga referencia a excepciones específicas en lugar de usar solo la cláusula ```except:```:\n",
    "\n",
    "```\n",
    "try:\n",
    "    import my_module\n",
    "except ImportError:\n",
    "    my_module = None\n",
    "```\n",
    "\n",
    "– al comprobar prefijos o sufijos, utilice los métodos de cadena ```''.startswith()``` y ```''.endswith()```, ya que son más claros y menos propensos a errores. En general, es mejor utilizar métodos de cadena en lugar de importar el módulo de cadena.\n",
    "\n",
    "❌\n",
    "```\n",
    "# Bad:\n",
    "\n",
    "if name[:4] == 'Adam':\n",
    "    # do something\n",
    "```\n",
    "\n",
    "✅\n",
    "```\n",
    "# Good:\n",
    "\n",
    "if name.startswith('Adam'):\n",
    "    # do something\n",
    "```\n",
    "\n",
    "Para obtener más sugerencias sobre cómo escribir mejor código y qué prácticas debería evitar, consulte la página oficial de Recomendaciones de programación de PEP 8.\n",
    "\n",
    "Ahora, pongamos en práctica algunas de las cosas que hemos aprendido.\n",
    "\n",
    "## PEP 257 – Convenciones de cadenas de documentación\n",
    "\n",
    "**¿Qué es PEP 257?**\n",
    "\n",
    "PEP 257 es un documento creado como parte de la Guía del desarrollador de Python, que intenta estandarizar la estructura de alto nivel de las cadenas de documentación. Describe las convenciones, las mejores prácticas y la semántica (¡no las leyes ni las regulaciones!) asociadas con la documentación del código Python mediante cadenas de documentación. En resumen, intenta responder las siguientes dos preguntas:\n",
    "\n",
    "- ¿Qué deben contener las cadenas de documentación de Python?\n",
    "- ¿Cómo se deben utilizar las cadenas de documentación de Python?\n",
    "\n",
    "**¿Qué son las cadenas de documentación?**\n",
    "\n",
    "Una cadena de documentación es \"una cadena literal que aparece como la primera declaración en una definición de módulo, función, clase o método. Dicha cadena de documentación se convierte en el atributo especial ``` __doc__``` de ese objeto\". (PEP 257)\n",
    "\n",
    "En otras palabras, las cadenas de documentación son cadenas de documentación de Python que se utilizan en la definición de clase, módulo, función y método para proporcionar información sobre la funcionalidad de un fragmento de código más grande de forma prescriptiva.\n",
    "\n",
    "Ayudan a los programadores (incluido usted) a recordar y comprender el propósito, el funcionamiento y las capacidades de bloques o secciones de código particulares.\n",
    "\n",
    "**Docstrings vs. comentarios**\n",
    "\n",
    "Antes de continuar, debemos entender esta distinción esencial (como sugieren sus nombres): los comentarios se utilizan para comentar el código, mientras que las docstrings se utilizan para documentar el código. Entonces, ¿cuál es la diferencia entre comentarios y docstrings y, en última instancia, entre comentar y documentar código?\n",
    "\n",
    "Observa la tabla a continuación, donde queremos mostrarte algunas de las diferencias entre comentarios y docstrings en Python:\n",
    "\n",
    "|Comentarios | Docstrings |\n",
    "| -------------------- | ---------------------------------------------------------------------- |\n",
    "|Los comentarios son declaraciones no ejecutables en Python, lo que significa que el intérprete de Python los ignora; no se almacenan en la memoria y no se puede acceder a ellos durante la ejecución del programa (es decir, se puede acceder a ellos mirando el código fuente). |Se puede acceder a las docstrings leyendo el código fuente y utilizando el atributo ```__doc__``` o la función ```help()```.|\n",
    "|El objetivo principal de los comentarios es aumentar la legibilidad y la comprensión del código, y explicar el código al usuario de una manera significativa. El usuario aquí se refiere tanto a otros programadores como a usted (por ejemplo, cuando vuelve a su código después de un tiempo), alguien que querrá o necesitará modificar, ampliar o mantener el código.| El objetivo principal de las cadenas de documentación es documentar su código, es decir, describir su uso, funcionalidad y capacidades a usuarios que no necesariamente necesitan saber cómo funciona.|\n",
    "|Los comentarios no se pueden convertir en documentación; su propósito es simplificar el código, proporcionar información precisa y ayudar a comprender la intención de un fragmento o una línea en particular. | Las cadenas de documentación se pueden convertir fácilmente en documentación real, que describe el comportamiento de un módulo o una función, el significado de los parámetros o el propósito de un paquete específico.|\n",
    "\n",
    "Por supuesto, como verá en las siguientes páginas, hay mucho más que queremos contarle sobre las cadenas de documentación: cómo usarlas, por qué usarlas y dónde; y – como es de esperar – la diferencia entre comentarios y docstrings se hará aún más evidente.\n",
    "\n",
    "**¿Por qué comentar? ¿Por qué documentar?**\n",
    "\n",
    "Antes de profundizar en el tema de los docstrings, intentemos responder a la pregunta: ¿por qué es importante comentar y documentar el código?\n",
    "\n",
    "Básicamente, no debemos olvidar esta simple regla de Guido van Rossum: \"El código se lee más a menudo de lo que se escribe\", lo que básicamente significa que el código que escribimos hoy probablemente será leído en el futuro, ya sea por usted, por otro programador o incluso por equipos de programadores.\n",
    "\n",
    "Por lo tanto, es crucial que desarrollemos hábitos de programación y escritura de código que permitan a los desarrolladores y otros usuarios comprender los porqués y los cómo del código, ya que esto hará que la reutilización y la contribución al código sean mucho más fáciles.\n",
    "\n",
    "Por lo tanto, deberíamos estar de acuerdo en que documentar el código ayuda a mantener un código más limpio, más legible y más sostenible, lo que significa que es una de las mejores prácticas que un desarrollador responsable y bueno debería adoptar como parte de su conjunto de herramientas de taller de programación diaria.\n",
    "\n",
    "**Un breve resumen de los comentarios**\n",
    "\n",
    "Esperamos que recuerdes que los comentarios en Python se crean usando el signo numeral (#). Deben ser bastante breves (no más de 72 caracteres por línea), comenzar con una letra mayúscula y terminar con un punto.\n",
    "\n",
    "Si necesitas incluir un comentario más largo en tu código, puedes usar un comentario de varias líneas, en cuyo caso debes usar el signo numeral al comienzo de cada línea de comentario.\n",
    "\n",
    "Generalmente, debes insertar comentarios cerca del código que estás describiendo para que el lector sepa a qué parte del código te refieres. Debes ser preciso: no incluyas información irrelevante o redundante; y, sobre todo, intenta diseñar y escribir tu código de tal manera que se comente a sí mismo de manera fácil y comprensible (por ejemplo, dale nombres de autocomentarios a las variables).\n",
    "\n",
    "**¿Cuándo usar comentarios?**\n",
    "\n",
    "Aparte de los casos más obvios, como las descripciones de código y algoritmos, los comentarios pueden tener otros propósitos útiles. Por ejemplo:\n",
    "\n",
    "- pueden ayudarte a etiquetar aquellas secciones de código que se realizarán en el futuro o que se dejaron para mejoras posteriores, por ejemplo:\n",
    "```\n",
    "# TODO: Add a function that takes the val and prc arguments.\n",
    "```\n",
    "\n",
    "- Pueden ayudarte a comentar (y descomentar) aquellas secciones de código que quieras probar, por ejemplo:\n",
    "\n",
    "```\n",
    "def fun(val):\n",
    "    return val * 2\n",
    "\n",
    "user_value = int(input(\"Enter the value: \"))\n",
    "# fun(user_value)\n",
    "# user_value = user_value + \"foo\"\n",
    "\n",
    "print(fun(user_value))\n",
    "```\n",
    "\n",
    "- Pueden ayudarte a planificar tu trabajo y delinear ciertas secciones del código que estarás diseñando, por ejemplo:\n",
    "\n",
    "```\n",
    "# Step 1: Ask the user for the value.\n",
    "# Step 2: Change the value to an int and handle possible exceptions.\n",
    "# Step 3: Print the value multiplied by 0.7.\n",
    "```\n",
    "\n",
    "**Algunas palabras sobre las sugerencias de tipo: PEP 484**\n",
    "\n",
    "Antes de pasar de hablar sobre los comentarios a profundizar en las cadenas de documentación, hay una característica más de Python de la que queremos hablarte brevemente: las sugerencias de tipo.\n",
    "\n",
    "Las sugerencias de tipo son un mecanismo introducido con Python 3.5 y descrito en PEP 484 que te permite equipar tu código con información adicional sin usar comentarios. Es una característica opcional, pero más formalizada, que te permite usar el módulo de tipado integrado de Python para proporcionar información de sugerencias de tipo en tu código con el fin de dejar ciertas sugerencias, marcar ciertos posibles problemas que puedan surgir en el proceso de desarrollo y etiquetar nombres específicos con información de tipo.\n",
    "\n",
    "En pocas palabras, las sugerencias de tipo te permiten indicar estáticamente la información de tipo relacionada con los objetos de Python, lo que significa que puedes, por ejemplo, agregar información de tipo a una función: indicar el tipo de un argumento que acepta la función o el tipo de valor que devolverá. Observa los siguientes ejemplos:\n",
    "\n",
    "```\n",
    "# No type information added:\n",
    "def hello(name):\n",
    "    return \"Hello, \" + name\n",
    "\n",
    "\n",
    "# Type information added to a function:\n",
    "def hello(name: str) -> str:\n",
    "    return \"Hello, \" + name\n",
    "```\n",
    "\n",
    "La sugerencia de tipo es opcional, lo que significa que PEP 484 no lo obliga a dejar ninguna información relacionada con el tipado estático en su código. El primer ejemplo no tiene ninguna sugerencia de tipo.\n",
    "\n",
    "En el segundo ejemplo, la anotación ```str```, que indica que el argumento ```name``` pasado a la función ```hello()``` debe ser del tipo str, nos ayuda a minimizar el riesgo de ciertas situaciones (in)esperadas: reduce el riesgo de pasar un tipo de valor incorrecto a la función. La anotación ```-> str``` también indica que la función ```hello()``` devolverá un valor del tipo *str*, que, por supuesto, es una cadena.\n",
    "\n",
    "¿Qué significa todo esto para usted y cómo puede aprovechar la sugerencia de tipo en Python?\n",
    "\n",
    "- En primer lugar, la sugerencia de tipo puede ayudarlo a documentar su código. En lugar de dejar información relacionada con argumentos y respuestas en cadenas de documentación, puede usar el lenguaje en sí para cumplir con este propósito. Esta puede ser una forma elegante y útil de resaltar parte de la información más importante del código, especialmente al publicar código en un proyecto, compartirlo con otros desarrolladores o dejar sugerencias para usted mismo cuando tenga que volver al código fuente en el futuro. En algunos de los proyectos de desarrollo de software más grandes, las sugerencias de tipos son una práctica recomendada que ayuda a los equipos a comprender mejor las formas en que los tipos se ejecutan a través del código.\n",
    "\n",
    "- Las sugerencias de tipos le permiten notar ciertos tipos de errores de manera más efectiva y escribir un código más atractivo y, sobre todo, más limpio. Al usar sugerencias de tipos, piensa con más cuidado en los tipos en su código, lo que ayuda a prevenir o detectar algunos de los errores que pueden resultar de la naturaleza dinámica de Python. (Sin embargo, no somos defensores de hacer que Python requiera tipado estático).\n",
    "\n",
    "- Debe recordar que las sugerencias de tipos en Python no se utilizan en tiempo de ejecución, lo que significa que toda la información de tipos que deja en el código en forma de anotaciones se borra cuando se ejecuta el programa. En otras palabras, las sugerencias de tipos no tienen ningún efecto en el funcionamiento de su código. Por otro lado, cuando se utiliza junto con algún sistema de verificación de tipos o herramientas similares a lint que se pueden conectar al editor o IDE, puede ayudar a escribir código completando automáticamente la escritura y detectando y resaltando errores antes de que se ejecute el código.\n",
    "\n",
    "- Dado que las sugerencias de tipos no tienen efecto en el código fuente, esto significa que no tienen impacto en los tiempos de rendimiento (Python ignora los caracteres en tiempo de ejecución, lo que no tiene influencia en la velocidad de interpretación/compilación).\n",
    "\n",
    "En esta breve sección solo hemos abordado las preguntas más fundamentales relacionadas con el tema de las sugerencias de tipos en Python. Para obtener más información sobre el tema, lo alentamos a que eche un vistazo más de cerca a PEP 483: la teoría de las sugerencias de tipos, PEP 484: sugerencias de tipos (información sobre la sintaxis para anotaciones de tipos, análisis estático y refactorización, verificación de tipos) y PEP 3107: anotaciones de funciones (información sobre la sintaxis para agregar anotaciones de metadatos a las funciones de Python).\n",
    "\n",
    "Ahora es el momento de pasar a las cadenas de documentación.\n",
    "\n",
    "**Docstrings – ¿dónde y cómo?**\n",
    "\n",
    "Los docstrings deben estar entre comillas dobles triples (```\"\"\"triple comillas dobles\"\"\"```). Por ejemplo:Docstrings – ¿dónde y cómo?\n",
    "Ya hemos dicho que los docstrings pueden usarse en clases, módulos, funciones y definiciones de métodos. Ahora queremos profundizar en esto: hay casos en los que no solo pueden incluirse, sino que deben incluirse. Para ser más precisos, todos los módulos, funciones, clases y métodos públicos que son exportados por un módulo determinado deben tener docstrings.\n",
    "\n",
    "Los métodos no públicos no necesitan contener docstrings. Sin embargo, se recomienda que dejes un comentario justo después de la línea def que describa lo que realmente hace el método. En el caso de los paquetes, estos también deben estar documentados, y puedes escribir docstrings de paquetes en el docstring del módulo del archivo ```__init__.py``` en la carpeta del paquete.\n",
    "\n",
    "Como hemos dicho antes, los docstrings son cadenas literales que aparecen como la primera declaración en un módulo, función, clase o método. Sin embargo, es importante (y justo) añadir que los literales de cadena también pueden aparecer en muchos otros lugares del código Python y seguir sirviendo como documentación. Y aunque ya no sean accesibles como atributos de objetos en tiempo de ejecución, todavía se pueden extraer con algunas herramientas de software específicas (para obtener más información sobre ellas, consulte PEP 256, que proporciona información sobre Docutils, un sistema de procesamiento de docstrings de Python).\n",
    "\n",
    "Y ahora, sin entrar en demasiados detalles, es suficiente decir que distinguimos dos tipos de estos \"docstrings adicionales\": estos son:\n",
    "\n",
    "- docstrings de atributo, que se encuentran inmediatamente después de una declaración de asignación en el nivel superior de un módulo (atributos de módulo), clase (atributos de clase) o la definición del método ```__init__``` de una clase (atributos de instancia). Estas son interpretadas por las herramientas de extracción, como Docutils, como \"las cadenas de documentación del destino de la declaración de asignación\". (Si está interesado en aprender más sobre las cadenas de documentación de atributos, puede sumergirse en PEP 224 por su cuenta. En este punto, solo queremos que esté al tanto de ellas).\n",
    "- cadenas de documentación adicionales, que se encuentran inmediatamente después de otra cadena de documentación. (La idea original de las cadenas de documentación adicionales se tomó de PEP 216, que a su vez fue reemplazada posteriormente por PEP 287; nuevamente, puede echar un vistazo a esas cadenas de documentación).\n",
    "\n",
    "**Cómo crear cadenas de documentación**\n",
    "\n",
    "Las cadenas de documentación deben estar entre comillas dobles triples (\"\"\"comillas dobles triples\"\"\"). Por ejemplo:\n",
    "```\n",
    "def my_function():\n",
    "    \"\"\"I am a docstring.\"\"\"\n",
    "    ...\n",
    "```\n",
    "\n",
    "Si necesita utilizar barras invertidas en sus cadenas de documentación, debe seguir el formato ```r\"\"\"comillas dobles triples sin formato\"\"\"```. Si necesita utilizar cadenas de documentación Unicode, siga el formato ```u\"\"\"cadenas de comillas triples Unicode\"\"\"```.\n",
    "\n",
    "**Cadenas de documentación de una línea frente a cadenas de varias líneas**\n",
    "\n",
    "Existen dos formas de cadenas de documentación. Y aunque cada una de ellas tiene el mismo propósito (es decir, se supone que proporciona documentación), la que vaya a utilizar dependerá de ciertas condiciones, como la cantidad de información que es necesaria proporcionar. Estas son:\n",
    "\n",
    "- **One-line vs. multi-line docstrings**: se utilizan para descripciones simples y breves, y deben caber en una línea;\n",
    "\n",
    "*Single-line docstring*\n",
    "```\n",
    "def my_function():\n",
    "    \"\"\"One-line description.\"\"\"\n",
    "    body_of_the_fucntion\n",
    "    ...\n",
    "```\n",
    "\n",
    "- **multi-line docstrings** – Se utilizan para casos más difíciles y deben constar de una línea de resumen seguida de una línea en blanco y una descripción más elaborada.\n",
    "\n",
    "*Multi-line docstring*\n",
    "```\n",
    "def my_function(a, b, c):\n",
    "    \"\"\"Sumary line followed by a blank line.\n",
    "    More elaborate description\n",
    "    ...\n",
    "    ...\n",
    "    \"\"\"\n",
    "    body_of_the_function\n",
    "    ...\n",
    "```\n",
    "\n",
    "Hablemos un poco más de cada uno de ellos.\n",
    "\n",
    "**One-line docstrings**\n",
    "\n",
    "One-line docstrings deben usarse para descripciones bastante simples, obvias y breves. Deben ocupar solo una línea y estar rodeadas de comillas dobles triples (las comillas de cierre deben estar en la misma línea que las comillas de apertura, ya que esto ayuda a mantener el código limpio y elegante).\n",
    "\n",
    "Notas importantes:\n",
    "\n",
    "- una cadena de documentación debe comenzar con una letra mayúscula (a menos que un identificador comience la oración) y terminar con un punto;\n",
    "- una cadena de documentación debe prescribir el efecto del segmento de código, no describirlo. En otras palabras, debe tomar la forma de un imperativo (p. ej., \"Haz esto\", \"Devuelve aquello\", \"Calcula esto\", \"Convierte aquello\", etc.), no una descripción (p. ej., \"Hace esto\", \"Devuelve aquello\", \"Forma esto\", \"Extiende aquello\", etc.). Por ejemplo:\n",
    "\n",
    "```\n",
    "def greeting(name):\n",
    "    \"\"\"Take a name and return its replicated form.\"\"\"\n",
    "    return name * 2\n",
    "```\n",
    "\n",
    "- Una cadena de documentación no debe simplemente repetir los parámetros de la función o del método. Por ejemplo:\n",
    "\n",
    " ❌ Don't do this:\n",
    " ```\n",
    "def my_function(x, y):\n",
    "    \"\"\"my_function(x, y) -> list\"\"\"\n",
    "...\n",
    "```\n",
    "\n",
    " ✅ Instead, try to do something like this:\n",
    "```\n",
    "def my_function(x, y):\n",
    "    \"\"\"Compute the angles and return a list of coordinates.\"\"\"\n",
    "...\n",
    "```\n",
    "\n",
    "- No utilice una línea en blanco encima o debajo de una cadena de documentación de una línea a menos que esté documentando una clase, en cuyo caso debe colocar una línea en blanco después de todas las cadenas de documentación que la documentan:\n",
    "\n",
    "❌\n",
    "```\n",
    "def calculate_tax(x, y):\n",
    "\n",
    "    \"\"\"I am a one-line docstring.\"\"\"\n",
    "    \n",
    "    return (x+y) * 0.25\n",
    "```\n",
    "\n",
    "✅\n",
    "```\n",
    "def calculate_tax(x, y):\n",
    "    \"\"\"I am a one-line docstring.\"\"\"\n",
    "    return (x+y) * 0.25\n",
    "```\n",
    "\n",
    "**Multi-line docstrings**\n",
    "\n",
    "Las cadenas de documentación de varias líneas se deben utilizar para casos no obvios y descripciones más detalladas de segmentos de código. Deben tener una línea de resumen, similar a la que tiene una cadena de documentación de una sola línea, seguida de una línea en blanco y una descripción más elaborada. La línea de resumen puede estar ubicada en la misma línea que las comillas dobles triples de apertura o en la línea siguiente. Las comillas finales se deben colocar en una línea separada.\n",
    "\n",
    "Notas importantes:\n",
    "\n",
    "- una cadena de documentación de varias líneas debe tener la misma sangría que las comillas de apertura, por ejemplo:\n",
    "\n",
    "```\n",
    "def king_creator(name=\"Greg\", ordinal=\"I\", country=\"Neverland\"):\n",
    "    \"\"\"Create a king following the article title naming convention.\n",
    "    \n",
    "    Keyword arguments:\n",
    "    :arg name: the king's name (default: Greg)\n",
    "    :type name: str\n",
    "    :arg ordinal: Roman ordinal number (default: I)\n",
    "    :type ordinal: str\n",
    "    :arg country: the country ruled (default: Neverland)\n",
    "    :type country: str\n",
    "    \"\"\"\n",
    "    if name == \"Voldemort\":\n",
    "        return \"Voldemort is a reserved name.\"\n",
    "    ...\n",
    "```\n",
    "\n",
    "- debe insertar una línea en blanco después de todas las cadenas de documentación de varias líneas que documentan una clase;\n",
    "- las cadenas de documentación de scripts (en el sentido de programas independientes/ejecutables de un solo archivo) deben documentar la función del script, la sintaxis de la línea de comandos, las variables de entorno y los archivos. La descripción debe ser equilibrada de manera que ayude a los nuevos usuarios a comprender el uso del script, así como proporcionar una referencia rápida a todas las características del programa para el usuario más experimentado;\n",
    "- las cadenas de documentación de módulos deben enumerar las clases, excepciones y funciones exportadas por el módulo;\n",
    "- las cadenas de documentación de paquetes (entendidas como la cadena de documentación del módulo ```__init__.py``` del paquete) deben enumerar los módulos y subpaquetes exportados por el paquete;\n",
    "- Las cadenas de documentación de las funciones y los métodos de clase deben resumir su comportamiento y brindar información sobre los argumentos (incluidos los argumentos opcionales), los valores, las excepciones, las restricciones, etc.\n",
    "- Las cadenas de documentación de las clases también deben resumir su comportamiento, así como documentar los métodos públicos y las variables de instancia. Por ejemplo:\n",
    "\n",
    "```\n",
    "class Vehicle:\n",
    "    \"\"\"A class to represent a Vehicle.\n",
    "    \n",
    "    Attributes:\n",
    "    -----------\n",
    "    vehicle_type: str\n",
    "        The type of the vehicle, e.g. a car.\n",
    "    id_number: int\n",
    "        The vehicle identification number.\n",
    "    is_autonomous: bool\n",
    "        self-driving -> True, not self-driving -> False\n",
    "\n",
    "    \n",
    "    Methods:\n",
    "    --------\n",
    "    report_location(lon=45.00, lat=90.00)\n",
    "        Print the vehicle id number and its current location.\n",
    "        (default longitude=45.00, default latitude=90.00)\n",
    "    \"\"\"\n",
    "    \n",
    "    def __init__(self, vehicle_type, id_number, is_autonomous=True):\n",
    "        \"\"\"\n",
    "        Parameters:\n",
    "        -----------\n",
    "        vehicle_type: str\n",
    "            The type of the vehicle, e.g. a car.\n",
    "        id_number: int\n",
    "            The vehicle identification number.\n",
    "        is_autonomous: bool, optional\n",
    "            self-driving -> True (default), not self-driving -> False\n",
    "        \"\"\"\n",
    "        \n",
    "        self.vehicle_type = vehicle_type\n",
    "        self.id_number = id_number\n",
    "        self.is_autonomous = is_autonomous\n",
    "    \n",
    "    def report_location(self, id_number, lon=45.00, lat=90.00):\n",
    "        \"\"\"\n",
    "        Print the vehicle id number and its current location.\n",
    "        \n",
    "        Parameters:\n",
    "        -----------\n",
    "        id_number: int\n",
    "            The vehicle identification number.\n",
    "        lon: float, optional\n",
    "            The vehicle's current longitude (default is 45.00)\n",
    "        lat: float, optional\n",
    "            The vehicle's current latitude (default is 90.00)\n",
    "        \"\"\"\n",
    "\n",
    "    ...\n",
    "    ...\n",
    "    ...\n",
    "```\n",
    "\n",
    "**Tipos de formato de cadenas de documentos**\n",
    "\n",
    "Es posible que hayas notado que hemos utilizado dos formatos de cadenas de documentos diferentes para documentar la función ```king_creator()``` y la clase ```Vehicle```. El primer tipo de formato se llama reStructuredText y es el estándar oficial de documentación de Python explicado y descrito en PEP 287. El segundo ejemplo utiliza el formato de cadenas de documentación NumPy/SciPy (para obtener más detalles, haga clic aquí), que es una combinación del formato de cadenas de documentación de Google y el formato reStructuredText.\n",
    "\n",
    "Ambos tipos de formato son buenos para crear documentación formal y ambos son compatibles con Sphinx, uno de los generadores de documentación de Python más populares.\n",
    "\n",
    "Sphinx es una gran herramienta para crear documentación para proyectos de desarrollo de software. Utiliza reStructuredText como lenguaje de marcado y tiene muchas funciones útiles, como compatibilidad con el formato de salida HTML, prueba automática de fragmentos de código, referencias cruzadas extensas y una estructura jerárquica que le permite definir un árbol de documentos. Échele un vistazo.\n",
    "\n",
    "**Cómo documentar un proyecto**\n",
    "\n",
    "Al documentar un proyecto de Python, dependiendo de la naturaleza del proyecto (es decir, privado, compartido, público, abierto, etc.), se puede generar una estructura de documentos. fuente/dominio público), primero y ante todo debe definir a sus usuarios y pensar en sus necesidades. Crear un perfil de usuario puede resultar útil en este caso, ya que le ayudará a identificar las formas en que los usuarios utilizarán su proyecto.\n",
    "\n",
    "Esto significa que puede mejorar fácilmente su experiencia pensando en cómo van a utilizar su código e intentando predecir los problemas más comunes que pueden encontrar al hacerlo.\n",
    "\n",
    "En general, un proyecto debe contener los siguientes elementos de documentación:\n",
    "\n",
    "- un archivo readme, que proporciona un breve resumen del proyecto, su propósito y posiblemente algunas pautas de instalación;\n",
    "- un archivo examples.py, que es un script que muestra algunos ejemplos de cómo utilizar el proyecto;\n",
    "- una licencia en forma de archivo txt (particularmente importante para proyectos de código abierto y de dominio público)\n",
    "- un archivo de cómo contribuir que proporciona información sobre las posibles formas de contribuir al proyecto (proyectos compartidos, de código abierto y de dominio público).\n",
    "\n",
    "Como documentar el código puede ser una actividad bastante agotadora y que requiere mucho tiempo, se recomienda encarecidamente que utilice algunas de las herramientas que podrían ayudarlo a generar automáticamente la documentación en el formato deseado y a gestionar las actualizaciones y el control de versiones de la documentación de una manera eficaz y eficiente.\n",
    "\n",
    "Hay muchas herramientas y recursos de documentación disponibles, como Sphinx, que ya hemos mencionado, o el popular pdoc, y muchos más. Le recomendamos que siga este camino.\n",
    "\n",
    "**Linters y fixers**\n",
    "\n",
    "¿Cómo se mantiene la buena calidad de su código? Bueno, ya sabe que puede seguir las guías de estilo como PEP 8 o PEP 257 y escribir su código de una manera legible y consistente. Puede (y posiblemente deba) adoptar la filosofía Zen de Python, con todos sus buenos consejos para escribir un código elegante y fácil de mantener, y utilizar el mecanismo de sugerencias de tipos. Puede observar cómo otros escriben código y documentarlo como parte de sus proyectos (consulte la biblioteca estándar de Python o la biblioteca Requests) y aprender de ellos. Finalmente, puede utilizar linters.\n",
    "\n",
    "Correcto. Pero, ¿qué es un linter? Bueno, es una herramienta que lo ayuda a escribir su código, porque lo analiza para detectar anomalías de estilo y errores de programación en comparación con un conjunto de reglas predefinidas. En otras palabras, es un programa que analiza tu código y reporta problemas tales como errores estructurales y de sintaxis, rupturas de consistencia y falta de compatibilidad con las mejores prácticas o pautas de estilo de código como PEP 8. Los linters más populares son: Flake8, Pylint, Pyflakes, Pychecker, Mypy y Pycodestyle (anteriormente Pep8): la herramienta oficial de linters para verificar el código Python con las convenciones de PEP 8.\n",
    "\n",
    "Un fixer, por otro lado, es un programa que te ayuda a corregir estos problemas y formatear tu código para que sea consistente con los estándares adoptados. Los fixers más populares son: Black, YAPF y autopep8.\n",
    "\n",
    "La mayoría de los editores e IDE (por ejemplo, PyCharm, Spyder, Atom, Sublime Text, Visual Studio, Eclipse + PyDev, VIM o Thonny) admiten linters, lo que significa que puedes ejecutarlos en segundo plano mientras escribes código. Esto permite detectar, resaltar e identificar muchas áreas problemáticas en su código, como errores tipográficos, problemas de tabulación y sangría incorrectos, llamadas de función con una cantidad incorrecta de argumentos, inconsistencias estilísticas, patrones de código peligrosos y muchos más, y formatear automáticamente su código según una especificación predefinida.\n",
    "\n",
    "Dicho esto, lo alentamos a que explore el territorio de los linters y los fixers y comience a usarlos para mantener un código Python de alta calidad y simplemente hacer su vida más fácil.\n",
    "\n",
    "**Cómo acceder a las cadenas de documentación**\n",
    "\n",
    "Casi hemos llegado al final de nuestro viaje con PEP 257 y las cadenas de documentación. La última pregunta que aún queda por responder por completo es: ¿cómo podemos acceder realmente a las cadenas de documentación?\n",
    "\n",
    "Lo hacemos mediante el atributo ```__doc__``` de Python: si hay algún literal de cadena presente después de la definición de una función/módulo/clase/método, se asocia con el objeto como su atributo ```__doc__```, y este atributo proporciona la documentación de ese objeto.\n",
    "\n",
    "Ejecute el código en el editor para ver qué sucede. Su salida debería ser similar a esto:"
   ]
  },
  {
   "cell_type": "code",
   "execution_count": 141,
   "id": "2913e7c3-8953-4a63-8857-12af477b9e12",
   "metadata": {},
   "outputs": [
    {
     "name": "stdout",
     "output_type": "stream",
     "text": [
      "The summary line goes here.\n",
      "\n",
      "    A more elaborate description of the function.\n",
      "\n",
      "    Parameters:\n",
      "    a: int (description)\n",
      "    b: int (description)\n",
      "\n",
      "    Returns:\n",
      "    int: Description of the return value.\n",
      "    \n"
     ]
    }
   ],
   "source": [
    "def my_fun(a, b):\n",
    "    \"\"\"The summary line goes here.\n",
    "\n",
    "    A more elaborate description of the function.\n",
    "\n",
    "    Parameters:\n",
    "    a: int (description)\n",
    "    b: int (description)\n",
    "\n",
    "    Returns:\n",
    "    int: Description of the return value.\n",
    "    \"\"\"\n",
    "    return a*b\n",
    "\n",
    "print(my_fun.__doc__)"
   ]
  },
  {
   "cell_type": "markdown",
   "id": "e121184c-69be-4a22-98a8-77efdbcf05eb",
   "metadata": {},
   "source": [
    "Pero también hay otra forma de acceder a las cadenas de documentación: puedes usar la función ```help()```. Haz una pequeña modificación en tu código: reemplaza la invocación de la función print con la siguiente línea:"
   ]
  },
  {
   "cell_type": "code",
   "execution_count": 142,
   "id": "7b71704e-def2-43e8-92d2-04a6952c4e98",
   "metadata": {},
   "outputs": [
    {
     "name": "stdout",
     "output_type": "stream",
     "text": [
      "Help on function my_fun in module __main__:\n",
      "\n",
      "my_fun(a, b)\n",
      "    The summary line goes here.\n",
      "\n",
      "    A more elaborate description of the function.\n",
      "\n",
      "    Parameters:\n",
      "    a: int (description)\n",
      "    b: int (description)\n",
      "\n",
      "    Returns:\n",
      "    int: Description of the return value.\n",
      "\n"
     ]
    }
   ],
   "source": [
    "help(my_fun)"
   ]
  },
  {
   "cell_type": "markdown",
   "id": "7d9e76c7-a959-4ee0-b8a2-fc4369513a26",
   "metadata": {},
   "source": [
    "Como puedes ver, la salida es más larga y descriptiva.\n",
    "\n",
    "Ahora intenta acceder a las cadenas de documentación de cualquiera de las funciones integradas de Python (por ejemplo, print()). Luego, importa un módulo y accede a la documentación del módulo. Experimenta con el método ```__doc__``` y la función help(). Observa qué salidas obtienes y en qué se diferencian entre sí. Úsalos para obtener más información sobre los objetos integrados de Python.\n",
    "\n",
    "Has aprendido mucho. ¡Puedes estar orgulloso de ti mismo!"
   ]
  },
  {
   "cell_type": "code",
   "execution_count": 143,
   "id": "2232327e-8fb1-4613-9361-a7ec0871c867",
   "metadata": {},
   "outputs": [
    {
     "name": "stdout",
     "output_type": "stream",
     "text": [
      "The Zen of Python, by Tim Peters\n",
      "\n",
      "Beautiful is better than ugly.\n",
      "Explicit is better than implicit.\n",
      "Simple is better than complex.\n",
      "Complex is better than complicated.\n",
      "Flat is better than nested.\n",
      "Sparse is better than dense.\n",
      "Readability counts.\n",
      "Special cases aren't special enough to break the rules.\n",
      "Although practicality beats purity.\n",
      "Errors should never pass silently.\n",
      "Unless explicitly silenced.\n",
      "In the face of ambiguity, refuse the temptation to guess.\n",
      "There should be one-- and preferably only one --obvious way to do it.\n",
      "Although that way may not be obvious at first unless you're Dutch.\n",
      "Now is better than never.\n",
      "Although never is often better than *right* now.\n",
      "If the implementation is hard to explain, it's a bad idea.\n",
      "If the implementation is easy to explain, it may be a good idea.\n",
      "Namespaces are one honking great idea -- let's do more of those!\n"
     ]
    }
   ],
   "source": [
    "import this"
   ]
  },
  {
   "cell_type": "code",
   "execution_count": 144,
   "id": "0912ff08-b1c8-4500-b932-efd3acf783fe",
   "metadata": {},
   "outputs": [
    {
     "ename": "TypeError",
     "evalue": "can only concatenate str (not \"int\") to str",
     "output_type": "error",
     "traceback": [
      "\u001b[31m---------------------------------------------------------------------------\u001b[39m",
      "\u001b[31mTypeError\u001b[39m                                 Traceback (most recent call last)",
      "\u001b[36mCell\u001b[39m\u001b[36m \u001b[39m\u001b[32mIn[144]\u001b[39m\u001b[32m, line 6\u001b[39m\n\u001b[32m      3\u001b[39m \u001b[38;5;28;01mdef\u001b[39;00m\u001b[38;5;250m \u001b[39m\u001b[34mhello\u001b[39m(name: \u001b[38;5;28mstr\u001b[39m) -> \u001b[38;5;28mstr\u001b[39m:\n\u001b[32m      4\u001b[39m     \u001b[38;5;28;01mreturn\u001b[39;00m \u001b[33m\"\u001b[39m\u001b[33mHello, \u001b[39m\u001b[33m\"\u001b[39m + name\n\u001b[32m----> \u001b[39m\u001b[32m6\u001b[39m \u001b[43mhello\u001b[49m\u001b[43m(\u001b[49m\u001b[32;43m20\u001b[39;49m\u001b[43m)\u001b[49m  \u001b[38;5;66;03m# Falla al no transformar el número en string\u001b[39;00m\n",
      "\u001b[36mCell\u001b[39m\u001b[36m \u001b[39m\u001b[32mIn[144]\u001b[39m\u001b[32m, line 4\u001b[39m, in \u001b[36mhello\u001b[39m\u001b[34m(name)\u001b[39m\n\u001b[32m      3\u001b[39m \u001b[38;5;28;01mdef\u001b[39;00m\u001b[38;5;250m \u001b[39m\u001b[34mhello\u001b[39m(name: \u001b[38;5;28mstr\u001b[39m) -> \u001b[38;5;28mstr\u001b[39m:\n\u001b[32m----> \u001b[39m\u001b[32m4\u001b[39m     \u001b[38;5;28;01mreturn\u001b[39;00m \u001b[33;43m\"\u001b[39;49m\u001b[33;43mHello, \u001b[39;49m\u001b[33;43m\"\u001b[39;49m\u001b[43m \u001b[49m\u001b[43m+\u001b[49m\u001b[43m \u001b[49m\u001b[43mname\u001b[49m\n",
      "\u001b[31mTypeError\u001b[39m: can only concatenate str (not \"int\") to str"
     ]
    }
   ],
   "source": [
    "# Type Hiting comentarios, name se espera un string \n",
    "# retorna un string:\n",
    "def hello(name: str) -> str:\n",
    "    return \"Hello, \" + name\n",
    "\n",
    "hello(20)  # Falla al no transformar el número en string"
   ]
  },
  {
   "cell_type": "code",
   "execution_count": 145,
   "id": "293e70bd-6c8a-426c-8f4a-b50c415c3abf",
   "metadata": {},
   "outputs": [
    {
     "data": {
      "text/plain": [
       "'Hello, 20'"
      ]
     },
     "execution_count": 145,
     "metadata": {},
     "output_type": "execute_result"
    }
   ],
   "source": [
    "# Type Hiting comentarios, name se espera un string \n",
    "# retorna un string:\n",
    "def hello(name: str) -> str:\n",
    "    return \"Hello, \" + str(name)\n",
    "\n",
    "hello(20)"
   ]
  },
  {
   "attachments": {},
   "cell_type": "markdown",
   "id": "c2dd56e2",
   "metadata": {},
   "source": [
    "*Gracias por la atención*\n",
    "\n",
    "*Isabel Maniega*"
   ]
  }
 ],
 "metadata": {
  "kernelspec": {
   "display_name": "Python 3 (ipykernel)",
   "language": "python",
   "name": "python3"
  },
  "language_info": {
   "codemirror_mode": {
    "name": "ipython",
    "version": 3
   },
   "file_extension": ".py",
   "mimetype": "text/x-python",
   "name": "python",
   "nbconvert_exporter": "python",
   "pygments_lexer": "ipython3",
   "version": "3.12.3"
  }
 },
 "nbformat": 4,
 "nbformat_minor": 5
}
