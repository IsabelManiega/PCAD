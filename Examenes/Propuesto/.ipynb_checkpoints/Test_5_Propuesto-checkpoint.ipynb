{
 "cells": [
  {
   "cell_type": "markdown",
   "id": "7da33901-ad66-45b5-acb1-f385242f601c",
   "metadata": {},
   "source": [
    "*Creado por:*\n",
    "\n",
    "*Isabel Maniega*"
   ]
  },
  {
   "cell_type": "markdown",
   "id": "088e9458-772e-4e14-a4e6-7ace2aad7128",
   "metadata": {},
   "source": [
    "# Test 5"
   ]
  },
  {
   "cell_type": "markdown",
   "id": "7f477e15-550f-47af-8f98-ebd1d55a266d",
   "metadata": {},
   "source": [
    "## Question 1"
   ]
  },
  {
   "cell_type": "markdown",
   "id": "dcfcc76f-8319-4489-9725-5cb157493767",
   "metadata": {},
   "source": [
    "Which of the following methods is used to find elements in the *xml.etree.ElementTree* module?\n",
    "\n",
    "(Select all that apply)\n",
    "\n",
    "a) findall\n",
    "\n",
    "b) iter\n",
    "\n",
    "c) find\n",
    "\n",
    "d) findone"
   ]
  },
  {
   "cell_type": "markdown",
   "id": "74719f87-a93b-43cc-b21c-b1d811c4d05c",
   "metadata": {},
   "source": [
    "## Solution 1"
   ]
  },
  {
   "cell_type": "markdown",
   "id": "5f67a4f6-6f34-49b0-9356-f64a6ff8a72c",
   "metadata": {},
   "source": [
    "Solution:"
   ]
  },
  {
   "cell_type": "markdown",
   "id": "6731c9ae-81e0-4b90-a446-f0b15c12dfc5",
   "metadata": {},
   "source": [
    "****"
   ]
  },
  {
   "cell_type": "markdown",
   "id": "13e2105b-8b98-4354-9f2d-79fc0144d395",
   "metadata": {},
   "source": [
    "## Question 2"
   ]
  },
  {
   "cell_type": "markdown",
   "id": "2448488c-1620-4a47-8c10-ecf9fd6c29b7",
   "metadata": {},
   "source": [
    "You are preprocessing a dataset and need to standardize the “Height” and “Weight” columns. Which Python library and method would you use to standardize these columns using z-score normalization?\n",
    "\n",
    "a) sklearn.preprocessing.StandardScaler()\n",
    "\n",
    "b) pandas.DataFrame.standarize()\n",
    "\n",
    "c) numpy.zscore()\n",
    "\n",
    "d) scipy.stats.standarize()"
   ]
  },
  {
   "cell_type": "markdown",
   "id": "a7265e97-9c58-45c4-8a20-3ec87dff60d3",
   "metadata": {},
   "source": [
    "## Solution 2"
   ]
  },
  {
   "cell_type": "markdown",
   "id": "bf13dc21-475c-4fc8-aeec-e67178163383",
   "metadata": {},
   "source": [
    "Solution:"
   ]
  },
  {
   "cell_type": "markdown",
   "id": "128667e8-2c1f-4e29-9ff5-1786f2bcd6ab",
   "metadata": {},
   "source": [
    "****"
   ]
  },
  {
   "cell_type": "markdown",
   "id": "ab4274cb-bfd6-42a7-9ee4-41254b354e6e",
   "metadata": {},
   "source": [
    "## Question 3"
   ]
  },
  {
   "cell_type": "markdown",
   "id": "f988fe8d-9e89-4056-aa87-c4cb469293de",
   "metadata": {},
   "source": [
    "How can you retrieve all records from a SQL database table named Orders using Python's sqlite3 library?\n",
    "\n",
    "a) ```cursor.execute(\"SELECT * FROM orders\").fetchall()```\n",
    "\n",
    "b) ```cursor.query(\"GET * FROM orders\").all()```\n",
    "\n",
    "c) ```cursor.get(\"SELECT * IN Orders\").collect()```\n",
    "\n",
    "d) ```cursor.run(\"FECTH ALL IN Orders\")```"
   ]
  },
  {
   "cell_type": "markdown",
   "id": "d0e10c95-5a8c-4db3-93b1-780ef5fa6075",
   "metadata": {},
   "source": [
    "## Solution 3"
   ]
  },
  {
   "cell_type": "markdown",
   "id": "c3955591-94b6-46d0-b41e-ef0955da2dc0",
   "metadata": {},
   "source": [
    "Solution:"
   ]
  },
  {
   "cell_type": "markdown",
   "id": "bd35b599-27dd-4b4b-bdf2-bf4545ef3cb1",
   "metadata": {},
   "source": [
    "****"
   ]
  },
  {
   "cell_type": "markdown",
   "id": "03a45c8f-f94e-4f85-b4ba-27af83336d66",
   "metadata": {},
   "source": [
    "## Question 4"
   ]
  },
  {
   "cell_type": "markdown",
   "id": "54e4d80c-fd1c-45ab-b0fb-78d7b5cf4735",
   "metadata": {},
   "source": [
    "Your Python script is giving you unexpected results in data analysis. Which of the following is generally not advisable for debugging this issue?\n",
    "\n",
    "a) Suppress all exceptions using a general ```except``` block.\n",
    "\n",
    "b) Review and validate data inputs and transformations.\n",
    "\n",
    "c) Examine the Python traceback to identify where the error originates.\n",
    "\n",
    "d) Use conditional breakpoints to isolate the problem"
   ]
  },
  {
   "cell_type": "markdown",
   "id": "b0fde679-c306-477f-8f29-082eeb02fedb",
   "metadata": {},
   "source": [
    "## Solution 4"
   ]
  },
  {
   "cell_type": "markdown",
   "id": "f1f04747-710e-47e1-87df-7f2a684ed96a",
   "metadata": {},
   "source": [
    "Solution:"
   ]
  },
  {
   "cell_type": "markdown",
   "id": "11568522-fc2c-4722-9735-3c27307e6182",
   "metadata": {},
   "source": [
    "****"
   ]
  },
  {
   "cell_type": "markdown",
   "id": "aee294f0-3195-4415-822d-625a29756757",
   "metadata": {},
   "source": [
    "## Question 5"
   ]
  },
  {
   "cell_type": "markdown",
   "id": "c78a5cc4-749a-42d8-b247-e3339c189949",
   "metadata": {},
   "source": [
    "An XML document includes:\n",
    "\n",
    "(Select all that apply)\n",
    "\n",
    "a) atributes\n",
    "\n",
    "b) a prolog\n",
    "\n",
    "c) a root element\n",
    "\n",
    "d) properties"
   ]
  },
  {
   "cell_type": "markdown",
   "id": "373024e5-b6aa-42fc-b0d6-7fa6b3765196",
   "metadata": {},
   "source": [
    "## Solution 5"
   ]
  },
  {
   "cell_type": "markdown",
   "id": "0981be93-8821-421f-b93e-a5eac0992e5a",
   "metadata": {},
   "source": [
    "Solution:"
   ]
  },
  {
   "cell_type": "markdown",
   "id": "2041421a-6bc3-40e6-8d6a-bcba6983c80f",
   "metadata": {},
   "source": [
    "****"
   ]
  },
  {
   "cell_type": "markdown",
   "id": "fd8464b2-337f-423f-a3f3-c8d0340e0c06",
   "metadata": {},
   "source": [
    "## Question 6"
   ]
  },
  {
   "cell_type": "markdown",
   "id": "39239ed0-aa1e-4fb5-8361-4f94b698873e",
   "metadata": {},
   "source": [
    "An object of any class:\n",
    "\n",
    "a) is not JSON-serializable by default\n",
    "\n",
    "b) is either-serializable by default, or can be turned into such an object.\n",
    "\n",
    "c) is always JSON-serializable."
   ]
  },
  {
   "cell_type": "markdown",
   "id": "68202db2-09e2-4700-b683-6081909bb13c",
   "metadata": {},
   "source": [
    "## Solution 6"
   ]
  },
  {
   "cell_type": "markdown",
   "id": "431f1907-6d82-4c3d-9efd-9ade9aecc00b",
   "metadata": {},
   "source": [
    "Solution:"
   ]
  },
  {
   "cell_type": "markdown",
   "id": "ea79af19-48b3-4100-aa03-ee647da8431b",
   "metadata": {},
   "source": [
    "****"
   ]
  },
  {
   "cell_type": "markdown",
   "id": "a036c1e7-8348-4491-9c9a-22d7248eba9d",
   "metadata": {},
   "source": [
    "## Question 7"
   ]
  },
  {
   "cell_type": "markdown",
   "id": "278d06f9-3df4-418a-9c3f-53c3d2b80bf2",
   "metadata": {},
   "source": [
    "An XML comment is a text surrounded by:\n",
    "\n",
    "a) ```//``` and ```\\\\```\n",
    "\n",
    "b) ```<!--``` and ```-->```\n",
    "\n",
    "c) ```<*``` and ```*>```"
   ]
  },
  {
   "cell_type": "markdown",
   "id": "e99651ad-f83b-4c22-8b6f-91186ccd7587",
   "metadata": {},
   "source": [
    "## Solution 7"
   ]
  },
  {
   "cell_type": "markdown",
   "id": "8ec893fe-91c6-4cc6-8db5-29f52543266e",
   "metadata": {},
   "source": [
    "Solution:"
   ]
  },
  {
   "cell_type": "markdown",
   "id": "ada88663-6355-4c2f-acea-9bb35e896fc0",
   "metadata": {},
   "source": [
    "****"
   ]
  },
  {
   "cell_type": "markdown",
   "id": "ef94f558-656c-48fa-aa71-e7aeaf4e2b27",
   "metadata": {},
   "source": [
    "## Question 8"
   ]
  },
  {
   "cell_type": "markdown",
   "id": "044bca2f-032a-46a2-ad4f-44b7aed7f39d",
   "metadata": {},
   "source": [
    "A value, described by Python as ```True```, is reflected by the JSON element called:\n",
    "\n",
    "a) ```true```\n",
    "\n",
    "b) ```True```\n",
    "\n",
    "c) ```TRUE```\n",
    "\n",
    "d) ```1```"
   ]
  },
  {
   "cell_type": "markdown",
   "id": "08f580df-1b35-4dc7-a653-5226e2dfc784",
   "metadata": {},
   "source": [
    "## Solution 8"
   ]
  },
  {
   "cell_type": "markdown",
   "id": "27c6cf65-0d19-4732-838a-5e93cac4d4b1",
   "metadata": {},
   "source": [
    "Solution:"
   ]
  },
  {
   "cell_type": "markdown",
   "id": "30516c6c-11eb-42cb-8dde-155e9d2caa5d",
   "metadata": {},
   "source": [
    "****"
   ]
  },
  {
   "cell_type": "markdown",
   "id": "68989bf5-60c6-4b2b-9e30-2b6c8fb64251",
   "metadata": {},
   "source": [
    "## Question 9"
   ]
  },
  {
   "cell_type": "markdown",
   "id": "bce69bd0-790c-4882-aca9-3be4c6f4485d",
   "metadata": {},
   "source": [
    "The ```json.dumps()``` method: (Select all that apply)\n",
    "\n",
    "a) returns a JSON string\n",
    "\n",
    "b) takes Python data as its argument\n",
    "\n",
    "c) takes a JSON string as its argument.\n",
    "\n",
    "d) returns Python data"
   ]
  },
  {
   "cell_type": "markdown",
   "id": "1e4f2a9d-219b-43dd-ad0e-c6a697eecdc0",
   "metadata": {},
   "source": [
    "## Solution 9"
   ]
  },
  {
   "cell_type": "markdown",
   "id": "b67bd246-4ff9-459a-ba32-9d0a5b07f6f5",
   "metadata": {},
   "source": [
    "Solution:"
   ]
  },
  {
   "cell_type": "markdown",
   "id": "8eaf85ba-e2d8-4331-80c9-ac78954e913c",
   "metadata": {},
   "source": [
    "****"
   ]
  },
  {
   "cell_type": "markdown",
   "id": "3fe906af-c57c-4a22-bc74-5c492fa5e857",
   "metadata": {},
   "source": [
    "## Question 10"
   ]
  },
  {
   "cell_type": "markdown",
   "id": "d0785036-a685-4c18-9ec0-a65917a7787e",
   "metadata": {},
   "source": [
    "The ```json.loads()``` method: (select all that apply)\n",
    "\n",
    "a) takes Python data as its argument\n",
    "\n",
    "b) returns a JSON object.\n",
    "\n",
    "c) takes a Json string as its argument.\n",
    "\n",
    "d) returns a string"
   ]
  },
  {
   "cell_type": "markdown",
   "id": "32e1d9a0-f151-41ea-8275-f59780895d4b",
   "metadata": {},
   "source": [
    "## Solution 10"
   ]
  },
  {
   "cell_type": "markdown",
   "id": "27452c8e-118c-4b05-91e2-9449b7b19a83",
   "metadata": {},
   "source": [
    "Solution:"
   ]
  },
  {
   "cell_type": "markdown",
   "id": "aceae1fc-ad17-4da9-8cf0-ed1760e19344",
   "metadata": {},
   "source": [
    "****"
   ]
  },
  {
   "cell_type": "markdown",
   "id": "26abcfdf-0fab-466b-8083-83d1909a72a4",
   "metadata": {},
   "source": [
    "## Question 11"
   ]
  },
  {
   "cell_type": "markdown",
   "id": "bc02ecdf-a934-41bc-b8f5-91a4c3ae9656",
   "metadata": {},
   "source": [
    "In the JSON processing context, the term *deserialization*:\n",
    "\n",
    "a) names a process in which a JSON string is remodeled and transformed into a new JSON string.\n",
    "\n",
    "b) names a process in which the Python data is turned into a JSON string\n",
    "\n",
    "c) refers to nothing as there is no such string as JSON deserialization.\n",
    "\n",
    "d) names a process in which a JSON string is turned into Python data."
   ]
  },
  {
   "cell_type": "markdown",
   "id": "4e3234a2-b06e-4c75-b2b0-b4287505608e",
   "metadata": {},
   "source": [
    "## Solution 11"
   ]
  },
  {
   "cell_type": "markdown",
   "id": "a3da4467-ecf7-4e63-ba35-39eb75db34ae",
   "metadata": {},
   "source": [
    "Solution:"
   ]
  },
  {
   "cell_type": "markdown",
   "id": "46eb070d-b033-4500-85d3-baccd9d85516",
   "metadata": {},
   "source": [
    "****"
   ]
  },
  {
   "cell_type": "markdown",
   "id": "b5ed5564-c2c2-4bdd-a20a-3d0d7ff08f18",
   "metadata": {},
   "source": [
    "## Question 12"
   ]
  },
  {
   "cell_type": "markdown",
   "id": "2cf8c5ab-3a19-4877-80a9-65cf62a3954a",
   "metadata": {},
   "source": [
    "```\n",
    "You have analyzed website traffic data and created a visualization showing the user engagement metrics over time. How would you effectively communicate the insights from this visualization to a non-technical audience?\n",
    "\n",
    "a) Use technical terms and metrics without explanation.\n",
    "b) Create a narrative around user behavior patterns and trends.\n",
    "c) Provide raw data and detailed charts for audience exploration.\n",
    "d) Focus on the aesthetics of the visualization rather than the insights.\n",
    "```"
   ]
  },
  {
   "cell_type": "markdown",
   "id": "2cac0c4d-03b4-48f8-8ae3-6b7895b4fb52",
   "metadata": {},
   "source": [
    "## Solution 12"
   ]
  },
  {
   "cell_type": "markdown",
   "id": "3f4aa0ff-dde6-4bdc-9010-b63058c91c2b",
   "metadata": {},
   "source": [
    "Solution:"
   ]
  },
  {
   "cell_type": "markdown",
   "id": "31153a3b-b1d5-4ff0-8220-0ca2acd02b58",
   "metadata": {},
   "source": [
    "****"
   ]
  },
  {
   "cell_type": "markdown",
   "id": "0d992380-4bd1-430f-a060-6c1ccee4930b",
   "metadata": {},
   "source": [
    "## Question 13"
   ]
  },
  {
   "cell_type": "markdown",
   "id": "2abb5b0e-d6fc-40cf-8eaa-44b22b8ad913",
   "metadata": {},
   "source": [
    "```\n",
    "You have analyzed a dataset containing customer purchase behavior and created a visualization showing the sales trends of different product categories over time. How would you effectively communicate the insights from this visualization to a non-technical audience?\n",
    "\n",
    "a) Present detailed statistical analysis with technical terms.\n",
    "b) Use storytelling and simple language to explain the trends and patterns.\n",
    "c) Provide raw* data and complex charts for audience interpretation.\n",
    "d) Focus only on the technical aspects without context or storytelling.\n",
    "\n",
    "*raw: sin procesar\n",
    "```"
   ]
  },
  {
   "cell_type": "markdown",
   "id": "439a7ec3-1808-439d-b224-3d633103ca55",
   "metadata": {},
   "source": [
    "## Solution 13"
   ]
  },
  {
   "cell_type": "markdown",
   "id": "94386527-6897-442e-8d3d-ab2caaccc796",
   "metadata": {},
   "source": [
    "Solution:"
   ]
  },
  {
   "cell_type": "markdown",
   "id": "c87226b3-ffab-481c-9a85-6d8ef8e8b63b",
   "metadata": {},
   "source": [
    "****"
   ]
  },
  {
   "cell_type": "markdown",
   "id": "c9a43d3f-e538-4195-ba8b-9b947a961b46",
   "metadata": {},
   "source": [
    "## Question 14"
   ]
  },
  {
   "cell_type": "markdown",
   "id": "a4dae84a-0509-48ad-ab91-e4ad1e5d4d6b",
   "metadata": {},
   "source": [
    "```\n",
    "You are analyzing the performance of an email marketing campaign. Which of the following metrics would be least indicative of the campaign's effectiveness in generating sales?\n",
    "\n",
    "a) Email Conversion Rate (Email Conversion Rate measures the perentage of recipients who take a desired action after openning an email, such as making a purchase or signing up for a service.)\n",
    "b) Time Spent on website.\n",
    "c) Email Open Rate.\n",
    "d) Bounce Rate (Bounce rate is a metric that reprensents the percentage of visitors who enter a website and then leave (\"bounce\") rather than continuing to view other pages within the same site.)\n",
    "```"
   ]
  },
  {
   "cell_type": "markdown",
   "id": "0cc5deea-e133-4a47-a56e-8fd60bd11fd8",
   "metadata": {},
   "source": [
    "## Solution 14"
   ]
  },
  {
   "cell_type": "markdown",
   "id": "7293bcec-1576-40d0-8765-b775db164f02",
   "metadata": {},
   "source": [
    "Solution:"
   ]
  },
  {
   "cell_type": "markdown",
   "id": "08f30412-6230-4f6a-ab14-74757e88cf6e",
   "metadata": {},
   "source": [
    "****"
   ]
  },
  {
   "cell_type": "markdown",
   "id": "d7415518-e0d4-484e-af5f-400c607a18e3",
   "metadata": {},
   "source": [
    "## Question 15"
   ]
  },
  {
   "cell_type": "markdown",
   "id": "4cff5212-42de-43f3-bc2d-0f8ddbb67ed6",
   "metadata": {},
   "source": [
    "When using Matplotlib, what does the figsize parameter control in the plt.figure() function?\n",
    "\n",
    "a) The number of subplots in the figure.\n",
    "\n",
    "b) The color scheme of the figure.\n",
    "\n",
    "c) The resolution of the saved figure.\n",
    "\n",
    "d) The type of chart to be rendered (e.g., bar, pie, line)\n",
    "\n",
    "e) The aspect ratio and size of the figure."
   ]
  },
  {
   "cell_type": "markdown",
   "id": "a3455ac3-909a-4dcf-b666-f550c926ac51",
   "metadata": {},
   "source": [
    "## Solution 15"
   ]
  },
  {
   "cell_type": "markdown",
   "id": "9c63480d-89d0-46c0-80d4-47eb46280ab7",
   "metadata": {},
   "source": [
    "Solution:"
   ]
  },
  {
   "cell_type": "markdown",
   "id": "5c133c56-14dc-4595-943b-76b66a83d0ea",
   "metadata": {},
   "source": [
    "****"
   ]
  },
  {
   "cell_type": "markdown",
   "id": "94e52625-228a-46bc-9d3d-f876ea82e478",
   "metadata": {},
   "source": [
    "## Question 16"
   ]
  },
  {
   "cell_type": "markdown",
   "id": "e175f417-8332-403c-b76f-5e9385d9f8fa",
   "metadata": {},
   "source": [
    "Which of the following presents the proper form of putting a quote inside a JSON string?\n",
    "\n",
    "a) ```' \" '```\n",
    "\n",
    "b) ```' ' \" ' '```\n",
    "\n",
    "c) ```\" \"\" \"```\n",
    "\n",
    "d) ```\" \\\" \"```"
   ]
  },
  {
   "cell_type": "markdown",
   "id": "d3e37735-76da-45a1-aa36-6a12d43c1dec",
   "metadata": {},
   "source": [
    "## Solution 16"
   ]
  },
  {
   "cell_type": "markdown",
   "id": "c372b20c-e2ed-467d-9c40-6f04560179b3",
   "metadata": {},
   "source": [
    "Solution:"
   ]
  },
  {
   "cell_type": "markdown",
   "id": "f487726f-7d40-4525-882f-642d5cc94fe0",
   "metadata": {},
   "source": [
    "****"
   ]
  },
  {
   "cell_type": "markdown",
   "id": "4b142dd8-94c1-4107-844d-f26709106b61",
   "metadata": {},
   "source": [
    "## Question 17"
   ]
  },
  {
   "cell_type": "markdown",
   "id": "46e7e4ac-fa39-48c6-ac2a-a3ee01142c97",
   "metadata": {},
   "source": [
    "```\n",
    "In the context of an ETL (Extract, Transform, Load) process, what is the primary purpose of the 'Extract' phase?\n",
    "\n",
    "a) Creating visualizations and reports for end-users.\n",
    "b) Retrieving and reading data from multiple heterogeneous data sources.\n",
    "c) Loading data into a data warehouse or database.\n",
    "d) Performing data cleaning and preparation for analysis.\n",
    "```"
   ]
  },
  {
   "cell_type": "markdown",
   "id": "04822e83-cdb2-4268-a52c-e6e264659395",
   "metadata": {},
   "source": [
    "## Solution 17"
   ]
  },
  {
   "cell_type": "markdown",
   "id": "777f383c-69a4-4a89-910f-39b8c2b4ff80",
   "metadata": {},
   "source": [
    "Solution:"
   ]
  },
  {
   "cell_type": "markdown",
   "id": "cdcd1a71-c9e6-4704-8b22-124a8ec01aa6",
   "metadata": {},
   "source": [
    "****"
   ]
  },
  {
   "cell_type": "markdown",
   "id": "4a7fbcb7-561a-4331-91cf-83c7e8a2c399",
   "metadata": {},
   "source": [
    "## Question 18"
   ]
  },
  {
   "cell_type": "markdown",
   "id": "4edf7297-5810-48ff-b844-5c0a7fa41704",
   "metadata": {},
   "source": [
    "Which of the following techniques should be avoided to ensure that your Python data scripting code is easily understandable and follows best practices?\n",
    "\n",
    "a) Documenting functions with docstrings.\n",
    "\n",
    "b) Using descriptive variable names.\n",
    "\n",
    "c) Refactoring repetitive code into reusable functions.\n",
    "\n",
    "d) Using single-letter variable names for main variables."
   ]
  },
  {
   "cell_type": "markdown",
   "id": "65b40185-dca8-4757-8e39-bbc5c3952e70",
   "metadata": {},
   "source": [
    "## Solution 18"
   ]
  },
  {
   "cell_type": "markdown",
   "id": "79cdd05d-e811-412f-b986-978a4ed279c7",
   "metadata": {},
   "source": [
    "Solution:"
   ]
  },
  {
   "cell_type": "markdown",
   "id": "7426de28-afbc-4c36-be63-b9269ba0dcab",
   "metadata": {},
   "source": [
    "****"
   ]
  },
  {
   "cell_type": "markdown",
   "id": "6872f072-951f-4d4e-9da0-451bbd972f76",
   "metadata": {},
   "source": [
    "## Question 19"
   ]
  },
  {
   "cell_type": "markdown",
   "id": "d18bd1a0-6d23-4459-88bc-fa614ff3cf08",
   "metadata": {},
   "source": [
    "While running an ETL job, you encounter issues with data types mismatch during the transformation stage. The source data contains strings that are supposed to be cast to integers. What would be the most robust way to handle this issue?\n",
    "\n",
    "a) Manually inspect and clean the source data before running the ETL job.\n",
    "\n",
    "b) Automatically convert any non-convertible string to the integer 0.\n",
    "\n",
    "c) Use Python's try-except block to cast each value and catch exceltions, logging the errors.\n",
    "\n",
    "d) Skip any records that cannot be cast to integers."
   ]
  },
  {
   "cell_type": "markdown",
   "id": "b7fc1ddf-c837-43fb-b875-166bc48833df",
   "metadata": {},
   "source": [
    "## Solution 19"
   ]
  },
  {
   "cell_type": "markdown",
   "id": "16929f0a-a694-4d8e-8752-41e4a018ab2c",
   "metadata": {},
   "source": [
    "Solution:"
   ]
  },
  {
   "cell_type": "markdown",
   "id": "01c5a3ed-c1cd-471d-94be-da76c4a3639d",
   "metadata": {},
   "source": [
    "****"
   ]
  },
  {
   "cell_type": "markdown",
   "id": "3aa2f3b6-90b2-4bef-aa59-e1f7a04e953b",
   "metadata": {},
   "source": [
    "## Question 20"
   ]
  },
  {
   "cell_type": "markdown",
   "id": "db2f4ac3-f46e-474b-a409-50715744cecd",
   "metadata": {},
   "source": [
    "When working on a data manipulation script, what is the best approach for debugging and ensuring the quality of the code?\n",
    "\n",
    "a) Use ```print()``` statements throughout the code for debugging.\n",
    "\n",
    "b) Write test and perform code reviews.\n",
    "\n",
    "c) Use ```assert```statements for checking intermediate results.\n",
    "\n",
    "d) Use comments to describe what each section of the code does."
   ]
  },
  {
   "cell_type": "markdown",
   "id": "7c048d77-ad07-4f0f-9044-9e0b9da81bd1",
   "metadata": {},
   "source": [
    "## Solution 20"
   ]
  },
  {
   "cell_type": "markdown",
   "id": "c8353c51-7f8c-473b-af86-404947aa0ef7",
   "metadata": {},
   "source": [
    "Solution:"
   ]
  },
  {
   "cell_type": "markdown",
   "id": "b34f6da1-6f82-453e-91d3-941373445640",
   "metadata": {},
   "source": [
    "****"
   ]
  },
  {
   "cell_type": "markdown",
   "id": "6d0d2c23-f538-495b-840f-6ff26e7aa498",
   "metadata": {},
   "source": [
    "## Question 21"
   ]
  },
  {
   "cell_type": "markdown",
   "id": "e3539b4c-52b2-4e04-bed0-6d2d83d643c6",
   "metadata": {},
   "source": [
    "When working on a Python script that processes a large dataset, which of the following techniques is considered a best practice for handling exceptions and errors?\n",
    "\n",
    "a) Ignoring errors to improve script performance.\n",
    "\n",
    "b) Using generic except blocks to catch all exceptions.\n",
    "\n",
    "c) Using global variables to store error states\n",
    "\n",
    "d) Using specific exception handling with try-except blocks for known issues."
   ]
  },
  {
   "cell_type": "markdown",
   "id": "f35f284f-dfed-4e0e-a7ff-e55ad341607b",
   "metadata": {},
   "source": [
    "## Solution 21"
   ]
  },
  {
   "cell_type": "markdown",
   "id": "1605e386-8994-4f31-9dba-5027ad1d8c44",
   "metadata": {},
   "source": [
    "Solution:"
   ]
  },
  {
   "cell_type": "markdown",
   "id": "192af8e8-1a63-4410-8900-d387642b3db8",
   "metadata": {},
   "source": [
    "****"
   ]
  },
  {
   "cell_type": "markdown",
   "id": "8c4713f6-be44-46fc-ba64-dcef4eab7a37",
   "metadata": {},
   "source": [
    "## Question 22"
   ]
  },
  {
   "cell_type": "markdown",
   "id": "42740d41-f828-4ba7-8c35-523a0fd233a0",
   "metadata": {},
   "source": [
    "You've written a Python data script and find that it's throwing exceptions intermittently. What is the least recommended way to handle exceptions in this scenario?\n",
    "\n",
    "a) Use a broad ```except:```block to catch all exceptions and continue execution.\n",
    "\n",
    "b) Investigate the exceptions and fix the root cause.\n",
    "\n",
    "c) Replace the code block with a try-except block specific to the excepted exceptions.\n",
    "\n",
    "d) Log the exceptions for further analysis."
   ]
  },
  {
   "cell_type": "markdown",
   "id": "3c87e3b9-2edd-4848-a361-edbbc46fda5f",
   "metadata": {},
   "source": [
    "## Solution 22"
   ]
  },
  {
   "cell_type": "markdown",
   "id": "08122250-60d4-4d43-a3cd-7baad15e2d66",
   "metadata": {},
   "source": [
    "Solution:"
   ]
  },
  {
   "cell_type": "markdown",
   "id": "a998039f-46f0-4305-b411-04db4a5e7f79",
   "metadata": {},
   "source": [
    "****"
   ]
  },
  {
   "cell_type": "markdown",
   "id": "b7abbd28-0d58-4989-8fa5-436c9c1a8d87",
   "metadata": {},
   "source": [
    "## Question 23"
   ]
  },
  {
   "cell_type": "markdown",
   "id": "ba61b407-ff6e-4115-b7ee-3e5c4233bf44",
   "metadata": {},
   "source": [
    "Which of the following Seaborn plots is used to visualize the relationship between two numerical variables?\n",
    "\n",
    "a) Bar plot\n",
    "\n",
    "b) Scatter plot\n",
    "\n",
    "c) Box plot\n",
    "\n",
    "d) Heatmap"
   ]
  },
  {
   "cell_type": "markdown",
   "id": "63d7c150-62ba-45d3-8325-614980fc9ba9",
   "metadata": {},
   "source": [
    "## Solution 23"
   ]
  },
  {
   "cell_type": "markdown",
   "id": "50ebe314-e601-4c7e-8366-245a887cdcc8",
   "metadata": {},
   "source": [
    "Solution:"
   ]
  },
  {
   "cell_type": "markdown",
   "id": "b0f8f13d-1f16-44bf-ad9c-870a5a175be0",
   "metadata": {},
   "source": [
    "****"
   ]
  },
  {
   "cell_type": "markdown",
   "id": "6e2a7a3e-c255-418a-8a08-fd28fa314421",
   "metadata": {},
   "source": [
    "## Question 24"
   ]
  },
  {
   "cell_type": "markdown",
   "id": "9ead9b3f-0ba8-4f0a-951e-855addfe46b6",
   "metadata": {},
   "source": [
    "What is the best way to organize a dataset with multiple variables and observations in Python?\n",
    "\n",
    "a) Use a dictionary with variable names as key and observations as values.\n",
    "\n",
    "b) Use a Pandas Dataframe with rows as observations and columns as variables.\n",
    "\n",
    "c) Create multiple list for each variable and store them separately.\n",
    "\n",
    "d) Use a single list with sub-lists containing each observation."
   ]
  },
  {
   "cell_type": "markdown",
   "id": "e3333cff-2540-4786-87e9-107b5f192597",
   "metadata": {},
   "source": [
    "## Solution 24"
   ]
  },
  {
   "cell_type": "markdown",
   "id": "0ec07f40-7bb6-422c-87de-368f712125bb",
   "metadata": {},
   "source": [
    "Solution:"
   ]
  },
  {
   "cell_type": "markdown",
   "id": "cfc6bbd3-8a15-41ae-8ee6-fdf072906615",
   "metadata": {},
   "source": [
    "****"
   ]
  },
  {
   "cell_type": "markdown",
   "id": "e718f02d-c524-47de-93fc-f533dce79ebe",
   "metadata": {},
   "source": [
    "## Question 25"
   ]
  },
  {
   "cell_type": "markdown",
   "id": "0cf738d4-86e9-42fc-9859-c4ad88440b81",
   "metadata": {},
   "source": [
    "When debugging a complex Python script for data analysis, which of the following practices is least recommended?\n",
    "\n",
    "a) Inserting print statements at different points in the script.\n",
    "\n",
    "b) Ignoring warnings as long as the script does not crash.\n",
    "\n",
    "c) Writing unit tests to verify each function.\n",
    "\n",
    "d) Using a debugger to step through the code."
   ]
  },
  {
   "cell_type": "markdown",
   "id": "8d3142b3-cc06-4d62-b27e-ecd4c34a5812",
   "metadata": {},
   "source": [
    "## Solution 25"
   ]
  },
  {
   "cell_type": "markdown",
   "id": "4bb6e71a-8fb6-47ba-b956-d1fa33a016b8",
   "metadata": {},
   "source": [
    "Solution:"
   ]
  },
  {
   "cell_type": "markdown",
   "id": "991bd901-3719-4719-9729-8d8bda184891",
   "metadata": {},
   "source": [
    "****"
   ]
  },
  {
   "cell_type": "markdown",
   "id": "d6afcf63-e262-4ab0-a482-37d19986777d",
   "metadata": {},
   "source": [
    "## Question 26"
   ]
  },
  {
   "cell_type": "markdown",
   "id": "9dca04bd-57cd-4890-a8bf-9e04311774dd",
   "metadata": {},
   "source": [
    "You are cleaning a dataset and need to replace missing values in the “Income” column with the mean income. Which Python library and method would you use to perform this task?\n",
    "\n",
    "a) pandas.DataFrame.fillna()\n",
    "\n",
    "b) numpy.fillna()\n",
    "\n",
    "c) sklearn.preprocessing.Imputer()\n",
    "\n",
    "d) matplotlib.pyplot.fill_missing()"
   ]
  },
  {
   "cell_type": "markdown",
   "id": "0b8603e1-d764-486f-9744-658366c7c832",
   "metadata": {},
   "source": [
    "## Solution 26"
   ]
  },
  {
   "cell_type": "markdown",
   "id": "532b453b-b6a7-47ec-a210-db8f495ac524",
   "metadata": {},
   "source": [
    "Solution:"
   ]
  },
  {
   "cell_type": "markdown",
   "id": "7aa8d68c-e2fb-4ff5-9626-2a34559006aa",
   "metadata": {},
   "source": [
    "****"
   ]
  },
  {
   "cell_type": "markdown",
   "id": "d4309397-ed85-473a-afa6-3b07bb31940b",
   "metadata": {},
   "source": [
    "## Question 27"
   ]
  },
  {
   "cell_type": "markdown",
   "id": "3ccbc5d4-dad1-4e15-afd3-779c94f9f524",
   "metadata": {},
   "source": [
    "You have been given a list of mixed data types and your task is to validate the numeric data within the list for further analysis. Which of the following Python code snippets would successfully extract all the valid numeric data into a new list?\n",
    "\n",
    "```data_list = ['apple', 42, 'banana', 99.9, 0, 'cherry', 11, None]```\n",
    "\n",
    "a) ```new_list = [int(x) for x in data_list if x.isnumeric()]```\n",
    "\n",
    "b) ```new_list = [x if type(x) in (int, float) else 'Invalid' for x in data_list]```\n",
    "\n",
    "c) ```new_list = [x for x in data_list if type(x) == 'int' or type(x) == 'float']```\n",
    "\n",
    "d) ```new_list = [x for x in data_list if isinstance(x, (int, float))]```"
   ]
  },
  {
   "cell_type": "markdown",
   "id": "b0ec46db-abd4-484a-ac4a-aed85c7f9636",
   "metadata": {},
   "source": [
    "## Solution 27"
   ]
  },
  {
   "cell_type": "markdown",
   "id": "5af578e4-7be1-485c-a48b-a41fd7f11ed4",
   "metadata": {},
   "source": [
    "Solution:"
   ]
  },
  {
   "cell_type": "markdown",
   "id": "0a69c7b2-9520-4fe6-8998-bcda706c5982",
   "metadata": {},
   "source": [
    "****"
   ]
  },
  {
   "cell_type": "markdown",
   "id": "2b27cd64-96df-4c53-aa21-f83e68b9cb75",
   "metadata": {},
   "source": [
    "## Question 28"
   ]
  },
  {
   "cell_type": "markdown",
   "id": "1cdb9c28-8f2a-46b2-8b42-e89f4bee63d8",
   "metadata": {},
   "source": [
    "Consider the Python code snippet below:\n",
    "\n",
    "```\n",
    "\n",
    "try:\n",
    "    with open('data.txt', 'r') as file:\n",
    "        lines = file.readlines()\n",
    "        value = int(lines[0].strip())\n",
    "        print(value)\n",
    "except (FileNotFoundError, ValueError, IndexError) as e:\n",
    "    value = 0\n",
    "```\n",
    "\n",
    "If the file data.txt contains the following lines:\n",
    "\n",
    "```\n",
    "10\n",
    "20\n",
    "30\n",
    "```\n",
    "\n",
    "What will be the value of value after executing the code?\n",
    "\n",
    "a) 10\n",
    "\n",
    "b) 20\n",
    "\n",
    "c) 0\n",
    "\n",
    "d) 30\n",
    "\n",
    "e) 102030"
   ]
  },
  {
   "cell_type": "markdown",
   "id": "7c96723c-09c1-4cad-ae2d-71370e4f7a3f",
   "metadata": {},
   "source": [
    "## Solution 28"
   ]
  },
  {
   "cell_type": "markdown",
   "id": "d4adba13-707a-4c4a-a3d9-f80687ca67be",
   "metadata": {},
   "source": [
    "Solution:"
   ]
  },
  {
   "cell_type": "markdown",
   "id": "4972ebfb-efa3-4eec-aff0-1764e6575d6b",
   "metadata": {},
   "source": [
    "****"
   ]
  },
  {
   "cell_type": "markdown",
   "id": "5bba318e-ed38-45a5-996a-274a0bbe36a1",
   "metadata": {},
   "source": [
    "## Question 29"
   ]
  },
  {
   "cell_type": "markdown",
   "id": "f9f289f4-bf55-4776-a98d-0818e01a043d",
   "metadata": {},
   "source": [
    "When connecting to a SQL database from Python to collect data, what limitation should you be most concerned about when dealing with very large datasets?\n",
    "\n",
    "a) SQL databases usually enforce strong data typing, which may cause type mismatch errors in Python.\n",
    "\n",
    "b) Large data pulls can exhaust Python's memory, causing the program to crash.\n",
    "\n",
    "c) SQL databases typically limit the number of rows that can be returned in a single query.\n",
    "\n",
    "d) SQL databases often require complex join operations that Python cannot handle."
   ]
  },
  {
   "cell_type": "markdown",
   "id": "e8e65691-cb62-474c-b97f-cfee9aa0ede2",
   "metadata": {},
   "source": [
    "## Solution 29"
   ]
  },
  {
   "cell_type": "markdown",
   "id": "0aab2a67-69b7-4640-8714-f4d479c54777",
   "metadata": {},
   "source": [
    "Solution:"
   ]
  },
  {
   "cell_type": "markdown",
   "id": "97bbab35-e70b-4937-9ba9-562a1e8e4777",
   "metadata": {},
   "source": [
    "****"
   ]
  },
  {
   "cell_type": "markdown",
   "id": "276c8080-92c3-4d87-8508-cb9fc7c36d13",
   "metadata": {},
   "source": [
    "## Question 30"
   ]
  },
  {
   "cell_type": "markdown",
   "id": "f7be46e9-cc43-4f1a-a701-d3d1355d1be3",
   "metadata": {},
   "source": [
    "Select the true statements about XML:\n",
    "\n",
    "(Select all that apply)\n",
    "\n",
    "a) Each XML document must have a root element.\n",
    "\n",
    "b) Each element contains at least one attribute\n",
    "\n",
    "c) Each open XML tag must have a corresponding closing tag.\n",
    "\n",
    "d) Each XML document must have a prolog."
   ]
  },
  {
   "cell_type": "markdown",
   "id": "8f401dc7-0e74-4c15-8671-edb838c6b546",
   "metadata": {},
   "source": [
    "## Solution 30"
   ]
  },
  {
   "cell_type": "markdown",
   "id": "176b0c9a-6ad5-4e6f-abf1-a9ef73bb5513",
   "metadata": {},
   "source": [
    "Solution:"
   ]
  },
  {
   "cell_type": "markdown",
   "id": "e9e48dc4-a3ae-4b4e-b410-cc42f5b939b1",
   "metadata": {},
   "source": [
    "****"
   ]
  },
  {
   "cell_type": "markdown",
   "id": "855f42ec-7c0e-4e36-bd7e-0322de661b4b",
   "metadata": {},
   "source": [
    "## Question 31"
   ]
  },
  {
   "cell_type": "markdown",
   "id": "1f01b91f-8d47-47fc-9c8a-37c70cc9102b",
   "metadata": {},
   "source": [
    "Which of the following best practices ensures that a data script can be easily understood, modified, and debugged by other data analysts in your team?\n",
    "\n",
    "a) Making your code run as fast as possible.\n",
    "\n",
    "b) Minimizing the number of functions used.\n",
    "\n",
    "c) Employing meaningful variable names and commenting your code.\n",
    "\n",
    "d) Keeping lines of code as short as possible."
   ]
  },
  {
   "cell_type": "markdown",
   "id": "600aa9da-51f0-4731-a834-9c9eec80bb84",
   "metadata": {},
   "source": [
    "## Solution 31"
   ]
  },
  {
   "cell_type": "markdown",
   "id": "d6573e28-c101-4804-a3fd-083e83b406c9",
   "metadata": {},
   "source": [
    "Solution:"
   ]
  },
  {
   "cell_type": "markdown",
   "id": "5060f1a5-e5c3-40f3-aa72-c393b28c45a2",
   "metadata": {},
   "source": [
    "****"
   ]
  },
  {
   "cell_type": "markdown",
   "id": "92bfb722-57b9-42e0-b9ca-9b8d27a044e4",
   "metadata": {},
   "source": [
    "## Question 32"
   ]
  },
  {
   "cell_type": "markdown",
   "id": "43a60085-5c8c-4f89-854b-7e16e9801fd0",
   "metadata": {},
   "source": [
    "You are preprocessing a dataset and need to standardize the “Height” and “Weight” columns. Which Python library and method would you use to standardize these columns using z-score normalization?\n",
    "\n",
    "a) sklearn.preprocessing.StandardScaler()\n",
    "\n",
    "b) pandas.DataFrame.standarize()\n",
    "\n",
    "c) numpy.zscore()\n",
    "\n",
    "d) scipy.stats.standarize()"
   ]
  },
  {
   "cell_type": "markdown",
   "id": "93cdc3c9-7956-4116-8ecf-7ccb810a14b7",
   "metadata": {},
   "source": [
    "## Solution 32"
   ]
  },
  {
   "cell_type": "markdown",
   "id": "83f32f7c-1044-4669-8348-f279db6b17a4",
   "metadata": {},
   "source": [
    "Solution:"
   ]
  },
  {
   "cell_type": "markdown",
   "id": "68bce5d2-04d3-4ce9-9cac-2d15f97100b8",
   "metadata": {},
   "source": [
    "****"
   ]
  },
  {
   "cell_type": "markdown",
   "id": "29deaa3a-1dc5-4fc3-a6d1-973f4107e7c3",
   "metadata": {},
   "source": [
    "## Question 33"
   ]
  },
  {
   "cell_type": "markdown",
   "id": "28208efe-2f94-4905-a342-dda39f547894",
   "metadata": {},
   "source": [
    "John is tasked with ensuring the reliability and accuracy of collected data from various sources. Which data validation technique should he focus on to achieve this goal?\n",
    "\n",
    "a) Data type validation\n",
    "\n",
    "b) Range validation\n",
    "\n",
    "c) Consistency validation\n",
    "\n",
    "d) Completeness validation"
   ]
  },
  {
   "cell_type": "markdown",
   "id": "025ed695-22e6-4b4a-84c4-16e7f62ed06b",
   "metadata": {},
   "source": [
    "## Solution 33"
   ]
  },
  {
   "cell_type": "markdown",
   "id": "bf585c75-f7bd-41a3-9a19-575d510469eb",
   "metadata": {},
   "source": [
    "Solution:"
   ]
  },
  {
   "cell_type": "markdown",
   "id": "9dbacbba-bddd-4c21-829a-293ef5b30d4f",
   "metadata": {},
   "source": [
    "****"
   ]
  },
  {
   "cell_type": "markdown",
   "id": "ac387523-39aa-4e76-9de8-e1cb9f4af992",
   "metadata": {},
   "source": [
    "## Question 34"
   ]
  },
  {
   "cell_type": "markdown",
   "id": "e160c613-8616-4fc6-930e-028e9112cb79",
   "metadata": {},
   "source": [
    "You are analyzing a dataset containing timestamps for online transactions. Which data validation technique is most appropriate for ensuring the reliability of the timestamps?\n",
    "\n",
    "a) Data type validation\n",
    "\n",
    "b) Completeness validation\n",
    "\n",
    "c) Consistency validation\n",
    "\n",
    "d) Format validation"
   ]
  },
  {
   "cell_type": "markdown",
   "id": "cce5e466-f02b-40d3-ae03-40ea468a47af",
   "metadata": {},
   "source": [
    "## Solution 34"
   ]
  },
  {
   "cell_type": "markdown",
   "id": "bda3aad8-84c9-4d9e-9634-2a648ed0279b",
   "metadata": {},
   "source": [
    "Solution:"
   ]
  },
  {
   "cell_type": "markdown",
   "id": "6d44ee79-9a22-46f5-bb46-4e91719e9624",
   "metadata": {},
   "source": [
    "****"
   ]
  },
  {
   "cell_type": "markdown",
   "id": "68756807-4146-4033-8731-138cc10d5b26",
   "metadata": {},
   "source": [
    "## Question 35"
   ]
  },
  {
   "cell_type": "markdown",
   "id": "e5a646cd-56aa-4ea7-92a3-422a7759e32e",
   "metadata": {},
   "source": [
    "You are tasked with validating a dataset containing text data collected from surveys. Which data validation technique should you use to ensure the reliability and accuracy of the text data?\n",
    "\n",
    "a) Data type validation\n",
    "\n",
    "b) Completeness validation\n",
    "\n",
    "c) Cross-reference validation\n",
    "\n",
    "d) Consistency validation"
   ]
  },
  {
   "cell_type": "markdown",
   "id": "9a2f9a25-66bd-49f3-b9b4-fcac40a533c2",
   "metadata": {},
   "source": [
    "## Solution 35"
   ]
  },
  {
   "cell_type": "markdown",
   "id": "144f4c8c-d8c9-40cd-b8f3-8dda1398a99c",
   "metadata": {},
   "source": [
    "Solution:"
   ]
  },
  {
   "cell_type": "markdown",
   "id": "d457a79b-860d-4c48-b6c7-81819dbc91fe",
   "metadata": {},
   "source": [
    "****"
   ]
  },
  {
   "cell_type": "markdown",
   "id": "d7d182e4-c650-4a0e-b53f-41862c586477",
   "metadata": {},
   "source": [
    "## Question 36"
   ]
  },
  {
   "cell_type": "markdown",
   "id": "fec17b82-9d9a-4313-8e95-bf547fa4ac2d",
   "metadata": {},
   "source": [
    "You are analyzing a dataset for predicting housing prices. The dataset includes features like square footage, number of bedrooms, and neighborhood. What is a recommended approach for handling the “Neighborhood” feature in this dataset for modeling?\n",
    "\n",
    "a) Convert the 'Keighborhood' feature into ordinal categories based on property value.\n",
    "\n",
    "b) Use one-hot-encoding to transform the 'Neighborhood' feature into binary columns.\n",
    "\n",
    "c) Group similar neighborhoods together and create a new categorical feature.\n",
    "\n",
    "d) Ignore the 'Neighbrhood' feature as it is not relevant for predicting housing prices."
   ]
  },
  {
   "cell_type": "markdown",
   "id": "7f46eaf2-49e4-4d45-a937-0e43f7b1ccd2",
   "metadata": {},
   "source": [
    "## Solution 36"
   ]
  },
  {
   "cell_type": "markdown",
   "id": "a8c740b3-d9a5-41b6-8f95-74901a5f4410",
   "metadata": {},
   "source": [
    "Solution:"
   ]
  },
  {
   "cell_type": "markdown",
   "id": "e3abd60e-f91c-43ef-b571-bdf14660084e",
   "metadata": {},
   "source": [
    "****"
   ]
  },
  {
   "cell_type": "markdown",
   "id": "8a9c6360-5827-407f-b87d-c17e1a2218a6",
   "metadata": {},
   "source": [
    "## Question 37"
   ]
  },
  {
   "cell_type": "markdown",
   "id": "bed27ea1-1220-4fe9-9916-32532ea6242b",
   "metadata": {},
   "source": [
    "You are tasked with writing a Python script to clean a CSV file named “data.csv” containing customer information. The script should remove any rows where the “Age” column has missing values and save the cleaned data to a new file named “cleaned_data.csv”. Which of the following code snippets achieves this task?\n",
    "\n",
    "a)\n",
    "```\n",
    "import pandas as pd\n",
    "\n",
    "data = pd.read_csv('data.csv')\n",
    "cleaned_data = data.dropna(subset=['Age'])\n",
    "cleaned_data.to_csv('cleaned_data.csv', index=False)\n",
    "```\n",
    "\n",
    "b)\n",
    "```\n",
    "import pandas as pd\n",
    "\n",
    "data = pd.read_csv('data.csv')\n",
    "cleaned_data = data[data['Age'].notna()]\n",
    "cleaned_data.to_csv('cleaned_data.csv', index=False)\n",
    "```\n",
    "\n",
    "c)\n",
    "```\n",
    "import pandas as pd\n",
    "\n",
    "data = pd.read_csv('data.csv')\n",
    "cleaned_data = data.drop(['Age'], axis=1, implace=True)\n",
    "cleaned_data.to_csv('cleaned_data.csv', index=False)\n",
    "```\n",
    "\n",
    "d)\n",
    "```\n",
    "import pandas as pd\n",
    "\n",
    "data = pd.read_csv('data.csv')\n",
    "cleaned_data = data.dropna(subset=['Age'], implace=True)\n",
    "cleaned_data.to_csv('cleaned_data.csv', index=False)\n",
    "```"
   ]
  },
  {
   "cell_type": "markdown",
   "id": "861e1f75-feed-412e-82a5-18bcecc904a1",
   "metadata": {},
   "source": [
    "## Solution 37"
   ]
  },
  {
   "cell_type": "markdown",
   "id": "39159809-c4e0-4976-96dd-53912c5ef758",
   "metadata": {},
   "source": [
    "Solution:"
   ]
  },
  {
   "cell_type": "markdown",
   "id": "45a5d84c-db21-4426-b176-b95300f4cfcb",
   "metadata": {},
   "source": [
    "****"
   ]
  },
  {
   "cell_type": "markdown",
   "id": "1395fc83-96e8-4d43-83fa-01ead34a3d8b",
   "metadata": {},
   "source": [
    "## Question 38"
   ]
  },
  {
   "cell_type": "markdown",
   "id": "15192f1a-66a8-4bac-b5df-7b66fc838bf0",
   "metadata": {},
   "source": [
    "You are presenting a complex heatmap to a non-technical audience that shows the correlation between different variables in a dataset. What is the most effective approach to communicate the key insights from this heatmap?\n",
    "\n",
    "a) Present the raw data and ask the audience to identify correlations.\n",
    "\n",
    "b) Start with a summary, focusing on the highest and lowest correlations that matter.\n",
    "\n",
    "c) Focus on the color scheme to show which variables are strongly correlated.\n",
    "\n",
    "d) Discuss the mathematical algorithms that power the heatmap."
   ]
  },
  {
   "cell_type": "markdown",
   "id": "c040e4c4-7808-4d57-9e77-554f84d47643",
   "metadata": {},
   "source": [
    "## Solution 38"
   ]
  },
  {
   "cell_type": "markdown",
   "id": "6fc91a4a-716c-49b9-828d-1524034978e8",
   "metadata": {},
   "source": [
    "Solution:"
   ]
  },
  {
   "cell_type": "markdown",
   "id": "8a77eee8-bcc6-4626-aa65-27c273c5fc51",
   "metadata": {},
   "source": [
    "****"
   ]
  },
  {
   "cell_type": "markdown",
   "id": "c68e576e-d8c7-45e3-9d94-f6188af637f8",
   "metadata": {},
   "source": [
    "## Question 39"
   ]
  },
  {
   "cell_type": "markdown",
   "id": "ce9b21c7-23f8-44fa-8db6-65c029d899a4",
   "metadata": {},
   "source": [
    "In Python, when using the pandas library to clean a DataFrame that has several columns with missing values, which function would you use to fill these gaps with the column’s mean value?\n",
    "\n",
    "a) `df.fillna(df.mean())`\n",
    "\n",
    "b) `df.replace(np.nan, df.mean())`\n",
    "\n",
    "c) `df.dropna()`\n",
    "\n",
    "d) `df.mean(fillna=True)`"
   ]
  },
  {
   "cell_type": "markdown",
   "id": "0d597bd3-f2de-49b6-9e00-b4378c54234e",
   "metadata": {},
   "source": [
    "## Solution 39"
   ]
  },
  {
   "cell_type": "markdown",
   "id": "bba025aa-bbf7-45cc-8a6c-3ab0b9860bde",
   "metadata": {},
   "source": [
    "Solution:"
   ]
  },
  {
   "cell_type": "markdown",
   "id": "6902ba8f-6cd1-4cf2-bb79-56efe38f72f5",
   "metadata": {},
   "source": [
    "****"
   ]
  },
  {
   "cell_type": "markdown",
   "id": "0c226246-eb82-4260-87e0-c171a044747f",
   "metadata": {},
   "source": [
    "## Question 40"
   ]
  },
  {
   "cell_type": "markdown",
   "id": "7e396fff-6888-4531-8c0c-3472216ec9f4",
   "metadata": {},
   "source": [
    "How can a data analyst in Python ensure that a pandas DataFrame df does not contain any null or NaN values before proceeding with further data analysis?\n",
    "\n",
    "a) `df.isnull().any()`\n",
    "\n",
    "b) `df.notnull().all()`\n",
    "\n",
    "c)  Both A and B can be used effectively\n",
    "\n",
    "d) `df.validate_null()`"
   ]
  },
  {
   "cell_type": "markdown",
   "id": "a55b1f30-8026-4f38-857b-70183501ec5b",
   "metadata": {},
   "source": [
    "## Solution 40"
   ]
  },
  {
   "cell_type": "markdown",
   "id": "3e363ba1-42d9-4fc1-aeeb-3e814dbfaa2e",
   "metadata": {},
   "source": [
    "Solution:"
   ]
  },
  {
   "cell_type": "markdown",
   "id": "880c7b53-a0a4-4c0c-844a-14fde0e1d855",
   "metadata": {},
   "source": [
    "****"
   ]
  },
  {
   "cell_type": "markdown",
   "id": "2e0da426-adc7-4407-9b80-1e1edaf3f8e0",
   "metadata": {},
   "source": [
    "## Question 41"
   ]
  },
  {
   "cell_type": "markdown",
   "id": "ba58293a-c9f9-465c-83d7-57cc134611d5",
   "metadata": {},
   "source": [
    "You are tasked with loading a CSV file into a Pandas DataFrame and performing basic data exploration. Which code snippet correctly accomplishes this task assuming the CSV file is named “data.csv” and contains comma-separated values? \n",
    "\n",
    "`import pandas as pd`\n",
    "\n",
    "a) `df = pd.read_csv('data.csv')`\n",
    "\n",
    "b) `df = pd.read_excel('data.csv')`\n",
    "\n",
    "c) `df = pd.read_table('data.csv')`\n",
    "\n",
    "d) `df = pd.load_csv('data.csv')`"
   ]
  },
  {
   "cell_type": "markdown",
   "id": "bfb265cb-3a07-40a0-baa6-3272b0e6e377",
   "metadata": {},
   "source": [
    "## Solution 41"
   ]
  },
  {
   "cell_type": "markdown",
   "id": "1e026d68-b618-46e2-b2bc-c529f9b5d085",
   "metadata": {},
   "source": [
    "Solution:"
   ]
  },
  {
   "cell_type": "markdown",
   "id": "bfa417fa-fd56-4f78-988f-b7392565c0d0",
   "metadata": {},
   "source": [
    "****"
   ]
  },
  {
   "cell_type": "markdown",
   "id": "d45df115-233e-4cfc-b1eb-93c7e89aa299",
   "metadata": {},
   "source": [
    "## Question 42"
   ]
  },
  {
   "cell_type": "markdown",
   "id": "9ea2c476-0339-423a-8219-7250156c0f6e",
   "metadata": {},
   "source": [
    "When using Matplotlib in Python, what is the main purpose of the plt.subplots() function?\n",
    "\n",
    "a) To create a single plot within a larger grid\n",
    "\n",
    "b) To save the current plot to an image file.\n",
    "\n",
    "c) To create a 3D plot.\n",
    "\n",
    "d) To create multiple sub-plot in a single figure.\n",
    "\n",
    "e) To add interactive features like zoom and pan."
   ]
  },
  {
   "cell_type": "markdown",
   "id": "037a3035-27bd-4334-adc0-8af532135c06",
   "metadata": {},
   "source": [
    "## Solution 42"
   ]
  },
  {
   "cell_type": "markdown",
   "id": "08528056-85bf-44c9-99f5-76ac87325d65",
   "metadata": {},
   "source": [
    "Solution:"
   ]
  },
  {
   "cell_type": "markdown",
   "id": "323cc62f-bb24-49e7-ace5-02228afde196",
   "metadata": {},
   "source": [
    "****"
   ]
  },
  {
   "cell_type": "markdown",
   "id": "dcf24ec1-ad4d-4760-a4f8-36bc0d3c3083",
   "metadata": {},
   "source": [
    "## Question 43"
   ]
  },
  {
   "cell_type": "markdown",
   "id": "113fe3a4-e663-4183-9149-bdb814d48c73",
   "metadata": {},
   "source": [
    "In Matplotlib, which function is commonly used to display images?\n",
    "\n",
    "a) plt.bar()\n",
    "\n",
    "b) plt.pie()\n",
    "\n",
    "c) plt.scatter()\n",
    "\n",
    "d) plt.line()\n",
    "\n",
    "e) plt.imshow()"
   ]
  },
  {
   "cell_type": "markdown",
   "id": "05d252ad-0d88-4290-b124-8547931d1480",
   "metadata": {},
   "source": [
    "## Solution 43"
   ]
  },
  {
   "cell_type": "markdown",
   "id": "4eb1646c-db03-47ec-8696-0b910589a8dc",
   "metadata": {},
   "source": [
    "Solution:"
   ]
  },
  {
   "cell_type": "markdown",
   "id": "734e6d30-7f73-4a4e-8ccc-fc236bb78f50",
   "metadata": {},
   "source": [
    "****"
   ]
  },
  {
   "cell_type": "markdown",
   "id": "6b5c5406-8baf-4f24-adbc-0cb4cc0e1cf1",
   "metadata": {},
   "source": [
    "## Question 44"
   ]
  },
  {
   "cell_type": "markdown",
   "id": "e1e3de95-9c7d-42f5-9843-72545e67d5e7",
   "metadata": {},
   "source": [
    "You are dealing with a complex dataset involving numerous features from different domains, such as financial metrics, user activity, and geographical data. You are tasked with creating a report that synthesizes this information for non-technical stakeholders. Which data visualization technique would be best suited to represent the multi-domain features in a digestible format?\n",
    "\n",
    "a) Radar Chart\n",
    "\n",
    "b) Dashboard with Multiple 2D plots.\n",
    "\n",
    "c) Boxplot\n",
    "\n",
    "d) Heatmap\n",
    "\n",
    "e) 3D Scatter Plot"
   ]
  },
  {
   "cell_type": "markdown",
   "id": "f9f8d642-a3f3-43fc-8387-002221ba8147",
   "metadata": {},
   "source": [
    "## Solution 44"
   ]
  },
  {
   "cell_type": "markdown",
   "id": "da30490e-42cb-4106-bbaa-9a7a88856e28",
   "metadata": {},
   "source": [
    "Solution:"
   ]
  },
  {
   "cell_type": "markdown",
   "id": "27e9d354-64fe-470b-8686-1059bb984552",
   "metadata": {},
   "source": [
    "****"
   ]
  },
  {
   "cell_type": "markdown",
   "id": "a51f8162-7ecf-43af-9235-bd017bec01c3",
   "metadata": {},
   "source": [
    "## Question 45"
   ]
  },
  {
   "cell_type": "markdown",
   "id": "0d4be30d-fc99-4549-a4fa-1402154474bc",
   "metadata": {},
   "source": [
    "You're using the sqlite3 library in Python to fetch data from an SQLite database. You want to get all the records from a table named \"Employees\" where the \"Age\" is greater than 30 and sort them by \"Name\" in ascending order. Which SQL query accomplishes this?\n",
    "\n",
    "a) ```SELECT * FROM Employees IF Age > 30 ORDER BY Name ASC;```\n",
    "\n",
    "b) ```SELECT * FROM Employees WHERE Age > 30 ORDER BY Name ASC;```\n",
    "\n",
    "c) ```SELECT * FROM Employees WHERE Age > 30 SORT BY Name ASC;```\n",
    "\n",
    "d) ```SELECT * FROM Employees WHERE Age > 30 ORDER BY Age ASC;```"
   ]
  },
  {
   "cell_type": "markdown",
   "id": "b3d0ca66-b3db-4832-9b0c-73e263de56ac",
   "metadata": {},
   "source": [
    "## Solution 45"
   ]
  },
  {
   "cell_type": "markdown",
   "id": "1264ee75-eca1-4508-9528-ff1524cd0cb4",
   "metadata": {},
   "source": [
    "Solution:"
   ]
  },
  {
   "cell_type": "markdown",
   "id": "bf2f2150-632a-4ead-add1-48d09ab689e6",
   "metadata": {},
   "source": [
    "****"
   ]
  },
  {
   "cell_type": "markdown",
   "id": "1af9aae1-d34a-48d1-a9a1-445a9e7b2fe1",
   "metadata": {},
   "source": [
    "*Creado por:*\n",
    "\n",
    "*Isabel Maniega*"
   ]
  }
 ],
 "metadata": {
  "kernelspec": {
   "display_name": "Python 3 (ipykernel)",
   "language": "python",
   "name": "python3"
  },
  "language_info": {
   "codemirror_mode": {
    "name": "ipython",
    "version": 3
   },
   "file_extension": ".py",
   "mimetype": "text/x-python",
   "name": "python",
   "nbconvert_exporter": "python",
   "pygments_lexer": "ipython3",
   "version": "3.12.3"
  }
 },
 "nbformat": 4,
 "nbformat_minor": 5
}
