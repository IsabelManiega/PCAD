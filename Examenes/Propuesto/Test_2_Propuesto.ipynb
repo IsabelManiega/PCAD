{
 "cells": [
  {
   "cell_type": "markdown",
   "id": "3ebbe727-bcd6-4a2c-b137-555495164796",
   "metadata": {},
   "source": [
    "*Creado por:*\n",
    "\n",
    "*Isabel Maniega*"
   ]
  },
  {
   "cell_type": "markdown",
   "id": "c0573c76-d8ca-4e12-9ea2-1a2f9c899275",
   "metadata": {},
   "source": [
    "# Test 2"
   ]
  },
  {
   "cell_type": "markdown",
   "id": "ecaf2eb1-dab5-4a82-8e1d-9ede94a3d4ef",
   "metadata": {},
   "source": [
    "## Question 1"
   ]
  },
  {
   "cell_type": "markdown",
   "id": "16f680fc-457b-4ba6-8702-b44d2238c375",
   "metadata": {},
   "source": [
    "```\n",
    "In the context of data analysis with Python, what is the most effective approach for maintaining consistency and tracking the history of changes in your data processing scripts?\n",
    "\n",
    "a) Write detailed documentation for every change made.\n",
    "b) Regularly commit changes to a centralized database.\n",
    "c) Email update script versions to team members.\n",
    "d) Utilize a version control system like Git for your scripts.\n",
    "```"
   ]
  },
  {
   "cell_type": "markdown",
   "id": "a2b3a20e-20c0-4821-bde4-22eaa3dde48b",
   "metadata": {},
   "source": [
    "## Solution 1"
   ]
  },
  {
   "cell_type": "markdown",
   "id": "69fb3859-eb6b-4fe2-9a70-d0e63f621497",
   "metadata": {},
   "source": [
    "Solution:"
   ]
  },
  {
   "cell_type": "markdown",
   "id": "ce9dfd31-130d-4f4d-86f4-3f1a7ea0b87b",
   "metadata": {},
   "source": [
    "****"
   ]
  },
  {
   "cell_type": "markdown",
   "id": "62356a6b-fbab-42bc-8007-151aaf73eef5",
   "metadata": {},
   "source": [
    "## Question 2"
   ]
  },
  {
   "cell_type": "markdown",
   "id": "c405dae7-3401-4d96-9e8b-88c2c08c9499",
   "metadata": {},
   "source": [
    "```\n",
    "In a data analysis project, you are aggregating data from various external web sources using Python. What is the most effective strategy to maintain data accuracy and integrity?\n",
    "\n",
    "a) Limit data collection to a few sources for consistency.\n",
    "b) Verify data authenticity and integrity as you ingest it.\n",
    "c) Use threading to seep up data collection.\n",
    "d) Collect data in small batches and validate each batch.\n",
    "```"
   ]
  },
  {
   "cell_type": "markdown",
   "id": "901f89f8-06b3-46b2-8b07-7a742fbc3720",
   "metadata": {},
   "source": [
    "## Solution 2"
   ]
  },
  {
   "cell_type": "markdown",
   "id": "74246b58-11a7-419b-8e3a-624123676bd5",
   "metadata": {},
   "source": [
    "Solution:"
   ]
  },
  {
   "cell_type": "markdown",
   "id": "32b040f5-f7ec-4f21-9638-3fe7a3217f80",
   "metadata": {},
   "source": [
    "****"
   ]
  },
  {
   "cell_type": "markdown",
   "id": "7f3d6398-99d4-45fa-9254-506df90f4af4",
   "metadata": {},
   "source": [
    "## Question 3"
   ]
  },
  {
   "cell_type": "markdown",
   "id": "1aab717d-4e08-4c55-98a9-d0e18ad257a6",
   "metadata": {},
   "source": [
    "```\n",
    "When dealing with a numerical feature in a dataset, which technique is most appropriate for validating that the values fall within a specific range of allowable values?\n",
    "\n",
    "a) Hashing\n",
    "b) String Matching\n",
    "c) Boundary Value Testing\n",
    "d) Regular Expression matching\n",
    "```"
   ]
  },
  {
   "cell_type": "markdown",
   "id": "37131d32-05ee-401e-8007-6a9c866dd7f6",
   "metadata": {},
   "source": [
    "## Solution 3"
   ]
  },
  {
   "cell_type": "markdown",
   "id": "64a805c0-9c96-4d58-a3a7-72d122aa909b",
   "metadata": {},
   "source": [
    "Solution:"
   ]
  },
  {
   "cell_type": "markdown",
   "id": "2418f7b6-553f-434d-9e1b-f515d790309d",
   "metadata": {},
   "source": [
    "****"
   ]
  },
  {
   "cell_type": "markdown",
   "id": "064ff838-bd26-40ba-95ca-eb4dfd49bb7a",
   "metadata": {},
   "source": [
    "## Question 4"
   ]
  },
  {
   "cell_type": "markdown",
   "id": "f586d663-4ac5-4b51-9049-0bf19d4962fe",
   "metadata": {},
   "source": [
    "```\n",
    "When designing an interactive dashboard, what should be the primary focus to enhance user experience?\n",
    "\n",
    "a) Adding a many widgets as possible\n",
    "b) Using a wide range of contrasting colors.\n",
    "c) Using complex and intricate visualizations.\n",
    "d) Focusing on quick load times and responsive design.\n",
    "```"
   ]
  },
  {
   "cell_type": "markdown",
   "id": "2bce942e-5dcf-4a62-bfc3-eb389f6e5d83",
   "metadata": {},
   "source": [
    "## Solution 4"
   ]
  },
  {
   "cell_type": "markdown",
   "id": "07eea750-9a00-4339-8298-4609c0b716c1",
   "metadata": {},
   "source": [
    "Solution:"
   ]
  },
  {
   "cell_type": "markdown",
   "id": "cdbbe8b0-c4e5-4c25-81de-dd1086954bcb",
   "metadata": {},
   "source": [
    "****"
   ]
  },
  {
   "cell_type": "markdown",
   "id": "cd9ffa07-864a-4a65-b68d-db2be23be218",
   "metadata": {},
   "source": [
    "## Question 5"
   ]
  },
  {
   "cell_type": "markdown",
   "id": "ec72c6ea-421c-4152-a343-dcae50705e10",
   "metadata": {},
   "source": [
    "Which of the following Python code snippets adheres to PEP 8 guidelines for naming classes, methods, and variables?\n",
    "\n",
    "a)\n",
    "```\n",
    "class DataAnalyser:\n",
    "    def computeAverage(self,data_list):\n",
    "        total_sum = sum(data_list)\n",
    "        count = len(data_list)\n",
    "        return total_sum / count\n",
    "```\n",
    "\n",
    "b)\n",
    "```\n",
    "class DataAnalyser:\n",
    "    def compute_average(self,data_list):\n",
    "        total_sum = sum(data_list)\n",
    "        count = len(data_list)\n",
    "        return total_sum / count\n",
    "```\n",
    "\n",
    "c)\n",
    "```\n",
    "class data_analyser:\n",
    "    def Compute_Average(self,data_list):\n",
    "        total_sum = sum(data_list)\n",
    "        count = len(data_list)\n",
    "        return total_sum / count\n",
    "```\n",
    "\n",
    "d)\n",
    "```\n",
    "class Data_analyser:\n",
    "    def compute_average(self,data_list):\n",
    "        totalSum = sum(data_list)\n",
    "        count = len(data_list)\n",
    "        return totalSum / count\n",
    "```"
   ]
  },
  {
   "cell_type": "markdown",
   "id": "ba77c3a9-79f6-46f7-b7a2-017b183c59dd",
   "metadata": {},
   "source": [
    "## Solution 5"
   ]
  },
  {
   "cell_type": "markdown",
   "id": "aa07dfc4-8cc4-4b3f-8b1a-73a357ae74b5",
   "metadata": {},
   "source": [
    "Solution:"
   ]
  },
  {
   "cell_type": "markdown",
   "id": "f7201a39-a8ed-4b21-a7d0-2a8d7812c17b",
   "metadata": {},
   "source": [
    "****"
   ]
  },
  {
   "cell_type": "markdown",
   "id": "f693e3b8-3aaf-412b-bd96-0eebe637951b",
   "metadata": {},
   "source": [
    "## Question 6"
   ]
  },
  {
   "cell_type": "markdown",
   "id": "ab7d60ad-e0b4-4143-8a2d-a26e8f12692c",
   "metadata": {},
   "source": [
    "```\n",
    "Your organization has a complex dataset that combines sales, customer, and inventory data. You are tasked with summarizing this multi-faceted dataset into key insights for a quarterly meeting. What approach would be most effective for synthesizing this information?\n",
    "\n",
    "a) Extract KPIs (Key Performance Indicators) relevant to each domain (sales, customer, inventory) and summarize them in a single report.\n",
    "b) Perform a linear regression analysis to identify the most important variables, and present only those.\n",
    "c) Create a detailed dashboard with multiple graphs and tables covering all variables.\n",
    "d) Apply a neural network model to automatically summarize the data.\n",
    "```"
   ]
  },
  {
   "cell_type": "markdown",
   "id": "f55acc8a-3d19-4ce1-9861-0a5b509e4cf5",
   "metadata": {},
   "source": [
    "## Solution 6"
   ]
  },
  {
   "cell_type": "markdown",
   "id": "3d07f56c-8f2c-4325-9ac9-368600f06ef2",
   "metadata": {},
   "source": [
    "Solution:"
   ]
  },
  {
   "cell_type": "markdown",
   "id": "0b7a69ef-1e3b-48a4-8c83-67d92d879b5e",
   "metadata": {},
   "source": [
    "****"
   ]
  },
  {
   "cell_type": "markdown",
   "id": "1b90d15b-d97f-42c4-8fb5-5ada67b02a23",
   "metadata": {},
   "source": [
    "## Question 7"
   ]
  },
  {
   "cell_type": "markdown",
   "id": "f33ecfb3-3cb5-4c77-9101-780b0bd2f866",
   "metadata": {},
   "source": [
    "```\n",
    "Which of the following is the best way to handle missing values in a Pandas DataFrame for time-series data in general?\n",
    "\n",
    "a) Use forward fill to populate missing values.\n",
    "b) Fill missing values with the mean of the column.\n",
    "c) Replace missing values with zero.\n",
    "d) Drop all rows that contain missing values.\n",
    "```"
   ]
  },
  {
   "cell_type": "markdown",
   "id": "619f1069-8788-4f08-b3f1-5f0b8bd3624e",
   "metadata": {},
   "source": [
    "## Solution 7"
   ]
  },
  {
   "cell_type": "markdown",
   "id": "34db37e8-a28c-4883-8f6a-a10c9ff241c1",
   "metadata": {},
   "source": [
    "Solution:"
   ]
  },
  {
   "cell_type": "markdown",
   "id": "47da5ec2-30be-4664-bd04-ca11b25f8661",
   "metadata": {},
   "source": [
    "****"
   ]
  },
  {
   "cell_type": "markdown",
   "id": "57dc9608-eeb6-4809-b3e4-38ee0a26339c",
   "metadata": {},
   "source": [
    "## Question 8"
   ]
  },
  {
   "cell_type": "markdown",
   "id": "5b4e2d9d-efb2-4ef1-be84-9b29370c7096",
   "metadata": {},
   "source": [
    "```\n",
    "You are conducting A/B tests and collecting data via Python scripts. What is the best way to ensure the accuracy and reliability of your test results?\n",
    "\n",
    "a) Rely solely on p-values to interpret result.\n",
    "b) Collect data only during peak hours to maximize sample size.\n",
    "c) Ensure the A and B groups are randomly assigned.\n",
    "d) Use the same metric for A and B groups but change the KPI for each test.\n",
    "```"
   ]
  },
  {
   "cell_type": "markdown",
   "id": "b555e3e9-c5eb-459b-9e20-c8b85a1e807e",
   "metadata": {},
   "source": [
    "## Solution 8"
   ]
  },
  {
   "cell_type": "markdown",
   "id": "aba50ac0-8158-4414-8113-5c445268177c",
   "metadata": {},
   "source": [
    "Solution:"
   ]
  },
  {
   "cell_type": "markdown",
   "id": "23660403-f720-4164-9017-93140fe158ff",
   "metadata": {},
   "source": [
    "****"
   ]
  },
  {
   "cell_type": "markdown",
   "id": "591c21dc-33eb-4792-bdc5-fb3989636861",
   "metadata": {},
   "source": [
    "## Question 9"
   ]
  },
  {
   "cell_type": "markdown",
   "id": "ade5368b-6b60-4329-964a-fd42e8a9934b",
   "metadata": {},
   "source": [
    "You are validating a dataset containing timestamps of customer transactions. Which data validation technique would be most appropriate to ensure the reliability and accuracy of the timestamp data?\n",
    "\n",
    "a) Completeness validation\n",
    "\n",
    "b) Format validation.\n",
    "\n",
    "c) Range validation.\n",
    "\n",
    "d) Consistency validation"
   ]
  },
  {
   "cell_type": "markdown",
   "id": "77d72e20-1f16-4676-87a3-012426bed490",
   "metadata": {},
   "source": [
    "## Solution 9"
   ]
  },
  {
   "cell_type": "markdown",
   "id": "a7f79a27-47e3-4700-9097-a5aca88ed8ae",
   "metadata": {},
   "source": [
    "Solution:"
   ]
  },
  {
   "cell_type": "markdown",
   "id": "97499f72-46a9-4035-95f4-33d2bff391cf",
   "metadata": {},
   "source": [
    "****"
   ]
  },
  {
   "cell_type": "markdown",
   "id": "1bf3fd62-442d-499c-8712-da7e35452212",
   "metadata": {},
   "source": [
    "## Question 10"
   ]
  },
  {
   "cell_type": "markdown",
   "id": "f43f9245-1635-4e71-933a-f29e0919ceee",
   "metadata": {},
   "source": [
    "```\n",
    "A researcher is collecting data on the daily eating habits of teenagers for a nutritional study. Which method would be most appropriate for gathering detailed and accurate information on individual dietary patterns?\n",
    "\n",
    "a) Online surveys completed by the teenagers\n",
    "b) Direct observation of teenagers during meal times.\n",
    "c) Analysis of supermarket sales data.\n",
    "d) Focus group discussions with nutritionists.\n",
    "```"
   ]
  },
  {
   "cell_type": "markdown",
   "id": "daa2879b-8294-48e9-b42b-b1a10b829b1e",
   "metadata": {},
   "source": [
    "## Solution 10"
   ]
  },
  {
   "cell_type": "markdown",
   "id": "ba344f55-5060-4d23-b3dd-fc176089bba3",
   "metadata": {},
   "source": [
    "Solution:"
   ]
  },
  {
   "cell_type": "markdown",
   "id": "11b207a5-f71b-47d2-a40c-466f7974abfd",
   "metadata": {},
   "source": [
    "****"
   ]
  },
  {
   "cell_type": "markdown",
   "id": "2346c6f4-918c-4e92-a089-24006997baa2",
   "metadata": {},
   "source": [
    "## Question 11"
   ]
  },
  {
   "cell_type": "markdown",
   "id": "0529c941-f9d6-476d-b0cd-6f4c62353445",
   "metadata": {},
   "source": [
    "```\n",
    "Linda is working with a large dataset of textual customer reviews. She needs to validate that the text entries are in English and not just random characters or text in other languages. Which method should Linda use for this validation?\n",
    "\n",
    "a) Length validation to ensure reviews meet a minimum word count.\n",
    "b) Regular expression matching to filter out non-English characters.\n",
    "c) Natural Language Procesing (NLP) techniques to identify the language used.\n",
    "d) Format validation to check the text structure.\n",
    "```"
   ]
  },
  {
   "cell_type": "markdown",
   "id": "8d82d9b2-e0b3-413d-bac1-34ef5e2fead3",
   "metadata": {},
   "source": [
    "## Solution 11"
   ]
  },
  {
   "cell_type": "markdown",
   "id": "6391bbae-b9cf-44fc-9477-99b3048c9ac7",
   "metadata": {},
   "source": [
    "Solution:"
   ]
  },
  {
   "cell_type": "markdown",
   "id": "8839df8c-d3fa-4db8-be72-68e6dc202dda",
   "metadata": {},
   "source": [
    "****"
   ]
  },
  {
   "cell_type": "markdown",
   "id": "49674617-cd65-4f4a-a006-f70ae624bf26",
   "metadata": {},
   "source": [
    "## Question 12"
   ]
  },
  {
   "cell_type": "markdown",
   "id": "782500e2-dee0-41a4-ab93-3a01dcafe559",
   "metadata": {},
   "source": [
    "```\n",
    "Daniel is validating data from multiple sources, including CSV files, JSON files, audio recordings, and social media posts. Which validation procedure should Daniel emphasize to ensure the reliability and accuracy of this varied data?\n",
    "\n",
    "a) Ensuring data consistency\n",
    "b) Performing data format validation\n",
    "c) Verifying data completeness.\n",
    "d) Conducting data integrity checks.\n",
    "```"
   ]
  },
  {
   "cell_type": "markdown",
   "id": "a036182e-35e7-4898-9d36-35fda8c16f14",
   "metadata": {},
   "source": [
    "## Solution 12"
   ]
  },
  {
   "cell_type": "markdown",
   "id": "f5fe3839-e230-49ee-b136-bcbc523e434e",
   "metadata": {},
   "source": [
    "Solution:"
   ]
  },
  {
   "cell_type": "markdown",
   "id": "d8af55ed-b3ab-45b5-b822-c292039d8bc3",
   "metadata": {},
   "source": [
    "****"
   ]
  },
  {
   "cell_type": "markdown",
   "id": "00f8ff2d-9461-4668-ba3e-e391a972572c",
   "metadata": {},
   "source": [
    "## Question 13"
   ]
  },
  {
   "cell_type": "markdown",
   "id": "592de36d-972c-439a-9f1a-333a1b32cb04",
   "metadata": {},
   "source": [
    "```\n",
    "You are working on a classification project using a dataset that contains a mix of categorical and numerical features. The dataset includes columns such as product category, price, customer ratings, and purchase history. What is a recommended approach for handling categorical variables in this dataset for modeling?\n",
    "\n",
    "a) Ignore categorical variables and focus only on numerical features for modeling.\n",
    "b) Use label encoding to convert categorcial variables into numerical representations.\n",
    "c) Drop columns with categorical variables from the dataset to simplify modeling.\n",
    "d) Utilize one-hot encoding to transform categorical variables into binary columns.\n",
    "```"
   ]
  },
  {
   "cell_type": "markdown",
   "id": "ccc09fe3-eb9b-431a-8896-da65d3b15e88",
   "metadata": {},
   "source": [
    "## Solution 13"
   ]
  },
  {
   "cell_type": "markdown",
   "id": "5799e719-827e-479b-80b3-8b11a8342202",
   "metadata": {},
   "source": [
    "Solution:"
   ]
  },
  {
   "cell_type": "markdown",
   "id": "477a4e00-b2aa-40f4-9aef-23ba511b7b23",
   "metadata": {},
   "source": [
    "****"
   ]
  },
  {
   "cell_type": "markdown",
   "id": "d259198c-7b35-4217-a060-bf1ba80ce5f4",
   "metadata": {},
   "source": [
    "## Question 14"
   ]
  },
  {
   "cell_type": "markdown",
   "id": "2b95b6dd-f059-4dad-9d57-498832d696bb",
   "metadata": {},
   "source": [
    "You are required to load data from an Excel file named data.xlsx. The Excel file has multiple sheets, and you are interested in a sheet named 'Employees'. Which of the following code snippets will load this sheet into a Pandas DataFrame?\n",
    "\n",
    "a)\n",
    "```\n",
    "import pandas as pd\n",
    "\n",
    "df = pd.read_excel('data.xlsx', sheetname='Employees')\n",
    "```\n",
    "\n",
    "b)\n",
    "```\n",
    "import pandas as pd\n",
    "\n",
    "df = pd.read_excel('data.xlsx')['Employees']\n",
    "```\n",
    "\n",
    "c) \n",
    "```\n",
    "import pandas as pd\n",
    "\n",
    "df = pd.read_excel('data.xlsx', sheet_name='Employees')\n",
    "```\n",
    "\n",
    "d)\n",
    "```\n",
    "import pandas as pd\n",
    "\n",
    "df = pd.read_excel('data.xlsx')\n",
    "df = df.loc['Employees']\n",
    "```"
   ]
  },
  {
   "cell_type": "markdown",
   "id": "76ad28c2-01fe-48d4-89d4-9f4860024e28",
   "metadata": {},
   "source": [
    "## Solution 14"
   ]
  },
  {
   "cell_type": "markdown",
   "id": "68dad149-c929-4d0e-a74d-ef2da7094dc2",
   "metadata": {},
   "source": [
    "Solution:"
   ]
  },
  {
   "cell_type": "markdown",
   "id": "774564e6-0b4e-4df2-b1e0-f4ac58f49029",
   "metadata": {},
   "source": [
    "****"
   ]
  },
  {
   "cell_type": "markdown",
   "id": "9ec2e091-0318-481b-af41-85df80b37690",
   "metadata": {},
   "source": [
    "## Question 15"
   ]
  },
  {
   "cell_type": "markdown",
   "id": "86d92788-7ed3-4cbd-937f-c9bcd28f80ba",
   "metadata": {},
   "source": [
    "```\n",
    "When analyzing a large dataset, a data scientist notices several duplicate records. What is the most effective way to handle these duplicates for accurate analysis?\n",
    "\n",
    "a) Keep all duplicates to maintain the size of the dataset.\n",
    "b) Remove all duplicate records to prevent skewed results.\n",
    "c) Merge duplicate records by averaging their values.\n",
    "d) Analyze the duplicates separately to understand their impact.\n",
    "```"
   ]
  },
  {
   "cell_type": "markdown",
   "id": "d9806a42-462a-4693-a5a5-1d4ae038900a",
   "metadata": {},
   "source": [
    "## Solution 15"
   ]
  },
  {
   "cell_type": "markdown",
   "id": "1f54b17a-59fc-4226-be15-cb5c4b6537de",
   "metadata": {},
   "source": [
    "Solution:"
   ]
  },
  {
   "cell_type": "markdown",
   "id": "28469d94-135d-493a-99ed-4ea69d81a692",
   "metadata": {},
   "source": [
    "****"
   ]
  },
  {
   "cell_type": "markdown",
   "id": "73717258-dabc-4d87-9ad8-3a74897dbce8",
   "metadata": {},
   "source": [
    "## Question 16"
   ]
  },
  {
   "cell_type": "markdown",
   "id": "b589b345-a66d-489b-806a-8a6d856bf2f6",
   "metadata": {},
   "source": [
    "```\n",
    "When validating a dataset containing URLs of images for a machine learning project, which method should be used to ensure all URLs actually lead to valid image files?\n",
    "\n",
    "a) Check the URL format with a regular expression.\n",
    "b) Dowload each image to verify its existence and integrity.\n",
    "c) Validate the image dimensions and file size without downloading.\n",
    "d) Use social media metrics to assess the popularity of images.\n",
    "```"
   ]
  },
  {
   "cell_type": "markdown",
   "id": "3b90f54e-09f3-4720-ae98-63c02482f3c9",
   "metadata": {},
   "source": [
    "## Solution 16"
   ]
  },
  {
   "cell_type": "markdown",
   "id": "0a533c85-0716-47ca-bc1f-ddd97be57dbc",
   "metadata": {},
   "source": [
    "Solution:"
   ]
  },
  {
   "cell_type": "markdown",
   "id": "6e3a607c-f27f-4d72-91c5-d5a79e5721b4",
   "metadata": {},
   "source": [
    "****"
   ]
  },
  {
   "cell_type": "markdown",
   "id": "827569ff-0b50-4fae-8bfa-4f4963b84e4f",
   "metadata": {},
   "source": [
    "## Question 17"
   ]
  },
  {
   "cell_type": "markdown",
   "id": "e0f31aac-c36e-4f24-81a9-5cc7d9d1e2d6",
   "metadata": {},
   "source": [
    "```\n",
    "You are analyzing a dataset for predicting housing prices. The dataset includes features like square footage, number of bedrooms, and neighborhood. What is a recommended approach for handling the “Neighborhood” feature in this dataset for modeling?\n",
    "\n",
    "a) Convert the \"Neighborhood\" feature into ordinal categories based on property value.\n",
    "b) Use one-hot encoding to transform the \"Neighborhood\" feature into binary columns.\n",
    "c) Group similar neighborhoods together and create a new categorical feature.\n",
    "d) Ignore the \"Neighborhood\" feature as it is not relevant for predicting housing prices.\n",
    "```"
   ]
  },
  {
   "cell_type": "markdown",
   "id": "8d21a287-f385-4696-a9d4-899d35022f4c",
   "metadata": {},
   "source": [
    "## Solution 17"
   ]
  },
  {
   "cell_type": "markdown",
   "id": "ad4b9a34-827b-4156-ae6e-bb2d06ddc818",
   "metadata": {},
   "source": [
    "Solution:"
   ]
  },
  {
   "cell_type": "markdown",
   "id": "765f7875-8733-4111-9e43-5644eafcc57b",
   "metadata": {},
   "source": [
    "****"
   ]
  },
  {
   "cell_type": "markdown",
   "id": "1eaf69b4-bfb6-4aa4-ab4f-f5c4140043ae",
   "metadata": {},
   "source": [
    "## Question 18"
   ]
  },
  {
   "cell_type": "markdown",
   "id": "5a6d48cd-0402-4833-9251-0693414782a9",
   "metadata": {},
   "source": [
    "```\n",
    "A data analyst is working with a dataset that includes a ‘salary’ column with some unusually low values that seem incorrect. What strategy should be employed to handle these potential data entry errors?\n",
    "\n",
    "a) Delete any records with unusually low salaries.\n",
    "b) Replace the low salary values with the column average.\n",
    "c) Investigate the low salary entries and correct them if necessary.\n",
    "d) Convert all salaries to a uniform currency unit without addressing the low values.\n",
    "```"
   ]
  },
  {
   "cell_type": "markdown",
   "id": "797bc954-d7d8-4b6c-ae52-2b555689f3d9",
   "metadata": {},
   "source": [
    "## Solution 18"
   ]
  },
  {
   "cell_type": "markdown",
   "id": "48075795-5c2b-4cd9-8fa5-9170f31abf4f",
   "metadata": {},
   "source": [
    "Solution:"
   ]
  },
  {
   "cell_type": "markdown",
   "id": "7e8246b1-7487-48d9-8efe-6305bcdf72d2",
   "metadata": {},
   "source": [
    "****"
   ]
  },
  {
   "cell_type": "markdown",
   "id": "7a0020cf-e5a1-4594-a9ca-b069fcea25e8",
   "metadata": {},
   "source": [
    "## Question 19"
   ]
  },
  {
   "cell_type": "markdown",
   "id": "79098a92-8d49-4324-9e12-9515637b6d3a",
   "metadata": {},
   "source": [
    "John has created a line chart showing the trend of website traffic over the past year. How should John effectively communicate the insight gained from this visualization to a technical audience?\n",
    "\n",
    "a) Use plain language to describe the overall trend in website traffic.\n",
    "\n",
    "b) Highlight the design and color choices used in the line chart.\n",
    "\n",
    "c) Explain the data preprocessing steps before creating the chart.\n",
    "\n",
    "d) Discuss the statistical methods used to analyze the website traffic data."
   ]
  },
  {
   "cell_type": "markdown",
   "id": "78af4b2c-aaba-4da4-888f-9faf2d536317",
   "metadata": {},
   "source": [
    "## Solution 19"
   ]
  },
  {
   "cell_type": "markdown",
   "id": "629a9d09-1ae0-4820-8c3d-51c449da92ff",
   "metadata": {},
   "source": [
    "Solution:"
   ]
  },
  {
   "cell_type": "markdown",
   "id": "7bbdae06-ab5a-4fc5-baa8-c87938968ebf",
   "metadata": {},
   "source": [
    "****"
   ]
  },
  {
   "cell_type": "markdown",
   "id": "53fdbefa-1906-4142-93fe-add41f783ee1",
   "metadata": {},
   "source": [
    "## Question 20"
   ]
  },
  {
   "cell_type": "markdown",
   "id": "0b81089d-2273-45da-8660-055561ffcd05",
   "metadata": {},
   "source": [
    "```\n",
    "You are working with a dataset containing high-dimensional features and want to visualize the data in a lower-dimensional space while preserving important patterns and structures. Which technique would be most appropriate for achieving this goal?\n",
    "\n",
    "a) Principal Component Analysis (PCA)\n",
    "b) Linear Regression\n",
    "c) Decision Tree\n",
    "d) K-Means Clustering\n",
    "```"
   ]
  },
  {
   "cell_type": "markdown",
   "id": "73f9ccbe-7f00-41fe-9f67-3edfb8666847",
   "metadata": {},
   "source": [
    "## Solution 20"
   ]
  },
  {
   "cell_type": "markdown",
   "id": "159d7b6b-c158-4408-9ded-4703540c8b51",
   "metadata": {},
   "source": [
    "Solution:"
   ]
  },
  {
   "cell_type": "markdown",
   "id": "76e83d65-8e8b-4f14-935a-6f3cb78bc5b9",
   "metadata": {},
   "source": [
    "****"
   ]
  },
  {
   "cell_type": "markdown",
   "id": "f1d45fc1-d3dc-412c-9def-1b45a4649aa8",
   "metadata": {},
   "source": [
    "## Question 21"
   ]
  },
  {
   "cell_type": "markdown",
   "id": "131870a8-933f-4768-a016-45b5c3645561",
   "metadata": {},
   "source": [
    "```\n",
    "You are working on a Python script to parse and extract information from multiple JSON files in a directory. The script needs to be easily maintainable and scalable for handling new JSON files in the future. What is a recommended best practice for achieving these objectives?\n",
    "\n",
    "a) Write a single monolithic script that processes all JSON files in the directory.\n",
    "b) Use modular programming by dividing the script into functions and modules for different tasks.\n",
    "c) Hard-code file paths and names in the script for direct file access.\n",
    "d) Avoid using error handling mechanisms to keep the script concise.\n",
    "```"
   ]
  },
  {
   "cell_type": "markdown",
   "id": "a5d3d777-fc8f-4814-85ff-fd0b125c13e4",
   "metadata": {},
   "source": [
    "## Solution 21"
   ]
  },
  {
   "cell_type": "markdown",
   "id": "88f2d70d-caf0-4e42-a350-a8ecf4398b83",
   "metadata": {},
   "source": [
    "Solution:"
   ]
  },
  {
   "cell_type": "markdown",
   "id": "d884c1b3-707b-409e-a75f-24cf03a2dbad",
   "metadata": {},
   "source": [
    "****"
   ]
  },
  {
   "cell_type": "markdown",
   "id": "fe0c2b93-ef1d-4831-96fd-fe036cb1f541",
   "metadata": {},
   "source": [
    "## Question 22"
   ]
  },
  {
   "cell_type": "markdown",
   "id": "e20af0c1-237a-485d-b0e1-1c4cdf800074",
   "metadata": {},
   "source": [
    "```\n",
    "In Python programming, especially in data analysis, what practice should be avoided to maintain code clarity and readability?\n",
    "\n",
    "a) Writing extensive documentation for complex functions.\n",
    "b) Consistently formatting code according to PEP 8 standards.\n",
    "c) Employing cryptic or non-descriptive variables names.\n",
    "d) Organizing code into functions or classes based on functionality.\n",
    "```"
   ]
  },
  {
   "cell_type": "markdown",
   "id": "95d66a4f-153b-49b5-91a9-86232103a50c",
   "metadata": {},
   "source": [
    "## Solution 22"
   ]
  },
  {
   "cell_type": "markdown",
   "id": "d2615ceb-6e88-4f2e-b23b-cad89816078f",
   "metadata": {},
   "source": [
    "Solution:"
   ]
  },
  {
   "cell_type": "markdown",
   "id": "6317efbf-93d9-4ca3-8b23-e42e9e79c9b9",
   "metadata": {},
   "source": [
    "****"
   ]
  },
  {
   "cell_type": "markdown",
   "id": "fc8e283b-871c-41b0-af2c-645a57d11147",
   "metadata": {},
   "source": [
    "## Question 23"
   ]
  },
  {
   "cell_type": "markdown",
   "id": "147a3413-2673-4b5d-bfc1-566bb13f760f",
   "metadata": {},
   "source": [
    "```\n",
    "In the context of data analysis with Python, what is the most effective approach for maintaining consistency and tracking the history of changes in your data processing scripts?\n",
    "\n",
    "a) Email updated script versions to team members.\n",
    "b) Regularly commit changes to a centralized database.\n",
    "c) Write detailed documentation for every change made.\n",
    "d) Utilize a version control system like GIT for your scripts.\n",
    "```"
   ]
  },
  {
   "cell_type": "markdown",
   "id": "fbc3b80f-79ac-475b-9d11-6bd1fe9dd303",
   "metadata": {},
   "source": [
    "## Solution 23"
   ]
  },
  {
   "cell_type": "markdown",
   "id": "07229737-c886-46ec-b05d-e1150851ea61",
   "metadata": {},
   "source": [
    "Solution:"
   ]
  },
  {
   "cell_type": "markdown",
   "id": "2cb4236d-8e9c-4df1-b35f-679dbdcc654e",
   "metadata": {},
   "source": [
    "****"
   ]
  },
  {
   "cell_type": "markdown",
   "id": "6dd29073-1891-422f-a0df-ddea5dffb717",
   "metadata": {},
   "source": [
    "## Question 24"
   ]
  },
  {
   "cell_type": "markdown",
   "id": "ae1d2523-64bb-47ea-96f6-160a4e96b910",
   "metadata": {},
   "source": [
    "You're developing a Python program that calculates the square root of a number entered by the user. To ensure the program can handle cases where the user inputs a negative number or a non-numeric value, which of the following code snippets provides robust error handling?\n",
    "```\n",
    "a)\n",
    "import math\n",
    "\n",
    "try:\n",
    "    num = float(input(\"Enter a number: \"))\n",
    "    print(math.sqrt(num))\n",
    "except TypeError:\n",
    "    print(\"Please enter a valid number.\")\n",
    "\n",
    "b)\n",
    "import math\n",
    "\n",
    "try:\n",
    "    num = float(input(\"Enter a number: \"))\n",
    "    print(math.sqrt(num))\n",
    "except ValueError:\n",
    "    print(\"Please enter a valid number.\")\n",
    "except:\n",
    "    print(\"An error occurred.\")\n",
    "\n",
    "c)\n",
    "import math\n",
    "\n",
    "try:\n",
    "    num = int(input(\"Enter a number: \"))\n",
    "    print(math.sqrt(num))\n",
    "except ArithmeticError:\n",
    "    print(\"Please enter a valid number.\")\n",
    "\n",
    "d)\n",
    "import math\n",
    "\n",
    "try:\n",
    "    num = float(input(\"Enter a number: \"))\n",
    "    if num < 0:\n",
    "        raise ValueError(\"Cannot calculate square root of a negative number.\")\n",
    "    print(math.sqrt(num))\n",
    "except ValueError:\n",
    "    print(\"Please enter a valid positive number.\")\n",
    "```"
   ]
  },
  {
   "cell_type": "markdown",
   "id": "02243b18-b000-4cd2-964d-486296b01337",
   "metadata": {},
   "source": [
    "## Solution 24"
   ]
  },
  {
   "cell_type": "markdown",
   "id": "822cb075-6279-4c75-9621-983f8a169fa5",
   "metadata": {},
   "source": [
    "Solution:"
   ]
  },
  {
   "cell_type": "markdown",
   "id": "5683032e-d032-4cda-990c-f2b1ef549107",
   "metadata": {},
   "source": [
    "****"
   ]
  },
  {
   "cell_type": "markdown",
   "id": "9f6b1300-3ae8-497b-a141-b9d71c86c119",
   "metadata": {},
   "source": [
    "## Question 25"
   ]
  },
  {
   "cell_type": "markdown",
   "id": "cb935065-00ac-4241-b580-4757892d4798",
   "metadata": {},
   "source": [
    "A software engineer is tasked with ensuring the integrity of user-submitted data in an online booking form. The form collects user information such as name, contact number, and email address. The engineer writes a Python function to validate this data before storing it in the database. Consider the following code snippet for validation:\n",
    "```\n",
    "def check_booking_info(name, contact, email):\n",
    "    if not name.replace(' ', '').isalpha():\n",
    "        return \"Name must contain only letters and spaces.\"\n",
    "    if not contact.isdigit() or len(contact) != 10:\n",
    "        return \"Contact number must be a 10-digit number.\"\n",
    "    if \"@\" not in email or \".\" not in email:\n",
    "        return \"Email must contain an '@' and a '.' character.\"\n",
    "    return \"All inputs are valid.\"\n",
    " \n",
    "result = check_booking_info(\"John Doe\", \"1234567890\", \"john@example.com\")\n",
    "```\n",
    "What is the primary purpose of the check_booking_info function as shown in the code snippet?\n",
    "\n",
    "a) To ensure data integrity by applying specific validation rules to user inputs, ensuring correctness database entry.\n",
    "\n",
    "b) To reject user inputs that do not follow predefined length restrictions, without considering the actual content or format.\n",
    "\n",
    "c) To ensure data integrity by applying specific validation rules to user inputs, ensuring correctness database entry.\n",
    "\n",
    "d) To modify user inputs by removing numeric characters from names, validating contact numbers, and verifying the presence of specal characters in email addresses."
   ]
  },
  {
   "cell_type": "markdown",
   "id": "4d6be586-93ca-4b5e-b764-5688e64f2878",
   "metadata": {},
   "source": [
    "## Solution 25"
   ]
  },
  {
   "cell_type": "markdown",
   "id": "86237a11-49c8-445a-9d11-002c0e9658dd",
   "metadata": {},
   "source": [
    "Solution:"
   ]
  },
  {
   "cell_type": "markdown",
   "id": "ae7f80c1-9eff-405a-bfd8-7b0a99f8a0c9",
   "metadata": {},
   "source": [
    "****"
   ]
  },
  {
   "cell_type": "markdown",
   "id": "728ad86e-8293-4566-b9d0-209d8c5caa27",
   "metadata": {},
   "source": [
    "## Question 26"
   ]
  },
  {
   "cell_type": "markdown",
   "id": "1f03c219-3fad-4a6f-a55d-10ee5b152b0a",
   "metadata": {},
   "source": [
    "You are analyzing a dataset containing information about customer satisfaction scores for a product, along with factors such as price, features, and customer demographics. Your goal is to build a linear regression model to predict customer satisfaction based on these features. Which evaluation metric is most appropriate for assessing the performance of your linear regression model?\n",
    "\n",
    "a) F1 Score\n",
    "\n",
    "b) Mean Square Error (MSE)\n",
    "\n",
    "c) Accuracy\n",
    "\n",
    "d) Confusion Matrix"
   ]
  },
  {
   "cell_type": "markdown",
   "id": "e130af4c-941f-4094-895c-76ea7f51b6d2",
   "metadata": {},
   "source": [
    "## Solution 26"
   ]
  },
  {
   "cell_type": "markdown",
   "id": "f79ba8f9-1548-4278-bf6f-f80e7f3b1604",
   "metadata": {},
   "source": [
    "Solution:"
   ]
  },
  {
   "cell_type": "markdown",
   "id": "575fbab3-c6ee-422c-a94e-e1a1c9d4abeb",
   "metadata": {},
   "source": [
    "****"
   ]
  },
  {
   "cell_type": "markdown",
   "id": "3331fa81-90f6-48e5-81f9-3d55a0030860",
   "metadata": {},
   "source": [
    "## Question 27"
   ]
  },
  {
   "cell_type": "markdown",
   "id": "27b943f6-07fe-4798-aec3-b139366debe5",
   "metadata": {},
   "source": [
    "Suppose you have the following list of temperatures (in Fahrenheit) recorded over a week:\n",
    "```\n",
    "temperatures = [72, 75, 78, 72, 70, 72, 76, 79]\n",
    "```\n",
    "Which code snippet will help you find the median temperature using Python?\n",
    "\n",
    "a) \n",
    "```\n",
    "median_temp = sorted(temperatures)[len(temperatures) // 2 if len(temperatures) % 2 == 1 else \\\n",
    "              (sorted(temperatures)[len(temperatures) // 2 - 1] + sorted(temperatures)[len(temperatures) // 2]) / 2\n",
    "```\n",
    "\n",
    "b) \n",
    "```\n",
    "median_temp = temperatures.median()\n",
    "```\n",
    "\n",
    "c) \n",
    "```\n",
    "median_temp = sorted(temperatures)[len(temperatures) // 2]\n",
    "```\n",
    "\n",
    "d)\n",
    "```\n",
    "median_temp = max(set(temperatures), key=temperatures.count)\n",
    "```\n"
   ]
  },
  {
   "cell_type": "markdown",
   "id": "d7869457-0c07-445a-990a-9dd3bab37dcf",
   "metadata": {},
   "source": [
    "## Solution 27"
   ]
  },
  {
   "cell_type": "markdown",
   "id": "c2b803c2-7970-4b1a-8147-0e7ee3744f90",
   "metadata": {},
   "source": [
    "Solution:"
   ]
  },
  {
   "cell_type": "markdown",
   "id": "2aa1ce10-8e66-4cba-9d55-efbcd01b171c",
   "metadata": {},
   "source": [
    "****"
   ]
  },
  {
   "cell_type": "markdown",
   "id": "b64ce6b8-786a-49bc-8ec5-0ca31c2370e7",
   "metadata": {},
   "source": [
    "## Question 28"
   ]
  },
  {
   "cell_type": "markdown",
   "id": "5b36cfa5-a4c8-4a3b-9193-4ccc6a7a1512",
   "metadata": {},
   "source": [
    "In a Python application that connects to an SQL database, you are responsible for handling various types of data such as user IDs (e.g., 10234), user names (e.g., John Doe), email addresses (e.g., john.doe@example.com), and account balances (e.g., 1500.75). Which practices should be followed to ensure effective and responsible data handling?\n",
    "\n",
    "a)\n",
    "```\n",
    "query = f\"SELECT * FROM users WHERE user_id = {user_id}\"\n",
    "\n",
    "try:\n",
    "    cursor.execute(query)\n",
    "except Exception as e:\n",
    "    print(\"An error occurred\")\n",
    "```\n",
    "\n",
    "b)\n",
    "```\n",
    "query = \"SELECT * FROM users WHERE user_id = %s\"\n",
    "\n",
    "cursor.execute(query, (user_id,))\n",
    "```\n",
    "\n",
    "c)\n",
    "```\n",
    "query = \"SELECT * FROM users WHERE user_id = \" + user_id\n",
    "cursor.execute(query)\n",
    "```\n",
    "\n",
    "d)\n",
    "```\n",
    "import re\n",
    "\n",
    "def validate_email(email):\n",
    "    pattern = r'^[a-zA-Z0-9_.+-]+@[a-zA-Z0-9_]+\\.[a-zA-Z0-9-.]+$'\n",
    "    if not re.match(pattern, email):\n",
    "        raise ValueError(\"Invalid email address\")\n",
    "\n",
    "query = \"SELECT * FROM users WHERE user_id = %s\"\n",
    "cursor.execute(query, (user_id,))\n",
    "```"
   ]
  },
  {
   "cell_type": "markdown",
   "id": "8cc3f739-de27-421e-a204-5d8856433b2e",
   "metadata": {},
   "source": [
    "## Solution 28"
   ]
  },
  {
   "cell_type": "markdown",
   "id": "98abf5f2-9309-4ab5-811b-ba45dad753cf",
   "metadata": {},
   "source": [
    "Solution:"
   ]
  },
  {
   "cell_type": "markdown",
   "id": "8e32260d-d71e-4e4f-8370-4d06f1d11bdd",
   "metadata": {},
   "source": [
    "****"
   ]
  },
  {
   "cell_type": "markdown",
   "id": "f63617c6-4862-4486-b0ac-c5871c80fcb2",
   "metadata": {},
   "source": [
    "## Question 29"
   ]
  },
  {
   "cell_type": "markdown",
   "id": "2626cc1d-9a2a-4588-8b8e-83ed2c820682",
   "metadata": {},
   "source": [
    "Consider the following Python program that calculates the total hours worked in a week from a list containing daily work hours:\n",
    "```\n",
    "daily_hours = [8, 9, 7, 5, 6, 8, 10]\n",
    "total_hours = 0\n",
    "overtime = None\n",
    " \n",
    "for hours in daily_hours:\n",
    "    total_hours += hours\n",
    " \n",
    "if total_hours > 40:\n",
    "    overtime = True\n",
    "else:\n",
    "    overtime = False\n",
    " \n",
    "print(\"Total Hours:\", total_hours)\n",
    "print(\"Overtime Achieved:\", overtime)\n",
    "```\n",
    "Given the daily work hours ```[8, 9, 7, 5, 6, 8, 10]```, what is the expected output of the program?\n",
    "\n",
    "a) \n",
    "```\n",
    "Total Hours: 53\n",
    "Overime Achieved: False\n",
    "```\n",
    "\n",
    "b)\n",
    "```\n",
    "Total Hours: 53\n",
    "Overime Achieved: Invalid\n",
    "```\n",
    "\n",
    "c)\n",
    "```\n",
    "Total Hours: 53\n",
    "Overime Achieved: Not Applicable\n",
    "```\n",
    "\n",
    "d)\n",
    "```\n",
    "Total Hours: 53\n",
    "Overime Achieved: True\n",
    "```"
   ]
  },
  {
   "cell_type": "markdown",
   "id": "9533687b-3d3d-4fb6-962f-84b4f3f84c50",
   "metadata": {},
   "source": [
    "## Solution 29"
   ]
  },
  {
   "cell_type": "markdown",
   "id": "aa7ef8a6-9888-4941-9515-b6bc5f6ac561",
   "metadata": {},
   "source": [
    "Solution:"
   ]
  },
  {
   "cell_type": "markdown",
   "id": "98894945-85a9-411f-9a1f-53f8ae7eabaf",
   "metadata": {},
   "source": [
    "****"
   ]
  },
  {
   "cell_type": "markdown",
   "id": "6957b79f-56db-40b6-8e3f-0fe872d106f1",
   "metadata": {},
   "source": [
    "## Question 30"
   ]
  },
  {
   "cell_type": "markdown",
   "id": "1840e4e8-535c-483f-a758-460493d06fc8",
   "metadata": {},
   "source": [
    "Sarah is analyzing temperature data over a week and wants to create a histogram to show the frequency distribution of temperatures. Which function from the Matplotlib library would Sarah use to plot this histogram?\n",
    "\n",
    "a) plt.scatter()\n",
    "\n",
    "b) plt.bar()\n",
    "\n",
    "c) plt.plot()\n",
    "\n",
    "c) plt.hist()"
   ]
  },
  {
   "cell_type": "markdown",
   "id": "fe52e01d-355b-464d-9add-5fc1c6aeda45",
   "metadata": {},
   "source": [
    "## Solution 30"
   ]
  },
  {
   "cell_type": "markdown",
   "id": "576dbb5b-54b3-491d-ba57-b21c3a9834d5",
   "metadata": {},
   "source": [
    "Solution:"
   ]
  },
  {
   "cell_type": "markdown",
   "id": "cab8edcc-ca52-434f-8ebb-7d4f1814539d",
   "metadata": {},
   "source": [
    "****"
   ]
  },
  {
   "cell_type": "markdown",
   "id": "8ddad676-3035-4de4-ab25-28aa9bbeecb8",
   "metadata": {},
   "source": [
    "## Question 31"
   ]
  },
  {
   "cell_type": "markdown",
   "id": "8b6a59c8-da3a-4d95-9fde-aa068c28a066",
   "metadata": {},
   "source": [
    "A data scientist needs to validate a dataset containing weather records before using it for a climate study. The dataset includes fields like RecordID, Date, Temperature, and Precipitation. Consider the following code snippet for validation:\n",
    "```\n",
    "def validate_weather_data(records):\n",
    "    for record in records:\n",
    "        if not isinstance(record['RecordID'], int) or not isinstance(record['Temperature'], (int, float)):\n",
    "            return False\n",
    "        if record['Temperature'] < -50 or record['Temperature'] > 50:\n",
    "            return False\n",
    "        if record['Precipitation'] < 0:\n",
    "            return False\n",
    "    return True\n",
    " \n",
    "records = [\n",
    "    {'RecordID': 101, 'Date': '2023-01-01', 'Temperature': 25.0, 'Precipitation': 5.0},\n",
    "    {'RecordID': 102, 'Date': '2023-01-02', 'Temperature': -55.0, 'Precipitation': 2.0},\n",
    "    # ... more records\n",
    "]\n",
    " \n",
    "validation_result = validate_weather_data(records)\n",
    "```\n",
    "What does the validation function ensure?\n",
    "\n",
    "a) Checks that Date is in the correct format, Temperature is standardized to Celsius, and every RecordID is linked to a Precipitation value.\n",
    "\n",
    "b) Verifies that RecordID is a number, Temperature is within a realistic range, and Precipitation is non-negative.\n",
    "\n",
    "c) Validates that Date falls, within the current year, RecordID and temperature are sequential, and Precipitation reflects accurate measurements.\n",
    "\n",
    "d) Ensures RecordID is unique, converts Date into numeric format, and adjusts negative Precipitation values."
   ]
  },
  {
   "cell_type": "markdown",
   "id": "59898325-ac10-489c-b9d8-1e11007653ff",
   "metadata": {},
   "source": [
    "## Solution 31"
   ]
  },
  {
   "cell_type": "markdown",
   "id": "daad5465-21f1-453a-9dbd-e411b5c2517a",
   "metadata": {},
   "source": [
    "Solution:"
   ]
  },
  {
   "cell_type": "markdown",
   "id": "677f5761-e636-47f9-ac19-0344a5ef8fc1",
   "metadata": {},
   "source": [
    "****"
   ]
  },
  {
   "cell_type": "markdown",
   "id": "66cbb27d-450e-45a4-86aa-59c49aa036cb",
   "metadata": {},
   "source": [
    "## Question 32"
   ]
  },
  {
   "cell_type": "markdown",
   "id": "d852d4bb-d8da-4092-a498-aa0ccb2ba70f",
   "metadata": {},
   "source": [
    "Consider the following Python code snippet:\n",
    "```\n",
    "fruit = \"banana\"\n",
    "numbers1 = (8, 3, 9, 2)\n",
    "numbers2 = (5, 7, 6, 1)\n",
    "combined_numbers = numbers1 + numbers2\n",
    "unique_set = set([ord(fruit[2]), combined_numbers[7]])\n",
    " \n",
    "print(\"Third Character:\", fruit[2])\n",
    "print(\"Eighth Number:\", combined_numbers[7])\n",
    "print(\"Unique Set:\", unique_set)\n",
    "```\n",
    "Knowing that the ASCII value for the character 'n' is 110, what will be the output of this code?\n",
    "\n",
    "a)\n",
    "```\n",
    "Third Character: n\n",
    "Eighth Number: 1\n",
    "Unique Set: {1, 110}\n",
    "```\n",
    "\n",
    "b)\n",
    "```\n",
    "Third Character: n\n",
    "Eighth Number: 1\n",
    "Unique Set: {n, 49}\n",
    "```\n",
    "\n",
    "c)\n",
    "```\n",
    "Third Character: n\n",
    "Eighth Number: 1\n",
    "Unique Set: {n, 1}\n",
    "```\n",
    "\n",
    "d)\n",
    "```\n",
    "Third Character: n\n",
    "Eighth Number: 1\n",
    "Unique Set: {110, 49}\n",
    "```"
   ]
  },
  {
   "cell_type": "markdown",
   "id": "6b72fbf1-beab-429b-8805-c4b6a9269384",
   "metadata": {},
   "source": [
    "## Solution 32"
   ]
  },
  {
   "cell_type": "markdown",
   "id": "4cd8ca19-d5cc-4b39-8edf-0df1d6a865ec",
   "metadata": {},
   "source": [
    "Solution:"
   ]
  },
  {
   "cell_type": "markdown",
   "id": "b8869f7c-4c96-4888-8831-891d45d94d3c",
   "metadata": {},
   "source": [
    "****"
   ]
  },
  {
   "cell_type": "markdown",
   "id": "a5b47cb3-634d-40fd-a0a0-cbf2160d90ac",
   "metadata": {},
   "source": [
    "## Question 33"
   ]
  },
  {
   "cell_type": "markdown",
   "id": "fdcac0bb-4f98-4158-830a-18ee689dd309",
   "metadata": {},
   "source": [
    "```\n",
    "You have to retrieve data from a database table named employees. The table contains columns employee_id, first_name, last_name, department, and salary. Your goal is to retrieve only the first_name and salary of all employees where the department is 'HR'. Which SQL query most likely accomplishes this task?\n",
    "\n",
    "a) SELECT first_name, salary FROM employees WHERE department NOT 'HR';\n",
    "b) SELECT first_name, salary FROM employees WHERE department = 'HR';\n",
    "c) SELECT first_name, last_name, salary FROM employees WHERE department IS 'HR';\n",
    "d) SELECT first_name, salary FROM employees WHERE department = 'HR' AND salary;\n",
    "```"
   ]
  },
  {
   "cell_type": "markdown",
   "id": "9ff0dda5-cc7b-45a0-ba21-55bf4ce6e182",
   "metadata": {},
   "source": [
    "## Solution 33"
   ]
  },
  {
   "cell_type": "markdown",
   "id": "5088c9f4-0606-4193-837a-c6cc52ff7e09",
   "metadata": {},
   "source": [
    "Solution:"
   ]
  },
  {
   "cell_type": "markdown",
   "id": "b750e4d2-7856-4431-8f5d-630fc75c07e0",
   "metadata": {},
   "source": [
    "****"
   ]
  },
  {
   "cell_type": "markdown",
   "id": "7d879aab-9d2a-415a-bd1b-7a2b9a536583",
   "metadata": {},
   "source": [
    "## Question 34"
   ]
  },
  {
   "cell_type": "markdown",
   "id": "78b26fc3-c9ec-4b77-860f-b956a3d10605",
   "metadata": {},
   "source": [
    "You are analyzing a dataset containing numeric data from various sensors. Which data validation technique should you use to ensure the reliability and accuracy of the numeric data?\n",
    "\n",
    "a) Data type validation\n",
    "\n",
    "b) Completeness validation.\n",
    "\n",
    "c) Range validation.\n",
    "\n",
    "d) Consistency validation"
   ]
  },
  {
   "cell_type": "markdown",
   "id": "ac7ceb5b-0f2e-4377-a9aa-0840ed04c95c",
   "metadata": {},
   "source": [
    "## Solution 34"
   ]
  },
  {
   "cell_type": "markdown",
   "id": "b1b968f5-9f33-4d7e-b544-cae1ab21fa5c",
   "metadata": {},
   "source": [
    "Solution:"
   ]
  },
  {
   "cell_type": "markdown",
   "id": "186c89f2-4d96-4a00-b8b1-1e4d9e406b9c",
   "metadata": {},
   "source": [
    "****"
   ]
  },
  {
   "cell_type": "markdown",
   "id": "293f62e2-e0c9-46ef-99be-b297b6a37729",
   "metadata": {},
   "source": [
    "## Question 35"
   ]
  },
  {
   "cell_type": "markdown",
   "id": "cb2d1051-957a-46ad-89a7-5a7a017386a1",
   "metadata": {},
   "source": [
    "You are tasked with consolidating and validating data from three different datasets: a CSV file containing customer information, an Excel sheet with product details, and a JSON file with transaction records. Which approach is most suitable for consolidating and validating this diverse data?\n",
    "\n",
    "a) Use pandas to read each file and concatenate them into a single Dataframe, then perform data type validation and cross-reference validation.\n",
    "\n",
    "b) Write custom script to read and merge the data from each file manually, then apply data type validation and range validation.\n",
    "\n",
    "c) Use thrid-party software to import and integer the data from each file separately, then apply range validation and cross-reference validation.\n",
    "\n",
    "d) Convert all data to a common format (e.g., CSV), merge them using Excel, and then validate using formulas and conditional formatting"
   ]
  },
  {
   "cell_type": "markdown",
   "id": "ff910ec8-098d-4579-a6d9-a6c3954a0b0a",
   "metadata": {},
   "source": [
    "## Solution 35"
   ]
  },
  {
   "cell_type": "markdown",
   "id": "3cc2e399-e054-422e-8786-e02bac6088e3",
   "metadata": {},
   "source": [
    "Solution:"
   ]
  },
  {
   "cell_type": "markdown",
   "id": "5fc6a668-6e45-4b16-a20b-72981e7c023b",
   "metadata": {},
   "source": [
    "****"
   ]
  },
  {
   "cell_type": "markdown",
   "id": "3a7fb3c3-127a-4422-9c5c-e762fbcd4ee7",
   "metadata": {},
   "source": [
    "## Question 36"
   ]
  },
  {
   "cell_type": "markdown",
   "id": "14392d1c-5db8-43ab-aeb6-ea24ba3c5bc7",
   "metadata": {},
   "source": [
    "You have a DataFrame df that consolidates data from multiple sources. Your next task is to validate the \"Age\" column to ensure all ages are between 0 and 120. Which of the following code snippets will correctly filter out the invalid entries?\n",
    "\n",
    "a) ```valid_df = df[df['Age'].between(0, 120, inclusive=False)]```\n",
    "\n",
    "b) ```valid_df = df[(df['Age'] >= 0) & (df['Age'] <= 120)]```\n",
    "\n",
    "c) ```valid_df = df.query('Age > 0) and Age < 120')```\n",
    "\n",
    "d) ```valid_df = df[(df['Age'] > 0) & (df['Age'] < 120)]```"
   ]
  },
  {
   "cell_type": "markdown",
   "id": "a340d1c7-8f72-42a3-b937-f14bf2a02c6e",
   "metadata": {},
   "source": [
    "## Solution 36"
   ]
  },
  {
   "cell_type": "markdown",
   "id": "6a2524fa-7700-4ff4-b6bf-f9354cc21e68",
   "metadata": {},
   "source": [
    "Solution:"
   ]
  },
  {
   "cell_type": "markdown",
   "id": "79e57caa-95dd-4a99-b4f9-f06e1a2092a0",
   "metadata": {},
   "source": [
    "****"
   ]
  },
  {
   "cell_type": "markdown",
   "id": "157a3ac3-ce8f-43ad-bb2f-cce124981261",
   "metadata": {},
   "source": [
    "## Question 37"
   ]
  },
  {
   "cell_type": "markdown",
   "id": "25090917-4b69-4def-a819-84158b247ad8",
   "metadata": {},
   "source": [
    "You need to collect data from an Excel file with multiple sheets. One of the sheets is named \"Sales\" and another is named \"Inventory\". You want to load the \"Sales\" sheet into a DataFrame named df_sales and the \"Inventory\" sheet into a DataFrame named df_inventory. Which of the following code snippets accomplishes this?\n",
    "\n",
    "a) \n",
    "```\n",
    "df_sales = pd.read_csv('file.xlsx', sheet_name='Sales')\n",
    "df_inventory = pd.read_csv('file.xlsx', sheet_name='Inventory')\n",
    "```\n",
    "\n",
    "b) \n",
    "```\n",
    "df_sales = pd.read_excel('file.xlsx').parse('Sales')\n",
    "df_inventory = pd.read_excel('file.xlsx').parse('Inventory')\n",
    "```\n",
    "\n",
    "c)\n",
    "```\n",
    "xls = pd.Excel('file.xlsx')\n",
    "df_sales = xls.parse('Sales')\n",
    "df_inventory = xls.parse('Inventory')\n",
    "```\n",
    "\n",
    "d) \n",
    "```\n",
    "df_sales = pd.read_excel('file.xlsx', sheet_name='Sales')\n",
    "df_inventory = pd.read_excel('file.xlsx', sheet_name='Inventory')\n",
    "```"
   ]
  },
  {
   "cell_type": "markdown",
   "id": "049131fe-3380-4701-9e26-2d6cb48ec787",
   "metadata": {},
   "source": [
    "## Solution 37"
   ]
  },
  {
   "cell_type": "markdown",
   "id": "5fab553a-1dfc-4fa7-8a23-d2875be9d41f",
   "metadata": {},
   "source": [
    "Solution:"
   ]
  },
  {
   "cell_type": "markdown",
   "id": "345d165c-044e-41b5-bfae-d95a9268f8d5",
   "metadata": {},
   "source": [
    "****"
   ]
  },
  {
   "cell_type": "markdown",
   "id": "b8d3d13e-8b65-4204-9137-591d27d00792",
   "metadata": {},
   "source": [
    "## Question 38"
   ]
  },
  {
   "cell_type": "markdown",
   "id": "7a7aecb7-31d4-41bd-9115-a750377440db",
   "metadata": {},
   "source": [
    "You have developed a logistic regression model for a classification task. After training, you notice that both the training and validation errors are high. Which of the following might be the problem with your model?\n",
    "\n",
    "a) The model is underfitting the data.\n",
    "\n",
    "b) The learning rate is too high.\n",
    "\n",
    "c) The model is overfitting the data.\n",
    "\n",
    "d) The model is too complex."
   ]
  },
  {
   "cell_type": "markdown",
   "id": "18d4ceb3-dd4f-4615-bce4-1387e248e449",
   "metadata": {},
   "source": [
    "## Solution 38"
   ]
  },
  {
   "cell_type": "markdown",
   "id": "c1a8a056-3bfe-4931-a124-1adc7444a532",
   "metadata": {},
   "source": [
    "Solution:"
   ]
  },
  {
   "cell_type": "markdown",
   "id": "551bfbf2-b881-460a-92f3-5f63ef024867",
   "metadata": {},
   "source": [
    "****"
   ]
  },
  {
   "cell_type": "markdown",
   "id": "3f9efda8-b6a7-4ce3-9fef-57e1edd4399d",
   "metadata": {},
   "source": [
    "## Question 39"
   ]
  },
  {
   "cell_type": "markdown",
   "id": "ee865c7f-58bb-48b4-887e-e235896b90e5",
   "metadata": {},
   "source": [
    "You're asked to write a Python script to clean a dataset by dropping columns that have more than 50% missing values. Which of the following code snippets accomplishes this task using the Pandas library?\n",
    "\n",
    "a) ```df = df.loc[:, df.isnull().mean() <= 0.5]```\n",
    "\n",
    "b) ```df = df.drop(df.columns[df.isnull().sum() > (df.shape[0] // 2], axis=1)```\n",
    "\n",
    "c) ```df.dropna(thresh=df.shape[0] * 0.5, axis=1, inplace=True)```\n",
    "\n",
    "d) ```df = df.drop(df.columns[df.isnull().mean() > 0.5, axis=1)```"
   ]
  },
  {
   "cell_type": "markdown",
   "id": "75b95515-57b9-4079-b0ab-f9c5bf7b7996",
   "metadata": {},
   "source": [
    "## Solution 39"
   ]
  },
  {
   "cell_type": "markdown",
   "id": "beb49759-4b5e-475f-9b95-db9826539153",
   "metadata": {},
   "source": [
    "Solution:"
   ]
  },
  {
   "cell_type": "markdown",
   "id": "0ce85716-6394-4d12-bcff-a7832dee9872",
   "metadata": {},
   "source": [
    "****"
   ]
  },
  {
   "cell_type": "markdown",
   "id": "c0b541f9-f131-42b8-8301-e743e5642b01",
   "metadata": {},
   "source": [
    "## Question 40"
   ]
  },
  {
   "cell_type": "markdown",
   "id": "8e8d60d0-feeb-44e9-9dc6-efc4714c53d0",
   "metadata": {},
   "source": [
    "While evaluating a logistic regression model using a confusion matrix, you notice that the True Positive rate is significantly higher than the True Negative rate. What does this observation imply?\n",
    "\n",
    "a) The model performs equally well for both classes.\n",
    "\n",
    "b) The model is better at identifying the positive class than the negative class.\n",
    "\n",
    "c) The model is overfitting\n",
    "\n",
    "d) The model has a high level of bias."
   ]
  },
  {
   "cell_type": "markdown",
   "id": "55cb0145-4a84-45fb-add0-89e0ba2ee1d6",
   "metadata": {},
   "source": [
    "## Solution 40"
   ]
  },
  {
   "cell_type": "markdown",
   "id": "e03facea-9600-4942-a20a-8535138e10c8",
   "metadata": {},
   "source": [
    "Solution:"
   ]
  },
  {
   "cell_type": "markdown",
   "id": "807cbb9e-aca8-4499-b360-84cc642b3b57",
   "metadata": {},
   "source": [
    "****"
   ]
  },
  {
   "cell_type": "markdown",
   "id": "d284d2a1-e6db-4070-9204-9066c26997bc",
   "metadata": {},
   "source": [
    "## Question 41"
   ]
  },
  {
   "cell_type": "markdown",
   "id": "d7418906-5a10-4316-a569-4a5f1e6babdf",
   "metadata": {},
   "source": [
    "When validating a dataset with datetime entries, you notice that some timestamps are incorrectly formatted. Which Python library and method are best suited to enforce a uniform datetime format?\n",
    "\n",
    "a) ```calendar.timegm()``` from Python's ```calendar``` library.\n",
    "\n",
    "b) ```pd.to_datetime()``` from the Pandas library.\n",
    "\n",
    "c) ```re.sub()``` from the ```re``` library.\n",
    "\n",
    "d) ```datetime.strptime()``` from Python's ```datetime``` library."
   ]
  },
  {
   "cell_type": "markdown",
   "id": "e0629522-ffed-4432-8734-16066f7bd2fb",
   "metadata": {},
   "source": [
    "## Solution 41"
   ]
  },
  {
   "cell_type": "markdown",
   "id": "6e3e1be7-e47e-4b05-80d1-ee0444f985de",
   "metadata": {},
   "source": [
    "Solution:"
   ]
  },
  {
   "cell_type": "markdown",
   "id": "7af2343f-e6d7-4d6b-ba24-0dc4a8eb88a7",
   "metadata": {},
   "source": [
    "****"
   ]
  },
  {
   "cell_type": "markdown",
   "id": "3039b759-4a82-48aa-a11a-676dd91f259a",
   "metadata": {},
   "source": [
    "## Question 42"
   ]
  },
  {
   "cell_type": "markdown",
   "id": "36a60300-d07c-46dd-8d72-9747999041cb",
   "metadata": {},
   "source": [
    "You are working on a predictive model to classify emails as either Spam or Not Spam. You have built a model and it has an accuracy of 99% on your training dataset. However, when you test it on a new set of emails, the accuracy drops to 70%. What is most likely happening?\n",
    "\n",
    "a) Class Imbalance\n",
    "\n",
    "b) Overfitting\n",
    "\n",
    "c) Underfitting\n",
    "\n",
    "d) High Bias"
   ]
  },
  {
   "cell_type": "markdown",
   "id": "8d2b61b4-7c6d-4c77-a0a4-cbafa275b199",
   "metadata": {},
   "source": [
    "## Solution 42"
   ]
  },
  {
   "cell_type": "markdown",
   "id": "06312677-3c65-4483-84aa-8e6eb20d4ff8",
   "metadata": {},
   "source": [
    "Solution:"
   ]
  },
  {
   "cell_type": "markdown",
   "id": "ab4b0f04-362a-4b08-aaa6-ea30f0db23f0",
   "metadata": {},
   "source": [
    "****"
   ]
  },
  {
   "cell_type": "markdown",
   "id": "0040b258-3e49-4171-ade2-c0a2823d66c6",
   "metadata": {},
   "source": [
    "## Question 43"
   ]
  },
  {
   "cell_type": "markdown",
   "id": "e869734c-5867-4b2f-a9c7-c5c979018f67",
   "metadata": {},
   "source": [
    "How can the financial performance and cost management of BrightLight and SmartTech be compared over the four quarters? Select the best answer."
   ]
  },
  {
   "cell_type": "code",
   "execution_count": 1,
   "id": "1acb9ac6-c1ae-44bc-b392-10a45b29edb6",
   "metadata": {},
   "outputs": [
    {
     "data": {
      "image/png": "[encoded data removed]",
      "text/plain": [
       "<IPython.core.display.Image object>"
      ]
     },
     "execution_count": 1,
     "metadata": {},
     "output_type": "execute_result"
    }
   ],
   "source": [
    "from IPython import display\n",
    "\n",
    "display.Image(\"figure_1.png\")"
   ]
  },
  {
   "cell_type": "markdown",
   "id": "e8b47804-b061-4a6c-85a9-51cb89f1a25b",
   "metadata": {},
   "source": [
    "a) Both BrightLight and SmartTech exhibit decreasing sales and decreasing operational expenses, indicating that both products are cutting cost effectively but may be facing declining demand.\n",
    "\n",
    "b) SmartTech's sales are significantly higher that BrightLight's but its operational expenses are also proportionally higher, indicating that both products have similar efficiency levels and profit margins.\n",
    "\n",
    "c) The data shows that BrightLight's operational expenses have remained constant while its sales have increased sharply, suggesting superior efficiency and cost management compared to SmartTech, which has increasing expenses and stable sales.\n",
    "\n",
    "d) While both BrightLight and SmartTech show indresing sales over the four quarters, BrightLight incurs higer operational expenes relative to its sales compared to SmarthTech, suggesting SmartTech operates more efficiently with potentially higher profit margins."
   ]
  },
  {
   "cell_type": "markdown",
   "id": "c01b8eaa-1406-481a-9214-7c92ced5552a",
   "metadata": {},
   "source": [
    "## Solution 43"
   ]
  },
  {
   "cell_type": "markdown",
   "id": "bf3bab12-92cf-4ddf-a0e3-65e92721dfcb",
   "metadata": {},
   "source": [
    "Solution:"
   ]
  },
  {
   "cell_type": "markdown",
   "id": "2921907b-fe4d-4b7d-a129-4866829c4bcb",
   "metadata": {},
   "source": [
    "****"
   ]
  },
  {
   "cell_type": "markdown",
   "id": "80116f50-5b01-4068-8aa6-0a62f1892cb0",
   "metadata": {},
   "source": [
    "## Question 44"
   ]
  },
  {
   "cell_type": "markdown",
   "id": "636f46b3-a875-4df0-9d32-71d18dfc0608",
   "metadata": {},
   "source": [
    "Consider a database table named orders with the following columns: ```order_id``` (primary key), ```customer_name```, ```product_id```, and ```order_date```. You are tasked with performing a complete CRUD cycle for an order with the following operations:\n",
    "\n",
    "Create: Add a new order with ```order_id``` \"1001\" for customer \"John Doe\" with ```product_id``` \"101\" and ```order_date``` \"2023-01-01\".\n",
    "\n",
    "Update: Change the product_id for the order with ```order_id``` \"1001\" to \"102\".\n",
    "\n",
    "Read: Retrieve the full record for the order with ```order_id``` \"1001\".\n",
    "\n",
    "Delete: Remove the order with ```order_id``` \"1001\" from the database.\n",
    "\n",
    "Read: Attempt to retrieve the full record for the order with ```order_id``` \"1001\" again.\n",
    "\n",
    "Select the sequence of SQL statements that accurately represent these operations.\n",
    "\n",
    "a) \n",
    "```\n",
    "INSERT INTO orders (order_id, customer_name, product_id, order_date) VALUES ('1001', 'John Doe', '101', '2023-01-01');\n",
    "UPDATE orders SET product_id = '102' WHERE customer_name = 'John Doe';\n",
    "SELECT * FROM orders WHERE customer_name = 'John Doe';\n",
    "DELETE FROM orders WHERE customer_name = 'John Doe';\n",
    "SELECT * FROM orders WHERE customer_name = 'John Doe';\n",
    "```\n",
    "\n",
    "b)\n",
    "```\n",
    "INSERT INTO orders (order_id, customer_name, product_id, order_date) VALUES (John Doe', 'Doe', '101', '2023-01-01');\n",
    "UPDATE orders SET product_id = '102' WHERE order_date = '2023-01-01';\n",
    "SELECT * FROM orders WHERE order_date = '2023-01-01';\n",
    "DELETE FROM orders WHERE order_date = '2023-01-01';\n",
    "SELECT * FROM orders WHERE order_date = '2023-01-01';\n",
    "```\n",
    "\n",
    "c)\n",
    "```\n",
    "INSERT INTO orders (order_id, customer_name, product_id, order_date) VALUES ('1001', 'John Doe', '101', '2023-01-01');\n",
    "UPDATE orders SET product_id = '102' WHERE order_id = '1001';\n",
    "SELECT * FROM orders WHERE order_id = '1001';\n",
    "DELETE FROM orders WHERE order_id = '1001';\n",
    "SELECT * FROM orders WHERE order_id = '1001';\n",
    "```\n",
    "\n",
    "d)\n",
    "```\n",
    "INSERT INTO orders (order_id, customer_name, product_id, order_date) VALUES ('John Doe', '101', '2023-01-01');\n",
    "UPDATE orders SET product_id = '102' WHERE product_id = '101';\n",
    "SELECT * FROM orders WHERE product_id = '101';\n",
    "DELETE FROM orders WHERE product_id = '101';\n",
    "SELECT * FROM orders WHERE product_id = '101';\n",
    "```"
   ]
  },
  {
   "cell_type": "markdown",
   "id": "c397ef9d-532e-470c-a99d-3a079c74f90e",
   "metadata": {},
   "source": [
    "## Solution 44"
   ]
  },
  {
   "cell_type": "markdown",
   "id": "05f7ef02-9c89-4352-a776-4068da7bea7a",
   "metadata": {},
   "source": [
    "Solution:"
   ]
  },
  {
   "cell_type": "markdown",
   "id": "afb95c42-463c-4306-b4a2-2c66452169c5",
   "metadata": {},
   "source": [
    "****"
   ]
  },
  {
   "cell_type": "markdown",
   "id": "af165c80-9416-433e-b36a-e0ab6b2e0f86",
   "metadata": {},
   "source": [
    "## Question 45"
   ]
  },
  {
   "cell_type": "markdown",
   "id": "4a90691d-d720-45b7-809c-af468d31337c",
   "metadata": {},
   "source": [
    "James is analyzing customer satisfaction ratings for a company’s products across different demographics. Which type of visualization would be most appropriate for James to use in representing this data?\n",
    "\n",
    "a) Line Chart.\n",
    "\n",
    "b) Scatter plot\n",
    "\n",
    "c) Stacked bar chat.\n",
    "\n",
    "d) Pie chart"
   ]
  },
  {
   "cell_type": "markdown",
   "id": "da7d7e00-3fbe-4bf7-8402-61dce3424137",
   "metadata": {},
   "source": [
    "## Solution 45"
   ]
  },
  {
   "cell_type": "markdown",
   "id": "d3000590-6cdf-4c5b-9480-a49e3a58b994",
   "metadata": {},
   "source": [
    "Solution:"
   ]
  },
  {
   "cell_type": "markdown",
   "id": "afd93a52-d695-47b5-bbc7-011379dd3a55",
   "metadata": {},
   "source": [
    "****"
   ]
  },
  {
   "cell_type": "markdown",
   "id": "435d1bdd-5dc7-41bf-9eb6-7d22dd9086e6",
   "metadata": {},
   "source": [
    "*Creado por:*\n",
    "\n",
    "*Isabel Maniega*"
   ]
  }
 ],
 "metadata": {
  "kernelspec": {
   "display_name": "Python 3 (ipykernel)",
   "language": "python",
   "name": "python3"
  },
  "language_info": {
   "codemirror_mode": {
    "name": "ipython",
    "version": 3
   },
   "file_extension": ".py",
   "mimetype": "text/x-python",
   "name": "python",
   "nbconvert_exporter": "python",
   "pygments_lexer": "ipython3",
   "version": "3.12.3"
  }
 },
 "nbformat": 4,
 "nbformat_minor": 5
}
